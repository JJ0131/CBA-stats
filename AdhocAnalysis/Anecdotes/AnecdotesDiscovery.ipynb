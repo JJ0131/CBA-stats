{
 "cells": [
  {
   "cell_type": "code",
   "execution_count": 1,
   "metadata": {},
   "outputs": [],
   "source": [
    "import os\n",
    "os.chdir('/Documents/CBA_Stats')\n",
    "\n",
    "from cbastats import DBHelper\n",
    "import datetime\n",
    "import pandas as pd"
   ]
  },
  {
   "cell_type": "markdown",
   "metadata": {},
   "source": [
    "# Connect to Database"
   ]
  },
  {
   "cell_type": "code",
   "execution_count": 2,
   "metadata": {},
   "outputs": [
    {
     "name": "stdout",
     "output_type": "stream",
     "text": [
      "existing database ['cbaStats', 'admin', 'local']\n"
     ]
    }
   ],
   "source": [
    "mongodbio =DBHelper.MongoDBHelper() \n",
    "client = mongodbio.create_connection(DBHelper.MONGODB_USERNAME,DBHelper.MONGODB_PWD,DBHelper.MONGODB_ENDPOINT)\n",
    "\n",
    "db = client['cbaStats']"
   ]
  },
  {
   "cell_type": "code",
   "execution_count": 3,
   "metadata": {},
   "outputs": [
    {
     "data": {
      "text/plain": [
       "['cbaGamesStaging',\n",
       " 'uniqueBoxScores',\n",
       " 'seasonTeamStats',\n",
       " 'seasonPlayerStats',\n",
       " 'cbaGames']"
      ]
     },
     "execution_count": 3,
     "metadata": {},
     "output_type": "execute_result"
    }
   ],
   "source": [
    "db.list_collection_names()"
   ]
  },
  {
   "cell_type": "code",
   "execution_count": 4,
   "metadata": {},
   "outputs": [],
   "source": [
    "coll_cbaGames = db['cbaGames']"
   ]
  },
  {
   "cell_type": "markdown",
   "metadata": {},
   "source": [
    "# pull games stats"
   ]
  },
  {
   "cell_type": "code",
   "execution_count": 5,
   "metadata": {},
   "outputs": [],
   "source": [
    "season = '20-21'"
   ]
  },
  {
   "cell_type": "code",
   "execution_count": 6,
   "metadata": {},
   "outputs": [],
   "source": [
    "all_data = mongodbio.select_records(coll_cbaGames,filter={'详细统计':{\"$ne\":''},'赛季':season})\n",
    "\n",
    "# convert to a pandas dataframe\n",
    "all_box_scores = []\n",
    "for game in all_data:\n",
    "    for row in game['详细统计']:\n",
    "        all_box_scores.append(row)\n",
    "        \n",
    "all_box_scores=pd.DataFrame(all_box_scores)\n",
    "all_box_scores['篮板'] = all_box_scores['进攻篮板']+all_box_scores['防守篮板']"
   ]
  },
  {
   "cell_type": "code",
   "execution_count": 7,
   "metadata": {
    "scrolled": true
   },
   "outputs": [
    {
     "data": {
      "text/html": [
       "<div>\n",
       "<style scoped>\n",
       "    .dataframe tbody tr th:only-of-type {\n",
       "        vertical-align: middle;\n",
       "    }\n",
       "\n",
       "    .dataframe tbody tr th {\n",
       "        vertical-align: top;\n",
       "    }\n",
       "\n",
       "    .dataframe thead th {\n",
       "        text-align: right;\n",
       "    }\n",
       "</style>\n",
       "<table border=\"1\" class=\"dataframe\">\n",
       "  <thead>\n",
       "    <tr style=\"text-align: right;\">\n",
       "      <th></th>\n",
       "      <th>球员_link</th>\n",
       "      <th>球员</th>\n",
       "      <th>号码</th>\n",
       "      <th>出场时间</th>\n",
       "      <th>首发</th>\n",
       "      <th>进攻篮板</th>\n",
       "      <th>防守篮板</th>\n",
       "      <th>助攻</th>\n",
       "      <th>犯规</th>\n",
       "      <th>抢断</th>\n",
       "      <th>...</th>\n",
       "      <th>球队</th>\n",
       "      <th>对手</th>\n",
       "      <th>地点</th>\n",
       "      <th>2分中</th>\n",
       "      <th>2分投</th>\n",
       "      <th>3分中</th>\n",
       "      <th>3分投</th>\n",
       "      <th>罚球中</th>\n",
       "      <th>罚球投</th>\n",
       "      <th>篮板</th>\n",
       "    </tr>\n",
       "  </thead>\n",
       "  <tbody>\n",
       "    <tr>\n",
       "      <th>0</th>\n",
       "      <td>http://cba.sports.sina.com.cn/cba/player/show/...</td>\n",
       "      <td>黄荣奇</td>\n",
       "      <td>1</td>\n",
       "      <td>40</td>\n",
       "      <td>1</td>\n",
       "      <td>0</td>\n",
       "      <td>6</td>\n",
       "      <td>6</td>\n",
       "      <td>5</td>\n",
       "      <td>0</td>\n",
       "      <td>...</td>\n",
       "      <td>江苏</td>\n",
       "      <td>青岛</td>\n",
       "      <td>诸暨</td>\n",
       "      <td>2</td>\n",
       "      <td>6</td>\n",
       "      <td>3</td>\n",
       "      <td>6</td>\n",
       "      <td>9</td>\n",
       "      <td>9</td>\n",
       "      <td>6</td>\n",
       "    </tr>\n",
       "    <tr>\n",
       "      <th>1</th>\n",
       "      <td>http://cba.sports.sina.com.cn/cba/player/show/...</td>\n",
       "      <td>史鸿飞</td>\n",
       "      <td>4</td>\n",
       "      <td>31</td>\n",
       "      <td>1</td>\n",
       "      <td>0</td>\n",
       "      <td>5</td>\n",
       "      <td>3</td>\n",
       "      <td>3</td>\n",
       "      <td>4</td>\n",
       "      <td>...</td>\n",
       "      <td>江苏</td>\n",
       "      <td>青岛</td>\n",
       "      <td>诸暨</td>\n",
       "      <td>6</td>\n",
       "      <td>6</td>\n",
       "      <td>1</td>\n",
       "      <td>5</td>\n",
       "      <td>3</td>\n",
       "      <td>4</td>\n",
       "      <td>5</td>\n",
       "    </tr>\n",
       "    <tr>\n",
       "      <th>2</th>\n",
       "      <td>http://cba.sports.sina.com.cn/cba/player/show/...</td>\n",
       "      <td>刘宇轩</td>\n",
       "      <td>21</td>\n",
       "      <td>30</td>\n",
       "      <td>1</td>\n",
       "      <td>0</td>\n",
       "      <td>2</td>\n",
       "      <td>1</td>\n",
       "      <td>6</td>\n",
       "      <td>1</td>\n",
       "      <td>...</td>\n",
       "      <td>江苏</td>\n",
       "      <td>青岛</td>\n",
       "      <td>诸暨</td>\n",
       "      <td>2</td>\n",
       "      <td>6</td>\n",
       "      <td>0</td>\n",
       "      <td>2</td>\n",
       "      <td>2</td>\n",
       "      <td>2</td>\n",
       "      <td>2</td>\n",
       "    </tr>\n",
       "    <tr>\n",
       "      <th>3</th>\n",
       "      <td>http://cba.sports.sina.com.cn/cba/player/show/...</td>\n",
       "      <td>吴羽佳</td>\n",
       "      <td>16</td>\n",
       "      <td>28</td>\n",
       "      <td>1</td>\n",
       "      <td>4</td>\n",
       "      <td>2</td>\n",
       "      <td>2</td>\n",
       "      <td>3</td>\n",
       "      <td>1</td>\n",
       "      <td>...</td>\n",
       "      <td>江苏</td>\n",
       "      <td>青岛</td>\n",
       "      <td>诸暨</td>\n",
       "      <td>0</td>\n",
       "      <td>2</td>\n",
       "      <td>2</td>\n",
       "      <td>3</td>\n",
       "      <td>0</td>\n",
       "      <td>0</td>\n",
       "      <td>6</td>\n",
       "    </tr>\n",
       "    <tr>\n",
       "      <th>4</th>\n",
       "      <td>http://cba.sports.sina.com.cn/cba/player/show/...</td>\n",
       "      <td>吴冠希</td>\n",
       "      <td>11</td>\n",
       "      <td>3</td>\n",
       "      <td>1</td>\n",
       "      <td>0</td>\n",
       "      <td>0</td>\n",
       "      <td>0</td>\n",
       "      <td>0</td>\n",
       "      <td>0</td>\n",
       "      <td>...</td>\n",
       "      <td>江苏</td>\n",
       "      <td>青岛</td>\n",
       "      <td>诸暨</td>\n",
       "      <td>0</td>\n",
       "      <td>1</td>\n",
       "      <td>0</td>\n",
       "      <td>0</td>\n",
       "      <td>0</td>\n",
       "      <td>0</td>\n",
       "      <td>0</td>\n",
       "    </tr>\n",
       "    <tr>\n",
       "      <th>...</th>\n",
       "      <td>...</td>\n",
       "      <td>...</td>\n",
       "      <td>...</td>\n",
       "      <td>...</td>\n",
       "      <td>...</td>\n",
       "      <td>...</td>\n",
       "      <td>...</td>\n",
       "      <td>...</td>\n",
       "      <td>...</td>\n",
       "      <td>...</td>\n",
       "      <td>...</td>\n",
       "      <td>...</td>\n",
       "      <td>...</td>\n",
       "      <td>...</td>\n",
       "      <td>...</td>\n",
       "      <td>...</td>\n",
       "      <td>...</td>\n",
       "      <td>...</td>\n",
       "      <td>...</td>\n",
       "      <td>...</td>\n",
       "      <td>...</td>\n",
       "    </tr>\n",
       "    <tr>\n",
       "      <th>9929</th>\n",
       "      <td>http://cba.sports.sina.com.cn/cba/player/show/...</td>\n",
       "      <td>王睿</td>\n",
       "      <td>21</td>\n",
       "      <td>0</td>\n",
       "      <td>0</td>\n",
       "      <td>0</td>\n",
       "      <td>0</td>\n",
       "      <td>0</td>\n",
       "      <td>0</td>\n",
       "      <td>0</td>\n",
       "      <td>...</td>\n",
       "      <td>同曦</td>\n",
       "      <td>天津</td>\n",
       "      <td>诸暨</td>\n",
       "      <td>0</td>\n",
       "      <td>0</td>\n",
       "      <td>0</td>\n",
       "      <td>0</td>\n",
       "      <td>0</td>\n",
       "      <td>0</td>\n",
       "      <td>0</td>\n",
       "    </tr>\n",
       "    <tr>\n",
       "      <th>9930</th>\n",
       "      <td>http://cba.sports.sina.com.cn/cba/player/show/...</td>\n",
       "      <td>刘羽楠</td>\n",
       "      <td>18</td>\n",
       "      <td>0</td>\n",
       "      <td>0</td>\n",
       "      <td>0</td>\n",
       "      <td>0</td>\n",
       "      <td>0</td>\n",
       "      <td>0</td>\n",
       "      <td>0</td>\n",
       "      <td>...</td>\n",
       "      <td>同曦</td>\n",
       "      <td>天津</td>\n",
       "      <td>诸暨</td>\n",
       "      <td>0</td>\n",
       "      <td>0</td>\n",
       "      <td>0</td>\n",
       "      <td>0</td>\n",
       "      <td>0</td>\n",
       "      <td>0</td>\n",
       "      <td>0</td>\n",
       "    </tr>\n",
       "    <tr>\n",
       "      <th>9931</th>\n",
       "      <td>http://cba.sports.sina.com.cn/cba/player/show/...</td>\n",
       "      <td>白杰</td>\n",
       "      <td>5</td>\n",
       "      <td>0</td>\n",
       "      <td>0</td>\n",
       "      <td>0</td>\n",
       "      <td>0</td>\n",
       "      <td>0</td>\n",
       "      <td>0</td>\n",
       "      <td>0</td>\n",
       "      <td>...</td>\n",
       "      <td>同曦</td>\n",
       "      <td>天津</td>\n",
       "      <td>诸暨</td>\n",
       "      <td>0</td>\n",
       "      <td>0</td>\n",
       "      <td>0</td>\n",
       "      <td>0</td>\n",
       "      <td>0</td>\n",
       "      <td>0</td>\n",
       "      <td>0</td>\n",
       "    </tr>\n",
       "    <tr>\n",
       "      <th>9932</th>\n",
       "      <td>http://cba.sports.sina.com.cn/cba/player/show/...</td>\n",
       "      <td>曹飞</td>\n",
       "      <td>29</td>\n",
       "      <td>0</td>\n",
       "      <td>0</td>\n",
       "      <td>0</td>\n",
       "      <td>0</td>\n",
       "      <td>0</td>\n",
       "      <td>0</td>\n",
       "      <td>0</td>\n",
       "      <td>...</td>\n",
       "      <td>同曦</td>\n",
       "      <td>天津</td>\n",
       "      <td>诸暨</td>\n",
       "      <td>0</td>\n",
       "      <td>0</td>\n",
       "      <td>0</td>\n",
       "      <td>0</td>\n",
       "      <td>0</td>\n",
       "      <td>0</td>\n",
       "      <td>0</td>\n",
       "    </tr>\n",
       "    <tr>\n",
       "      <th>9933</th>\n",
       "      <td>http://cba.sports.sina.com.cn/cba/player/show/...</td>\n",
       "      <td>李泓澎</td>\n",
       "      <td>7</td>\n",
       "      <td>0</td>\n",
       "      <td>0</td>\n",
       "      <td>0</td>\n",
       "      <td>0</td>\n",
       "      <td>0</td>\n",
       "      <td>0</td>\n",
       "      <td>0</td>\n",
       "      <td>...</td>\n",
       "      <td>同曦</td>\n",
       "      <td>天津</td>\n",
       "      <td>诸暨</td>\n",
       "      <td>0</td>\n",
       "      <td>0</td>\n",
       "      <td>0</td>\n",
       "      <td>0</td>\n",
       "      <td>0</td>\n",
       "      <td>0</td>\n",
       "      <td>0</td>\n",
       "    </tr>\n",
       "  </tbody>\n",
       "</table>\n",
       "<p>9934 rows × 32 columns</p>\n",
       "</div>"
      ],
      "text/plain": [
       "                                                球员_link   球员  号码  出场时间  首发  \\\n",
       "0     http://cba.sports.sina.com.cn/cba/player/show/...  黄荣奇   1    40   1   \n",
       "1     http://cba.sports.sina.com.cn/cba/player/show/...  史鸿飞   4    31   1   \n",
       "2     http://cba.sports.sina.com.cn/cba/player/show/...  刘宇轩  21    30   1   \n",
       "3     http://cba.sports.sina.com.cn/cba/player/show/...  吴羽佳  16    28   1   \n",
       "4     http://cba.sports.sina.com.cn/cba/player/show/...  吴冠希  11     3   1   \n",
       "...                                                 ...  ...  ..   ...  ..   \n",
       "9929  http://cba.sports.sina.com.cn/cba/player/show/...   王睿  21     0   0   \n",
       "9930  http://cba.sports.sina.com.cn/cba/player/show/...  刘羽楠  18     0   0   \n",
       "9931  http://cba.sports.sina.com.cn/cba/player/show/...   白杰   5     0   0   \n",
       "9932  http://cba.sports.sina.com.cn/cba/player/show/...   曹飞  29     0   0   \n",
       "9933  http://cba.sports.sina.com.cn/cba/player/show/...  李泓澎   7     0   0   \n",
       "\n",
       "      进攻篮板  防守篮板  助攻  犯规  抢断  ...  球队  对手  地点  2分中 2分投  3分中 3分投 罚球中 罚球投 篮板  \n",
       "0        0     6   6   5   0  ...  江苏  青岛  诸暨    2   6    3   6   9   9  6  \n",
       "1        0     5   3   3   4  ...  江苏  青岛  诸暨    6   6    1   5   3   4  5  \n",
       "2        0     2   1   6   1  ...  江苏  青岛  诸暨    2   6    0   2   2   2  2  \n",
       "3        4     2   2   3   1  ...  江苏  青岛  诸暨    0   2    2   3   0   0  6  \n",
       "4        0     0   0   0   0  ...  江苏  青岛  诸暨    0   1    0   0   0   0  0  \n",
       "...    ...   ...  ..  ..  ..  ...  ..  ..  ..  ...  ..  ...  ..  ..  .. ..  \n",
       "9929     0     0   0   0   0  ...  同曦  天津  诸暨    0   0    0   0   0   0  0  \n",
       "9930     0     0   0   0   0  ...  同曦  天津  诸暨    0   0    0   0   0   0  0  \n",
       "9931     0     0   0   0   0  ...  同曦  天津  诸暨    0   0    0   0   0   0  0  \n",
       "9932     0     0   0   0   0  ...  同曦  天津  诸暨    0   0    0   0   0   0  0  \n",
       "9933     0     0   0   0   0  ...  同曦  天津  诸暨    0   0    0   0   0   0  0  \n",
       "\n",
       "[9934 rows x 32 columns]"
      ]
     },
     "execution_count": 7,
     "metadata": {},
     "output_type": "execute_result"
    }
   ],
   "source": [
    "all_box_scores"
   ]
  },
  {
   "cell_type": "code",
   "execution_count": 8,
   "metadata": {},
   "outputs": [],
   "source": [
    "coll_cbaAllGamesBoxScore = db['cbaAllGamesBoxScore']"
   ]
  },
  {
   "cell_type": "code",
   "execution_count": 9,
   "metadata": {},
   "outputs": [
    {
     "name": "stdout",
     "output_type": "stream",
     "text": [
      "cbaAllGamesBoxScore operation acknowledged!\n",
      "9934 records were inserted into cbaAllGamesBoxScore.\n"
     ]
    },
    {
     "data": {
      "text/plain": [
       "<pymongo.results.InsertManyResult at 0x7f3910425c30>"
      ]
     },
     "execution_count": 9,
     "metadata": {},
     "output_type": "execute_result"
    }
   ],
   "source": [
    "mongodbio.insert_records(coll_cbaAllGamesBoxScore,all_box_scores.to_dict('record'))"
   ]
  },
  {
   "cell_type": "markdown",
   "metadata": {},
   "source": [
    "# Get Unique BoxScore"
   ]
  },
  {
   "cell_type": "code",
   "execution_count": 11,
   "metadata": {},
   "outputs": [
    {
     "data": {
      "text/plain": [
       "Index(['球员_link', '球员', '号码', '出场时间', '首发', '进攻篮板', '防守篮板', '助攻', '犯规', '抢断',\n",
       "       '失误', '盖帽', '扣篮', '被侵', '快攻', '得分', '轮次', '日期', '赛季', 'GameID_Sina',\n",
       "       '球队ID', '对手ID', '球队', '对手', '地点', '2分中', '2分投', '3分中', '3分投', '罚球中',\n",
       "       '罚球投', '篮板'],\n",
       "      dtype='object')"
      ]
     },
     "execution_count": 11,
     "metadata": {},
     "output_type": "execute_result"
    }
   ],
   "source": [
    "all_box_scores.columns"
   ]
  },
  {
   "cell_type": "code",
   "execution_count": 12,
   "metadata": {},
   "outputs": [],
   "source": [
    "simple_boxscores = all_box_scores[['篮板', '助攻','抢断','盖帽','得分']].copy()"
   ]
  },
  {
   "cell_type": "code",
   "execution_count": 13,
   "metadata": {},
   "outputs": [],
   "source": [
    "uniq_simple_boxscores = simple_boxscores.drop_duplicates().sort_values(by='得分',ascending=False).reset_index(drop=True)"
   ]
  },
  {
   "cell_type": "code",
   "execution_count": 14,
   "metadata": {},
   "outputs": [
    {
     "data": {
      "text/html": [
       "<div>\n",
       "<style scoped>\n",
       "    .dataframe tbody tr th:only-of-type {\n",
       "        vertical-align: middle;\n",
       "    }\n",
       "\n",
       "    .dataframe tbody tr th {\n",
       "        vertical-align: top;\n",
       "    }\n",
       "\n",
       "    .dataframe thead th {\n",
       "        text-align: right;\n",
       "    }\n",
       "</style>\n",
       "<table border=\"1\" class=\"dataframe\">\n",
       "  <thead>\n",
       "    <tr style=\"text-align: right;\">\n",
       "      <th></th>\n",
       "      <th>篮板</th>\n",
       "      <th>助攻</th>\n",
       "      <th>抢断</th>\n",
       "      <th>盖帽</th>\n",
       "      <th>得分</th>\n",
       "    </tr>\n",
       "  </thead>\n",
       "  <tbody>\n",
       "    <tr>\n",
       "      <th>0</th>\n",
       "      <td>8</td>\n",
       "      <td>12</td>\n",
       "      <td>5</td>\n",
       "      <td>0</td>\n",
       "      <td>60</td>\n",
       "    </tr>\n",
       "    <tr>\n",
       "      <th>1</th>\n",
       "      <td>14</td>\n",
       "      <td>6</td>\n",
       "      <td>0</td>\n",
       "      <td>1</td>\n",
       "      <td>55</td>\n",
       "    </tr>\n",
       "    <tr>\n",
       "      <th>2</th>\n",
       "      <td>11</td>\n",
       "      <td>10</td>\n",
       "      <td>4</td>\n",
       "      <td>0</td>\n",
       "      <td>55</td>\n",
       "    </tr>\n",
       "    <tr>\n",
       "      <th>3</th>\n",
       "      <td>3</td>\n",
       "      <td>19</td>\n",
       "      <td>3</td>\n",
       "      <td>0</td>\n",
       "      <td>54</td>\n",
       "    </tr>\n",
       "    <tr>\n",
       "      <th>4</th>\n",
       "      <td>12</td>\n",
       "      <td>7</td>\n",
       "      <td>6</td>\n",
       "      <td>0</td>\n",
       "      <td>53</td>\n",
       "    </tr>\n",
       "    <tr>\n",
       "      <th>...</th>\n",
       "      <td>...</td>\n",
       "      <td>...</td>\n",
       "      <td>...</td>\n",
       "      <td>...</td>\n",
       "      <td>...</td>\n",
       "    </tr>\n",
       "    <tr>\n",
       "      <th>3386</th>\n",
       "      <td>5</td>\n",
       "      <td>3</td>\n",
       "      <td>0</td>\n",
       "      <td>0</td>\n",
       "      <td>0</td>\n",
       "    </tr>\n",
       "    <tr>\n",
       "      <th>3387</th>\n",
       "      <td>3</td>\n",
       "      <td>3</td>\n",
       "      <td>0</td>\n",
       "      <td>0</td>\n",
       "      <td>0</td>\n",
       "    </tr>\n",
       "    <tr>\n",
       "      <th>3388</th>\n",
       "      <td>1</td>\n",
       "      <td>0</td>\n",
       "      <td>1</td>\n",
       "      <td>1</td>\n",
       "      <td>0</td>\n",
       "    </tr>\n",
       "    <tr>\n",
       "      <th>3389</th>\n",
       "      <td>0</td>\n",
       "      <td>0</td>\n",
       "      <td>0</td>\n",
       "      <td>3</td>\n",
       "      <td>0</td>\n",
       "    </tr>\n",
       "    <tr>\n",
       "      <th>3390</th>\n",
       "      <td>1</td>\n",
       "      <td>0</td>\n",
       "      <td>0</td>\n",
       "      <td>1</td>\n",
       "      <td>0</td>\n",
       "    </tr>\n",
       "  </tbody>\n",
       "</table>\n",
       "<p>3391 rows × 5 columns</p>\n",
       "</div>"
      ],
      "text/plain": [
       "      篮板  助攻  抢断  盖帽  得分\n",
       "0      8  12   5   0  60\n",
       "1     14   6   0   1  55\n",
       "2     11  10   4   0  55\n",
       "3      3  19   3   0  54\n",
       "4     12   7   6   0  53\n",
       "...   ..  ..  ..  ..  ..\n",
       "3386   5   3   0   0   0\n",
       "3387   3   3   0   0   0\n",
       "3388   1   0   1   1   0\n",
       "3389   0   0   0   3   0\n",
       "3390   1   0   0   1   0\n",
       "\n",
       "[3391 rows x 5 columns]"
      ]
     },
     "execution_count": 14,
     "metadata": {},
     "output_type": "execute_result"
    }
   ],
   "source": [
    "uniq_simple_boxscores"
   ]
  },
  {
   "cell_type": "code",
   "execution_count": 16,
   "metadata": {},
   "outputs": [],
   "source": [
    "coll_uniqueBoxScores= db['uniqueBoxScores']"
   ]
  },
  {
   "cell_type": "raw",
   "metadata": {},
   "source": [
    "mongodbio.delete_records(coll_uniqueBoxScores,{})"
   ]
  },
  {
   "cell_type": "code",
   "execution_count": 110,
   "metadata": {
    "scrolled": true
   },
   "outputs": [
    {
     "name": "stdout",
     "output_type": "stream",
     "text": [
      "uniqueBoxScores operation acknowledged!\n",
      "3391 records were inserted into uniqueBoxScores.\n"
     ]
    },
    {
     "data": {
      "text/plain": [
       "<pymongo.results.InsertManyResult at 0x7f1719209780>"
      ]
     },
     "execution_count": 110,
     "metadata": {},
     "output_type": "execute_result"
    }
   ],
   "source": [
    "mongodbio.insert_records(coll_uniqueBoxScores,records = uniq_simple_boxscores.to_dict('record'))"
   ]
  },
  {
   "cell_type": "markdown",
   "metadata": {},
   "source": [
    "# Pull back uniqe boxscore (so that it has _id)"
   ]
  },
  {
   "cell_type": "code",
   "execution_count": 17,
   "metadata": {},
   "outputs": [
    {
     "data": {
      "text/plain": [
       "[{'_id': ObjectId('6000ab376bb8c4991083b878'),\n",
       "  '篮板': 8,\n",
       "  '助攻': 12,\n",
       "  '抢断': 5,\n",
       "  '盖帽': 0,\n",
       "  '得分': 60},\n",
       " {'_id': ObjectId('6000ab376bb8c4991083b879'),\n",
       "  '篮板': 14,\n",
       "  '助攻': 6,\n",
       "  '抢断': 0,\n",
       "  '盖帽': 1,\n",
       "  '得分': 55},\n",
       " {'_id': ObjectId('6000ab376bb8c4991083b87a'),\n",
       "  '篮板': 11,\n",
       "  '助攻': 10,\n",
       "  '抢断': 4,\n",
       "  '盖帽': 0,\n",
       "  '得分': 55},\n",
       " {'_id': ObjectId('6000ab376bb8c4991083b87b'),\n",
       "  '篮板': 3,\n",
       "  '助攻': 19,\n",
       "  '抢断': 3,\n",
       "  '盖帽': 0,\n",
       "  '得分': 54},\n",
       " {'_id': ObjectId('6000ab376bb8c4991083b87c'),\n",
       "  '篮板': 12,\n",
       "  '助攻': 7,\n",
       "  '抢断': 6,\n",
       "  '盖帽': 0,\n",
       "  '得分': 53}]"
      ]
     },
     "execution_count": 17,
     "metadata": {},
     "output_type": "execute_result"
    }
   ],
   "source": [
    "unique_boxscores = mongodbio.select_records(coll_uniqueBoxScores,{})\n",
    "# unique_boxscore = pd.DataFrame(unique_boxscore)\n",
    "unique_boxscores[:5]"
   ]
  },
  {
   "cell_type": "code",
   "execution_count": 18,
   "metadata": {},
   "outputs": [],
   "source": [
    "def return_nonid_dict(dictionary:dict)->dict:\n",
    "    new_dict={}\n",
    "    for key,value in dictionary.items():\n",
    "        if key=='_id':\n",
    "            continue\n",
    "        new_dict[key]=value\n",
    "    return new_dict"
   ]
  },
  {
   "cell_type": "code",
   "execution_count": 19,
   "metadata": {},
   "outputs": [
    {
     "data": {
      "text/plain": [
       "{'篮板': 12, '助攻': 7, '抢断': 6, '盖帽': 0, '得分': 53}"
      ]
     },
     "execution_count": 19,
     "metadata": {},
     "output_type": "execute_result"
    }
   ],
   "source": [
    "return_nonid_dict(unique_boxscores[4])"
   ]
  },
  {
   "cell_type": "code",
   "execution_count": 20,
   "metadata": {},
   "outputs": [
    {
     "data": {
      "text/plain": [
       "{'_id': ObjectId('6000ab376bb8c4991083b87c'),\n",
       " '篮板': 12,\n",
       " '助攻': 7,\n",
       " '抢断': 6,\n",
       " '盖帽': 0,\n",
       " '得分': 53}"
      ]
     },
     "execution_count": 20,
     "metadata": {},
     "output_type": "execute_result"
    }
   ],
   "source": [
    "unique_boxscores[4]"
   ]
  },
  {
   "cell_type": "code",
   "execution_count": 22,
   "metadata": {
    "scrolled": true
   },
   "outputs": [],
   "source": [
    "# takes a few minutes\n",
    "occurences=[]\n",
    "for boxscore in unique_boxscores:\n",
    "    occurences.append({'boxscore_id':boxscore['_id'],\n",
    "                       'occurence':mongodbio.select_records(coll_cbaAllGamesBoxScore,return_nonid_dict(boxscore))})"
   ]
  },
  {
   "cell_type": "code",
   "execution_count": 23,
   "metadata": {},
   "outputs": [
    {
     "data": {
      "text/plain": [
       "3391"
      ]
     },
     "execution_count": 23,
     "metadata": {},
     "output_type": "execute_result"
    }
   ],
   "source": [
    "len(occurencesences)"
   ]
  },
  {
   "cell_type": "code",
   "execution_count": 36,
   "metadata": {},
   "outputs": [],
   "source": [
    "# update the stats in mongo\n",
    "results=[]\n",
    "for occurence in occurences:\n",
    "    results.append(coll_uniqueBoxScores.update_one({'_id':occurence['boxscore_id']},\n",
    "                                                   {\"$set\":{\"事件\":occurence['occurence']}}))"
   ]
  },
  {
   "cell_type": "code",
   "execution_count": 37,
   "metadata": {},
   "outputs": [
    {
     "data": {
      "text/plain": [
       "3391"
      ]
     },
     "execution_count": 37,
     "metadata": {},
     "output_type": "execute_result"
    }
   ],
   "source": [
    "len(results)"
   ]
  },
  {
   "cell_type": "code",
   "execution_count": null,
   "metadata": {},
   "outputs": [],
   "source": []
  },
  {
   "cell_type": "code",
   "execution_count": null,
   "metadata": {},
   "outputs": [],
   "source": []
  },
  {
   "cell_type": "code",
   "execution_count": null,
   "metadata": {},
   "outputs": [],
   "source": []
  },
  {
   "cell_type": "code",
   "execution_count": null,
   "metadata": {},
   "outputs": [],
   "source": []
  }
 ],
 "metadata": {
  "kernelspec": {
   "display_name": "Python 3",
   "language": "python",
   "name": "python3"
  },
  "language_info": {
   "codemirror_mode": {
    "name": "ipython",
    "version": 3
   },
   "file_extension": ".py",
   "mimetype": "text/x-python",
   "name": "python",
   "nbconvert_exporter": "python",
   "pygments_lexer": "ipython3",
   "version": "3.7.6"
  }
 },
 "nbformat": 4,
 "nbformat_minor": 4
}
