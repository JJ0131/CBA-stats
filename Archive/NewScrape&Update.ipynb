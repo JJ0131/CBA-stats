{
 "cells": [
  {
   "cell_type": "code",
   "execution_count": 1,
   "metadata": {},
   "outputs": [],
   "source": [
    "import os\n",
    "\n",
    "os.chdir('/Documents/CBA_Stats')\n",
    "\n",
    "!pwd\n",
    "\n",
    "import re\n",
    "\n",
    "# from cbastats import Scraper\n",
    "from cbastats import ScraperMongo\n",
    "\n",
    "sina_scraper = ScraperMongo.SinaScraper(ScraperMongo.SINA_SCHEDULE_BASE_URL,ScraperMongo.ENCODING, ScraperMongo.PARSER, ScraperMongo.HEADERS)"
   ]
  },
  {
   "cell_type": "code",
   "execution_count": 7,
   "metadata": {
    "scrolled": true
   },
   "outputs": [
    {
     "name": "stdout",
     "output_type": "stream",
     "text": [
      "----------------------------------------\n",
      "Composing url\n",
      "----------------------------------------\n",
      "Scraping Schedule\n",
      "----------------------------------------\n",
      "Insert Schedule to CBA_Staging.Schedules\n",
      "----------------------------------------\n",
      "Operation complete. Success is not garanteed. Check query to verify.\n",
      "Cleaning up CBA_Staging.Schedules\n",
      "----------------------------------------\n",
      "Pulling schedule from CBA_Staging.Schedules\n",
      "----------------------------------------\n"
     ]
    },
    {
     "name": "stderr",
     "output_type": "stream",
     "text": [
      "\r",
      "  0%|          | 0/20 [00:00<?, ?it/s]"
     ]
    },
    {
     "name": "stdout",
     "output_type": "stream",
     "text": [
      "Scraping game stats\n",
      "----------------------------------------\n"
     ]
    },
    {
     "name": "stderr",
     "output_type": "stream",
     "text": [
      "100%|██████████| 20/20 [01:03<00:00,  3.19s/it]\n"
     ]
    },
    {
     "name": "stdout",
     "output_type": "stream",
     "text": [
      "Append game stats to CBA_Data.PlayerStatsPerGame\n",
      "----------------------------------------\n",
      "Operation complete. Success is not garanteed. Check row count to verify.\n",
      "Final clean up of the staging schedules\n",
      "----------------------------------------\n"
     ]
    }
   ],
   "source": [
    "# sina_scraper.scrape_sina(season='20-21')"
   ]
  },
  {
   "cell_type": "markdown",
   "metadata": {},
   "source": [
    "# dev for mongo"
   ]
  },
  {
   "cell_type": "code",
   "execution_count": 9,
   "metadata": {
    "scrolled": true
   },
   "outputs": [
    {
     "data": {
      "text/plain": [
       "{'qleagueid': {'20-21': '206',\n",
       "  '19-20': '205',\n",
       "  '18-19': '198',\n",
       "  '17-18': '189',\n",
       "  '16-17': '180',\n",
       "  '15-16': '171',\n",
       "  '14-15': '158',\n",
       "  '13-14': '136',\n",
       "  '12-13': '107',\n",
       "  '11-12': '83',\n",
       "  '10-11': '69',\n",
       "  '09-10': '56',\n",
       "  '08-09': '44',\n",
       "  '07-08': '9',\n",
       "  '06-07': '2',\n",
       "  '05-06': '1'},\n",
       " 'qmonth': {'全部': '',\n",
       "  '11': '11',\n",
       "  '12': '12',\n",
       "  '01': '01',\n",
       "  '02': '02',\n",
       "  '03': '03',\n",
       "  '04': '04',\n",
       "  '05': '05',\n",
       "  '06': '06',\n",
       "  '07': '07',\n",
       "  '08': '08',\n",
       "  '09': '09',\n",
       "  '10': '10'},\n",
       " 'qteamid': {'全部': '',\n",
       "  '广东': '1',\n",
       "  '江苏': '2',\n",
       "  '上海': '4',\n",
       "  '浙江': '6',\n",
       "  '福建': '7',\n",
       "  '深圳': '8',\n",
       "  '辽宁': '9',\n",
       "  '北京': '10',\n",
       "  '新疆': '11',\n",
       "  '吉林': '12',\n",
       "  '广州': '13',\n",
       "  '山西': '14',\n",
       "  '山东': '15',\n",
       "  '广厦': '16',\n",
       "  '天津': '113',\n",
       "  '青岛': '114',\n",
       "  '四川': '182',\n",
       "  '同曦': '368',\n",
       "  '北控': '369'}}"
      ]
     },
     "execution_count": 9,
     "metadata": {},
     "output_type": "execute_result"
    }
   ],
   "source": [
    "sina_scraper.scraper_params"
   ]
  },
  {
   "cell_type": "code",
   "execution_count": 12,
   "metadata": {},
   "outputs": [],
   "source": [
    "SEASON = '20-21'"
   ]
  },
  {
   "cell_type": "code",
   "execution_count": 11,
   "metadata": {},
   "outputs": [],
   "source": [
    "scraped_schedule = sina_scraper.scrape_schedule(season='20-21', month='全部', team='全部')\n",
    "\n",
    "len(scraped_schedule)"
   ]
  },
  {
   "cell_type": "code",
   "execution_count": 47,
   "metadata": {},
   "outputs": [],
   "source": [
    "page_content = sina_scraper.get_page_content(composed_url,encoding=sina_scraper.encoding, parser=sina_scraper.parser, headers=sina_scraper.headers)"
   ]
  },
  {
   "cell_type": "code",
   "execution_count": 48,
   "metadata": {},
   "outputs": [],
   "source": [
    "target_table = page_content.find_all(\"table\")[1]"
   ]
  },
  {
   "cell_type": "code",
   "execution_count": 1,
   "metadata": {},
   "outputs": [
    {
     "ename": "NameError",
     "evalue": "name 'target_table' is not defined",
     "output_type": "error",
     "traceback": [
      "\u001b[0;31m---------------------------------------------------------------------------\u001b[0m",
      "\u001b[0;31mNameError\u001b[0m                                 Traceback (most recent call last)",
      "\u001b[0;32m<ipython-input-1-f27c9571bce6>\u001b[0m in \u001b[0;36m<module>\u001b[0;34m\u001b[0m\n\u001b[0;32m----> 1\u001b[0;31m \u001b[0mtarget_table\u001b[0m\u001b[0;34m\u001b[0m\u001b[0;34m\u001b[0m\u001b[0m\n\u001b[0m",
      "\u001b[0;31mNameError\u001b[0m: name 'target_table' is not defined"
     ]
    }
   ],
   "source": [
    "target_table"
   ]
  },
  {
   "cell_type": "code",
   "execution_count": 50,
   "metadata": {},
   "outputs": [],
   "source": [
    "headers = [th.text for th in target_table.find('thead').find_all('th')]"
   ]
  },
  {
   "cell_type": "code",
   "execution_count": 51,
   "metadata": {},
   "outputs": [],
   "source": [
    "tbody = target_table.find('tbody')"
   ]
  },
  {
   "cell_type": "code",
   "execution_count": 52,
   "metadata": {},
   "outputs": [],
   "source": [
    "trs = tbody.find_all('tr')"
   ]
  },
  {
   "cell_type": "code",
   "execution_count": 105,
   "metadata": {
    "scrolled": true
   },
   "outputs": [
    {
     "data": {
      "text/plain": [
       "{'qleagueid': {'20-21': '206',\n",
       "  '19-20': '205',\n",
       "  '18-19': '198',\n",
       "  '17-18': '189',\n",
       "  '16-17': '180',\n",
       "  '15-16': '171',\n",
       "  '14-15': '158',\n",
       "  '13-14': '136',\n",
       "  '12-13': '107',\n",
       "  '11-12': '83',\n",
       "  '10-11': '69',\n",
       "  '09-10': '56',\n",
       "  '08-09': '44',\n",
       "  '07-08': '9',\n",
       "  '06-07': '2',\n",
       "  '05-06': '1'},\n",
       " 'qmonth': {'全部': '',\n",
       "  '11': '11',\n",
       "  '12': '12',\n",
       "  '01': '01',\n",
       "  '02': '02',\n",
       "  '03': '03',\n",
       "  '04': '04',\n",
       "  '05': '05',\n",
       "  '06': '06',\n",
       "  '07': '07',\n",
       "  '08': '08',\n",
       "  '09': '09',\n",
       "  '10': '10'},\n",
       " 'qteamid': {'全部': '',\n",
       "  '广东': '1',\n",
       "  '江苏': '2',\n",
       "  '上海': '4',\n",
       "  '浙江': '6',\n",
       "  '福建': '7',\n",
       "  '深圳': '8',\n",
       "  '辽宁': '9',\n",
       "  '北京': '10',\n",
       "  '新疆': '11',\n",
       "  '吉林': '12',\n",
       "  '广州': '13',\n",
       "  '山西': '14',\n",
       "  '山东': '15',\n",
       "  '广厦': '16',\n",
       "  '天津': '113',\n",
       "  '青岛': '114',\n",
       "  '四川': '182',\n",
       "  '同曦': '368',\n",
       "  '北控': '369'}}"
      ]
     },
     "execution_count": 105,
     "metadata": {},
     "output_type": "execute_result"
    }
   ],
   "source": [
    "sina_scraper.scraper_params"
   ]
  },
  {
   "cell_type": "code",
   "execution_count": 99,
   "metadata": {},
   "outputs": [
    {
     "data": {
      "text/plain": [
       "342"
      ]
     },
     "execution_count": 99,
     "metadata": {},
     "output_type": "execute_result"
    }
   ],
   "source": [
    "len(rows)"
   ]
  },
  {
   "cell_type": "code",
   "execution_count": 95,
   "metadata": {},
   "outputs": [],
   "source": [
    "rows = []\n",
    "for tr in trs:\n",
    "    row = {}\n",
    "    tds = tr.find_all('td')\n",
    "    for td in zip(headers,tds):\n",
    "        header=td[0]\n",
    "        cell_content=td[1]\n",
    "        cell_text = str(cell_content.text).strip()\n",
    "        cell_link = None   \n",
    "        # 提取link\n",
    "        if cell_content.find('a',href=True):\n",
    "                cell_link=cell_content.find('a',href=True)['href'].strip()\n",
    "        \n",
    "        # 如果不含link        \n",
    "        if not cell_link:\n",
    "            row[header]=cell_text\n",
    "            continue\n",
    "        else:\n",
    "            # there is link\n",
    "            # 并且表头和单元格内容不一样\n",
    "            # 比如表头是”比分“，单元格内容是”116：131“，且有链接\n",
    "            # 那么该cell的数据是{'比分':{'比分':'116:131','url':'https://xxx.xxx.xxx'}}\n",
    "            if (cell_text!=header):\n",
    "                cell={}\n",
    "                cell[header]=cell_text\n",
    "                cell['url']=cell_link\n",
    "                row[header]=cell\n",
    "                continue\n",
    "            # 如果有link，但标题和单元格文本一样\n",
    "            # 比如标题是“战报”，单元格文本也是“战报”，则没必要再列一遍“战报”\n",
    "            \n",
    "            else:\n",
    "                row[header]=cell_link\n",
    "    rows.append(row)\n",
    "# TODO: add season\n",
    "# TODO: add teamid etc.\n",
    "\n",
    "for row in rows:\n",
    "    row['赛季']=SEASON\n",
    "    row['GameID_Sina']=re.findall('schedule[/]show[/](\\d+)[/]',row['比分']['url'])[0]\n",
    "    # TODO: fix gameID,主队ID，客队ID issue in stats calculation\n",
    "    row['主队']['HomeTeamID_Sina']=re.findall('team[/]show[/](\\d+)[/]',row['主队']['url'])[0]\n",
    "    row['客队']['AwayTeamID_Sina']=re.findall('team[/]show[/](\\d+)[/]',row['客队']['url'])[0]"
   ]
  }
 ],
 "metadata": {
  "kernelspec": {
   "display_name": "Python 3",
   "language": "python",
   "name": "python3"
  },
  "language_info": {
   "codemirror_mode": {
    "name": "ipython",
    "version": 3
   },
   "file_extension": ".py",
   "mimetype": "text/x-python",
   "name": "python",
   "nbconvert_exporter": "python",
   "pygments_lexer": "ipython3",
   "version": "3.7.6"
  }
 },
 "nbformat": 4,
 "nbformat_minor": 4
}
