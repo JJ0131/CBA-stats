{
 "cells": [
  {
   "cell_type": "code",
   "execution_count": 3,
   "metadata": {},
   "outputs": [
    {
     "name": "stdout",
     "output_type": "stream",
     "text": [
      "4\n",
      "CBA球员数据\n"
     ]
    }
   ],
   "source": [
    "import requests\n",
    "from bs4 import BeautifulSoup\n",
    "import lxml.html as lh\n",
    "import pandas as pd\n",
    "import datetime\n",
    "\n",
    "header = {'User-Agent': r'Mozilla/5.0 (Macintosh; Intel Mac OS X 10_10_1) AppleWebKit/537.36 (KHTML, like Gecko) '\n",
    "                        r'Chrome/41.0.2227.1 Safari/537.36'}\n",
    "session = requests.Session()\n",
    "base_url = r\"http://cbadata.sports.sohu.com/ranking/players/2019/0/6/0/0/2/1\"\n",
    "response = session.get(base_url, headers=header)\n",
    "\n",
    "response.encoding = 'UTF-8'\n",
    "\n",
    "page_content = BeautifulSoup(response.content, \"html.parser\")\n",
    "\n",
    "print(len(page_content))\n",
    "print(page_content.title.get_text())"
   ]
  },
  {
   "cell_type": "code",
   "execution_count": 19,
   "metadata": {
    "scrolled": true
   },
   "outputs": [
    {
     "data": {
      "text/plain": [
       "[<div class=\"cutL\">\n",
       " <select class=\"slt\" id=\"season_selected\" name=\"season_selected\" onchange=\"changeSeason(this.value);\">\n",
       " <option selected=\"\" value=\"2019\">2019-2020赛季</option>\n",
       " <option value=\"2018\">2018-2019赛季</option>\n",
       " <option value=\"2017\">2017-2018赛季</option>\n",
       " <option value=\"2016\">2016-2017赛季</option>\n",
       " <option value=\"2015\">2015-2016赛季</option>\n",
       " <option value=\"2014\">2014-2015赛季</option>\n",
       " <option value=\"2013\">2013-2014赛季</option>\n",
       " <option value=\"2012\">2012-2013赛季</option>\n",
       " <option value=\"2011\">2011-2012赛季</option>\n",
       " <option value=\"1980\">全部赛季</option>\n",
       " </select>\n",
       " <select class=\"slt\" id=\"round_begin\" name=\"round_begin\"></select>\n",
       " <select class=\"slt\" id=\"round_end\" name=\"round_end\"></select>\n",
       " <select class=\"slt\" id=\"game_type\" name=\"game_type\">\n",
       " <option selected=\"\" value=\"0\">全部</option>\n",
       " <option value=\"1\">常规赛</option>\n",
       " </select>\n",
       " <select class=\"slt\" id=\"game_orderby\" name=\"game_type\">\n",
       " <option value=\"0\">出场次数</option>\n",
       " <option value=\"1\">场均时间</option>\n",
       " <option value=\"2\">投篮命中率</option>\n",
       " <option value=\"3\">三分命中率</option>\n",
       " <option value=\"4\">三分球总数</option>\n",
       " <option value=\"5\">罚球命中率</option>\n",
       " <option selected=\"\" value=\"6\">总得分</option>\n",
       " <option value=\"7\">场均得分</option>\n",
       " <option value=\"8\">总篮板</option>\n",
       " <option value=\"9\">场均篮板</option>\n",
       " <option value=\"10\">总助攻</option>\n",
       " <option value=\"11\">场均助攻</option>\n",
       " <option value=\"12\">总盖帽</option>\n",
       " <option value=\"13\">场均盖帽</option>\n",
       " <option value=\"14\">总抢断</option>\n",
       " <option value=\"15\">场均抢断</option>\n",
       " <option value=\"16\">总失误</option>\n",
       " <option value=\"17\">场均失误</option>\n",
       " <option value=\"18\">总犯规</option>\n",
       " <option value=\"19\">场均犯规</option>\n",
       " </select>\n",
       " <img align=\"absmiddle\" onclick=\"javascript:changeRanking()\" src=\"/images/btn4.jpg\" style=\"cursor:hand\">\n",
       " </img></div>]"
      ]
     },
     "execution_count": 19,
     "metadata": {},
     "output_type": "execute_result"
    }
   ],
   "source": [
    "page_content.findAll('div', attrs={\"class\": \"cutL\"})"
   ]
  },
  {
   "cell_type": "code",
   "execution_count": 24,
   "metadata": {
    "scrolled": true
   },
   "outputs": [
    {
     "data": {
      "text/plain": [
       "<select class=\"slt\" id=\"season_selected\" name=\"season_selected\" onchange=\"changeSeason(this.value);\">\n",
       "<option selected=\"\" value=\"2019\">2019-2020赛季</option>\n",
       "<option value=\"2018\">2018-2019赛季</option>\n",
       "<option value=\"2017\">2017-2018赛季</option>\n",
       "<option value=\"2016\">2016-2017赛季</option>\n",
       "<option value=\"2015\">2015-2016赛季</option>\n",
       "<option value=\"2014\">2014-2015赛季</option>\n",
       "<option value=\"2013\">2013-2014赛季</option>\n",
       "<option value=\"2012\">2012-2013赛季</option>\n",
       "<option value=\"2011\">2011-2012赛季</option>\n",
       "<option value=\"1980\">全部赛季</option>\n",
       "</select>"
      ]
     },
     "execution_count": 24,
     "metadata": {},
     "output_type": "execute_result"
    }
   ],
   "source": [
    "page_content.findAll('select', attrs={\"id\": \"season_selected\"})[0]"
   ]
  },
  {
   "cell_type": "code",
   "execution_count": 35,
   "metadata": {},
   "outputs": [
    {
     "data": {
      "text/plain": [
       "<select class=\"slt\" id=\"season_selected\" name=\"season_selected\" onchange=\"changeSeason(this.value);\">\n",
       "<option selected=\"\" value=\"2019\">2019-2020赛季</option>\n",
       "<option value=\"2018\">2018-2019赛季</option>\n",
       "<option value=\"2017\">2017-2018赛季</option>\n",
       "<option value=\"2016\">2016-2017赛季</option>\n",
       "<option value=\"2015\">2015-2016赛季</option>\n",
       "<option value=\"2014\">2014-2015赛季</option>\n",
       "<option value=\"2013\">2013-2014赛季</option>\n",
       "<option value=\"2012\">2012-2013赛季</option>\n",
       "<option value=\"2011\">2011-2012赛季</option>\n",
       "<option value=\"1980\">全部赛季</option>\n",
       "</select>"
      ]
     },
     "execution_count": 35,
     "metadata": {},
     "output_type": "execute_result"
    }
   ],
   "source": [
    "page_content.findAll('select', attrs={\"id\": \"season_selected\"})"
   ]
  },
  {
   "cell_type": "code",
   "execution_count": 45,
   "metadata": {
    "scrolled": true
   },
   "outputs": [
    {
     "data": {
      "text/plain": [
       "<select class=\"slt\" id=\"season_selected\" name=\"season_selected\" onchange=\"changeSeason(this.value);\">\n",
       "<option selected=\"\" value=\"2019\">2019-2020赛季</option>\n",
       "<option value=\"2018\">2018-2019赛季</option>\n",
       "<option value=\"2017\">2017-2018赛季</option>\n",
       "<option value=\"2016\">2016-2017赛季</option>\n",
       "<option value=\"2015\">2015-2016赛季</option>\n",
       "<option value=\"2014\">2014-2015赛季</option>\n",
       "<option value=\"2013\">2013-2014赛季</option>\n",
       "<option value=\"2012\">2012-2013赛季</option>\n",
       "<option value=\"2011\">2011-2012赛季</option>\n",
       "<option value=\"1980\">全部赛季</option>\n",
       "</select>"
      ]
     },
     "execution_count": 45,
     "metadata": {},
     "output_type": "execute_result"
    }
   ],
   "source": [
    "my_str = page_content.select('select')[0]\n",
    "my_str"
   ]
  },
  {
   "cell_type": "code",
   "execution_count": 49,
   "metadata": {},
   "outputs": [
    {
     "data": {
      "text/plain": [
       "bs4.element.Tag"
      ]
     },
     "execution_count": 49,
     "metadata": {},
     "output_type": "execute_result"
    }
   ],
   "source": []
  },
  {
   "cell_type": "code",
   "execution_count": 51,
   "metadata": {},
   "outputs": [
    {
     "data": {
      "text/plain": [
       "<select class=\"slt\" id=\"season_selected\" name=\"season_selected\" onchange=\"changeSeason(this.value);\">\n",
       "<option selected=\"\" value=\"2019\">2019-2020赛季</option>\n",
       "<option value=\"2018\">2018-2019赛季</option>\n",
       "<option value=\"2017\">2017-2018赛季</option>\n",
       "<option value=\"2016\">2016-2017赛季</option>\n",
       "<option value=\"2015\">2015-2016赛季</option>\n",
       "<option value=\"2014\">2014-2015赛季</option>\n",
       "<option value=\"2013\">2013-2014赛季</option>\n",
       "<option value=\"2012\">2012-2013赛季</option>\n",
       "<option value=\"2011\">2011-2012赛季</option>\n",
       "<option value=\"1980\">全部赛季</option>\n",
       "</select>"
      ]
     },
     "execution_count": 51,
     "metadata": {},
     "output_type": "execute_result"
    }
   ],
   "source": [
    "BeautifulSoup(str(my_str),'html.parser')"
   ]
  },
  {
   "cell_type": "code",
   "execution_count": 18,
   "metadata": {
    "scrolled": false
   },
   "outputs": [
    {
     "data": {
      "text/plain": [
       "[<option selected=\"\" value=\"2019\">2019-2020赛季</option>,\n",
       " <option value=\"2018\">2018-2019赛季</option>,\n",
       " <option value=\"2017\">2017-2018赛季</option>,\n",
       " <option value=\"2016\">2016-2017赛季</option>,\n",
       " <option value=\"2015\">2015-2016赛季</option>,\n",
       " <option value=\"2014\">2014-2015赛季</option>,\n",
       " <option value=\"2013\">2013-2014赛季</option>,\n",
       " <option value=\"2012\">2012-2013赛季</option>,\n",
       " <option value=\"2011\">2011-2012赛季</option>,\n",
       " <option value=\"1980\">全部赛季</option>,\n",
       " <option selected=\"\" value=\"0\">全部</option>,\n",
       " <option value=\"1\">常规赛</option>,\n",
       " <option value=\"0\">出场次数</option>,\n",
       " <option value=\"1\">场均时间</option>,\n",
       " <option value=\"2\">投篮命中率</option>,\n",
       " <option value=\"3\">三分命中率</option>,\n",
       " <option value=\"4\">三分球总数</option>,\n",
       " <option value=\"5\">罚球命中率</option>,\n",
       " <option selected=\"\" value=\"6\">总得分</option>,\n",
       " <option value=\"7\">场均得分</option>,\n",
       " <option value=\"8\">总篮板</option>,\n",
       " <option value=\"9\">场均篮板</option>,\n",
       " <option value=\"10\">总助攻</option>,\n",
       " <option value=\"11\">场均助攻</option>,\n",
       " <option value=\"12\">总盖帽</option>,\n",
       " <option value=\"13\">场均盖帽</option>,\n",
       " <option value=\"14\">总抢断</option>,\n",
       " <option value=\"15\">场均抢断</option>,\n",
       " <option value=\"16\">总失误</option>,\n",
       " <option value=\"17\">场均失误</option>,\n",
       " <option value=\"18\">总犯规</option>,\n",
       " <option value=\"19\">场均犯规</option>]"
      ]
     },
     "execution_count": 18,
     "metadata": {},
     "output_type": "execute_result"
    }
   ],
   "source": [
    "page_content.findAll('option')"
   ]
  },
  {
   "cell_type": "code",
   "execution_count": null,
   "metadata": {
    "collapsed": true
   },
   "outputs": [],
   "source": []
  },
  {
   "cell_type": "code",
   "execution_count": null,
   "metadata": {
    "collapsed": true
   },
   "outputs": [],
   "source": []
  },
  {
   "cell_type": "code",
   "execution_count": null,
   "metadata": {
    "collapsed": true
   },
   "outputs": [],
   "source": []
  },
  {
   "cell_type": "code",
   "execution_count": null,
   "metadata": {
    "collapsed": true
   },
   "outputs": [],
   "source": []
  },
  {
   "cell_type": "code",
   "execution_count": null,
   "metadata": {
    "collapsed": true
   },
   "outputs": [],
   "source": []
  }
 ],
 "metadata": {
  "anaconda-cloud": {},
  "kernelspec": {
   "display_name": "Python [default]",
   "language": "python",
   "name": "python3"
  },
  "language_info": {
   "codemirror_mode": {
    "name": "ipython",
    "version": 3
   },
   "file_extension": ".py",
   "mimetype": "text/x-python",
   "name": "python",
   "nbconvert_exporter": "python",
   "pygments_lexer": "ipython3",
   "version": "3.5.2"
  }
 },
 "nbformat": 4,
 "nbformat_minor": 1
}
