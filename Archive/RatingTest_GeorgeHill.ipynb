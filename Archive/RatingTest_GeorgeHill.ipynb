{
 "cells": [
  {
   "cell_type": "markdown",
   "metadata": {},
   "source": [
    "# Testing Stats"
   ]
  },
  {
   "cell_type": "code",
   "execution_count": 1,
   "metadata": {
    "pycharm": {
     "is_executing": false
    }
   },
   "outputs": [],
   "source": [
    "import pandas as pd"
   ]
  },
  {
   "cell_type": "markdown",
   "metadata": {},
   "source": [
    "### George Hill stats"
   ]
  },
  {
   "cell_type": "code",
   "execution_count": 2,
   "metadata": {},
   "outputs": [
    {
     "data": {
      "text/html": [
       "<div>\n",
       "<style scoped>\n",
       "    .dataframe tbody tr th:only-of-type {\n",
       "        vertical-align: middle;\n",
       "    }\n",
       "\n",
       "    .dataframe tbody tr th {\n",
       "        vertical-align: top;\n",
       "    }\n",
       "\n",
       "    .dataframe thead th {\n",
       "        text-align: right;\n",
       "    }\n",
       "</style>\n",
       "<table border=\"1\" class=\"dataframe\">\n",
       "  <thead>\n",
       "    <tr style=\"text-align: right;\">\n",
       "      <th></th>\n",
       "      <th>G</th>\n",
       "      <th>MP</th>\n",
       "      <th>FG</th>\n",
       "      <th>FGA</th>\n",
       "      <th>FG%</th>\n",
       "      <th>3P</th>\n",
       "      <th>3PA</th>\n",
       "      <th>3P%</th>\n",
       "      <th>FT</th>\n",
       "      <th>FTA</th>\n",
       "      <th>...</th>\n",
       "      <th>DRB</th>\n",
       "      <th>TRB</th>\n",
       "      <th>AST</th>\n",
       "      <th>STL</th>\n",
       "      <th>BLK</th>\n",
       "      <th>TOV</th>\n",
       "      <th>PF</th>\n",
       "      <th>PTS</th>\n",
       "      <th>GmSc</th>\n",
       "      <th>+/-</th>\n",
       "    </tr>\n",
       "  </thead>\n",
       "  <tbody>\n",
       "    <tr>\n",
       "      <th>0</th>\n",
       "      <td>1</td>\n",
       "      <td>30:47</td>\n",
       "      <td>3</td>\n",
       "      <td>7</td>\n",
       "      <td>0.429</td>\n",
       "      <td>2</td>\n",
       "      <td>4</td>\n",
       "      <td>0.500</td>\n",
       "      <td>0</td>\n",
       "      <td>0</td>\n",
       "      <td>...</td>\n",
       "      <td>0</td>\n",
       "      <td>0</td>\n",
       "      <td>7</td>\n",
       "      <td>2</td>\n",
       "      <td>0</td>\n",
       "      <td>0</td>\n",
       "      <td>2</td>\n",
       "      <td>8</td>\n",
       "      <td>10.4</td>\n",
       "      <td>16.0</td>\n",
       "    </tr>\n",
       "    <tr>\n",
       "      <th>1</th>\n",
       "      <td>2</td>\n",
       "      <td>28:47</td>\n",
       "      <td>2</td>\n",
       "      <td>4</td>\n",
       "      <td>0.500</td>\n",
       "      <td>1</td>\n",
       "      <td>3</td>\n",
       "      <td>0.333</td>\n",
       "      <td>0</td>\n",
       "      <td>0</td>\n",
       "      <td>...</td>\n",
       "      <td>2</td>\n",
       "      <td>2</td>\n",
       "      <td>4</td>\n",
       "      <td>1</td>\n",
       "      <td>1</td>\n",
       "      <td>1</td>\n",
       "      <td>6</td>\n",
       "      <td>5</td>\n",
       "      <td>4.7</td>\n",
       "      <td>-18.0</td>\n",
       "    </tr>\n",
       "    <tr>\n",
       "      <th>2</th>\n",
       "      <td>3</td>\n",
       "      <td>19:22</td>\n",
       "      <td>7</td>\n",
       "      <td>10</td>\n",
       "      <td>0.700</td>\n",
       "      <td>1</td>\n",
       "      <td>2</td>\n",
       "      <td>0.500</td>\n",
       "      <td>4</td>\n",
       "      <td>7</td>\n",
       "      <td>...</td>\n",
       "      <td>6</td>\n",
       "      <td>8</td>\n",
       "      <td>3</td>\n",
       "      <td>2</td>\n",
       "      <td>0</td>\n",
       "      <td>0</td>\n",
       "      <td>0</td>\n",
       "      <td>19</td>\n",
       "      <td>20.9</td>\n",
       "      <td>12.0</td>\n",
       "    </tr>\n",
       "    <tr>\n",
       "      <th>3</th>\n",
       "      <td>4</td>\n",
       "      <td>20:13</td>\n",
       "      <td>5</td>\n",
       "      <td>9</td>\n",
       "      <td>0.556</td>\n",
       "      <td>2</td>\n",
       "      <td>5</td>\n",
       "      <td>0.400</td>\n",
       "      <td>0</td>\n",
       "      <td>0</td>\n",
       "      <td>...</td>\n",
       "      <td>2</td>\n",
       "      <td>5</td>\n",
       "      <td>2</td>\n",
       "      <td>0</td>\n",
       "      <td>0</td>\n",
       "      <td>1</td>\n",
       "      <td>2</td>\n",
       "      <td>12</td>\n",
       "      <td>10.0</td>\n",
       "      <td>-8.0</td>\n",
       "    </tr>\n",
       "    <tr>\n",
       "      <th>4</th>\n",
       "      <td>5</td>\n",
       "      <td>15:20</td>\n",
       "      <td>4</td>\n",
       "      <td>6</td>\n",
       "      <td>0.667</td>\n",
       "      <td>1</td>\n",
       "      <td>1</td>\n",
       "      <td>1.000</td>\n",
       "      <td>0</td>\n",
       "      <td>1</td>\n",
       "      <td>...</td>\n",
       "      <td>1</td>\n",
       "      <td>2</td>\n",
       "      <td>2</td>\n",
       "      <td>1</td>\n",
       "      <td>0</td>\n",
       "      <td>0</td>\n",
       "      <td>0</td>\n",
       "      <td>9</td>\n",
       "      <td>9.4</td>\n",
       "      <td>15.0</td>\n",
       "    </tr>\n",
       "  </tbody>\n",
       "</table>\n",
       "<p>5 rows × 22 columns</p>\n",
       "</div>"
      ],
      "text/plain": [
       "   G     MP  FG  FGA    FG%  3P  3PA    3P%  FT  FTA  ...  DRB  TRB  AST  STL  \\\n",
       "0  1  30:47   3    7  0.429   2    4  0.500   0    0  ...    0    0    7    2   \n",
       "1  2  28:47   2    4  0.500   1    3  0.333   0    0  ...    2    2    4    1   \n",
       "2  3  19:22   7   10  0.700   1    2  0.500   4    7  ...    6    8    3    2   \n",
       "3  4  20:13   5    9  0.556   2    5  0.400   0    0  ...    2    5    2    0   \n",
       "4  5  15:20   4    6  0.667   1    1  1.000   0    1  ...    1    2    2    1   \n",
       "\n",
       "   BLK  TOV  PF  PTS  GmSc   +/-  \n",
       "0    0    0   2    8  10.4  16.0  \n",
       "1    1    1   6    5   4.7 -18.0  \n",
       "2    0    0   0   19  20.9  12.0  \n",
       "3    0    1   2   12  10.0  -8.0  \n",
       "4    0    0   0    9   9.4  15.0  \n",
       "\n",
       "[5 rows x 22 columns]"
      ]
     },
     "execution_count": 2,
     "metadata": {},
     "output_type": "execute_result"
    }
   ],
   "source": [
    "ghill = pd.read_csv('GeorgeHill_testdata_20191225.csv')\n",
    "ghill.head()"
   ]
  },
  {
   "cell_type": "code",
   "execution_count": 3,
   "metadata": {
    "collapsed": true
   },
   "outputs": [
    {
     "name": "stdout",
     "output_type": "stream",
     "text": [
      "<class 'pandas.core.frame.DataFrame'>\n",
      "RangeIndex: 29 entries, 0 to 28\n",
      "Data columns (total 22 columns):\n",
      "G       29 non-null int64\n",
      "MP      29 non-null object\n",
      "FG      29 non-null int64\n",
      "FGA     29 non-null int64\n",
      "FG%     29 non-null float64\n",
      "3P      29 non-null int64\n",
      "3PA     29 non-null int64\n",
      "3P%     27 non-null float64\n",
      "FT      29 non-null int64\n",
      "FTA     29 non-null int64\n",
      "FT%     21 non-null float64\n",
      "ORB     29 non-null int64\n",
      "DRB     29 non-null int64\n",
      "TRB     29 non-null int64\n",
      "AST     29 non-null int64\n",
      "STL     29 non-null int64\n",
      "BLK     29 non-null int64\n",
      "TOV     29 non-null int64\n",
      "PF      29 non-null int64\n",
      "PTS     29 non-null int64\n",
      "GmSc    28 non-null float64\n",
      "+/-     28 non-null float64\n",
      "dtypes: float64(5), int64(16), object(1)\n",
      "memory usage: 5.1+ KB\n"
     ]
    }
   ],
   "source": [
    "ghill.info()"
   ]
  },
  {
   "cell_type": "markdown",
   "metadata": {},
   "source": [
    "### Bucks stats"
   ]
  },
  {
   "cell_type": "code",
   "execution_count": 13,
   "metadata": {},
   "outputs": [
    {
     "data": {
      "text/html": [
       "<div>\n",
       "<style scoped>\n",
       "    .dataframe tbody tr th:only-of-type {\n",
       "        vertical-align: middle;\n",
       "    }\n",
       "\n",
       "    .dataframe tbody tr th {\n",
       "        vertical-align: top;\n",
       "    }\n",
       "\n",
       "    .dataframe thead th {\n",
       "        text-align: right;\n",
       "    }\n",
       "</style>\n",
       "<table border=\"1\" class=\"dataframe\">\n",
       "  <thead>\n",
       "    <tr style=\"text-align: right;\">\n",
       "      <th></th>\n",
       "      <th>Rk</th>\n",
       "      <th>Team</th>\n",
       "      <th>G</th>\n",
       "      <th>MP</th>\n",
       "      <th>FG</th>\n",
       "      <th>FGA</th>\n",
       "      <th>FG%</th>\n",
       "      <th>3P</th>\n",
       "      <th>3PA</th>\n",
       "      <th>3P%</th>\n",
       "      <th>...</th>\n",
       "      <th>FT%</th>\n",
       "      <th>ORB</th>\n",
       "      <th>DRB</th>\n",
       "      <th>TRB</th>\n",
       "      <th>AST</th>\n",
       "      <th>STL</th>\n",
       "      <th>BLK</th>\n",
       "      <th>TOV</th>\n",
       "      <th>PF</th>\n",
       "      <th>PTS</th>\n",
       "    </tr>\n",
       "  </thead>\n",
       "  <tbody>\n",
       "    <tr>\n",
       "      <th>0</th>\n",
       "      <td>1</td>\n",
       "      <td>Milwaukee Bucks</td>\n",
       "      <td>31</td>\n",
       "      <td>7465</td>\n",
       "      <td>1362</td>\n",
       "      <td>2828</td>\n",
       "      <td>0.482</td>\n",
       "      <td>444</td>\n",
       "      <td>1229</td>\n",
       "      <td>0.361</td>\n",
       "      <td>...</td>\n",
       "      <td>0.725</td>\n",
       "      <td>314</td>\n",
       "      <td>1276</td>\n",
       "      <td>1590</td>\n",
       "      <td>805</td>\n",
       "      <td>252</td>\n",
       "      <td>192</td>\n",
       "      <td>453</td>\n",
       "      <td>616</td>\n",
       "      <td>3739</td>\n",
       "    </tr>\n",
       "  </tbody>\n",
       "</table>\n",
       "<p>1 rows × 25 columns</p>\n",
       "</div>"
      ],
      "text/plain": [
       "   Rk             Team   G    MP    FG   FGA    FG%   3P   3PA    3P%  ...  \\\n",
       "0   1  Milwaukee Bucks  31  7465  1362  2828  0.482  444  1229  0.361  ...   \n",
       "\n",
       "     FT%  ORB   DRB   TRB  AST  STL  BLK  TOV   PF   PTS  \n",
       "0  0.725  314  1276  1590  805  252  192  453  616  3739  \n",
       "\n",
       "[1 rows x 25 columns]"
      ]
     },
     "execution_count": 13,
     "metadata": {},
     "output_type": "execute_result"
    }
   ],
   "source": [
    "bucks = pd.read_csv('MIL_stats.csv')\n",
    "bucks.head()"
   ]
  },
  {
   "cell_type": "code",
   "execution_count": 15,
   "metadata": {
    "collapsed": true
   },
   "outputs": [
    {
     "name": "stdout",
     "output_type": "stream",
     "text": [
      "<class 'pandas.core.frame.DataFrame'>\n",
      "RangeIndex: 1 entries, 0 to 0\n",
      "Data columns (total 25 columns):\n",
      "Rk      1 non-null int64\n",
      "Team    1 non-null object\n",
      "G       1 non-null int64\n",
      "MP      1 non-null int64\n",
      "FG      1 non-null int64\n",
      "FGA     1 non-null int64\n",
      "FG%     1 non-null float64\n",
      "3P      1 non-null int64\n",
      "3PA     1 non-null int64\n",
      "3P%     1 non-null float64\n",
      "2P      1 non-null int64\n",
      "2PA     1 non-null int64\n",
      "2P%     1 non-null float64\n",
      "FT      1 non-null int64\n",
      "FTA     1 non-null int64\n",
      "FT%     1 non-null float64\n",
      "ORB     1 non-null int64\n",
      "DRB     1 non-null int64\n",
      "TRB     1 non-null int64\n",
      "AST     1 non-null int64\n",
      "STL     1 non-null int64\n",
      "BLK     1 non-null int64\n",
      "TOV     1 non-null int64\n",
      "PF      1 non-null int64\n",
      "PTS     1 non-null int64\n",
      "dtypes: float64(4), int64(20), object(1)\n",
      "memory usage: 328.0+ bytes\n"
     ]
    }
   ],
   "source": [
    "bucks.info()"
   ]
  },
  {
   "cell_type": "markdown",
   "metadata": {},
   "source": [
    "### Bucks Opponents stats"
   ]
  },
  {
   "cell_type": "code",
   "execution_count": 97,
   "metadata": {},
   "outputs": [
    {
     "data": {
      "text/html": [
       "<div>\n",
       "<style scoped>\n",
       "    .dataframe tbody tr th:only-of-type {\n",
       "        vertical-align: middle;\n",
       "    }\n",
       "\n",
       "    .dataframe tbody tr th {\n",
       "        vertical-align: top;\n",
       "    }\n",
       "\n",
       "    .dataframe thead th {\n",
       "        text-align: right;\n",
       "    }\n",
       "</style>\n",
       "<table border=\"1\" class=\"dataframe\">\n",
       "  <thead>\n",
       "    <tr style=\"text-align: right;\">\n",
       "      <th></th>\n",
       "      <th>G</th>\n",
       "      <th>MP</th>\n",
       "      <th>FG</th>\n",
       "      <th>FGA</th>\n",
       "      <th>FG%</th>\n",
       "      <th>3P</th>\n",
       "      <th>3PA</th>\n",
       "      <th>3P%</th>\n",
       "      <th>2P</th>\n",
       "      <th>2PA</th>\n",
       "      <th>...</th>\n",
       "      <th>FT%</th>\n",
       "      <th>ORB</th>\n",
       "      <th>DRB</th>\n",
       "      <th>TRB</th>\n",
       "      <th>AST</th>\n",
       "      <th>STL</th>\n",
       "      <th>BLK</th>\n",
       "      <th>TOV</th>\n",
       "      <th>PF</th>\n",
       "      <th>PTS</th>\n",
       "    </tr>\n",
       "  </thead>\n",
       "  <tbody>\n",
       "    <tr>\n",
       "      <th>0</th>\n",
       "      <td>31</td>\n",
       "      <td>7465</td>\n",
       "      <td>1199</td>\n",
       "      <td>2893</td>\n",
       "      <td>0.414</td>\n",
       "      <td>432</td>\n",
       "      <td>1184</td>\n",
       "      <td>0.365</td>\n",
       "      <td>767</td>\n",
       "      <td>1709</td>\n",
       "      <td>...</td>\n",
       "      <td>0.761</td>\n",
       "      <td>303</td>\n",
       "      <td>1122</td>\n",
       "      <td>1425</td>\n",
       "      <td>752</td>\n",
       "      <td>209</td>\n",
       "      <td>140</td>\n",
       "      <td>472</td>\n",
       "      <td>684</td>\n",
       "      <td>3321</td>\n",
       "    </tr>\n",
       "  </tbody>\n",
       "</table>\n",
       "<p>1 rows × 23 columns</p>\n",
       "</div>"
      ],
      "text/plain": [
       "    G    MP    FG   FGA    FG%   3P   3PA    3P%   2P   2PA  ...    FT%  ORB  \\\n",
       "0  31  7465  1199  2893  0.414  432  1184  0.365  767  1709  ...  0.761  303   \n",
       "\n",
       "    DRB   TRB  AST  STL  BLK  TOV   PF   PTS  \n",
       "0  1122  1425  752  209  140  472  684  3321  \n",
       "\n",
       "[1 rows x 23 columns]"
      ]
     },
     "execution_count": 97,
     "metadata": {},
     "output_type": "execute_result"
    }
   ],
   "source": [
    "opponents = pd.read_csv('Opponent_stats.csv')\n",
    "opponents.head()"
   ]
  },
  {
   "cell_type": "code",
   "execution_count": 98,
   "metadata": {
    "scrolled": true
   },
   "outputs": [
    {
     "name": "stdout",
     "output_type": "stream",
     "text": [
      "<class 'pandas.core.frame.DataFrame'>\n",
      "RangeIndex: 1 entries, 0 to 0\n",
      "Data columns (total 23 columns):\n",
      "G      1 non-null int64\n",
      "MP     1 non-null int64\n",
      "FG     1 non-null int64\n",
      "FGA    1 non-null int64\n",
      "FG%    1 non-null float64\n",
      "3P     1 non-null int64\n",
      "3PA    1 non-null int64\n",
      "3P%    1 non-null float64\n",
      "2P     1 non-null int64\n",
      "2PA    1 non-null int64\n",
      "2P%    1 non-null float64\n",
      "FT     1 non-null int64\n",
      "FTA    1 non-null int64\n",
      "FT%    1 non-null float64\n",
      "ORB    1 non-null int64\n",
      "DRB    1 non-null int64\n",
      "TRB    1 non-null int64\n",
      "AST    1 non-null int64\n",
      "STL    1 non-null int64\n",
      "BLK    1 non-null int64\n",
      "TOV    1 non-null int64\n",
      "PF     1 non-null int64\n",
      "PTS    1 non-null int64\n",
      "dtypes: float64(4), int64(19)\n",
      "memory usage: 312.0 bytes\n"
     ]
    }
   ],
   "source": [
    "opponents.info()"
   ]
  },
  {
   "cell_type": "markdown",
   "metadata": {},
   "source": [
    "# Offensive Rating Calculation\n",
    "\n",
    "In Dean's words, \"Individual offensive rating is the number of points produced by a player per hundred total individual possessions. In other words, 'How many points is a player likely to generate when he tries?'\"\n",
    "\n",
    "The basic building blocks of the Offensive Rating calculation are:\n",
    "* Individual Total Possessions and \n",
    "* Individual Points Produced. "
   ]
  },
  {
   "cell_type": "markdown",
   "metadata": {},
   "source": [
    "## Total Possessions"
   ]
  },
  {
   "cell_type": "markdown",
   "metadata": {},
   "source": [
    "The formula for Total Possessions is broken down into four components: Scoring Possessions, Missed FG Possessions, Missed FT Possessions, and Turnovers."
   ]
  },
  {
   "cell_type": "markdown",
   "metadata": {},
   "source": [
    "###### Team stats start with team_xxx\n",
    "###### Opponent stats start with opponent_\n",
    "###### Otherwise it's player stats"
   ]
  },
  {
   "cell_type": "markdown",
   "metadata": {},
   "source": [
    "### FG_Part"
   ]
  },
  {
   "cell_type": "code",
   "execution_count": 18,
   "metadata": {},
   "outputs": [
    {
     "data": {
      "text/plain": [
       "104"
      ]
     },
     "execution_count": 18,
     "metadata": {},
     "output_type": "execute_result"
    }
   ],
   "source": [
    "def fgm(df,col_name):\n",
    "    return sum(df[col_name])\n",
    "\n",
    "FGM = fgm(ghill,'FG')\n",
    "FGM"
   ]
  },
  {
   "cell_type": "code",
   "execution_count": 19,
   "metadata": {},
   "outputs": [
    {
     "data": {
      "text/plain": [
       "298"
      ]
     },
     "execution_count": 19,
     "metadata": {},
     "output_type": "execute_result"
    }
   ],
   "source": [
    "def pts(df,col_name):\n",
    "    return sum(df[col_name])\n",
    "\n",
    "PTS = pts(ghill,'PTS')\n",
    "PTS"
   ]
  },
  {
   "cell_type": "code",
   "execution_count": 21,
   "metadata": {
    "scrolled": true
   },
   "outputs": [
    {
     "data": {
      "text/plain": [
       "43"
      ]
     },
     "execution_count": 21,
     "metadata": {},
     "output_type": "execute_result"
    }
   ],
   "source": [
    "def ftm(df,col_name):\n",
    "    return sum(df[col_name])\n",
    "\n",
    "FTM = ftm(ghill,'FT')\n",
    "FTM"
   ]
  },
  {
   "cell_type": "code",
   "execution_count": 22,
   "metadata": {},
   "outputs": [
    {
     "data": {
      "text/plain": [
       "191"
      ]
     },
     "execution_count": 22,
     "metadata": {},
     "output_type": "execute_result"
    }
   ],
   "source": [
    "def fga(df,col_name):\n",
    "    return sum(df[col_name])\n",
    "\n",
    "FGA = fga(ghill,'FGA')\n",
    "FGA"
   ]
  },
  {
   "cell_type": "code",
   "execution_count": 56,
   "metadata": {},
   "outputs": [
    {
     "data": {
      "text/plain": [
       "620.7166666666667"
      ]
     },
     "execution_count": 56,
     "metadata": {},
     "output_type": "execute_result"
    }
   ],
   "source": [
    "def mp(df,col_name):\n",
    "    time_list = df[col_name].str.split(':').tolist()\n",
    "    seconds = sum([60*int(x[0])+int(x[1]) for x in time_list])\n",
    "    return seconds/60\n",
    "\n",
    "MP = mp(ghill,'MP')\n",
    "MP"
   ]
  },
  {
   "cell_type": "code",
   "execution_count": 65,
   "metadata": {},
   "outputs": [
    {
     "name": "stdout",
     "output_type": "stream",
     "text": [
      "   Rk             Team   G    MP    FG   FGA    FG%   3P   3PA    3P%  ...  \\\n",
      "0   1  Milwaukee Bucks  31  7465  1362  2828  0.482  444  1229  0.361  ...   \n",
      "\n",
      "     FT%  ORB   DRB   TRB  AST  STL  BLK  TOV   PF   PTS  \n",
      "0  0.725  314  1276  1590  805  252  192  453  616  3739  \n",
      "\n",
      "[1 rows x 25 columns]\n"
     ]
    }
   ],
   "source": [
    "print(bucks)"
   ]
  },
  {
   "cell_type": "markdown",
   "metadata": {},
   "source": [
    "### For team stats, may need to change, depends on how team data are shaped:\n",
    "    if it's a dataframe, what type of data that is; is it derived from per game stats? (I think so)\n",
    "    \n",
    "    Since there is no team level MP stats, team_MP will be (both teams' players total MP/10)"
   ]
  },
  {
   "cell_type": "code",
   "execution_count": 64,
   "metadata": {
    "scrolled": true
   },
   "outputs": [
    {
     "data": {
      "text/plain": [
       "7465"
      ]
     },
     "execution_count": 64,
     "metadata": {},
     "output_type": "execute_result"
    }
   ],
   "source": [
    "def team_mp():\n",
    "    pass\n",
    "    return 7465\n",
    "\n",
    "Team_MP = team_mp()\n",
    "Team_MP"
   ]
  },
  {
   "cell_type": "code",
   "execution_count": 68,
   "metadata": {
    "scrolled": true
   },
   "outputs": [
    {
     "data": {
      "text/plain": [
       "805"
      ]
     },
     "execution_count": 68,
     "metadata": {},
     "output_type": "execute_result"
    }
   ],
   "source": [
    "def team_ast():\n",
    "    pass\n",
    "    return 805\n",
    "\n",
    "Team_AST = team_ast()\n",
    "Team_AST"
   ]
  },
  {
   "cell_type": "code",
   "execution_count": 69,
   "metadata": {},
   "outputs": [
    {
     "data": {
      "text/plain": [
       "88"
      ]
     },
     "execution_count": 69,
     "metadata": {},
     "output_type": "execute_result"
    }
   ],
   "source": [
    "def ast(df,col_name):\n",
    "    return sum(df[col_name])\n",
    "\n",
    "AST = fga(ghill,'AST')\n",
    "AST"
   ]
  },
  {
   "cell_type": "code",
   "execution_count": 72,
   "metadata": {
    "scrolled": true
   },
   "outputs": [
    {
     "data": {
      "text/plain": [
       "1362"
      ]
     },
     "execution_count": 72,
     "metadata": {},
     "output_type": "execute_result"
    }
   ],
   "source": [
    "def team_fgm():\n",
    "    pass\n",
    "    return 1362\n",
    "\n",
    "Team_FGM = team_fgm()\n",
    "Team_FGM"
   ]
  },
  {
   "cell_type": "code",
   "execution_count": 74,
   "metadata": {},
   "outputs": [
    {
     "name": "stdout",
     "output_type": "stream",
     "text": [
      "0.561287941365982\n"
     ]
    }
   ],
   "source": [
    "qAST = ((MP / (Team_MP / 5)) * (1.14 * ((Team_AST - AST) / Team_FGM))) + ((((Team_AST / Team_MP) * MP * 5 - AST) / ((Team_FGM / Team_MP) * MP * 5 - FGM)) * (1 - (MP / (Team_MP / 5))))\n",
    "print(qAST)"
   ]
  },
  {
   "cell_type": "code",
   "execution_count": 76,
   "metadata": {
    "scrolled": true
   },
   "outputs": [
    {
     "data": {
      "text/plain": [
       "84.51654946986146"
      ]
     },
     "execution_count": 76,
     "metadata": {},
     "output_type": "execute_result"
    }
   ],
   "source": [
    "FG_Part = FGM * (1 - 0.5 * ((PTS - FTM) / (2 * FGA)) * qAST)\n",
    "FG_Part"
   ]
  },
  {
   "cell_type": "markdown",
   "metadata": {},
   "source": [
    "### AST_Part"
   ]
  },
  {
   "cell_type": "code",
   "execution_count": 78,
   "metadata": {
    "scrolled": true
   },
   "outputs": [
    {
     "data": {
      "text/plain": [
       "3739"
      ]
     },
     "execution_count": 78,
     "metadata": {},
     "output_type": "execute_result"
    }
   ],
   "source": [
    "def team_pts():\n",
    "    pass\n",
    "    return 3739\n",
    "\n",
    "Team_PTS = team_pts()\n",
    "Team_PTS"
   ]
  },
  {
   "cell_type": "code",
   "execution_count": 80,
   "metadata": {
    "scrolled": true
   },
   "outputs": [
    {
     "data": {
      "text/plain": [
       "571"
      ]
     },
     "execution_count": 80,
     "metadata": {},
     "output_type": "execute_result"
    }
   ],
   "source": [
    "def team_ftm():\n",
    "    pass\n",
    "    return 571\n",
    "\n",
    "Team_FTM = team_ftm()\n",
    "Team_FTM"
   ]
  },
  {
   "cell_type": "code",
   "execution_count": 82,
   "metadata": {
    "scrolled": true
   },
   "outputs": [
    {
     "data": {
      "text/plain": [
       "2828"
      ]
     },
     "execution_count": 82,
     "metadata": {},
     "output_type": "execute_result"
    }
   ],
   "source": [
    "def team_fga():\n",
    "    pass\n",
    "    return 2828\n",
    "\n",
    "Team_FGA = team_fga()\n",
    "Team_FGA"
   ]
  },
  {
   "cell_type": "code",
   "execution_count": 84,
   "metadata": {},
   "outputs": [
    {
     "data": {
      "text/plain": [
       "24.302616609783847"
      ]
     },
     "execution_count": 84,
     "metadata": {},
     "output_type": "execute_result"
    }
   ],
   "source": [
    "AST_Part = 0.5 * (((Team_PTS - Team_FTM) - (PTS - FTM)) / (2 * (Team_FGA - FGA))) * AST\n",
    "AST_Part"
   ]
  },
  {
   "cell_type": "markdown",
   "metadata": {},
   "source": [
    "### FT_Part"
   ]
  },
  {
   "cell_type": "code",
   "execution_count": 86,
   "metadata": {},
   "outputs": [
    {
     "data": {
      "text/plain": [
       "50"
      ]
     },
     "execution_count": 86,
     "metadata": {},
     "output_type": "execute_result"
    }
   ],
   "source": [
    "def fta(df,col_name):\n",
    "    return sum(df[col_name])\n",
    "\n",
    "FTA = fga(ghill,'FTA')\n",
    "FTA"
   ]
  },
  {
   "cell_type": "code",
   "execution_count": 88,
   "metadata": {},
   "outputs": [
    {
     "data": {
      "text/plain": [
       "19.608000000000004"
      ]
     },
     "execution_count": 88,
     "metadata": {},
     "output_type": "execute_result"
    }
   ],
   "source": [
    "FT_Part = (1-(1-(FTM/FTA))**2)*0.4*FTA\n",
    "FT_Part"
   ]
  },
  {
   "cell_type": "markdown",
   "metadata": {},
   "source": [
    "### Team_Scoring_Poss"
   ]
  },
  {
   "cell_type": "code",
   "execution_count": 90,
   "metadata": {
    "scrolled": true
   },
   "outputs": [
    {
     "data": {
      "text/plain": [
       "788"
      ]
     },
     "execution_count": 90,
     "metadata": {},
     "output_type": "execute_result"
    }
   ],
   "source": [
    "def team_fta():\n",
    "    pass\n",
    "    return 788\n",
    "\n",
    "Team_FTA = team_fta()\n",
    "Team_FTA"
   ]
  },
  {
   "cell_type": "code",
   "execution_count": 93,
   "metadata": {},
   "outputs": [
    {
     "data": {
      "text/plain": [
       "1653.2969543147208"
      ]
     },
     "execution_count": 93,
     "metadata": {},
     "output_type": "execute_result"
    }
   ],
   "source": [
    "Team_Scoring_Poss = Team_FGM + (1 - (1 - (Team_FTM / Team_FTA))**2) * Team_FTA * 0.4\n",
    "Team_Scoring_Poss"
   ]
  },
  {
   "cell_type": "markdown",
   "metadata": {},
   "source": [
    "### Team_ORB% (Team_ORB_perc)"
   ]
  },
  {
   "cell_type": "code",
   "execution_count": 99,
   "metadata": {
    "scrolled": true
   },
   "outputs": [
    {
     "data": {
      "text/plain": [
       "1425"
      ]
     },
     "execution_count": 99,
     "metadata": {},
     "output_type": "execute_result"
    }
   ],
   "source": [
    "def opponent_trb():\n",
    "    pass\n",
    "    return 1425\n",
    "\n",
    "Opponent_TRB = opponent_trb()\n",
    "Opponent_TRB"
   ]
  },
  {
   "cell_type": "code",
   "execution_count": 100,
   "metadata": {
    "scrolled": true
   },
   "outputs": [
    {
     "data": {
      "text/plain": [
       "303"
      ]
     },
     "execution_count": 100,
     "metadata": {},
     "output_type": "execute_result"
    }
   ],
   "source": [
    "def opponent_orb():\n",
    "    pass\n",
    "    return 303\n",
    "\n",
    "Opponent_ORB = opponent_orb()\n",
    "Opponent_ORB"
   ]
  },
  {
   "cell_type": "code",
   "execution_count": 101,
   "metadata": {},
   "outputs": [
    {
     "data": {
      "text/plain": [
       "0.21866295264623956"
      ]
     },
     "execution_count": 101,
     "metadata": {},
     "output_type": "execute_result"
    }
   ],
   "source": [
    "Team_ORB_perc = Team_ORB / (Team_ORB + (Opponent_TRB - Opponent_ORB))\n",
    "Team_ORB_perc"
   ]
  },
  {
   "cell_type": "markdown",
   "metadata": {},
   "source": [
    "### Team_Play% (Team_Play_perc)"
   ]
  },
  {
   "cell_type": "code",
   "execution_count": 104,
   "metadata": {
    "scrolled": true
   },
   "outputs": [
    {
     "data": {
      "text/plain": [
       "453"
      ]
     },
     "execution_count": 104,
     "metadata": {},
     "output_type": "execute_result"
    }
   ],
   "source": [
    "def team_tov():\n",
    "    pass\n",
    "    return 453\n",
    "\n",
    "Team_TOV = team_tov()\n",
    "Team_TOV"
   ]
  },
  {
   "cell_type": "code",
   "execution_count": 106,
   "metadata": {},
   "outputs": [
    {
     "data": {
      "text/plain": [
       "0.45973442920714114"
      ]
     },
     "execution_count": 106,
     "metadata": {},
     "output_type": "execute_result"
    }
   ],
   "source": [
    "Team_Play_perc = Team_Scoring_Poss / (Team_FGA + Team_FTA * 0.4 + Team_TOV)\n",
    "Team_Play_perc"
   ]
  },
  {
   "cell_type": "markdown",
   "metadata": {},
   "source": [
    "### Team_ORB_Weight"
   ]
  },
  {
   "cell_type": "code",
   "execution_count": 107,
   "metadata": {},
   "outputs": [
    {
     "data": {
      "text/plain": [
       "0.752513570230724"
      ]
     },
     "execution_count": 107,
     "metadata": {},
     "output_type": "execute_result"
    }
   ],
   "source": [
    "Team_ORB_Weight = ((1 - Team_ORB_perc) * Team_Play_perc) / ((1 - Team_ORB_perc) * Team_Play_perc + Team_ORB_perc * (1 - Team_Play_perc))\n",
    "Team_ORB_Weight"
   ]
  },
  {
   "cell_type": "markdown",
   "metadata": {},
   "source": [
    "### ORB_Part"
   ]
  },
  {
   "cell_type": "code",
   "execution_count": 12,
   "metadata": {},
   "outputs": [
    {
     "data": {
      "text/plain": [
       "30"
      ]
     },
     "execution_count": 12,
     "metadata": {},
     "output_type": "execute_result"
    }
   ],
   "source": [
    "def orb(df:pd.DataFrame,col_name:str):\n",
    "    '''\n",
    "    This function calculates total offensive rebounds by taking a sum of the column 'col_name' in dataframe 'df'\n",
    "    \n",
    "    Parameters: \n",
    "        df (pd.DataFrame): The dataframe contains the data. \n",
    "        col_name (str): name of the ORB column\n",
    "          \n",
    "    Returns: \n",
    "        an int \n",
    "    '''\n",
    "    return sum(df[col_name])\n",
    "\n"
   ]
  },
  {
   "cell_type": "code",
   "execution_count": 16,
   "metadata": {},
   "outputs": [],
   "source": [
    "ORB = orb(ghill,'ORB')\n",
    "Team_ORB = orb(bucks,'ORB')"
   ]
  },
  {
   "cell_type": "code",
   "execution_count": 109,
   "metadata": {},
   "outputs": [
    {
     "data": {
      "text/plain": [
       "10.378691900419494"
      ]
     },
     "execution_count": 109,
     "metadata": {},
     "output_type": "execute_result"
    }
   ],
   "source": [
    "ORB_Part = ORB * Team_ORB_Weight * Team_Play_perc\n",
    "ORB_Part"
   ]
  },
  {
   "cell_type": "markdown",
   "metadata": {},
   "source": [
    "## Missed FG possession"
   ]
  },
  {
   "cell_type": "code",
   "execution_count": 111,
   "metadata": {},
   "outputs": [
    {
     "data": {
      "text/plain": [
       "66.64466573816156"
      ]
     },
     "execution_count": 111,
     "metadata": {},
     "output_type": "execute_result"
    }
   ],
   "source": [
    "FGxPoss = (FGA - FGM) * (1 - 1.07 * Team_ORB_perc)\n",
    "FGxPoss"
   ]
  },
  {
   "cell_type": "markdown",
   "metadata": {},
   "source": [
    "### Missed FT possession"
   ]
  },
  {
   "cell_type": "code",
   "execution_count": 113,
   "metadata": {},
   "outputs": [
    {
     "data": {
      "text/plain": [
       "0.39200000000000007"
      ]
     },
     "execution_count": 113,
     "metadata": {},
     "output_type": "execute_result"
    }
   ],
   "source": [
    "FTxPoss = ((1 - (FTM / FTA))**2) * 0.4 * FTA\n",
    "FTxPoss"
   ]
  },
  {
   "cell_type": "markdown",
   "metadata": {},
   "source": [
    "### Scoring Possessions"
   ]
  },
  {
   "cell_type": "code",
   "execution_count": 115,
   "metadata": {},
   "outputs": [
    {
     "data": {
      "text/plain": [
       "130.36751746173454"
      ]
     },
     "execution_count": 115,
     "metadata": {},
     "output_type": "execute_result"
    }
   ],
   "source": [
    "ScPoss = (FG_Part + AST_Part + FT_Part) * (1 - (Team_ORB / Team_Scoring_Poss) \n",
    "                                           * Team_ORB_Weight * Team_Play_perc) + ORB_Part\n",
    "ScPoss"
   ]
  },
  {
   "cell_type": "markdown",
   "metadata": {},
   "source": [
    "### Total Possessions"
   ]
  },
  {
   "cell_type": "code",
   "execution_count": 117,
   "metadata": {},
   "outputs": [
    {
     "data": {
      "text/plain": [
       "24"
      ]
     },
     "execution_count": 117,
     "metadata": {},
     "output_type": "execute_result"
    }
   ],
   "source": [
    "def tov(df,col_name):\n",
    "    return sum(df[col_name])\n",
    "\n",
    "TOV = tov(ghill,'TOV')\n",
    "TOV"
   ]
  },
  {
   "cell_type": "code",
   "execution_count": 118,
   "metadata": {},
   "outputs": [
    {
     "data": {
      "text/plain": [
       "221.4041831998961"
      ]
     },
     "execution_count": 118,
     "metadata": {},
     "output_type": "execute_result"
    }
   ],
   "source": [
    "TotPoss = ScPoss + FGxPoss + FTxPoss + TOV\n",
    "TotPoss"
   ]
  },
  {
   "cell_type": "markdown",
   "metadata": {},
   "source": [
    "---"
   ]
  },
  {
   "cell_type": "markdown",
   "metadata": {},
   "source": [
    "---"
   ]
  },
  {
   "cell_type": "markdown",
   "metadata": {},
   "source": [
    "---"
   ]
  },
  {
   "cell_type": "markdown",
   "metadata": {},
   "source": [
    "The basic building blocks of the Offensive Rating calculation are:\n",
    "* Individual Total Possessions and \n",
    "* Individual Points Produced. "
   ]
  },
  {
   "cell_type": "markdown",
   "metadata": {},
   "source": [
    "## Points Produced"
   ]
  },
  {
   "cell_type": "markdown",
   "metadata": {},
   "source": [
    "### Point Produced FG Part"
   ]
  },
  {
   "cell_type": "code",
   "execution_count": 121,
   "metadata": {
    "scrolled": true
   },
   "outputs": [
    {
     "data": {
      "text/plain": [
       "47"
      ]
     },
     "execution_count": 121,
     "metadata": {},
     "output_type": "execute_result"
    }
   ],
   "source": [
    "def threePM(df,col_name):\n",
    "    return sum(df[col_name])\n",
    "\n",
    "ThreePM = threePM(ghill,'3P')\n",
    "ThreePM"
   ]
  },
  {
   "cell_type": "code",
   "execution_count": 123,
   "metadata": {
    "scrolled": true
   },
   "outputs": [
    {
     "data": {
      "text/plain": [
       "207.22807802706416"
      ]
     },
     "execution_count": 123,
     "metadata": {},
     "output_type": "execute_result"
    }
   ],
   "source": [
    "PProd_FG_Part = 2 * (FGM + 0.5 * ThreePM) * (1 - 0.5 * ((PTS - FTM) / (2 * FGA)) * qAST)\n",
    "PProd_FG_Part"
   ]
  },
  {
   "cell_type": "markdown",
   "metadata": {},
   "source": [
    "### Point Produced AST part"
   ]
  },
  {
   "cell_type": "code",
   "execution_count": 128,
   "metadata": {},
   "outputs": [
    {
     "data": {
      "text/plain": [
       "444"
      ]
     },
     "execution_count": 128,
     "metadata": {},
     "output_type": "execute_result"
    }
   ],
   "source": [
    "def team_3PM():\n",
    "    pass\n",
    "    return 444\n",
    "\n",
    "Team_3PM = team_3PM()\n",
    "Team_3PM"
   ]
  },
  {
   "cell_type": "code",
   "execution_count": 130,
   "metadata": {},
   "outputs": [
    {
     "data": {
      "text/plain": [
       "56.274659923927146"
      ]
     },
     "execution_count": 130,
     "metadata": {},
     "output_type": "execute_result"
    }
   ],
   "source": [
    "PProd_AST_Part=2*((Team_FGM - FGM + 0.5 * (Team_3PM - ThreePM)) / (Team_FGM - FGM))*0.5*(\n",
    "    ((Team_PTS - Team_FTM) - (PTS - FTM)) / (2 * (Team_FGA - FGA))) * AST\n",
    "PProd_AST_Part"
   ]
  },
  {
   "cell_type": "markdown",
   "metadata": {},
   "source": [
    "### Point Produced ORB part"
   ]
  },
  {
   "cell_type": "code",
   "execution_count": 133,
   "metadata": {},
   "outputs": [
    {
     "data": {
      "text/plain": [
       "23.471844494961434"
      ]
     },
     "execution_count": 133,
     "metadata": {},
     "output_type": "execute_result"
    }
   ],
   "source": [
    "PProd_ORB_Part = ORB * Team_ORB_Weight * Team_Play_perc * (Team_PTS / (Team_FGM + (1 - (1 - (Team_FTM / Team_FTA))**2) * 0.4 * Team_FTA))\n",
    "PProd_ORB_Part"
   ]
  },
  {
   "cell_type": "markdown",
   "metadata": {},
   "source": [
    "### Point Produced"
   ]
  },
  {
   "cell_type": "code",
   "execution_count": 136,
   "metadata": {},
   "outputs": [
    {
     "data": {
      "text/plain": [
       "309.83573992857566"
      ]
     },
     "execution_count": 136,
     "metadata": {},
     "output_type": "execute_result"
    }
   ],
   "source": [
    "PProd = (PProd_FG_Part + PProd_AST_Part + FTM) * (1 - (Team_ORB / Team_Scoring_Poss) * Team_ORB_Weight * Team_Play_perc) + PProd_ORB_Part\n",
    "PProd"
   ]
  },
  {
   "cell_type": "markdown",
   "metadata": {},
   "source": [
    "### Offensive Rating"
   ]
  },
  {
   "cell_type": "code",
   "execution_count": 138,
   "metadata": {},
   "outputs": [
    {
     "data": {
      "text/plain": [
       "139.9412312137023"
      ]
     },
     "execution_count": 138,
     "metadata": {},
     "output_type": "execute_result"
    }
   ],
   "source": [
    "ORtg = 100 * (PProd / TotPoss)\n",
    "ORtg"
   ]
  },
  {
   "cell_type": "code",
   "execution_count": null,
   "metadata": {},
   "outputs": [],
   "source": []
  },
  {
   "cell_type": "code",
   "execution_count": null,
   "metadata": {},
   "outputs": [],
   "source": []
  },
  {
   "cell_type": "code",
   "execution_count": null,
   "metadata": {},
   "outputs": [],
   "source": []
  },
  {
   "cell_type": "code",
   "execution_count": null,
   "metadata": {},
   "outputs": [],
   "source": []
  }
 ],
 "metadata": {
  "kernelspec": {
   "display_name": "Python 3",
   "language": "python",
   "name": "python3"
  },
  "language_info": {
   "codemirror_mode": {
    "name": "ipython",
    "version": 3
   },
   "file_extension": ".py",
   "mimetype": "text/x-python",
   "name": "python",
   "nbconvert_exporter": "python",
   "pygments_lexer": "ipython3",
   "version": "3.7.6"
  },
  "pycharm": {
   "stem_cell": {
    "cell_type": "raw",
    "source": [],
    "metadata": {
     "collapsed": false
    }
   }
  }
 },
 "nbformat": 4,
 "nbformat_minor": 2
}