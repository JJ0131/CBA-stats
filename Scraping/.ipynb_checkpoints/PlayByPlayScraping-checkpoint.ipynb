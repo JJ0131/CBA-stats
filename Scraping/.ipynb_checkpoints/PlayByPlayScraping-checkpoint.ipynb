{
 "cells": [
  {
   "cell_type": "code",
   "execution_count": 2,
   "metadata": {
    "pycharm": {
     "is_executing": false
    }
   },
   "outputs": [],
   "source": [
    "import requests\n",
    "from bs4 import BeautifulSoup\n",
    "# import lxml.html as lh\n",
    "from bs4 import BeautifulSoup\n",
    "import pandas as pd\n",
    "import datetime\n",
    "import numpy as np\n",
    "import re\n",
    "import time\n",
    "import json\n",
    "from tqdm import tqdm\n",
    "from sqlalchemy import create_engine\n",
    "from Scraper import get_schedule"
   ]
  },
  {
   "cell_type": "markdown",
   "metadata": {},
   "source": [
    "# Schedule"
   ]
  },
  {
   "cell_type": "code",
   "execution_count": 5,
   "metadata": {
    "scrolled": true
   },
   "outputs": [],
   "source": [
    "def scrape_schedule_by_date(game_date,leagueID=401):\n",
    "    \"\"\"\n",
    "    爬取某日期的比赛表，包括link\n",
    "    返回一个list，每个item是一个dictionary，每个dictionary是一场比赛。如：\n",
    "    {'比赛日': '2020-07-22 11:00',\n",
    "      '阶段': '常规赛',\n",
    "      '时间': '11:00',\n",
    "      '状态': '已完赛',\n",
    "      '主队': '四川五粮金樽|//sportsdata.misports.cn/beitai/cba/team?leagueid=401&teamid=29127',\n",
    "      '比分': '101-84|//sportsdata.misports.cn/beitai/cba/live?leagueid=401&scheduleid=100040250',\n",
    "      '客队': '八一南昌|//sportsdata.misports.cn/beitai/cba/team?leagueid=401&teamid=29116',\n",
    "      '直播/回放': '技术统计|//sportsdata.misports.cn/beitai/cba/live?leagueid=401&scheduleid=100040250'}\n",
    "    \n",
    "    \"\"\"\n",
    "    headers={\"User-Agent\": \"Mozilla/5.0 (Windows NT 6.1; Win64; x64) AppleWebKit/537.36 (KHTML, like Gecko) Chrome/72.0.3626.119 Safari/537.36\"}\n",
    "    data = {\"currentdate\": game_date,\"leagueID\": leagueID}\n",
    "\n",
    "    r = requests.post(r\"http://sportsdata.misports.cn/beitai/cba/schedule/getschedulelistForDate\",\n",
    "                  data=data, headers=headers)\n",
    "\n",
    "    r.encoding = 'utf-8'\n",
    "\n",
    "    soup = BeautifulSoup(r.content, \"html.parser\")\n",
    "\n",
    "    assert len(soup.find_all('div',{'class':'title'}))==1,\"more than 1 title div\"\n",
    "    current_day_games=[]\n",
    "    for section in soup.find_all('div',attrs={\"class\":\"section2\"}):\n",
    "        titles = [span.text.strip() for span in section.find('div', attrs={\"class\":'title'}).find_all('span')]\n",
    "        games = []\n",
    "        # 每一行是一场比赛\n",
    "        for row in section.find('table').find_all('tr'):\n",
    "            games.append([td.text.strip()+'|'+td.find('a')['href'] if td.find('a') else td.text.strip() for td in row.find_all('td')])\n",
    "        for game in games:\n",
    "            if '未开始' in game:\n",
    "                # exit function\n",
    "                pass\n",
    "        for game in games:\n",
    "            game_dict = {}\n",
    "            game_dict['比赛日'] = game_date+' '+ game[1]\n",
    "            \n",
    "            for title,data_item in zip(titles,game):\n",
    "                game_dict[title]= data_item\n",
    "            current_day_games.append(game_dict)\n",
    "    return current_day_games"
   ]
  },
  {
   "cell_type": "markdown",
   "metadata": {},
   "source": [
    "# Game Plays"
   ]
  },
  {
   "cell_type": "code",
   "execution_count": 6,
   "metadata": {},
   "outputs": [],
   "source": [
    "def get_plays(scheduleid,leagueid,\n",
    "                    headers={\n",
    "                        \"User-Agent\": \"Mozilla/5.0 (Windows NT 6.1; Win64; x64) AppleWebKit/537.36 (KHTML, like Gecko) Chrome/72.0.3626.119 Safari/537.36\"\n",
    "                    },\n",
    "                   url = r\"http://sportsdata.misports.cn/beitai/cba/live/liveeventdetails\",\n",
    "                   encoding='UTF-8'):\n",
    "    data = {\"scheduleid\": scheduleid,\"leagueid\": leagueid}\n",
    "    r = requests.post(url, data=data, headers=headers,)\n",
    "    r.encoding=encoding\n",
    "    soup = BeautifulSoup(r.content, \"html.parser\")\n",
    "    all_events = []\n",
    "    for event in soup.find_all(\"li\"):\n",
    "        event_dic = event.attrs\n",
    "        event_dic['scheduleid'] = scheduleid\n",
    "        li = list(event.find_all('span'))\n",
    "        if li:\n",
    "            event_dic['event']=li[2].text\n",
    "            event_dic['score']=li[3].text\n",
    "            all_events.append(event_dic)\n",
    "    \n",
    "    return all_events"
   ]
  },
  {
   "cell_type": "markdown",
   "metadata": {},
   "source": [
    "# Saving data to database"
   ]
  },
  {
   "cell_type": "code",
   "execution_count": 7,
   "metadata": {},
   "outputs": [],
   "source": [
    "def upload_plays(plays):\n",
    "    # 写入数据库Staging_Schedule\n",
    "    user_name = 'master'\n",
    "    passcode = 'Pw#cbashuju0131'\n",
    "    endpoint = 'cbashuju.ctkaehd5rxxe.us-east-1.rds.amazonaws.com'\n",
    "    database = 'CBA_Data'\n",
    "#     database = 'CBA_Staging'\n",
    "    engine = create_engine(f'mysql+pymysql://{user_name}:{passcode}@{endpoint}/{database}')\n",
    "    connection= engine.connect()\n",
    "\n",
    "    plays.to_sql(name='Playbyplay',con=connection,index=False,if_exists='replace')\n",
    "    connection.close()"
   ]
  },
  {
   "cell_type": "code",
   "execution_count": 8,
   "metadata": {},
   "outputs": [],
   "source": [
    "def append_plays(plays):\n",
    "    # 写入数据库Staging_Schedule\n",
    "    user_name = 'master'\n",
    "    passcode = 'Pw#cbashuju0131'\n",
    "    endpoint = 'cbashuju.ctkaehd5rxxe.us-east-1.rds.amazonaws.com'\n",
    "    database = 'CBA_Data'\n",
    "#     database = 'CBA_Staging'\n",
    "    engine = create_engine(f'mysql+pymysql://{user_name}:{passcode}@{endpoint}/{database}')\n",
    "    connection= engine.connect()\n",
    "\n",
    "    plays.to_sql(name='Playbyplay',con=connection,index=False,if_exists='append')\n",
    "    connection.close()"
   ]
  },
  {
   "cell_type": "markdown",
   "metadata": {},
   "source": [
    "# Scraping"
   ]
  },
  {
   "cell_type": "code",
   "execution_count": 9,
   "metadata": {
    "scrolled": false
   },
   "outputs": [
    {
     "name": "stderr",
     "output_type": "stream",
     "text": [
      "100%|██████████| 1/1 [00:04<00:00,  4.30s/it]\n"
     ]
    }
   ],
   "source": [
    "dates_with_games = ['2020-08-13']\n",
    "full_schedule = []\n",
    "for date in tqdm(dates_with_games):\n",
    "    full_schedule.extend(scrape_schedule_by_date(str(date),401))\n",
    "    time.sleep(np.random.rand()*3)"
   ]
  },
  {
   "cell_type": "code",
   "execution_count": 10,
   "metadata": {
    "scrolled": false
   },
   "outputs": [
    {
     "data": {
      "text/plain": [
       "1"
      ]
     },
     "execution_count": 10,
     "metadata": {},
     "output_type": "execute_result"
    }
   ],
   "source": [
    "len(full_schedule)"
   ]
  },
  {
   "cell_type": "code",
   "execution_count": 11,
   "metadata": {
    "scrolled": true
   },
   "outputs": [],
   "source": [
    "full_schedule = pd.DataFrame(full_schedule)\n",
    "\n",
    "full_schedule[['主队', '主队ID']] = full_schedule['主队'].str.split('|', expand=True)\n",
    "full_schedule[['客队', '客队ID']] = full_schedule['客队'].str.split('|', expand=True)\n",
    "full_schedule[['比分', 'scheduleid']] = full_schedule['比分'].str.split('|', expand=True)\n",
    "\n",
    "full_schedule['主队ID']=full_schedule['主队ID'].apply(lambda x: re.findall('teamid=(.*)',x)[0])\n",
    "full_schedule['客队ID']=full_schedule['客队ID'].apply(lambda x: re.findall('teamid=(.*)',x)[0])\n",
    "full_schedule['leagueid']=full_schedule['直播/回放'].apply(lambda x: re.findall('leagueid=(.*)&',x)[0])\n",
    "full_schedule['scheduleid']=full_schedule['scheduleid'].apply(lambda x: re.findall('scheduleid=(.*)',x)[0])\n",
    "\n",
    "full_schedule.sort_values(by='比赛日',inplace=True)"
   ]
  },
  {
   "cell_type": "code",
   "execution_count": 12,
   "metadata": {
    "scrolled": true
   },
   "outputs": [
    {
     "data": {
      "text/html": [
       "<div>\n",
       "<style scoped>\n",
       "    .dataframe tbody tr th:only-of-type {\n",
       "        vertical-align: middle;\n",
       "    }\n",
       "\n",
       "    .dataframe tbody tr th {\n",
       "        vertical-align: top;\n",
       "    }\n",
       "\n",
       "    .dataframe thead th {\n",
       "        text-align: right;\n",
       "    }\n",
       "</style>\n",
       "<table border=\"1\" class=\"dataframe\">\n",
       "  <thead>\n",
       "    <tr style=\"text-align: right;\">\n",
       "      <th></th>\n",
       "      <th>比赛日</th>\n",
       "      <th>阶段</th>\n",
       "      <th>时间</th>\n",
       "      <th>状态</th>\n",
       "      <th>主队</th>\n",
       "      <th>比分</th>\n",
       "      <th>客队</th>\n",
       "      <th>直播/回放</th>\n",
       "      <th>主队ID</th>\n",
       "      <th>客队ID</th>\n",
       "      <th>scheduleid</th>\n",
       "      <th>leagueid</th>\n",
       "    </tr>\n",
       "  </thead>\n",
       "  <tbody>\n",
       "    <tr>\n",
       "      <th>0</th>\n",
       "      <td>2020-08-13 20:00</td>\n",
       "      <td>季后赛</td>\n",
       "      <td>20:00</td>\n",
       "      <td>已完赛</td>\n",
       "      <td>辽宁本钢</td>\n",
       "      <td>115-113</td>\n",
       "      <td>广东东莞银行</td>\n",
       "      <td>技术统计|//sportsdata.misports.cn/beitai/cba/live?...</td>\n",
       "      <td>29129</td>\n",
       "      <td>29124</td>\n",
       "      <td>100042218</td>\n",
       "      <td>401</td>\n",
       "    </tr>\n",
       "  </tbody>\n",
       "</table>\n",
       "</div>"
      ],
      "text/plain": [
       "                比赛日   阶段     时间   状态    主队       比分      客队  \\\n",
       "0  2020-08-13 20:00  季后赛  20:00  已完赛  辽宁本钢  115-113  广东东莞银行   \n",
       "\n",
       "                                               直播/回放   主队ID   客队ID scheduleid  \\\n",
       "0  技术统计|//sportsdata.misports.cn/beitai/cba/live?...  29129  29124  100042218   \n",
       "\n",
       "  leagueid  \n",
       "0      401  "
      ]
     },
     "execution_count": 12,
     "metadata": {},
     "output_type": "execute_result"
    }
   ],
   "source": [
    "full_schedule"
   ]
  },
  {
   "cell_type": "code",
   "execution_count": 14,
   "metadata": {
    "scrolled": true
   },
   "outputs": [
    {
     "name": "stderr",
     "output_type": "stream",
     "text": [
      "100%|██████████| 1/1 [00:04<00:00,  4.13s/it]"
     ]
    },
    {
     "name": "stdout",
     "output_type": "stream",
     "text": [
      "Complete!\n"
     ]
    },
    {
     "name": "stderr",
     "output_type": "stream",
     "text": [
      "\n"
     ]
    }
   ],
   "source": [
    "all_plays=[]\n",
    "for index, game in tqdm(full_schedule.iterrows(), total=full_schedule.shape[0]):\n",
    "    game_date = game['比赛日']\n",
    "    home_tm = game['主队']\n",
    "    away_tm = game['客队']\n",
    "    if game['状态'] =='未开始':\n",
    "        print(f'{game_date}, {home_tm} vs. {away_tm} 未开始，跳过')\n",
    "        continue\n",
    "    leagueid = game['leagueid']\n",
    "    scheduleid = game['scheduleid']\n",
    "    # game['plays'] = get_events(scheduleid,leagueid)\n",
    "    all_plays.extend(get_plays(scheduleid,leagueid))\n",
    "    time.sleep(np.random.rand()*3)\n",
    "print('Complete!')"
   ]
  },
  {
   "cell_type": "code",
   "execution_count": 15,
   "metadata": {
    "scrolled": true
   },
   "outputs": [
    {
     "data": {
      "text/html": [
       "<div>\n",
       "<style scoped>\n",
       "    .dataframe tbody tr th:only-of-type {\n",
       "        vertical-align: middle;\n",
       "    }\n",
       "\n",
       "    .dataframe tbody tr th {\n",
       "        vertical-align: top;\n",
       "    }\n",
       "\n",
       "    .dataframe thead th {\n",
       "        text-align: right;\n",
       "    }\n",
       "</style>\n",
       "<table border=\"1\" class=\"dataframe\">\n",
       "  <thead>\n",
       "    <tr style=\"text-align: right;\">\n",
       "      <th></th>\n",
       "      <th>eventid</th>\n",
       "      <th>teamid</th>\n",
       "      <th>shotcoordx</th>\n",
       "      <th>shotcoordy</th>\n",
       "      <th>eventtypeid</th>\n",
       "      <th>quarternum</th>\n",
       "      <th>minutes</th>\n",
       "      <th>seconds</th>\n",
       "      <th>quarter</th>\n",
       "      <th>style</th>\n",
       "      <th>scheduleid</th>\n",
       "      <th>event</th>\n",
       "      <th>score</th>\n",
       "      <th>shotevent</th>\n",
       "    </tr>\n",
       "  </thead>\n",
       "  <tbody>\n",
       "    <tr>\n",
       "      <th>0</th>\n",
       "      <td></td>\n",
       "      <td>0</td>\n",
       "      <td>0</td>\n",
       "      <td>0</td>\n",
       "      <td>19</td>\n",
       "      <td>4</td>\n",
       "      <td>0</td>\n",
       "      <td>0</td>\n",
       "      <td>4</td>\n",
       "      <td>width: 500px;</td>\n",
       "      <td>100042218</td>\n",
       "      <td>比赛结束</td>\n",
       "      <td>115:113</td>\n",
       "      <td>NaN</td>\n",
       "    </tr>\n",
       "    <tr>\n",
       "      <th>1</th>\n",
       "      <td></td>\n",
       "      <td>0</td>\n",
       "      <td>0</td>\n",
       "      <td>0</td>\n",
       "      <td>15</td>\n",
       "      <td>4</td>\n",
       "      <td>0</td>\n",
       "      <td>0</td>\n",
       "      <td>4</td>\n",
       "      <td>width: 500px;</td>\n",
       "      <td>100042218</td>\n",
       "      <td>第4节结束</td>\n",
       "      <td>115:113</td>\n",
       "      <td>NaN</td>\n",
       "    </tr>\n",
       "    <tr>\n",
       "      <th>2</th>\n",
       "      <td></td>\n",
       "      <td>29124</td>\n",
       "      <td>9.4792</td>\n",
       "      <td>19.2181</td>\n",
       "      <td>4</td>\n",
       "      <td>4</td>\n",
       "      <td>0</td>\n",
       "      <td>1</td>\n",
       "      <td>4</td>\n",
       "      <td>width: 500px;</td>\n",
       "      <td>100042218</td>\n",
       "      <td>威姆斯三分跳投不中，赵继伟获得防守篮板</td>\n",
       "      <td>115:113</td>\n",
       "      <td></td>\n",
       "    </tr>\n",
       "    <tr>\n",
       "      <th>3</th>\n",
       "      <td></td>\n",
       "      <td>29124</td>\n",
       "      <td>0</td>\n",
       "      <td>0</td>\n",
       "      <td>11</td>\n",
       "      <td>4</td>\n",
       "      <td>0</td>\n",
       "      <td>10</td>\n",
       "      <td>4</td>\n",
       "      <td>width: 500px;</td>\n",
       "      <td>100042218</td>\n",
       "      <td>广东东莞银行队短暂停</td>\n",
       "      <td>115:113</td>\n",
       "      <td>NaN</td>\n",
       "    </tr>\n",
       "    <tr>\n",
       "      <th>4</th>\n",
       "      <td></td>\n",
       "      <td>29129</td>\n",
       "      <td>13.2708</td>\n",
       "      <td>7.6351</td>\n",
       "      <td>4</td>\n",
       "      <td>4</td>\n",
       "      <td>0</td>\n",
       "      <td>16</td>\n",
       "      <td>4</td>\n",
       "      <td>width: 500px;</td>\n",
       "      <td>100042218</td>\n",
       "      <td>赵继伟跳投不中，赵睿获得防守篮板</td>\n",
       "      <td>115:113</td>\n",
       "      <td></td>\n",
       "    </tr>\n",
       "    <tr>\n",
       "      <th>...</th>\n",
       "      <td>...</td>\n",
       "      <td>...</td>\n",
       "      <td>...</td>\n",
       "      <td>...</td>\n",
       "      <td>...</td>\n",
       "      <td>...</td>\n",
       "      <td>...</td>\n",
       "      <td>...</td>\n",
       "      <td>...</td>\n",
       "      <td>...</td>\n",
       "      <td>...</td>\n",
       "      <td>...</td>\n",
       "      <td>...</td>\n",
       "      <td>...</td>\n",
       "    </tr>\n",
       "    <tr>\n",
       "      <th>335</th>\n",
       "      <td></td>\n",
       "      <td>29129</td>\n",
       "      <td>-2.3333</td>\n",
       "      <td>3.0019</td>\n",
       "      <td>4</td>\n",
       "      <td>1</td>\n",
       "      <td>11</td>\n",
       "      <td>22</td>\n",
       "      <td>1</td>\n",
       "      <td>width: 500px;</td>\n",
       "      <td>100042218</td>\n",
       "      <td>贺天举跳投不中，易建联获得防守篮板</td>\n",
       "      <td>2:0</td>\n",
       "      <td></td>\n",
       "    </tr>\n",
       "    <tr>\n",
       "      <th>336</th>\n",
       "      <td></td>\n",
       "      <td>29124</td>\n",
       "      <td>-7.4375</td>\n",
       "      <td>10.4151</td>\n",
       "      <td>4</td>\n",
       "      <td>1</td>\n",
       "      <td>11</td>\n",
       "      <td>40</td>\n",
       "      <td>1</td>\n",
       "      <td>width: 500px;</td>\n",
       "      <td>100042218</td>\n",
       "      <td>威姆斯跳投不中，郭艾伦获得防守篮板</td>\n",
       "      <td>2:0</td>\n",
       "      <td></td>\n",
       "    </tr>\n",
       "    <tr>\n",
       "      <th>337</th>\n",
       "      <td></td>\n",
       "      <td>29129</td>\n",
       "      <td>4.2292</td>\n",
       "      <td>-1.0135</td>\n",
       "      <td>3</td>\n",
       "      <td>1</td>\n",
       "      <td>11</td>\n",
       "      <td>56</td>\n",
       "      <td>1</td>\n",
       "      <td>width: 500px;</td>\n",
       "      <td>100042218</td>\n",
       "      <td>韩德君接到郭艾伦的助攻，跳投，命中得分</td>\n",
       "      <td>2:0</td>\n",
       "      <td></td>\n",
       "    </tr>\n",
       "    <tr>\n",
       "      <th>338</th>\n",
       "      <td></td>\n",
       "      <td>29124</td>\n",
       "      <td>0</td>\n",
       "      <td>0</td>\n",
       "      <td>12</td>\n",
       "      <td>1</td>\n",
       "      <td>12</td>\n",
       "      <td>0</td>\n",
       "      <td>1</td>\n",
       "      <td>width: 500px;</td>\n",
       "      <td>100042218</td>\n",
       "      <td>易建联和韩德君跳球，辽宁本钢队得到球权</td>\n",
       "      <td>0:0</td>\n",
       "      <td>NaN</td>\n",
       "    </tr>\n",
       "    <tr>\n",
       "      <th>339</th>\n",
       "      <td></td>\n",
       "      <td>0</td>\n",
       "      <td>0</td>\n",
       "      <td>0</td>\n",
       "      <td>14</td>\n",
       "      <td>1</td>\n",
       "      <td>12</td>\n",
       "      <td>0</td>\n",
       "      <td>1</td>\n",
       "      <td>width: 500px;</td>\n",
       "      <td>100042218</td>\n",
       "      <td>第1节开始</td>\n",
       "      <td>0:0</td>\n",
       "      <td>NaN</td>\n",
       "    </tr>\n",
       "  </tbody>\n",
       "</table>\n",
       "<p>340 rows × 14 columns</p>\n",
       "</div>"
      ],
      "text/plain": [
       "    eventid teamid shotcoordx shotcoordy eventtypeid quarternum minutes  \\\n",
       "0                0          0          0          19          4       0   \n",
       "1                0          0          0          15          4       0   \n",
       "2            29124     9.4792    19.2181           4          4       0   \n",
       "3            29124          0          0          11          4       0   \n",
       "4            29129    13.2708     7.6351           4          4       0   \n",
       "..      ...    ...        ...        ...         ...        ...     ...   \n",
       "335          29129    -2.3333     3.0019           4          1      11   \n",
       "336          29124    -7.4375    10.4151           4          1      11   \n",
       "337          29129     4.2292    -1.0135           3          1      11   \n",
       "338          29124          0          0          12          1      12   \n",
       "339              0          0          0          14          1      12   \n",
       "\n",
       "    seconds quarter          style scheduleid                event    score  \\\n",
       "0         0       4  width: 500px;  100042218                 比赛结束  115:113   \n",
       "1         0       4  width: 500px;  100042218                第4节结束  115:113   \n",
       "2         1       4  width: 500px;  100042218  威姆斯三分跳投不中，赵继伟获得防守篮板  115:113   \n",
       "3        10       4  width: 500px;  100042218           广东东莞银行队短暂停  115:113   \n",
       "4        16       4  width: 500px;  100042218     赵继伟跳投不中，赵睿获得防守篮板  115:113   \n",
       "..      ...     ...            ...        ...                  ...      ...   \n",
       "335      22       1  width: 500px;  100042218    贺天举跳投不中，易建联获得防守篮板      2:0   \n",
       "336      40       1  width: 500px;  100042218    威姆斯跳投不中，郭艾伦获得防守篮板      2:0   \n",
       "337      56       1  width: 500px;  100042218  韩德君接到郭艾伦的助攻，跳投，命中得分      2:0   \n",
       "338       0       1  width: 500px;  100042218  易建联和韩德君跳球，辽宁本钢队得到球权      0:0   \n",
       "339       0       1  width: 500px;  100042218                第1节开始      0:0   \n",
       "\n",
       "    shotevent  \n",
       "0         NaN  \n",
       "1         NaN  \n",
       "2              \n",
       "3         NaN  \n",
       "4              \n",
       "..        ...  \n",
       "335            \n",
       "336            \n",
       "337            \n",
       "338       NaN  \n",
       "339       NaN  \n",
       "\n",
       "[340 rows x 14 columns]"
      ]
     },
     "execution_count": 15,
     "metadata": {},
     "output_type": "execute_result"
    }
   ],
   "source": [
    "df_all_events =pd.DataFrame(all_plays)\n",
    "df_all_events.drop(columns=['class'],inplace=True)\n",
    "df_all_events"
   ]
  },
  {
   "cell_type": "code",
   "execution_count": 16,
   "metadata": {},
   "outputs": [],
   "source": [
    "append_plays(df_all_events)"
   ]
  },
  {
   "cell_type": "markdown",
   "metadata": {},
   "source": [
    "### Ignore below"
   ]
  },
  {
   "cell_type": "markdown",
   "metadata": {},
   "source": [
    "### Ignore below"
   ]
  },
  {
   "cell_type": "markdown",
   "metadata": {},
   "source": [
    "### Ignore below"
   ]
  },
  {
   "cell_type": "markdown",
   "metadata": {},
   "source": [
    "### Ignore below"
   ]
  },
  {
   "cell_type": "markdown",
   "metadata": {},
   "source": [
    "### Ignore below"
   ]
  },
  {
   "cell_type": "markdown",
   "metadata": {},
   "source": [
    "### Ignore below"
   ]
  },
  {
   "cell_type": "markdown",
   "metadata": {},
   "source": [
    "### Ignore below"
   ]
  },
  {
   "cell_type": "markdown",
   "metadata": {},
   "source": [
    "### Ignore below"
   ]
  },
  {
   "cell_type": "markdown",
   "metadata": {},
   "source": [
    "### Ignore below"
   ]
  },
  {
   "cell_type": "markdown",
   "metadata": {},
   "source": [
    "### Ignore below"
   ]
  },
  {
   "cell_type": "code",
   "execution_count": null,
   "metadata": {},
   "outputs": [],
   "source": []
  },
  {
   "cell_type": "code",
   "execution_count": null,
   "metadata": {},
   "outputs": [],
   "source": []
  },
  {
   "cell_type": "code",
   "execution_count": null,
   "metadata": {},
   "outputs": [],
   "source": []
  },
  {
   "cell_type": "code",
   "execution_count": null,
   "metadata": {},
   "outputs": [],
   "source": []
  },
  {
   "cell_type": "code",
   "execution_count": null,
   "metadata": {},
   "outputs": [],
   "source": []
  },
  {
   "cell_type": "code",
   "execution_count": null,
   "metadata": {},
   "outputs": [],
   "source": []
  },
  {
   "cell_type": "code",
   "execution_count": null,
   "metadata": {},
   "outputs": [],
   "source": []
  },
  {
   "cell_type": "code",
   "execution_count": null,
   "metadata": {},
   "outputs": [],
   "source": []
  },
  {
   "cell_type": "code",
   "execution_count": null,
   "metadata": {},
   "outputs": [],
   "source": []
  },
  {
   "cell_type": "code",
   "execution_count": null,
   "metadata": {},
   "outputs": [],
   "source": []
  },
  {
   "cell_type": "code",
   "execution_count": null,
   "metadata": {},
   "outputs": [],
   "source": []
  },
  {
   "cell_type": "code",
   "execution_count": null,
   "metadata": {},
   "outputs": [],
   "source": []
  },
  {
   "cell_type": "code",
   "execution_count": null,
   "metadata": {},
   "outputs": [],
   "source": []
  },
  {
   "cell_type": "code",
   "execution_count": null,
   "metadata": {},
   "outputs": [],
   "source": []
  },
  {
   "cell_type": "code",
   "execution_count": null,
   "metadata": {},
   "outputs": [],
   "source": []
  },
  {
   "cell_type": "code",
   "execution_count": null,
   "metadata": {},
   "outputs": [],
   "source": []
  },
  {
   "cell_type": "code",
   "execution_count": null,
   "metadata": {},
   "outputs": [],
   "source": []
  },
  {
   "cell_type": "code",
   "execution_count": null,
   "metadata": {},
   "outputs": [],
   "source": []
  }
 ],
 "metadata": {
  "kernelspec": {
   "display_name": "Python 3",
   "language": "python",
   "name": "python3"
  },
  "language_info": {
   "codemirror_mode": {
    "name": "ipython",
    "version": 3
   },
   "file_extension": ".py",
   "mimetype": "text/x-python",
   "name": "python",
   "nbconvert_exporter": "python",
   "pygments_lexer": "ipython3",
   "version": "3.7.6"
  }
 },
 "nbformat": 4,
 "nbformat_minor": 2
}
