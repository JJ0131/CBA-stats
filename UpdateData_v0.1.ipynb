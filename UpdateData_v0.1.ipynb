{
 "cells": [
  {
   "cell_type": "code",
   "execution_count": 1,
   "metadata": {},
   "outputs": [],
   "source": [
    "import os\n",
    "import pandas as pd\n",
    "import re\n",
    "from cbastats import DBHelper\n",
    "import datetime\n",
    "import pytz\n",
    "\n",
    "# from cbastats import Scraper\n",
    "from cbastats import ScraperMongo\n",
    "from cbastats.Team import *\n",
    "from cbastats.Player import *"
   ]
  },
  {
   "cell_type": "markdown",
   "metadata": {},
   "source": [
    "# Scrape current schedule"
   ]
  },
  {
   "cell_type": "code",
   "execution_count": 2,
   "metadata": {},
   "outputs": [],
   "source": [
    "sina_scraper = ScraperMongo.SinaScraper(ScraperMongo.SINA_SCHEDULE_BASE_URL,ScraperMongo.ENCODING, ScraperMongo.PARSER, ScraperMongo.HEADERS)"
   ]
  },
  {
   "cell_type": "code",
   "execution_count": 3,
   "metadata": {
    "scrolled": true
   },
   "outputs": [
    {
     "data": {
      "text/plain": [
       "{'qleagueid': {'20-21': '206',\n",
       "  '19-20': '205',\n",
       "  '18-19': '198',\n",
       "  '17-18': '189',\n",
       "  '16-17': '180',\n",
       "  '15-16': '171',\n",
       "  '14-15': '158',\n",
       "  '13-14': '136',\n",
       "  '12-13': '107',\n",
       "  '11-12': '83',\n",
       "  '10-11': '69',\n",
       "  '09-10': '56',\n",
       "  '08-09': '44',\n",
       "  '07-08': '9',\n",
       "  '06-07': '2',\n",
       "  '05-06': '1'},\n",
       " 'qmonth': {'全部': '',\n",
       "  '11': '11',\n",
       "  '12': '12',\n",
       "  '01': '01',\n",
       "  '02': '02',\n",
       "  '03': '03',\n",
       "  '04': '04',\n",
       "  '05': '05',\n",
       "  '06': '06',\n",
       "  '07': '07',\n",
       "  '08': '08',\n",
       "  '09': '09',\n",
       "  '10': '10'},\n",
       " 'qteamid': {'全部': '',\n",
       "  '广东': '1',\n",
       "  '江苏': '2',\n",
       "  '上海': '4',\n",
       "  '浙江': '6',\n",
       "  '福建': '7',\n",
       "  '深圳': '8',\n",
       "  '辽宁': '9',\n",
       "  '北京': '10',\n",
       "  '新疆': '11',\n",
       "  '吉林': '12',\n",
       "  '广州': '13',\n",
       "  '山西': '14',\n",
       "  '山东': '15',\n",
       "  '广厦': '16',\n",
       "  '天津': '113',\n",
       "  '青岛': '114',\n",
       "  '四川': '182',\n",
       "  '同曦': '368',\n",
       "  '北控': '369'}}"
      ]
     },
     "execution_count": 3,
     "metadata": {},
     "output_type": "execute_result"
    }
   ],
   "source": [
    "sina_scraper.scraper_params"
   ]
  },
  {
   "cell_type": "code",
   "execution_count": 4,
   "metadata": {
    "scrolled": true
   },
   "outputs": [
    {
     "data": {
      "text/plain": [
       "351"
      ]
     },
     "execution_count": 4,
     "metadata": {},
     "output_type": "execute_result"
    }
   ],
   "source": [
    "scraped_schedule = sina_scraper.scrape_schedule()\n",
    "\n",
    "len(scraped_schedule)"
   ]
  },
  {
   "cell_type": "code",
   "execution_count": 5,
   "metadata": {},
   "outputs": [
    {
     "data": {
      "text/plain": [
       "{'轮次': '第1轮',\n",
       " '日期': Timestamp('2020-10-17 16:00:00+0800', tz='Asia/Shanghai'),\n",
       " '主队': '江苏',\n",
       " '比分': '94:102',\n",
       " '客队': '青岛',\n",
       " '战报': '战报',\n",
       " '统计': '统计',\n",
       " '组图': '组图',\n",
       " '地点': '诸暨',\n",
       " '电视': '',\n",
       " '轮次_link': '',\n",
       " '日期_link': '',\n",
       " '主队_link': 'http://cba.sports.sina.com.cn/cba/team/show/2/',\n",
       " '比分_link': 'http://cba.sports.sina.com.cn/cba/schedule/show/19143/',\n",
       " '客队_link': 'http://cba.sports.sina.com.cn/cba/team/show/114/',\n",
       " '战报_link': 'https://sports.sina.com.cn/basketball/cba/2020-10-17/doc-iiznezxr6527423.shtml',\n",
       " '统计_link': 'http://cba.sports.sina.com.cn/cba/schedule/show/19143/',\n",
       " '组图_link': 'http://slide.sports.sina.com.cn/cba/slide_2_792_255844.html',\n",
       " '地点_link': '',\n",
       " '电视_link': '',\n",
       " 'GameID_Sina': '19143',\n",
       " '客队ID': '114',\n",
       " '主队ID': '2',\n",
       " '赛季': '20-21',\n",
       " '详细统计': '',\n",
       " '比赛回合': ''}"
      ]
     },
     "execution_count": 5,
     "metadata": {},
     "output_type": "execute_result"
    }
   ],
   "source": [
    "scraped_schedule[0]"
   ]
  },
  {
   "cell_type": "markdown",
   "metadata": {},
   "source": [
    "# Connect Database"
   ]
  },
  {
   "cell_type": "code",
   "execution_count": 6,
   "metadata": {},
   "outputs": [
    {
     "name": "stdout",
     "output_type": "stream",
     "text": [
      "existing database ['cbaStats', 'admin', 'local']\n"
     ]
    },
    {
     "data": {
      "text/plain": [
       "['cbaGamesStaging', 'seasonTeamStats', 'seasonPlayerStats', 'cbaGames']"
      ]
     },
     "execution_count": 6,
     "metadata": {},
     "output_type": "execute_result"
    }
   ],
   "source": [
    "mongodbio =DBHelper.MongoDBHelper() \n",
    "client = mongodbio.create_connection(DBHelper.MONGODB_USERNAME,DBHelper.MONGODB_PWD,DBHelper.MONGODB_ENDPOINT)\n",
    "\n",
    "db = client['cbaStats']\n",
    "\n",
    "db.list_collection_names()"
   ]
  },
  {
   "cell_type": "code",
   "execution_count": 7,
   "metadata": {},
   "outputs": [],
   "source": [
    "coll_cbaGames = db['cbaGames']\n",
    "coll_cbaGamesStaging=db['cbaGamesStaging']"
   ]
  },
  {
   "cell_type": "raw",
   "metadata": {},
   "source": [
    "coll_cbaGames.delete_many({})"
   ]
  },
  {
   "cell_type": "markdown",
   "metadata": {},
   "source": [
    "# Insert new games"
   ]
  },
  {
   "cell_type": "code",
   "execution_count": 8,
   "metadata": {
    "scrolled": false
   },
   "outputs": [
    {
     "name": "stdout",
     "output_type": "stream",
     "text": [
      "----------clean up staging collection----------\n",
      "cbaGamesStaging operation acknowledged!\n",
      "0 records were deleted from cbaGamesStaging .\n",
      "cbaGames has 351 docs.\n",
      "cbaGamesStaging has 0 docs.\n",
      "----------insert records into staging collection----------\n",
      "cbaGamesStaging operation acknowledged!\n",
      "351 records were inserted into cbaGamesStaging.\n",
      "----------checking what records to insert into production----------\n",
      "Production is up-to-date\n",
      "cbaGames has 351 docs.\n"
     ]
    }
   ],
   "source": [
    "result = mongodbio.insert_new_games(scraped_schedule,coll_cbaGames,coll_cbaGamesStaging)"
   ]
  },
  {
   "cell_type": "markdown",
   "metadata": {},
   "source": [
    "# Update Game Stats within each game"
   ]
  },
  {
   "cell_type": "code",
   "execution_count": 9,
   "metadata": {
    "scrolled": true
   },
   "outputs": [
    {
     "data": {
      "text/plain": [
       "datetime.datetime(2021, 1, 14, 4, 12, 13, 602925, tzinfo=<UTC>)"
      ]
     },
     "execution_count": 9,
     "metadata": {},
     "output_type": "execute_result"
    }
   ],
   "source": [
    "current_time = datetime.datetime.now()\n",
    "timezone_est = pytz.timezone('US/Eastern')\n",
    "timezone_utc = pytz.timezone('UTC')\n",
    "current_time = timezone_utc.localize(current_time)\n",
    "current_time"
   ]
  },
  {
   "cell_type": "code",
   "execution_count": 10,
   "metadata": {
    "scrolled": true
   },
   "outputs": [],
   "source": [
    "schedule_to_scrape = list(mongodbio.select_records(coll_cbaGames,filter={'详细统计':'','日期':{\"$lt\":current_time}}))"
   ]
  },
  {
   "cell_type": "code",
   "execution_count": 11,
   "metadata": {},
   "outputs": [
    {
     "name": "stderr",
     "output_type": "stream",
     "text": [
      "100%|██████████| 9/9 [00:24<00:00,  2.69s/it]\n"
     ]
    }
   ],
   "source": [
    "games_stats = sina_scraper.scrape_games(schedule_to_scrape)"
   ]
  },
  {
   "cell_type": "code",
   "execution_count": 12,
   "metadata": {},
   "outputs": [
    {
     "name": "stdout",
     "output_type": "stream",
     "text": [
      "19650\n",
      "19644\n",
      "19649\n",
      "19645\n",
      "19642\n",
      "19643\n",
      "19648\n",
      "19646\n",
      "19647\n"
     ]
    }
   ],
   "source": [
    "# put game_stats into a dictionary\n",
    "game_stats_dict={}\n",
    "unique_gameids = list(games_stats['GameID_Sina'].value_counts().index)\n",
    "for gameid in unique_gameids:\n",
    "    game_stats_dict[gameid] = games_stats.loc[games_stats['GameID_Sina']==gameid].to_dict('record')\n",
    "\n",
    "# update the stats in mongo\n",
    "results=[]\n",
    "for game_id, game_stats in game_stats_dict.items():\n",
    "    print(game_id)\n",
    "    results.append(coll_cbaGames.update_one({'GameID_Sina':game_id},{\"$set\":{\"详细统计\":game_stats}}))"
   ]
  },
  {
   "cell_type": "markdown",
   "metadata": {},
   "source": [
    "# Update Calculated Stats"
   ]
  },
  {
   "cell_type": "markdown",
   "metadata": {},
   "source": [
    "### Get GameStats"
   ]
  },
  {
   "cell_type": "code",
   "execution_count": 13,
   "metadata": {},
   "outputs": [
    {
     "data": {
      "text/plain": [
       "'20-21'"
      ]
     },
     "execution_count": 13,
     "metadata": {},
     "output_type": "execute_result"
    }
   ],
   "source": [
    "sina_scraper.current_season"
   ]
  },
  {
   "cell_type": "code",
   "execution_count": 14,
   "metadata": {},
   "outputs": [],
   "source": [
    "# pull data \n",
    "all_data = mongodbio.select_records(coll_cbaGames,filter={'详细统计':{\"$ne\":''},'赛季':sina_scraper.current_season})\n",
    "\n",
    "# convert to a pandas dataframe\n",
    "all_games_stats = []\n",
    "for game in all_data:\n",
    "    for row in game['详细统计']:\n",
    "        all_games_stats.append(row)\n",
    "\n",
    "df_all_games_stats=pd.DataFrame(all_games_stats)"
   ]
  },
  {
   "cell_type": "code",
   "execution_count": 15,
   "metadata": {
    "scrolled": true
   },
   "outputs": [
    {
     "data": {
      "text/plain": [
       "Index(['球员_link', '球员', '号码', '出场时间', '首发', '进攻篮板', '防守篮板', '助攻', '犯规', '抢断',\n",
       "       '失误', '盖帽', '扣篮', '被侵', '快攻', '得分', '轮次', '日期', '赛季', 'GameID_Sina',\n",
       "       '球队ID', '对手ID', '球队', '对手', '地点', '2分中', '2分投', '3分中', '3分投', '罚球中',\n",
       "       '罚球投'],\n",
       "      dtype='object')"
      ]
     },
     "execution_count": 15,
     "metadata": {},
     "output_type": "execute_result"
    }
   ],
   "source": [
    "df_all_games_stats.columns"
   ]
  },
  {
   "cell_type": "markdown",
   "metadata": {},
   "source": [
    "### Calculate Team Stats"
   ]
  },
  {
   "cell_type": "code",
   "execution_count": 16,
   "metadata": {
    "scrolled": true
   },
   "outputs": [
    {
     "data": {
      "text/html": [
       "<div>\n",
       "<style scoped>\n",
       "    .dataframe tbody tr th:only-of-type {\n",
       "        vertical-align: middle;\n",
       "    }\n",
       "\n",
       "    .dataframe tbody tr th {\n",
       "        vertical-align: top;\n",
       "    }\n",
       "\n",
       "    .dataframe thead th {\n",
       "        text-align: right;\n",
       "    }\n",
       "</style>\n",
       "<table border=\"1\" class=\"dataframe\">\n",
       "  <thead>\n",
       "    <tr style=\"text-align: right;\">\n",
       "      <th></th>\n",
       "      <th>场均净胜分MOV</th>\n",
       "      <th>Pace</th>\n",
       "      <th>OffensiveRating</th>\n",
       "      <th>DefensiveRating</th>\n",
       "      <th>NetRating</th>\n",
       "    </tr>\n",
       "    <tr>\n",
       "      <th>球队</th>\n",
       "      <th></th>\n",
       "      <th></th>\n",
       "      <th></th>\n",
       "      <th></th>\n",
       "      <th></th>\n",
       "    </tr>\n",
       "  </thead>\n",
       "  <tbody>\n",
       "    <tr>\n",
       "      <th>辽宁</th>\n",
       "      <td>14.9</td>\n",
       "      <td>94.1</td>\n",
       "      <td>125.2</td>\n",
       "      <td>109.1</td>\n",
       "      <td>16.1</td>\n",
       "    </tr>\n",
       "    <tr>\n",
       "      <th>广东</th>\n",
       "      <td>14.3</td>\n",
       "      <td>102.0</td>\n",
       "      <td>122.6</td>\n",
       "      <td>108.2</td>\n",
       "      <td>14.4</td>\n",
       "    </tr>\n",
       "    <tr>\n",
       "      <th>浙江</th>\n",
       "      <td>10.5</td>\n",
       "      <td>95.6</td>\n",
       "      <td>120.0</td>\n",
       "      <td>108.8</td>\n",
       "      <td>11.2</td>\n",
       "    </tr>\n",
       "    <tr>\n",
       "      <th>新疆</th>\n",
       "      <td>4.7</td>\n",
       "      <td>95.3</td>\n",
       "      <td>115.4</td>\n",
       "      <td>110.3</td>\n",
       "      <td>5.1</td>\n",
       "    </tr>\n",
       "    <tr>\n",
       "      <th>山东</th>\n",
       "      <td>4.4</td>\n",
       "      <td>94.8</td>\n",
       "      <td>113.1</td>\n",
       "      <td>108.5</td>\n",
       "      <td>4.7</td>\n",
       "    </tr>\n",
       "    <tr>\n",
       "      <th>吉林</th>\n",
       "      <td>2.3</td>\n",
       "      <td>91.2</td>\n",
       "      <td>115.6</td>\n",
       "      <td>113.0</td>\n",
       "      <td>2.6</td>\n",
       "    </tr>\n",
       "    <tr>\n",
       "      <th>青岛</th>\n",
       "      <td>2.1</td>\n",
       "      <td>95.3</td>\n",
       "      <td>112.0</td>\n",
       "      <td>109.8</td>\n",
       "      <td>2.3</td>\n",
       "    </tr>\n",
       "    <tr>\n",
       "      <th>广厦</th>\n",
       "      <td>2.1</td>\n",
       "      <td>95.6</td>\n",
       "      <td>118.1</td>\n",
       "      <td>116.0</td>\n",
       "      <td>2.2</td>\n",
       "    </tr>\n",
       "    <tr>\n",
       "      <th>上海</th>\n",
       "      <td>0.0</td>\n",
       "      <td>93.9</td>\n",
       "      <td>115.1</td>\n",
       "      <td>115.0</td>\n",
       "      <td>0.0</td>\n",
       "    </tr>\n",
       "    <tr>\n",
       "      <th>广州</th>\n",
       "      <td>-0.4</td>\n",
       "      <td>90.8</td>\n",
       "      <td>110.9</td>\n",
       "      <td>111.3</td>\n",
       "      <td>-0.4</td>\n",
       "    </tr>\n",
       "    <tr>\n",
       "      <th>深圳</th>\n",
       "      <td>-0.6</td>\n",
       "      <td>92.5</td>\n",
       "      <td>111.6</td>\n",
       "      <td>112.3</td>\n",
       "      <td>-0.7</td>\n",
       "    </tr>\n",
       "    <tr>\n",
       "      <th>北控</th>\n",
       "      <td>-1.8</td>\n",
       "      <td>93.0</td>\n",
       "      <td>109.6</td>\n",
       "      <td>111.6</td>\n",
       "      <td>-2.0</td>\n",
       "    </tr>\n",
       "    <tr>\n",
       "      <th>北京</th>\n",
       "      <td>-3.0</td>\n",
       "      <td>89.7</td>\n",
       "      <td>106.9</td>\n",
       "      <td>110.2</td>\n",
       "      <td>-3.4</td>\n",
       "    </tr>\n",
       "    <tr>\n",
       "      <th>山西</th>\n",
       "      <td>-3.1</td>\n",
       "      <td>93.3</td>\n",
       "      <td>109.9</td>\n",
       "      <td>113.3</td>\n",
       "      <td>-3.4</td>\n",
       "    </tr>\n",
       "    <tr>\n",
       "      <th>四川</th>\n",
       "      <td>-3.7</td>\n",
       "      <td>93.0</td>\n",
       "      <td>108.0</td>\n",
       "      <td>112.0</td>\n",
       "      <td>-4.0</td>\n",
       "    </tr>\n",
       "    <tr>\n",
       "      <th>天津</th>\n",
       "      <td>-7.4</td>\n",
       "      <td>94.9</td>\n",
       "      <td>107.7</td>\n",
       "      <td>115.6</td>\n",
       "      <td>-8.0</td>\n",
       "    </tr>\n",
       "    <tr>\n",
       "      <th>江苏</th>\n",
       "      <td>-8.6</td>\n",
       "      <td>94.5</td>\n",
       "      <td>103.5</td>\n",
       "      <td>112.6</td>\n",
       "      <td>-9.1</td>\n",
       "    </tr>\n",
       "    <tr>\n",
       "      <th>福建</th>\n",
       "      <td>-11.9</td>\n",
       "      <td>95.0</td>\n",
       "      <td>111.9</td>\n",
       "      <td>124.7</td>\n",
       "      <td>-12.8</td>\n",
       "    </tr>\n",
       "    <tr>\n",
       "      <th>同曦</th>\n",
       "      <td>-13.2</td>\n",
       "      <td>94.2</td>\n",
       "      <td>103.5</td>\n",
       "      <td>117.9</td>\n",
       "      <td>-14.3</td>\n",
       "    </tr>\n",
       "  </tbody>\n",
       "</table>\n",
       "</div>"
      ],
      "text/plain": [
       "    场均净胜分MOV   Pace  OffensiveRating  DefensiveRating  NetRating\n",
       "球队                                                              \n",
       "辽宁      14.9   94.1            125.2            109.1       16.1\n",
       "广东      14.3  102.0            122.6            108.2       14.4\n",
       "浙江      10.5   95.6            120.0            108.8       11.2\n",
       "新疆       4.7   95.3            115.4            110.3        5.1\n",
       "山东       4.4   94.8            113.1            108.5        4.7\n",
       "吉林       2.3   91.2            115.6            113.0        2.6\n",
       "青岛       2.1   95.3            112.0            109.8        2.3\n",
       "广厦       2.1   95.6            118.1            116.0        2.2\n",
       "上海       0.0   93.9            115.1            115.0        0.0\n",
       "广州      -0.4   90.8            110.9            111.3       -0.4\n",
       "深圳      -0.6   92.5            111.6            112.3       -0.7\n",
       "北控      -1.8   93.0            109.6            111.6       -2.0\n",
       "北京      -3.0   89.7            106.9            110.2       -3.4\n",
       "山西      -3.1   93.3            109.9            113.3       -3.4\n",
       "四川      -3.7   93.0            108.0            112.0       -4.0\n",
       "天津      -7.4   94.9            107.7            115.6       -8.0\n",
       "江苏      -8.6   94.5            103.5            112.6       -9.1\n",
       "福建     -11.9   95.0            111.9            124.7      -12.8\n",
       "同曦     -13.2   94.2            103.5            117.9      -14.3"
      ]
     },
     "execution_count": 16,
     "metadata": {},
     "output_type": "execute_result"
    }
   ],
   "source": [
    "teams = Team('',df_all_games_stats)\n",
    "\n",
    "teams_df = pd.concat([teams.mov, teams.tm_pace, teams.tm_ortg, teams.tm_drtg, teams.tm_nrtg], axis=1)\n",
    "\n",
    "teams_df.columns=['场均净胜分MOV', 'Pace', 'OffensiveRating', 'DefensiveRating', 'NetRating']\n",
    "teams_df = teams_df.sort_values(by='NetRating',ascending=False)\n",
    "teams_df.round(1)"
   ]
  },
  {
   "cell_type": "markdown",
   "metadata": {},
   "source": [
    "### Insert Curent Season Team Stats"
   ]
  },
  {
   "cell_type": "code",
   "execution_count": 17,
   "metadata": {},
   "outputs": [
    {
     "data": {
      "text/plain": [
       "['cbaGamesStaging', 'seasonTeamStats', 'seasonPlayerStats', 'cbaGames']"
      ]
     },
     "execution_count": 17,
     "metadata": {},
     "output_type": "execute_result"
    }
   ],
   "source": [
    "db.list_collection_names()"
   ]
  },
  {
   "cell_type": "code",
   "execution_count": 18,
   "metadata": {},
   "outputs": [
    {
     "name": "stdout",
     "output_type": "stream",
     "text": [
      "seasonTeamStats operation acknowledged!\n",
      "19 records were deleted from seasonTeamStats .\n",
      "seasonTeamStats operation acknowledged!\n",
      "19 records were inserted into seasonTeamStats.\n"
     ]
    },
    {
     "data": {
      "text/plain": [
       "<pymongo.results.InsertManyResult at 0x7f0015a938c0>"
      ]
     },
     "execution_count": 18,
     "metadata": {},
     "output_type": "execute_result"
    }
   ],
   "source": [
    "coll_teamStats = db['seasonTeamStats']\n",
    "\n",
    "# insert\n",
    "mongodbio.delete_records(coll_teamStats,{})\n",
    "mongodbio.insert_records(coll_teamStats,teams_df.to_dict('record'))"
   ]
  },
  {
   "cell_type": "markdown",
   "metadata": {},
   "source": [
    "### Calculate Player Stats"
   ]
  },
  {
   "cell_type": "code",
   "execution_count": 19,
   "metadata": {},
   "outputs": [
    {
     "data": {
      "text/html": [
       "<div>\n",
       "<style scoped>\n",
       "    .dataframe tbody tr th:only-of-type {\n",
       "        vertical-align: middle;\n",
       "    }\n",
       "\n",
       "    .dataframe tbody tr th {\n",
       "        vertical-align: top;\n",
       "    }\n",
       "\n",
       "    .dataframe thead th {\n",
       "        text-align: right;\n",
       "    }\n",
       "</style>\n",
       "<table border=\"1\" class=\"dataframe\">\n",
       "  <thead>\n",
       "    <tr style=\"text-align: right;\">\n",
       "      <th></th>\n",
       "      <th>球员</th>\n",
       "      <th>球队</th>\n",
       "      <th>OffensiveRating</th>\n",
       "      <th>DefensiveRating</th>\n",
       "      <th>NetRating</th>\n",
       "      <th>UsagePercent</th>\n",
       "      <th>出场时间</th>\n",
       "      <th>首发</th>\n",
       "      <th>进攻篮板</th>\n",
       "      <th>防守篮板</th>\n",
       "      <th>...</th>\n",
       "      <th>扣篮</th>\n",
       "      <th>被侵</th>\n",
       "      <th>得分</th>\n",
       "      <th>2分中</th>\n",
       "      <th>2分投</th>\n",
       "      <th>3分中</th>\n",
       "      <th>3分投</th>\n",
       "      <th>罚球中</th>\n",
       "      <th>罚球投</th>\n",
       "      <th>出场</th>\n",
       "    </tr>\n",
       "  </thead>\n",
       "  <tbody>\n",
       "    <tr>\n",
       "      <th>266</th>\n",
       "      <td>约翰逊</td>\n",
       "      <td>青岛</td>\n",
       "      <td>117.488857</td>\n",
       "      <td>110.833265</td>\n",
       "      <td>6.655592</td>\n",
       "      <td>30.451736</td>\n",
       "      <td>340</td>\n",
       "      <td>6</td>\n",
       "      <td>58</td>\n",
       "      <td>103</td>\n",
       "      <td>...</td>\n",
       "      <td>7</td>\n",
       "      <td>112</td>\n",
       "      <td>257</td>\n",
       "      <td>91</td>\n",
       "      <td>142</td>\n",
       "      <td>0</td>\n",
       "      <td>0</td>\n",
       "      <td>75</td>\n",
       "      <td>144</td>\n",
       "      <td>14</td>\n",
       "    </tr>\n",
       "    <tr>\n",
       "      <th>39</th>\n",
       "      <td>刘传兴</td>\n",
       "      <td>青岛</td>\n",
       "      <td>117.678038</td>\n",
       "      <td>114.377164</td>\n",
       "      <td>3.300874</td>\n",
       "      <td>15.417408</td>\n",
       "      <td>622</td>\n",
       "      <td>18</td>\n",
       "      <td>78</td>\n",
       "      <td>143</td>\n",
       "      <td>...</td>\n",
       "      <td>15</td>\n",
       "      <td>88</td>\n",
       "      <td>230</td>\n",
       "      <td>79</td>\n",
       "      <td>131</td>\n",
       "      <td>0</td>\n",
       "      <td>0</td>\n",
       "      <td>72</td>\n",
       "      <td>102</td>\n",
       "      <td>28</td>\n",
       "    </tr>\n",
       "    <tr>\n",
       "      <th>250</th>\n",
       "      <td>王睿泽</td>\n",
       "      <td>青岛</td>\n",
       "      <td>117.550862</td>\n",
       "      <td>115.157858</td>\n",
       "      <td>2.393004</td>\n",
       "      <td>18.534374</td>\n",
       "      <td>189</td>\n",
       "      <td>5</td>\n",
       "      <td>6</td>\n",
       "      <td>18</td>\n",
       "      <td>...</td>\n",
       "      <td>2</td>\n",
       "      <td>6</td>\n",
       "      <td>93</td>\n",
       "      <td>17</td>\n",
       "      <td>31</td>\n",
       "      <td>19</td>\n",
       "      <td>39</td>\n",
       "      <td>2</td>\n",
       "      <td>3</td>\n",
       "      <td>9</td>\n",
       "    </tr>\n",
       "    <tr>\n",
       "      <th>158</th>\n",
       "      <td>斯蒂马克</td>\n",
       "      <td>青岛</td>\n",
       "      <td>114.949967</td>\n",
       "      <td>115.797674</td>\n",
       "      <td>-0.847707</td>\n",
       "      <td>28.323284</td>\n",
       "      <td>126</td>\n",
       "      <td>0</td>\n",
       "      <td>26</td>\n",
       "      <td>45</td>\n",
       "      <td>...</td>\n",
       "      <td>2</td>\n",
       "      <td>22</td>\n",
       "      <td>84</td>\n",
       "      <td>32</td>\n",
       "      <td>58</td>\n",
       "      <td>3</td>\n",
       "      <td>6</td>\n",
       "      <td>11</td>\n",
       "      <td>25</td>\n",
       "      <td>9</td>\n",
       "    </tr>\n",
       "    <tr>\n",
       "      <th>318</th>\n",
       "      <td>赵泰隆</td>\n",
       "      <td>青岛</td>\n",
       "      <td>113.804436</td>\n",
       "      <td>115.800382</td>\n",
       "      <td>-1.995946</td>\n",
       "      <td>14.128267</td>\n",
       "      <td>446</td>\n",
       "      <td>16</td>\n",
       "      <td>6</td>\n",
       "      <td>25</td>\n",
       "      <td>...</td>\n",
       "      <td>1</td>\n",
       "      <td>16</td>\n",
       "      <td>156</td>\n",
       "      <td>18</td>\n",
       "      <td>34</td>\n",
       "      <td>37</td>\n",
       "      <td>96</td>\n",
       "      <td>9</td>\n",
       "      <td>17</td>\n",
       "      <td>20</td>\n",
       "    </tr>\n",
       "    <tr>\n",
       "      <th>...</th>\n",
       "      <td>...</td>\n",
       "      <td>...</td>\n",
       "      <td>...</td>\n",
       "      <td>...</td>\n",
       "      <td>...</td>\n",
       "      <td>...</td>\n",
       "      <td>...</td>\n",
       "      <td>...</td>\n",
       "      <td>...</td>\n",
       "      <td>...</td>\n",
       "      <td>...</td>\n",
       "      <td>...</td>\n",
       "      <td>...</td>\n",
       "      <td>...</td>\n",
       "      <td>...</td>\n",
       "      <td>...</td>\n",
       "      <td>...</td>\n",
       "      <td>...</td>\n",
       "      <td>...</td>\n",
       "      <td>...</td>\n",
       "      <td>...</td>\n",
       "    </tr>\n",
       "    <tr>\n",
       "      <th>375</th>\n",
       "      <td>黄旭</td>\n",
       "      <td>上海</td>\n",
       "      <td>NaN</td>\n",
       "      <td>123.747940</td>\n",
       "      <td>NaN</td>\n",
       "      <td>11.114661</td>\n",
       "      <td>12</td>\n",
       "      <td>0</td>\n",
       "      <td>0</td>\n",
       "      <td>0</td>\n",
       "      <td>...</td>\n",
       "      <td>0</td>\n",
       "      <td>0</td>\n",
       "      <td>2</td>\n",
       "      <td>1</td>\n",
       "      <td>1</td>\n",
       "      <td>0</td>\n",
       "      <td>2</td>\n",
       "      <td>0</td>\n",
       "      <td>0</td>\n",
       "      <td>4</td>\n",
       "    </tr>\n",
       "    <tr>\n",
       "      <th>138</th>\n",
       "      <td>张春军</td>\n",
       "      <td>上海</td>\n",
       "      <td>NaN</td>\n",
       "      <td>114.875565</td>\n",
       "      <td>NaN</td>\n",
       "      <td>10.232545</td>\n",
       "      <td>126</td>\n",
       "      <td>0</td>\n",
       "      <td>4</td>\n",
       "      <td>13</td>\n",
       "      <td>...</td>\n",
       "      <td>0</td>\n",
       "      <td>8</td>\n",
       "      <td>17</td>\n",
       "      <td>4</td>\n",
       "      <td>10</td>\n",
       "      <td>3</td>\n",
       "      <td>15</td>\n",
       "      <td>0</td>\n",
       "      <td>0</td>\n",
       "      <td>8</td>\n",
       "    </tr>\n",
       "    <tr>\n",
       "      <th>82</th>\n",
       "      <td>周彦旭</td>\n",
       "      <td>上海</td>\n",
       "      <td>NaN</td>\n",
       "      <td>NaN</td>\n",
       "      <td>NaN</td>\n",
       "      <td>NaN</td>\n",
       "      <td>0</td>\n",
       "      <td>0</td>\n",
       "      <td>0</td>\n",
       "      <td>0</td>\n",
       "      <td>...</td>\n",
       "      <td>0</td>\n",
       "      <td>0</td>\n",
       "      <td>0</td>\n",
       "      <td>0</td>\n",
       "      <td>0</td>\n",
       "      <td>0</td>\n",
       "      <td>0</td>\n",
       "      <td>0</td>\n",
       "      <td>0</td>\n",
       "      <td>0</td>\n",
       "    </tr>\n",
       "    <tr>\n",
       "      <th>242</th>\n",
       "      <td>王旭</td>\n",
       "      <td>上海</td>\n",
       "      <td>NaN</td>\n",
       "      <td>NaN</td>\n",
       "      <td>NaN</td>\n",
       "      <td>NaN</td>\n",
       "      <td>0</td>\n",
       "      <td>0</td>\n",
       "      <td>0</td>\n",
       "      <td>0</td>\n",
       "      <td>...</td>\n",
       "      <td>0</td>\n",
       "      <td>0</td>\n",
       "      <td>0</td>\n",
       "      <td>0</td>\n",
       "      <td>0</td>\n",
       "      <td>0</td>\n",
       "      <td>0</td>\n",
       "      <td>0</td>\n",
       "      <td>0</td>\n",
       "      <td>0</td>\n",
       "    </tr>\n",
       "    <tr>\n",
       "      <th>370</th>\n",
       "      <td>高尚</td>\n",
       "      <td>上海</td>\n",
       "      <td>NaN</td>\n",
       "      <td>NaN</td>\n",
       "      <td>NaN</td>\n",
       "      <td>NaN</td>\n",
       "      <td>0</td>\n",
       "      <td>0</td>\n",
       "      <td>0</td>\n",
       "      <td>0</td>\n",
       "      <td>...</td>\n",
       "      <td>0</td>\n",
       "      <td>0</td>\n",
       "      <td>0</td>\n",
       "      <td>0</td>\n",
       "      <td>0</td>\n",
       "      <td>0</td>\n",
       "      <td>0</td>\n",
       "      <td>0</td>\n",
       "      <td>0</td>\n",
       "      <td>0</td>\n",
       "    </tr>\n",
       "  </tbody>\n",
       "</table>\n",
       "<p>380 rows × 25 columns</p>\n",
       "</div>"
      ],
      "text/plain": [
       "       球员  球队  OffensiveRating  DefensiveRating  NetRating  UsagePercent  \\\n",
       "266   约翰逊  青岛       117.488857       110.833265   6.655592     30.451736   \n",
       "39    刘传兴  青岛       117.678038       114.377164   3.300874     15.417408   \n",
       "250   王睿泽  青岛       117.550862       115.157858   2.393004     18.534374   \n",
       "158  斯蒂马克  青岛       114.949967       115.797674  -0.847707     28.323284   \n",
       "318   赵泰隆  青岛       113.804436       115.800382  -1.995946     14.128267   \n",
       "..    ...  ..              ...              ...        ...           ...   \n",
       "375    黄旭  上海              NaN       123.747940        NaN     11.114661   \n",
       "138   张春军  上海              NaN       114.875565        NaN     10.232545   \n",
       "82    周彦旭  上海              NaN              NaN        NaN           NaN   \n",
       "242    王旭  上海              NaN              NaN        NaN           NaN   \n",
       "370    高尚  上海              NaN              NaN        NaN           NaN   \n",
       "\n",
       "     出场时间  首发  进攻篮板  防守篮板  ...  扣篮   被侵   得分  2分中  2分投  3分中  3分投  罚球中  罚球投  出场  \n",
       "266   340   6    58   103  ...   7  112  257   91  142    0    0   75  144  14  \n",
       "39    622  18    78   143  ...  15   88  230   79  131    0    0   72  102  28  \n",
       "250   189   5     6    18  ...   2    6   93   17   31   19   39    2    3   9  \n",
       "158   126   0    26    45  ...   2   22   84   32   58    3    6   11   25   9  \n",
       "318   446  16     6    25  ...   1   16  156   18   34   37   96    9   17  20  \n",
       "..    ...  ..   ...   ...  ...  ..  ...  ...  ...  ...  ...  ...  ...  ...  ..  \n",
       "375    12   0     0     0  ...   0    0    2    1    1    0    2    0    0   4  \n",
       "138   126   0     4    13  ...   0    8   17    4   10    3   15    0    0   8  \n",
       "82      0   0     0     0  ...   0    0    0    0    0    0    0    0    0   0  \n",
       "242     0   0     0     0  ...   0    0    0    0    0    0    0    0    0   0  \n",
       "370     0   0     0     0  ...   0    0    0    0    0    0    0    0    0   0  \n",
       "\n",
       "[380 rows x 25 columns]"
      ]
     },
     "execution_count": 19,
     "metadata": {},
     "output_type": "execute_result"
    }
   ],
   "source": [
    "players = Player('',df_all_games_stats)\n",
    "\n",
    "# with pd.option_context('display.max_rows', None, 'display.max_columns', None):\n",
    "players_df = pd.concat([players.plr_ortg, players.plr_drtg, players.plr_nrtg,players.plr_usg], axis=1)\n",
    "\n",
    "players_df.columns=['OffensiveRating', 'DefensiveRating', 'NetRating','UsagePercent']\n",
    "players_df = players_df.sort_values(by=['NetRating','UsagePercent'],ascending=False)\n",
    "\n",
    "\n",
    "players_df = pd.merge(players_df,players.plr_total_stats,left_index=True,right_index=True)\n",
    "players_df.reset_index(inplace=True)\n",
    "players_df.sort_values(by=['球队','NetRating','UsagePercent'],ascending=False,inplace=True)\n",
    "players_df"
   ]
  },
  {
   "cell_type": "markdown",
   "metadata": {},
   "source": [
    "### Insert Current Season Player Stats"
   ]
  },
  {
   "cell_type": "code",
   "execution_count": 20,
   "metadata": {},
   "outputs": [
    {
     "name": "stdout",
     "output_type": "stream",
     "text": [
      "seasonPlayerStats operation acknowledged!\n",
      "379 records were deleted from seasonPlayerStats .\n",
      "seasonPlayerStats operation acknowledged!\n",
      "380 records were inserted into seasonPlayerStats.\n"
     ]
    },
    {
     "data": {
      "text/plain": [
       "<pymongo.results.InsertManyResult at 0x7f0015a6dbe0>"
      ]
     },
     "execution_count": 20,
     "metadata": {},
     "output_type": "execute_result"
    }
   ],
   "source": [
    "coll_playerStats = db['seasonPlayerStats']\n",
    "\n",
    "# insert\n",
    "mongodbio.delete_records(coll_playerStats,{})\n",
    "mongodbio.insert_records(coll_playerStats,players_df.to_dict('record'))"
   ]
  },
  {
   "cell_type": "markdown",
   "metadata": {},
   "source": [
    "# Update play by play"
   ]
  },
  {
   "cell_type": "code",
   "execution_count": null,
   "metadata": {},
   "outputs": [],
   "source": []
  },
  {
   "cell_type": "code",
   "execution_count": null,
   "metadata": {},
   "outputs": [],
   "source": []
  },
  {
   "cell_type": "code",
   "execution_count": null,
   "metadata": {},
   "outputs": [],
   "source": []
  },
  {
   "cell_type": "code",
   "execution_count": null,
   "metadata": {},
   "outputs": [],
   "source": []
  },
  {
   "cell_type": "code",
   "execution_count": null,
   "metadata": {},
   "outputs": [],
   "source": []
  },
  {
   "cell_type": "code",
   "execution_count": null,
   "metadata": {},
   "outputs": [],
   "source": []
  },
  {
   "cell_type": "code",
   "execution_count": null,
   "metadata": {},
   "outputs": [],
   "source": []
  },
  {
   "cell_type": "code",
   "execution_count": null,
   "metadata": {},
   "outputs": [],
   "source": []
  },
  {
   "cell_type": "code",
   "execution_count": null,
   "metadata": {},
   "outputs": [],
   "source": []
  },
  {
   "cell_type": "code",
   "execution_count": null,
   "metadata": {},
   "outputs": [],
   "source": []
  },
  {
   "cell_type": "code",
   "execution_count": null,
   "metadata": {},
   "outputs": [],
   "source": []
  }
 ],
 "metadata": {
  "kernelspec": {
   "display_name": "Python 3",
   "language": "python",
   "name": "python3"
  },
  "language_info": {
   "codemirror_mode": {
    "name": "ipython",
    "version": 3
   },
   "file_extension": ".py",
   "mimetype": "text/x-python",
   "name": "python",
   "nbconvert_exporter": "python",
   "pygments_lexer": "ipython3",
   "version": "3.7.6"
  }
 },
 "nbformat": 4,
 "nbformat_minor": 4
}
