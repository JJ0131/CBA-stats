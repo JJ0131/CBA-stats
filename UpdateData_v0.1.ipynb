{
 "cells": [
  {
   "cell_type": "code",
   "execution_count": 1,
   "metadata": {},
   "outputs": [],
   "source": [
    "# import os\n",
    "\n",
    "# os.chdir('/Documents/CBA_Stats')\n",
    "\n",
    "import pandas as pd\n",
    "import re\n",
    "from cbastats import DBHelper\n",
    "import datetime\n",
    "import pytz\n",
    "\n",
    "# from cbastats import Scraper\n",
    "from cbastats import ScraperMongo\n",
    "from cbastats.Team import *\n",
    "from cbastats.Player import *\n",
    "from tqdm.notebook import tqdm\n",
    "import json"
   ]
  },
  {
   "cell_type": "markdown",
   "metadata": {},
   "source": [
    "# Scrape Schedule"
   ]
  },
  {
   "cell_type": "code",
   "execution_count": 2,
   "metadata": {},
   "outputs": [],
   "source": [
    "sina_scraper = ScraperMongo.SinaScraper(ScraperMongo.SINA_SCHEDULE_BASE_URL,ScraperMongo.ENCODING, ScraperMongo.PARSER, ScraperMongo.HEADERS)"
   ]
  },
  {
   "cell_type": "code",
   "execution_count": 3,
   "metadata": {
    "scrolled": true
   },
   "outputs": [
    {
     "data": {
      "text/plain": [
       "{'qleagueid': {'20-21': '206',\n",
       "  '19-20': '205',\n",
       "  '18-19': '198',\n",
       "  '17-18': '189',\n",
       "  '16-17': '180',\n",
       "  '15-16': '171',\n",
       "  '14-15': '158',\n",
       "  '13-14': '136',\n",
       "  '12-13': '107',\n",
       "  '11-12': '83',\n",
       "  '10-11': '69',\n",
       "  '09-10': '56',\n",
       "  '08-09': '44',\n",
       "  '07-08': '9',\n",
       "  '06-07': '2',\n",
       "  '05-06': '1'},\n",
       " 'qmonth': {'全部': '',\n",
       "  '11': '11',\n",
       "  '12': '12',\n",
       "  '01': '01',\n",
       "  '02': '02',\n",
       "  '03': '03',\n",
       "  '04': '04',\n",
       "  '05': '05',\n",
       "  '06': '06',\n",
       "  '07': '07',\n",
       "  '08': '08',\n",
       "  '09': '09',\n",
       "  '10': '10'},\n",
       " 'qteamid': {'全部': '',\n",
       "  '广东': '1',\n",
       "  '江苏': '2',\n",
       "  '上海': '4',\n",
       "  '浙江': '6',\n",
       "  '福建': '7',\n",
       "  '深圳': '8',\n",
       "  '辽宁': '9',\n",
       "  '北京': '10',\n",
       "  '新疆': '11',\n",
       "  '吉林': '12',\n",
       "  '广州': '13',\n",
       "  '山西': '14',\n",
       "  '山东': '15',\n",
       "  '广厦': '16',\n",
       "  '天津': '113',\n",
       "  '青岛': '114',\n",
       "  '四川': '182',\n",
       "  '同曦': '368',\n",
       "  '北控': '369'}}"
      ]
     },
     "execution_count": 3,
     "metadata": {},
     "output_type": "execute_result"
    }
   ],
   "source": [
    "sina_scraper.scraper_params"
   ]
  },
  {
   "cell_type": "code",
   "execution_count": 54,
   "metadata": {
    "scrolled": true
   },
   "outputs": [
    {
     "data": {
      "application/vnd.jupyter.widget-view+json": {
       "model_id": "801b765e51824efaaee96b3f85fbd69b",
       "version_major": 2,
       "version_minor": 0
      },
      "text/plain": [
       "HBox(children=(FloatProgress(value=0.0, max=16.0), HTML(value='')))"
      ]
     },
     "metadata": {},
     "output_type": "display_data"
    },
    {
     "name": "stdout",
     "output_type": "stream",
     "text": [
      "Not full refresh. Only scraping current season: 20-21\n"
     ]
    },
    {
     "data": {
      "text/plain": [
       "351"
      ]
     },
     "execution_count": 54,
     "metadata": {},
     "output_type": "execute_result"
    }
   ],
   "source": [
    "seasons_to_scrape = [key for key in sina_scraper.scraper_params['qleagueid']]\n",
    "scraped_schedule=[]\n",
    "FULL_REFRESH = False\n",
    "for season_to_scrape in tqdm(seasons_to_scrape):\n",
    "    if FULL_REFRESH:\n",
    "        print(f'You have 10 seconds to stop a full refresh of {len(seasons_to_scrape)} seasons.')\n",
    "        time.sleep(10)\n",
    "    else:\n",
    "        print(f'Not full refresh. Only scraping current season: {sina_scraper.current_season}')\n",
    "        scraped_schedule.extend(sina_scraper.scrape_schedule(season=sina_scraper.current_season))\n",
    "        break\n",
    "    if season_to_scrape == '05-06':\n",
    "        print('skip 05-06 season - 无上场时间数据')\n",
    "        continue\n",
    "    scraped_schedule.extend(sina_scraper.scrape_schedule(season=season_to_scrape))\n",
    "    ScraperMongo.time.sleep(5)\n",
    "\n",
    "len(scraped_schedule)"
   ]
  },
  {
   "cell_type": "code",
   "execution_count": 55,
   "metadata": {},
   "outputs": [
    {
     "data": {
      "text/plain": [
       "{'轮次': '第1轮',\n",
       " '日期': Timestamp('2020-10-17 16:00:00+0800', tz='Asia/Shanghai'),\n",
       " '主队': '江苏',\n",
       " '比分': '94:102',\n",
       " '客队': '青岛',\n",
       " '战报': '战报',\n",
       " '统计': '统计',\n",
       " '组图': '组图',\n",
       " '地点': '诸暨',\n",
       " '电视': '',\n",
       " '轮次_link': '',\n",
       " '日期_link': '',\n",
       " '主队_link': 'http://cba.sports.sina.com.cn/cba/team/show/2/',\n",
       " '比分_link': 'http://cba.sports.sina.com.cn/cba/schedule/show/19143/',\n",
       " '客队_link': 'http://cba.sports.sina.com.cn/cba/team/show/114/',\n",
       " '战报_link': 'https://sports.sina.com.cn/basketball/cba/2020-10-17/doc-iiznezxr6527423.shtml',\n",
       " '统计_link': 'http://cba.sports.sina.com.cn/cba/schedule/show/19143/',\n",
       " '组图_link': 'http://slide.sports.sina.com.cn/cba/slide_2_792_255844.html',\n",
       " '地点_link': '',\n",
       " '电视_link': '',\n",
       " 'GameID_Sina': '19143',\n",
       " '客队ID': '114',\n",
       " '主队ID': '2',\n",
       " '赛季': '20-21',\n",
       " '详细统计': '',\n",
       " '比赛回合': ''}"
      ]
     },
     "execution_count": 55,
     "metadata": {},
     "output_type": "execute_result"
    }
   ],
   "source": [
    "scraped_schedule[0]"
   ]
  },
  {
   "cell_type": "markdown",
   "metadata": {},
   "source": [
    "# Connect Database"
   ]
  },
  {
   "cell_type": "code",
   "execution_count": 2,
   "metadata": {
    "scrolled": true
   },
   "outputs": [
    {
     "name": "stdout",
     "output_type": "stream",
     "text": [
      "existing database ['cbaStats', 'admin', 'local']\n"
     ]
    },
    {
     "data": {
      "text/plain": [
       "['cbaAllGamesBoxScore',\n",
       " 'cbaGamesStaging',\n",
       " 'uniqueBoxScores',\n",
       " 'seasonTeamStats',\n",
       " 'seasonPlayerStats',\n",
       " 'cbaGames']"
      ]
     },
     "execution_count": 2,
     "metadata": {},
     "output_type": "execute_result"
    }
   ],
   "source": [
    "mongodbio =DBHelper.MongoDBHelper() \n",
    "client = mongodbio.create_connection(DBHelper.MONGODB_USERNAME,DBHelper.MONGODB_PWD,DBHelper.MONGODB_ENDPOINT)\n",
    "\n",
    "db = client['cbaStats']\n",
    "\n",
    "db.list_collection_names()"
   ]
  },
  {
   "cell_type": "code",
   "execution_count": 3,
   "metadata": {},
   "outputs": [],
   "source": [
    "coll_cbaGames = db['cbaGames']\n",
    "coll_cbaGamesStaging=db['cbaGamesStaging']"
   ]
  },
  {
   "cell_type": "raw",
   "metadata": {},
   "source": [
    "coll_cbaGames.delete_many({})"
   ]
  },
  {
   "cell_type": "markdown",
   "metadata": {},
   "source": [
    "# Update games: "
   ]
  },
  {
   "cell_type": "code",
   "execution_count": 58,
   "metadata": {},
   "outputs": [
    {
     "name": "stdout",
     "output_type": "stream",
     "text": [
      "----------clean up staging collection----------\n",
      "cbaGamesStaging operation acknowledged!\n",
      "351 records were deleted from cbaGamesStaging .\n",
      "cbaGames has 5496 docs.\n",
      "cbaGamesStaging has 0 docs.\n",
      "----------insert records into staging collection----------\n",
      "cbaGamesStaging operation acknowledged!\n",
      "351 records were inserted into cbaGamesStaging.\n",
      "----------checking what records to insert into production----------\n",
      "Production is up-to-date\n",
      "cbaGames has 5496 docs.\n"
     ]
    }
   ],
   "source": [
    "result = mongodbio.insert_new_games(scraped_schedule,coll_cbaGames,coll_cbaGamesStaging)"
   ]
  },
  {
   "cell_type": "code",
   "execution_count": 59,
   "metadata": {
    "scrolled": true
   },
   "outputs": [
    {
     "data": {
      "text/plain": [
       "{'轮次': '第1轮',\n",
       " '日期': Timestamp('2020-10-17 16:00:00+0800', tz='Asia/Shanghai'),\n",
       " '主队': '江苏',\n",
       " '比分': '94:102',\n",
       " '客队': '青岛',\n",
       " '战报': '战报',\n",
       " '统计': '统计',\n",
       " '组图': '组图',\n",
       " '地点': '诸暨',\n",
       " '电视': '',\n",
       " '轮次_link': '',\n",
       " '日期_link': '',\n",
       " '主队_link': 'http://cba.sports.sina.com.cn/cba/team/show/2/',\n",
       " '比分_link': 'http://cba.sports.sina.com.cn/cba/schedule/show/19143/',\n",
       " '客队_link': 'http://cba.sports.sina.com.cn/cba/team/show/114/',\n",
       " '战报_link': 'https://sports.sina.com.cn/basketball/cba/2020-10-17/doc-iiznezxr6527423.shtml',\n",
       " '统计_link': 'http://cba.sports.sina.com.cn/cba/schedule/show/19143/',\n",
       " '组图_link': 'http://slide.sports.sina.com.cn/cba/slide_2_792_255844.html',\n",
       " '地点_link': '',\n",
       " '电视_link': '',\n",
       " 'GameID_Sina': '19143',\n",
       " '客队ID': '114',\n",
       " '主队ID': '2',\n",
       " '赛季': '20-21',\n",
       " '详细统计': '',\n",
       " '比赛回合': '',\n",
       " '_id': ObjectId('600c7f1bf78ef9ab030126c1')}"
      ]
     },
     "execution_count": 59,
     "metadata": {},
     "output_type": "execute_result"
    }
   ],
   "source": [
    "scraped_schedule[0]"
   ]
  },
  {
   "cell_type": "code",
   "execution_count": 10,
   "metadata": {
    "scrolled": true
   },
   "outputs": [
    {
     "data": {
      "text/plain": [
       "datetime.datetime(2021, 1, 23, 15, 1, 0, 934453, tzinfo=<UTC>)"
      ]
     },
     "execution_count": 10,
     "metadata": {},
     "output_type": "execute_result"
    }
   ],
   "source": [
    "current_time = datetime.datetime.now()\n",
    "timezone_est = pytz.timezone('US/Eastern')\n",
    "timezone_utc = pytz.timezone('UTC')\n",
    "current_time = timezone_utc.localize(current_time)\n",
    "current_time"
   ]
  },
  {
   "cell_type": "markdown",
   "metadata": {},
   "source": [
    "### Update game final score\n",
    "\n",
    "score may be not final when schedule is updated"
   ]
  },
  {
   "cell_type": "code",
   "execution_count": 60,
   "metadata": {
    "scrolled": true
   },
   "outputs": [],
   "source": [
    "# update score\n",
    "# if there is a change to the score, everything in that document will be reset\n",
    "results=[]\n",
    "for game in scraped_schedule:\n",
    "    game.pop('_id',None)\n",
    "    result=coll_cbaGames.find_one_and_update(\n",
    "        filter={\"$and\":[{'GameID_Sina':game['GameID_Sina']},\n",
    "                        {'比分':{\"$ne\":game['比分']}}\n",
    "                        ]},\n",
    "        update={'$set': game})\n",
    "    if result:\n",
    "        results.append(result)"
   ]
  },
  {
   "cell_type": "code",
   "execution_count": 61,
   "metadata": {},
   "outputs": [
    {
     "data": {
      "text/plain": [
       "0"
      ]
     },
     "execution_count": 61,
     "metadata": {},
     "output_type": "execute_result"
    }
   ],
   "source": [
    "len(results)"
   ]
  },
  {
   "cell_type": "markdown",
   "metadata": {},
   "source": [
    "# Update Game Stats within each game\n",
    "\n",
    "TODO: put updated games stats into coll_cbaAllGamesBoxScore = db['cbaAllGamesBoxScore'] -> get unique GameID_Sina, delete those (just in case there are duplicates) -> add new game stats"
   ]
  },
  {
   "cell_type": "code",
   "execution_count": 13,
   "metadata": {
    "scrolled": true
   },
   "outputs": [],
   "source": [
    "# only updates games that was started before this moment\n",
    "schedule_to_scrape=mongodbio.select_records(coll_cbaGames,\n",
    "                                            filter={'详细统计':'',\n",
    "                                                   '比分':{\"$ne\":'VS'}})"
   ]
  },
  {
   "cell_type": "code",
   "execution_count": 14,
   "metadata": {},
   "outputs": [
    {
     "data": {
      "text/plain": [
       "5"
      ]
     },
     "execution_count": 14,
     "metadata": {},
     "output_type": "execute_result"
    }
   ],
   "source": [
    "len(schedule_to_scrape)"
   ]
  },
  {
   "cell_type": "code",
   "execution_count": 15,
   "metadata": {
    "scrolled": true
   },
   "outputs": [
    {
     "name": "stderr",
     "output_type": "stream",
     "text": [
      "100%|██████████| 5/5 [00:11<00:00,  2.23s/it]\n"
     ]
    }
   ],
   "source": [
    "games_stats, bad_scrapes= sina_scraper.scrape_games(schedule_to_scrape)\n",
    "if bad_scrapes:\n",
    "    raise Exception('need to fix bad_scrapes')\n",
    "else:\n",
    "    pass"
   ]
  },
  {
   "cell_type": "code",
   "execution_count": 16,
   "metadata": {},
   "outputs": [
    {
     "name": "stdout",
     "output_type": "stream",
     "text": [
      "19684\n",
      "19683\n",
      "19686\n",
      "19685\n",
      "19682\n"
     ]
    }
   ],
   "source": [
    "# put game_stats into a dictionary\n",
    "game_stats_dict={}\n",
    "unique_gameids = list(games_stats['GameID_Sina'].value_counts().index)\n",
    "for gameid in unique_gameids:\n",
    "    game_stats_dict[gameid] = games_stats.loc[games_stats['GameID_Sina']==gameid].to_dict('record')\n",
    "\n",
    "# update the stats in mongo\n",
    "results=[]\n",
    "for game_id, game_stats in game_stats_dict.items():\n",
    "    print(game_id)\n",
    "    results.append(coll_cbaGames.update_one({'GameID_Sina':game_id},{\"$set\":{\"详细统计\":game_stats}}))"
   ]
  },
  {
   "cell_type": "markdown",
   "metadata": {},
   "source": [
    "### Manual Fix"
   ]
  },
  {
   "cell_type": "raw",
   "metadata": {},
   "source": [
    "# http://cba.sports.sina.com.cn/cba/schedule/show/3174/\n",
    "# 无数据统计或数据有错误\n",
    "coll_cbaGames.update_one({'GameID_Sina':'3174'},{\"$set\":{\"详细统计\":\n",
    "                                                        [{'球员_link': None}]}})\n",
    "coll_cbaGames.update_one({'GameID_Sina':'2939'},{\"$set\":{\"详细统计\":\n",
    "                                                        [{'球员_link': None}]}})\n",
    "coll_cbaGames.update_one({'GameID_Sina':'2936'},{\"$set\":{\"详细统计\":\n",
    "                                                        [{'球员_link': None}]}})"
   ]
  },
  {
   "cell_type": "markdown",
   "metadata": {},
   "source": [
    "# Insert new stats into cbaAllGamesBoxScore"
   ]
  },
  {
   "cell_type": "markdown",
   "metadata": {},
   "source": [
    "### Insert into coll_cbaAllGamesBoxScore = db['cbaAllGamesBoxScore']"
   ]
  },
  {
   "cell_type": "code",
   "execution_count": 17,
   "metadata": {},
   "outputs": [],
   "source": [
    "coll_cbaAllGamesBoxScore = db['cbaAllGamesBoxScore']"
   ]
  },
  {
   "cell_type": "code",
   "execution_count": 18,
   "metadata": {},
   "outputs": [
    {
     "name": "stdout",
     "output_type": "stream",
     "text": [
      "19684\n",
      "cbaAllGamesBoxScore operation acknowledged!\n",
      "0 records were deleted from cbaAllGamesBoxScore .\n",
      "cbaAllGamesBoxScore operation acknowledged!\n",
      "45 records were inserted into cbaAllGamesBoxScore.\n",
      "19683\n",
      "cbaAllGamesBoxScore operation acknowledged!\n",
      "0 records were deleted from cbaAllGamesBoxScore .\n",
      "cbaAllGamesBoxScore operation acknowledged!\n",
      "39 records were inserted into cbaAllGamesBoxScore.\n",
      "19686\n",
      "cbaAllGamesBoxScore operation acknowledged!\n",
      "0 records were deleted from cbaAllGamesBoxScore .\n",
      "cbaAllGamesBoxScore operation acknowledged!\n",
      "39 records were inserted into cbaAllGamesBoxScore.\n",
      "19685\n",
      "cbaAllGamesBoxScore operation acknowledged!\n",
      "0 records were deleted from cbaAllGamesBoxScore .\n",
      "cbaAllGamesBoxScore operation acknowledged!\n",
      "39 records were inserted into cbaAllGamesBoxScore.\n",
      "19682\n",
      "cbaAllGamesBoxScore operation acknowledged!\n",
      "37 records were deleted from cbaAllGamesBoxScore .\n",
      "cbaAllGamesBoxScore operation acknowledged!\n",
      "37 records were inserted into cbaAllGamesBoxScore.\n"
     ]
    }
   ],
   "source": [
    "for game_id, game_stats in game_stats_dict.items():\n",
    "    print(game_id)\n",
    "    mongodbio.delete_records(coll_cbaAllGamesBoxScore,{'GameID_Sina':game_id})\n",
    "    mongodbio.insert_records(coll_cbaAllGamesBoxScore,game_stats)"
   ]
  },
  {
   "cell_type": "markdown",
   "metadata": {},
   "source": [
    "# use cbaAllGamesBoxScore to update unique boxscore (full update)\n",
    "\n",
    "TODO: partial update? use new game_stats to update unique boxscore\n",
    "\n",
    "TODO: add a field: insert time, to determine new boxscore"
   ]
  },
  {
   "cell_type": "code",
   "execution_count": 19,
   "metadata": {},
   "outputs": [
    {
     "data": {
      "text/plain": [
       "(137846, 33)"
      ]
     },
     "execution_count": 19,
     "metadata": {},
     "output_type": "execute_result"
    }
   ],
   "source": [
    "coll_cbaAllGamesBoxScore = db['cbaAllGamesBoxScore']\n",
    "\n",
    "all_box_scores=pd.DataFrame(mongodbio.select_records(coll_cbaAllGamesBoxScore,{}))\n",
    "all_box_scores.shape"
   ]
  },
  {
   "cell_type": "code",
   "execution_count": 20,
   "metadata": {
    "scrolled": true
   },
   "outputs": [
    {
     "data": {
      "text/html": [
       "<div>\n",
       "<style scoped>\n",
       "    .dataframe tbody tr th:only-of-type {\n",
       "        vertical-align: middle;\n",
       "    }\n",
       "\n",
       "    .dataframe tbody tr th {\n",
       "        vertical-align: top;\n",
       "    }\n",
       "\n",
       "    .dataframe thead th {\n",
       "        text-align: right;\n",
       "    }\n",
       "</style>\n",
       "<table border=\"1\" class=\"dataframe\">\n",
       "  <thead>\n",
       "    <tr style=\"text-align: right;\">\n",
       "      <th></th>\n",
       "      <th>index</th>\n",
       "      <th>篮板</th>\n",
       "      <th>助攻</th>\n",
       "      <th>抢断</th>\n",
       "      <th>盖帽</th>\n",
       "      <th>得分</th>\n",
       "      <th>_id</th>\n",
       "      <th>球员_link</th>\n",
       "      <th>球员</th>\n",
       "      <th>号码</th>\n",
       "      <th>...</th>\n",
       "      <th>对手ID</th>\n",
       "      <th>球队</th>\n",
       "      <th>对手</th>\n",
       "      <th>地点</th>\n",
       "      <th>2分中</th>\n",
       "      <th>2分投</th>\n",
       "      <th>3分中</th>\n",
       "      <th>3分投</th>\n",
       "      <th>罚球中</th>\n",
       "      <th>罚球投</th>\n",
       "    </tr>\n",
       "  </thead>\n",
       "  <tbody>\n",
       "    <tr>\n",
       "      <th>0</th>\n",
       "      <td>0</td>\n",
       "      <td>10.0</td>\n",
       "      <td>4.0</td>\n",
       "      <td>2.0</td>\n",
       "      <td>0.0</td>\n",
       "      <td>82.0</td>\n",
       "      <td>600a58a14d892ff35d137944</td>\n",
       "      <td>http://cba.sports.sina.com.cn/cba/player/show/...</td>\n",
       "      <td>麦克鲁姆</td>\n",
       "      <td>3</td>\n",
       "      <td>...</td>\n",
       "      <td>1</td>\n",
       "      <td>浙江</td>\n",
       "      <td>广东</td>\n",
       "      <td></td>\n",
       "      <td>21.0</td>\n",
       "      <td>35.0</td>\n",
       "      <td>5.0</td>\n",
       "      <td>14.0</td>\n",
       "      <td>25.0</td>\n",
       "      <td>27.0</td>\n",
       "    </tr>\n",
       "    <tr>\n",
       "      <th>1</th>\n",
       "      <td>1</td>\n",
       "      <td>1.0</td>\n",
       "      <td>5.0</td>\n",
       "      <td>8.0</td>\n",
       "      <td>0.0</td>\n",
       "      <td>75.0</td>\n",
       "      <td>600a58b74d892ff35d1402b1</td>\n",
       "      <td>http://cba.sports.sina.com.cn/cba/player/show/...</td>\n",
       "      <td>昆西杜比</td>\n",
       "      <td>5</td>\n",
       "      <td>...</td>\n",
       "      <td>14</td>\n",
       "      <td>浙江</td>\n",
       "      <td>山西</td>\n",
       "      <td>义乌</td>\n",
       "      <td>16.0</td>\n",
       "      <td>23.0</td>\n",
       "      <td>9.0</td>\n",
       "      <td>15.0</td>\n",
       "      <td>16.0</td>\n",
       "      <td>20.0</td>\n",
       "    </tr>\n",
       "    <tr>\n",
       "      <th>2</th>\n",
       "      <td>2</td>\n",
       "      <td>8.0</td>\n",
       "      <td>7.0</td>\n",
       "      <td>4.0</td>\n",
       "      <td>0.0</td>\n",
       "      <td>75.0</td>\n",
       "      <td>600a585d4d892ff35d1236c0</td>\n",
       "      <td>http://cba.sports.sina.com.cn/cba/player/show/...</td>\n",
       "      <td>弗雷戴特</td>\n",
       "      <td>32</td>\n",
       "      <td>...</td>\n",
       "      <td>369</td>\n",
       "      <td>上海</td>\n",
       "      <td>北控</td>\n",
       "      <td>北京</td>\n",
       "      <td>17.0</td>\n",
       "      <td>24.0</td>\n",
       "      <td>7.0</td>\n",
       "      <td>10.0</td>\n",
       "      <td>20.0</td>\n",
       "      <td>21.0</td>\n",
       "    </tr>\n",
       "    <tr>\n",
       "      <th>3</th>\n",
       "      <td>3</td>\n",
       "      <td>10.0</td>\n",
       "      <td>4.0</td>\n",
       "      <td>1.0</td>\n",
       "      <td>0.0</td>\n",
       "      <td>74.0</td>\n",
       "      <td>600a58ab4d892ff35d13b850</td>\n",
       "      <td>http://cba.sports.sina.com.cn/cba/player/show/...</td>\n",
       "      <td>鲍比-布朗</td>\n",
       "      <td>6</td>\n",
       "      <td>...</td>\n",
       "      <td>182</td>\n",
       "      <td>东莞</td>\n",
       "      <td>四川</td>\n",
       "      <td>成都 四川省体育馆</td>\n",
       "      <td>21.0</td>\n",
       "      <td>37.0</td>\n",
       "      <td>5.0</td>\n",
       "      <td>15.0</td>\n",
       "      <td>17.0</td>\n",
       "      <td>20.0</td>\n",
       "    </tr>\n",
       "    <tr>\n",
       "      <th>4</th>\n",
       "      <td>4</td>\n",
       "      <td>4.0</td>\n",
       "      <td>2.0</td>\n",
       "      <td>1.0</td>\n",
       "      <td>0.0</td>\n",
       "      <td>74.0</td>\n",
       "      <td>600a58884d892ff35d1333e5</td>\n",
       "      <td>http://cba.sports.sina.com.cn/cba/player/show/...</td>\n",
       "      <td>康宁汉姆</td>\n",
       "      <td>6</td>\n",
       "      <td>...</td>\n",
       "      <td>7</td>\n",
       "      <td>同曦</td>\n",
       "      <td>福建</td>\n",
       "      <td></td>\n",
       "      <td>15.0</td>\n",
       "      <td>24.0</td>\n",
       "      <td>7.0</td>\n",
       "      <td>14.0</td>\n",
       "      <td>23.0</td>\n",
       "      <td>29.0</td>\n",
       "    </tr>\n",
       "    <tr>\n",
       "      <th>...</th>\n",
       "      <td>...</td>\n",
       "      <td>...</td>\n",
       "      <td>...</td>\n",
       "      <td>...</td>\n",
       "      <td>...</td>\n",
       "      <td>...</td>\n",
       "      <td>...</td>\n",
       "      <td>...</td>\n",
       "      <td>...</td>\n",
       "      <td>...</td>\n",
       "      <td>...</td>\n",
       "      <td>...</td>\n",
       "      <td>...</td>\n",
       "      <td>...</td>\n",
       "      <td>...</td>\n",
       "      <td>...</td>\n",
       "      <td>...</td>\n",
       "      <td>...</td>\n",
       "      <td>...</td>\n",
       "      <td>...</td>\n",
       "      <td>...</td>\n",
       "    </tr>\n",
       "    <tr>\n",
       "      <th>106423</th>\n",
       "      <td>29136</td>\n",
       "      <td>4.0</td>\n",
       "      <td>2.0</td>\n",
       "      <td>1.0</td>\n",
       "      <td>0.0</td>\n",
       "      <td>0.0</td>\n",
       "      <td>600a58a74d892ff35d139618</td>\n",
       "      <td>http://cba.sports.sina.com.cn/cba/player/show/...</td>\n",
       "      <td>陈江华</td>\n",
       "      <td>6</td>\n",
       "      <td>...</td>\n",
       "      <td>4</td>\n",
       "      <td>广东</td>\n",
       "      <td>上海</td>\n",
       "      <td></td>\n",
       "      <td>0.0</td>\n",
       "      <td>3.0</td>\n",
       "      <td>0.0</td>\n",
       "      <td>3.0</td>\n",
       "      <td>0.0</td>\n",
       "      <td>0.0</td>\n",
       "    </tr>\n",
       "    <tr>\n",
       "      <th>106424</th>\n",
       "      <td>29136</td>\n",
       "      <td>4.0</td>\n",
       "      <td>2.0</td>\n",
       "      <td>1.0</td>\n",
       "      <td>0.0</td>\n",
       "      <td>0.0</td>\n",
       "      <td>600a58ac4d892ff35d13c467</td>\n",
       "      <td>http://cba.sports.sina.com.cn/cba/player/show/...</td>\n",
       "      <td>张伟</td>\n",
       "      <td>24</td>\n",
       "      <td>...</td>\n",
       "      <td>10</td>\n",
       "      <td>广厦</td>\n",
       "      <td>北京</td>\n",
       "      <td></td>\n",
       "      <td>0.0</td>\n",
       "      <td>1.0</td>\n",
       "      <td>0.0</td>\n",
       "      <td>1.0</td>\n",
       "      <td>0.0</td>\n",
       "      <td>0.0</td>\n",
       "    </tr>\n",
       "    <tr>\n",
       "      <th>106425</th>\n",
       "      <td>29136</td>\n",
       "      <td>4.0</td>\n",
       "      <td>2.0</td>\n",
       "      <td>1.0</td>\n",
       "      <td>0.0</td>\n",
       "      <td>0.0</td>\n",
       "      <td>600a58c04d892ff35d1426ca</td>\n",
       "      <td>http://cba.sports.sina.com.cn/cba/player/show/...</td>\n",
       "      <td>解立彬</td>\n",
       "      <td>7</td>\n",
       "      <td>...</td>\n",
       "      <td>8</td>\n",
       "      <td>北京</td>\n",
       "      <td>东莞</td>\n",
       "      <td></td>\n",
       "      <td>0.0</td>\n",
       "      <td>2.0</td>\n",
       "      <td>0.0</td>\n",
       "      <td>1.0</td>\n",
       "      <td>0.0</td>\n",
       "      <td>0.0</td>\n",
       "    </tr>\n",
       "    <tr>\n",
       "      <th>106426</th>\n",
       "      <td>29136</td>\n",
       "      <td>4.0</td>\n",
       "      <td>2.0</td>\n",
       "      <td>1.0</td>\n",
       "      <td>0.0</td>\n",
       "      <td>0.0</td>\n",
       "      <td>600a58c04d892ff35d1430f6</td>\n",
       "      <td>http://cba.sports.sina.com.cn/cba/player/show/...</td>\n",
       "      <td>郭磊</td>\n",
       "      <td>12</td>\n",
       "      <td>...</td>\n",
       "      <td>7</td>\n",
       "      <td>山东</td>\n",
       "      <td>福建</td>\n",
       "      <td></td>\n",
       "      <td>0.0</td>\n",
       "      <td>1.0</td>\n",
       "      <td>0.0</td>\n",
       "      <td>0.0</td>\n",
       "      <td>0.0</td>\n",
       "      <td>0.0</td>\n",
       "    </tr>\n",
       "    <tr>\n",
       "      <th>106427</th>\n",
       "      <td>29137</td>\n",
       "      <td>11.0</td>\n",
       "      <td>2.0</td>\n",
       "      <td>1.0</td>\n",
       "      <td>0.0</td>\n",
       "      <td>0.0</td>\n",
       "      <td>600a58a14d892ff35d1381fd</td>\n",
       "      <td>http://cba.sports.sina.com.cn/cba/player/show/...</td>\n",
       "      <td>曾文鼎</td>\n",
       "      <td>4</td>\n",
       "      <td>...</td>\n",
       "      <td>113</td>\n",
       "      <td>上海</td>\n",
       "      <td>天津</td>\n",
       "      <td></td>\n",
       "      <td>0.0</td>\n",
       "      <td>5.0</td>\n",
       "      <td>0.0</td>\n",
       "      <td>4.0</td>\n",
       "      <td>0.0</td>\n",
       "      <td>0.0</td>\n",
       "    </tr>\n",
       "  </tbody>\n",
       "</table>\n",
       "<p>106428 rows × 34 columns</p>\n",
       "</div>"
      ],
      "text/plain": [
       "        index    篮板   助攻   抢断   盖帽    得分                       _id  \\\n",
       "0           0  10.0  4.0  2.0  0.0  82.0  600a58a14d892ff35d137944   \n",
       "1           1   1.0  5.0  8.0  0.0  75.0  600a58b74d892ff35d1402b1   \n",
       "2           2   8.0  7.0  4.0  0.0  75.0  600a585d4d892ff35d1236c0   \n",
       "3           3  10.0  4.0  1.0  0.0  74.0  600a58ab4d892ff35d13b850   \n",
       "4           4   4.0  2.0  1.0  0.0  74.0  600a58884d892ff35d1333e5   \n",
       "...       ...   ...  ...  ...  ...   ...                       ...   \n",
       "106423  29136   4.0  2.0  1.0  0.0   0.0  600a58a74d892ff35d139618   \n",
       "106424  29136   4.0  2.0  1.0  0.0   0.0  600a58ac4d892ff35d13c467   \n",
       "106425  29136   4.0  2.0  1.0  0.0   0.0  600a58c04d892ff35d1426ca   \n",
       "106426  29136   4.0  2.0  1.0  0.0   0.0  600a58c04d892ff35d1430f6   \n",
       "106427  29137  11.0  2.0  1.0  0.0   0.0  600a58a14d892ff35d1381fd   \n",
       "\n",
       "                                                  球员_link     球员  号码  ...  \\\n",
       "0       http://cba.sports.sina.com.cn/cba/player/show/...   麦克鲁姆   3  ...   \n",
       "1       http://cba.sports.sina.com.cn/cba/player/show/...   昆西杜比   5  ...   \n",
       "2       http://cba.sports.sina.com.cn/cba/player/show/...   弗雷戴特  32  ...   \n",
       "3       http://cba.sports.sina.com.cn/cba/player/show/...  鲍比-布朗   6  ...   \n",
       "4       http://cba.sports.sina.com.cn/cba/player/show/...   康宁汉姆   6  ...   \n",
       "...                                                   ...    ...  ..  ...   \n",
       "106423  http://cba.sports.sina.com.cn/cba/player/show/...    陈江华   6  ...   \n",
       "106424  http://cba.sports.sina.com.cn/cba/player/show/...     张伟  24  ...   \n",
       "106425  http://cba.sports.sina.com.cn/cba/player/show/...    解立彬   7  ...   \n",
       "106426  http://cba.sports.sina.com.cn/cba/player/show/...     郭磊  12  ...   \n",
       "106427  http://cba.sports.sina.com.cn/cba/player/show/...    曾文鼎   4  ...   \n",
       "\n",
       "        对手ID  球队  对手         地点   2分中   2分投  3分中   3分投   罚球中   罚球投  \n",
       "0          1  浙江  广东             21.0  35.0  5.0  14.0  25.0  27.0  \n",
       "1         14  浙江  山西         义乌  16.0  23.0  9.0  15.0  16.0  20.0  \n",
       "2        369  上海  北控         北京  17.0  24.0  7.0  10.0  20.0  21.0  \n",
       "3        182  东莞  四川  成都 四川省体育馆  21.0  37.0  5.0  15.0  17.0  20.0  \n",
       "4          7  同曦  福建             15.0  24.0  7.0  14.0  23.0  29.0  \n",
       "...      ...  ..  ..        ...   ...   ...  ...   ...   ...   ...  \n",
       "106423     4  广东  上海              0.0   3.0  0.0   3.0   0.0   0.0  \n",
       "106424    10  广厦  北京              0.0   1.0  0.0   1.0   0.0   0.0  \n",
       "106425     8  北京  东莞              0.0   2.0  0.0   1.0   0.0   0.0  \n",
       "106426     7  山东  福建              0.0   1.0  0.0   0.0   0.0   0.0  \n",
       "106427   113  上海  天津              0.0   5.0  0.0   4.0   0.0   0.0  \n",
       "\n",
       "[106428 rows x 34 columns]"
      ]
     },
     "execution_count": 20,
     "metadata": {},
     "output_type": "execute_result"
    }
   ],
   "source": [
    "simple_boxscores = all_box_scores[['篮板', '助攻','抢断','盖帽','得分']].copy()\n",
    "\n",
    "uniq_simple_boxscores = simple_boxscores.drop_duplicates().sort_values(by='得分',ascending=False).reset_index(drop=True)\n",
    "\n",
    "uniq_simple_boxscores = uniq_simple_boxscores.reset_index()\n",
    "\n",
    "#删除所有数据统计为0 的数据\n",
    "uniq_simple_boxscores.drop(uniq_simple_boxscores.loc[uniq_simple_boxscores[['篮板', '助攻', '抢断', '盖帽', '得分']].sum(axis=1)==0].index,inplace=True)\n",
    "\n",
    "unique_boxscores = uniq_simple_boxscores.merge(all_box_scores,on=['篮板', '助攻', '抢断', '盖帽', '得分'])\n",
    "unique_boxscores.head()"
   ]
  },
  {
   "cell_type": "code",
   "execution_count": 24,
   "metadata": {},
   "outputs": [
    {
     "data": {
      "application/vnd.jupyter.widget-view+json": {
       "model_id": "7893e2fef62e4757940b3a3aaef9cf2d",
       "version_major": 2,
       "version_minor": 0
      },
      "text/plain": [
       "HBox(children=(FloatProgress(value=0.0, max=29137.0), HTML(value='')))"
      ]
     },
     "metadata": {},
     "output_type": "display_data"
    },
    {
     "name": "stdout",
     "output_type": "stream",
     "text": [
      "\n"
     ]
    }
   ],
   "source": [
    "occurrences = uniq_simple_boxscores.to_dict('record')\n",
    "\n",
    "for row in tqdm(occurrences):\n",
    "    row['事件'] = unique_boxscores.loc[unique_boxscores['index']==row['index']].to_dict('record')"
   ]
  },
  {
   "cell_type": "code",
   "execution_count": 38,
   "metadata": {
    "scrolled": true
   },
   "outputs": [
    {
     "data": {
      "text/plain": [
       "{'index': 0,\n",
       " '篮板': 10.0,\n",
       " '助攻': 4.0,\n",
       " '抢断': 2.0,\n",
       " '盖帽': 0.0,\n",
       " '得分': 82.0,\n",
       " '事件': [{'index': 0,\n",
       "   '篮板': 10.0,\n",
       "   '助攻': 4.0,\n",
       "   '抢断': 2.0,\n",
       "   '盖帽': 0.0,\n",
       "   '得分': 82.0,\n",
       "   '_id': ObjectId('600a58a14d892ff35d137944'),\n",
       "   '球员_link': 'http://cba.sports.sina.com.cn/cba/player/show/4834/',\n",
       "   '球员': '麦克鲁姆',\n",
       "   '号码': '3',\n",
       "   '出场时间': 48.0,\n",
       "   '首发': 1.0,\n",
       "   '进攻篮板': 2.0,\n",
       "   '防守篮板': 8.0,\n",
       "   '犯规': 5.0,\n",
       "   '失误': 5.0,\n",
       "   '扣篮': 1.0,\n",
       "   '被侵': 20.0,\n",
       "   '快攻': '',\n",
       "   '轮次': '第37轮',\n",
       "   '日期': Timestamp('2015-01-30 11:35:00'),\n",
       "   '赛季': '14-15',\n",
       "   'GameID_Sina': '13056',\n",
       "   '球队ID': '6',\n",
       "   '对手ID': '1',\n",
       "   '球队': '浙江',\n",
       "   '对手': '广东',\n",
       "   '地点': '',\n",
       "   '2分中': 21.0,\n",
       "   '2分投': 35.0,\n",
       "   '3分中': 5.0,\n",
       "   '3分投': 14.0,\n",
       "   '罚球中': 25.0,\n",
       "   '罚球投': 27.0}],\n",
       " '_id': ObjectId('600c3bdbf78ef9ab0300b4ef')}"
      ]
     },
     "execution_count": 38,
     "metadata": {},
     "output_type": "execute_result"
    }
   ],
   "source": [
    "occurrences[0]"
   ]
  },
  {
   "cell_type": "code",
   "execution_count": 25,
   "metadata": {
    "scrolled": true
   },
   "outputs": [
    {
     "name": "stdout",
     "output_type": "stream",
     "text": [
      "uniqueBoxScores operation acknowledged!\n",
      "29120 records were deleted from uniqueBoxScores .\n"
     ]
    },
    {
     "data": {
      "application/vnd.jupyter.widget-view+json": {
       "model_id": "5e97e0ed52f04265a41befd70cf381dd",
       "version_major": 2,
       "version_minor": 0
      },
      "text/plain": [
       "HBox(children=(FloatProgress(value=1.0, bar_style='info', max=1.0), HTML(value='')))"
      ]
     },
     "metadata": {},
     "output_type": "display_data"
    },
    {
     "name": "stdout",
     "output_type": "stream",
     "text": [
      "uniqueBoxScores operation acknowledged!\n",
      "1000 records were inserted into uniqueBoxScores.\n",
      "uniqueBoxScores operation acknowledged!\n",
      "1000 records were inserted into uniqueBoxScores.\n",
      "uniqueBoxScores operation acknowledged!\n",
      "1000 records were inserted into uniqueBoxScores.\n",
      "uniqueBoxScores operation acknowledged!\n",
      "1000 records were inserted into uniqueBoxScores.\n",
      "uniqueBoxScores operation acknowledged!\n",
      "1000 records were inserted into uniqueBoxScores.\n",
      "uniqueBoxScores operation acknowledged!\n",
      "1000 records were inserted into uniqueBoxScores.\n",
      "uniqueBoxScores operation acknowledged!\n",
      "1000 records were inserted into uniqueBoxScores.\n",
      "uniqueBoxScores operation acknowledged!\n",
      "1000 records were inserted into uniqueBoxScores.\n",
      "uniqueBoxScores operation acknowledged!\n",
      "1000 records were inserted into uniqueBoxScores.\n",
      "uniqueBoxScores operation acknowledged!\n",
      "1000 records were inserted into uniqueBoxScores.\n",
      "uniqueBoxScores operation acknowledged!\n",
      "1000 records were inserted into uniqueBoxScores.\n",
      "uniqueBoxScores operation acknowledged!\n",
      "1000 records were inserted into uniqueBoxScores.\n",
      "uniqueBoxScores operation acknowledged!\n",
      "1000 records were inserted into uniqueBoxScores.\n",
      "uniqueBoxScores operation acknowledged!\n",
      "1000 records were inserted into uniqueBoxScores.\n",
      "uniqueBoxScores operation acknowledged!\n",
      "1000 records were inserted into uniqueBoxScores.\n",
      "uniqueBoxScores operation acknowledged!\n",
      "1000 records were inserted into uniqueBoxScores.\n",
      "uniqueBoxScores operation acknowledged!\n",
      "1000 records were inserted into uniqueBoxScores.\n",
      "uniqueBoxScores operation acknowledged!\n",
      "1000 records were inserted into uniqueBoxScores.\n",
      "uniqueBoxScores operation acknowledged!\n",
      "1000 records were inserted into uniqueBoxScores.\n",
      "uniqueBoxScores operation acknowledged!\n",
      "1000 records were inserted into uniqueBoxScores.\n",
      "uniqueBoxScores operation acknowledged!\n",
      "1000 records were inserted into uniqueBoxScores.\n",
      "uniqueBoxScores operation acknowledged!\n",
      "1000 records were inserted into uniqueBoxScores.\n",
      "uniqueBoxScores operation acknowledged!\n",
      "1000 records were inserted into uniqueBoxScores.\n",
      "uniqueBoxScores operation acknowledged!\n",
      "1000 records were inserted into uniqueBoxScores.\n",
      "uniqueBoxScores operation acknowledged!\n",
      "1000 records were inserted into uniqueBoxScores.\n",
      "uniqueBoxScores operation acknowledged!\n",
      "1000 records were inserted into uniqueBoxScores.\n",
      "uniqueBoxScores operation acknowledged!\n",
      "1000 records were inserted into uniqueBoxScores.\n",
      "uniqueBoxScores operation acknowledged!\n",
      "1000 records were inserted into uniqueBoxScores.\n",
      "uniqueBoxScores operation acknowledged!\n",
      "1000 records were inserted into uniqueBoxScores.\n",
      "uniqueBoxScores operation acknowledged!\n",
      "137 records were inserted into uniqueBoxScores.\n",
      "\n"
     ]
    }
   ],
   "source": [
    "def batch_list(lst:list, batch_size=1):\n",
    "    l = len(lst)\n",
    "    for ndx in range(0, l, batch_size):\n",
    "        yield lst[ndx:min(ndx + batch_size, l)]\n",
    "\n",
    "coll_uniqueBoxScores = db['uniqueBoxScores']\n",
    "mongodbio.delete_records(coll_uniqueBoxScores,{})\n",
    "bad_batch = []\n",
    "for batch in tqdm(batch_list(occurrences,1000)):\n",
    "    try:\n",
    "        mongodbio.insert_records(coll_uniqueBoxScores,batch)\n",
    "    except:\n",
    "        bad_batch.extend(batch)"
   ]
  },
  {
   "cell_type": "markdown",
   "metadata": {},
   "source": [
    "# 从新数据中找出罕见数据"
   ]
  },
  {
   "cell_type": "code",
   "execution_count": 50,
   "metadata": {},
   "outputs": [],
   "source": [
    "box_score_item=['篮板','助攻','抢断','盖帽','得分']\n",
    "field_to_select = {item:1 for item in box_score_item}"
   ]
  },
  {
   "cell_type": "code",
   "execution_count": 49,
   "metadata": {
    "scrolled": false
   },
   "outputs": [
    {
     "data": {
      "application/vnd.jupyter.widget-view+json": {
       "model_id": "3ab9ed89f6694eacafb9c60b706c9e7f",
       "version_major": 2,
       "version_minor": 0
      },
      "text/plain": [
       "HBox(children=(FloatProgress(value=0.0, max=5.0), HTML(value='')))"
      ]
     },
     "metadata": {},
     "output_type": "display_data"
    },
    {
     "name": "stdout",
     "output_type": "stream",
     "text": [
      "checking game: 19684\n"
     ]
    },
    {
     "data": {
      "application/vnd.jupyter.widget-view+json": {
       "model_id": "81283be6f71b44e28cb5a79a6c200495",
       "version_major": 2,
       "version_minor": 0
      },
      "text/plain": [
       "HBox(children=(FloatProgress(value=0.0, max=45.0), HTML(value='')))"
      ]
     },
     "metadata": {},
     "output_type": "display_data"
    },
    {
     "name": "stdout",
     "output_type": "stream",
     "text": [
      "\n",
      "checking game: 19683\n"
     ]
    },
    {
     "data": {
      "application/vnd.jupyter.widget-view+json": {
       "model_id": "3abdae69199c46adb2d103d6a1888bec",
       "version_major": 2,
       "version_minor": 0
      },
      "text/plain": [
       "HBox(children=(FloatProgress(value=0.0, max=39.0), HTML(value='')))"
      ]
     },
     "metadata": {},
     "output_type": "display_data"
    },
    {
     "name": "stdout",
     "output_type": "stream",
     "text": [
      "\n",
      "checking game: 19686\n"
     ]
    },
    {
     "data": {
      "application/vnd.jupyter.widget-view+json": {
       "model_id": "13ea32fbcce84cc3b2dc9efb679f74fd",
       "version_major": 2,
       "version_minor": 0
      },
      "text/plain": [
       "HBox(children=(FloatProgress(value=0.0, max=39.0), HTML(value='')))"
      ]
     },
     "metadata": {},
     "output_type": "display_data"
    },
    {
     "name": "stdout",
     "output_type": "stream",
     "text": [
      "\n",
      "checking game: 19685\n"
     ]
    },
    {
     "data": {
      "application/vnd.jupyter.widget-view+json": {
       "model_id": "04ed9804b565480190d4f97116238736",
       "version_major": 2,
       "version_minor": 0
      },
      "text/plain": [
       "HBox(children=(FloatProgress(value=0.0, max=39.0), HTML(value='')))"
      ]
     },
     "metadata": {},
     "output_type": "display_data"
    },
    {
     "name": "stdout",
     "output_type": "stream",
     "text": [
      "\n",
      "checking game: 19682\n"
     ]
    },
    {
     "data": {
      "application/vnd.jupyter.widget-view+json": {
       "model_id": "501013a6baf646588b209ff9ad08ec59",
       "version_major": 2,
       "version_minor": 0
      },
      "text/plain": [
       "HBox(children=(FloatProgress(value=0.0, max=37.0), HTML(value='')))"
      ]
     },
     "metadata": {},
     "output_type": "display_data"
    },
    {
     "name": "stdout",
     "output_type": "stream",
     "text": [
      "\n",
      "\n"
     ]
    }
   ],
   "source": [
    "coll_uniqueBoxScores = db['uniqueBoxScores']\n",
    "# coll_uniqueBoxScores.find_one({})\n",
    "\n",
    "def print_rare_stats(coll_uniqueBoxScores,player_stats:dict):\n",
    "    # TODO: print上次出现时间或上次出现的球员\n",
    "    # srasb:score,rebound,assists,steal,block\n",
    "    srasb=coll_uniqueBoxScores.count_documents({'篮板': {\"$gte\":player_stats['篮板']},\n",
    "                                              '助攻': {\"$gte\":player_stats['助攻']},\n",
    "                                              '抢断': {\"$gte\":player_stats['抢断']},\n",
    "                                              '盖帽': {\"$gte\":player_stats['盖帽']},\n",
    "                                              '得分': {\"$gte\":player_stats['得分']}})\n",
    "    srab=coll_uniqueBoxScores.count_documents({'篮板': {\"$gte\":player_stats['篮板']},\n",
    "                                              '助攻': {\"$gte\":player_stats['助攻']},\n",
    "                                              '盖帽': {\"$gte\":player_stats['盖帽']},\n",
    "                                              '得分': {\"$gte\":player_stats['得分']}})\n",
    "    sras=coll_uniqueBoxScores.count_documents({'篮板': {\"$gte\":player_stats['篮板']},\n",
    "                                              '助攻': {\"$gte\":player_stats['助攻']},\n",
    "                                              '盖帽': {\"$gte\":player_stats['抢断']},\n",
    "                                              '得分': {\"$gte\":player_stats['得分']}})\n",
    "    sra=coll_uniqueBoxScores.count_documents({'篮板': {\"$gte\":player_stats['篮板']},\n",
    "                                              '助攻': {\"$gte\":player_stats['助攻']},\n",
    "                                              '得分': {\"$gte\":player_stats['得分']}})\n",
    "    if (srasb<=10)|(srab<=10)|(sras<=10)|(sra<=10):\n",
    "        print('------------------------------------------------')\n",
    "        print(f\"{player_stats['赛季']}赛季,{player_stats['日期']}，{player_stats['球队']}的{player_stats['球员']}，得分 {player_stats['得分']}，篮板 {player_stats['篮板']}，助攻 {player_stats['助攻']}，抢断 {player_stats['抢断']}，盖帽 {player_stats['盖帽']}\")\n",
    "        print(f\"得分，篮板，助攻，抢断，盖帽->历史上第{srasb}次出现\")\n",
    "        print(f\"得分，篮板，助攻，抢断->历史上第{sras}次出现\")\n",
    "        print(f\"得分，篮板，助攻，盖帽->历史上第{srab}次出现\")\n",
    "        print(f\"得分，篮板，助攻->历史上第{sra}次出现\")\n",
    "        print('------------------------------------------------')\n",
    "        \n",
    "\n",
    "rare_stats=[]\n",
    "for game_id, game_stats in tqdm(game_stats_dict.items(),unit='game'):\n",
    "    print(f\"checking game: {game_id}\")\n",
    "    for player_stats in tqdm(game_stats,unit='player stats'):\n",
    "        if sum([player_stats[item] for item in box_score_item])==0:\n",
    "            continue\n",
    "        print_rare_stats(coll_uniqueBoxScores,player_stats)\n",
    "        rare_stats.append(player_stats)"
   ]
  },
  {
   "cell_type": "markdown",
   "metadata": {},
   "source": [
    "# 数据历史排行榜\n",
    "\n",
    "新浪数据不全，直接从官方scrape"
   ]
  },
  {
   "cell_type": "raw",
   "metadata": {},
   "source": [
    "import requests\n",
    "headers={\"User-Agent\": \"Mozilla/5.0 (Windows NT 6.1; Win64; x64) AppleWebKit/537.36 (KHTML, like Gecko) Chrome/72.0.3626.119 Safari/537.36\"}\n",
    "# data = {\"currentdate\": game_date,\"leagueID\": leagueID}\n",
    "\n",
    "r = requests.get(r\"https://server.cbaleague.com/data/player_season?ranktype=Points&season=1995&matchtypeid=1\",headers=headers)\n",
    "\n",
    "page_content = r.content.decode()\n",
    "page_content\n",
    "\n",
    "\n",
    "json.loads(r.content)"
   ]
  },
  {
   "cell_type": "code",
   "execution_count": null,
   "metadata": {},
   "outputs": [],
   "source": []
  },
  {
   "cell_type": "code",
   "execution_count": null,
   "metadata": {},
   "outputs": [],
   "source": []
  },
  {
   "cell_type": "code",
   "execution_count": null,
   "metadata": {},
   "outputs": [],
   "source": []
  },
  {
   "cell_type": "code",
   "execution_count": null,
   "metadata": {},
   "outputs": [],
   "source": []
  },
  {
   "cell_type": "code",
   "execution_count": null,
   "metadata": {},
   "outputs": [],
   "source": []
  },
  {
   "cell_type": "markdown",
   "metadata": {},
   "source": [
    "# Update Calculated Stats"
   ]
  },
  {
   "cell_type": "markdown",
   "metadata": {},
   "source": [
    "### Get GameStats"
   ]
  },
  {
   "cell_type": "code",
   "execution_count": 87,
   "metadata": {},
   "outputs": [
    {
     "data": {
      "text/plain": [
       "'20-21'"
      ]
     },
     "execution_count": 87,
     "metadata": {},
     "output_type": "execute_result"
    }
   ],
   "source": [
    "sina_scraper.current_season"
   ]
  },
  {
   "cell_type": "code",
   "execution_count": 88,
   "metadata": {},
   "outputs": [],
   "source": [
    "# pull data \n",
    "all_data = mongodbio.select_records(coll_cbaGames,filter={'详细统计':{\"$ne\":''},'赛季':sina_scraper.current_season})\n",
    "\n",
    "# convert to a pandas dataframe\n",
    "all_games_stats = []\n",
    "for game in all_data:\n",
    "    for row in game['详细统计']:\n",
    "        all_games_stats.append(row)\n",
    "\n",
    "df_all_games_stats=pd.DataFrame(all_games_stats)"
   ]
  },
  {
   "cell_type": "code",
   "execution_count": 89,
   "metadata": {
    "scrolled": true
   },
   "outputs": [
    {
     "data": {
      "text/plain": [
       "Index(['球员_link', '球员', '号码', '出场时间', '首发', '进攻篮板', '防守篮板', '助攻', '犯规', '抢断',\n",
       "       '失误', '盖帽', '扣篮', '被侵', '快攻', '得分', '轮次', '日期', '赛季', 'GameID_Sina',\n",
       "       '球队ID', '对手ID', '球队', '对手', '地点', '2分中', '2分投', '3分中', '3分投', '罚球中',\n",
       "       '罚球投', '篮板'],\n",
       "      dtype='object')"
      ]
     },
     "execution_count": 89,
     "metadata": {},
     "output_type": "execute_result"
    }
   ],
   "source": [
    "df_all_games_stats.columns"
   ]
  },
  {
   "cell_type": "markdown",
   "metadata": {},
   "source": [
    "### Calculate Team Stats"
   ]
  },
  {
   "cell_type": "code",
   "execution_count": 90,
   "metadata": {
    "scrolled": true
   },
   "outputs": [
    {
     "data": {
      "text/html": [
       "<div>\n",
       "<style scoped>\n",
       "    .dataframe tbody tr th:only-of-type {\n",
       "        vertical-align: middle;\n",
       "    }\n",
       "\n",
       "    .dataframe tbody tr th {\n",
       "        vertical-align: top;\n",
       "    }\n",
       "\n",
       "    .dataframe thead th {\n",
       "        text-align: right;\n",
       "    }\n",
       "</style>\n",
       "<table border=\"1\" class=\"dataframe\">\n",
       "  <thead>\n",
       "    <tr style=\"text-align: right;\">\n",
       "      <th></th>\n",
       "      <th>场均净胜分MOV</th>\n",
       "      <th>Pace</th>\n",
       "      <th>OffensiveRating</th>\n",
       "      <th>DefensiveRating</th>\n",
       "      <th>NetRating</th>\n",
       "    </tr>\n",
       "    <tr>\n",
       "      <th>球队</th>\n",
       "      <th></th>\n",
       "      <th></th>\n",
       "      <th></th>\n",
       "      <th></th>\n",
       "      <th></th>\n",
       "    </tr>\n",
       "  </thead>\n",
       "  <tbody>\n",
       "    <tr>\n",
       "      <th>辽宁</th>\n",
       "      <td>14.4</td>\n",
       "      <td>93.8</td>\n",
       "      <td>124.7</td>\n",
       "      <td>109.0</td>\n",
       "      <td>15.6</td>\n",
       "    </tr>\n",
       "    <tr>\n",
       "      <th>广东</th>\n",
       "      <td>14.8</td>\n",
       "      <td>102.3</td>\n",
       "      <td>123.0</td>\n",
       "      <td>108.2</td>\n",
       "      <td>14.8</td>\n",
       "    </tr>\n",
       "    <tr>\n",
       "      <th>浙江</th>\n",
       "      <td>10.4</td>\n",
       "      <td>94.9</td>\n",
       "      <td>119.4</td>\n",
       "      <td>108.3</td>\n",
       "      <td>11.1</td>\n",
       "    </tr>\n",
       "    <tr>\n",
       "      <th>新疆</th>\n",
       "      <td>5.0</td>\n",
       "      <td>94.9</td>\n",
       "      <td>115.9</td>\n",
       "      <td>110.5</td>\n",
       "      <td>5.4</td>\n",
       "    </tr>\n",
       "    <tr>\n",
       "      <th>山东</th>\n",
       "      <td>4.0</td>\n",
       "      <td>94.7</td>\n",
       "      <td>113.4</td>\n",
       "      <td>109.2</td>\n",
       "      <td>4.3</td>\n",
       "    </tr>\n",
       "    <tr>\n",
       "      <th>广厦</th>\n",
       "      <td>2.3</td>\n",
       "      <td>95.1</td>\n",
       "      <td>118.1</td>\n",
       "      <td>115.7</td>\n",
       "      <td>2.5</td>\n",
       "    </tr>\n",
       "    <tr>\n",
       "      <th>吉林</th>\n",
       "      <td>1.9</td>\n",
       "      <td>91.2</td>\n",
       "      <td>115.6</td>\n",
       "      <td>113.4</td>\n",
       "      <td>2.2</td>\n",
       "    </tr>\n",
       "    <tr>\n",
       "      <th>青岛</th>\n",
       "      <td>1.9</td>\n",
       "      <td>95.3</td>\n",
       "      <td>112.1</td>\n",
       "      <td>110.1</td>\n",
       "      <td>2.0</td>\n",
       "    </tr>\n",
       "    <tr>\n",
       "      <th>上海</th>\n",
       "      <td>0.7</td>\n",
       "      <td>93.6</td>\n",
       "      <td>115.8</td>\n",
       "      <td>115.0</td>\n",
       "      <td>0.8</td>\n",
       "    </tr>\n",
       "    <tr>\n",
       "      <th>广州</th>\n",
       "      <td>-0.6</td>\n",
       "      <td>90.8</td>\n",
       "      <td>110.4</td>\n",
       "      <td>111.0</td>\n",
       "      <td>-0.6</td>\n",
       "    </tr>\n",
       "    <tr>\n",
       "      <th>深圳</th>\n",
       "      <td>-0.8</td>\n",
       "      <td>92.7</td>\n",
       "      <td>111.9</td>\n",
       "      <td>112.8</td>\n",
       "      <td>-0.9</td>\n",
       "    </tr>\n",
       "    <tr>\n",
       "      <th>北控</th>\n",
       "      <td>-1.5</td>\n",
       "      <td>93.4</td>\n",
       "      <td>110.4</td>\n",
       "      <td>112.1</td>\n",
       "      <td>-1.7</td>\n",
       "    </tr>\n",
       "    <tr>\n",
       "      <th>北京</th>\n",
       "      <td>-2.0</td>\n",
       "      <td>89.6</td>\n",
       "      <td>108.5</td>\n",
       "      <td>110.8</td>\n",
       "      <td>-2.3</td>\n",
       "    </tr>\n",
       "    <tr>\n",
       "      <th>四川</th>\n",
       "      <td>-3.2</td>\n",
       "      <td>92.8</td>\n",
       "      <td>109.1</td>\n",
       "      <td>112.6</td>\n",
       "      <td>-3.5</td>\n",
       "    </tr>\n",
       "    <tr>\n",
       "      <th>山西</th>\n",
       "      <td>-3.9</td>\n",
       "      <td>93.2</td>\n",
       "      <td>109.1</td>\n",
       "      <td>113.3</td>\n",
       "      <td>-4.2</td>\n",
       "    </tr>\n",
       "    <tr>\n",
       "      <th>天津</th>\n",
       "      <td>-8.5</td>\n",
       "      <td>95.2</td>\n",
       "      <td>107.6</td>\n",
       "      <td>116.7</td>\n",
       "      <td>-9.1</td>\n",
       "    </tr>\n",
       "    <tr>\n",
       "      <th>江苏</th>\n",
       "      <td>-9.3</td>\n",
       "      <td>94.4</td>\n",
       "      <td>103.4</td>\n",
       "      <td>113.3</td>\n",
       "      <td>-9.9</td>\n",
       "    </tr>\n",
       "    <tr>\n",
       "      <th>福建</th>\n",
       "      <td>-12.1</td>\n",
       "      <td>94.8</td>\n",
       "      <td>112.2</td>\n",
       "      <td>125.4</td>\n",
       "      <td>-13.1</td>\n",
       "    </tr>\n",
       "    <tr>\n",
       "      <th>同曦</th>\n",
       "      <td>-12.9</td>\n",
       "      <td>93.7</td>\n",
       "      <td>104.1</td>\n",
       "      <td>118.1</td>\n",
       "      <td>-14.0</td>\n",
       "    </tr>\n",
       "  </tbody>\n",
       "</table>\n",
       "</div>"
      ],
      "text/plain": [
       "    场均净胜分MOV   Pace  OffensiveRating  DefensiveRating  NetRating\n",
       "球队                                                              \n",
       "辽宁      14.4   93.8            124.7            109.0       15.6\n",
       "广东      14.8  102.3            123.0            108.2       14.8\n",
       "浙江      10.4   94.9            119.4            108.3       11.1\n",
       "新疆       5.0   94.9            115.9            110.5        5.4\n",
       "山东       4.0   94.7            113.4            109.2        4.3\n",
       "广厦       2.3   95.1            118.1            115.7        2.5\n",
       "吉林       1.9   91.2            115.6            113.4        2.2\n",
       "青岛       1.9   95.3            112.1            110.1        2.0\n",
       "上海       0.7   93.6            115.8            115.0        0.8\n",
       "广州      -0.6   90.8            110.4            111.0       -0.6\n",
       "深圳      -0.8   92.7            111.9            112.8       -0.9\n",
       "北控      -1.5   93.4            110.4            112.1       -1.7\n",
       "北京      -2.0   89.6            108.5            110.8       -2.3\n",
       "四川      -3.2   92.8            109.1            112.6       -3.5\n",
       "山西      -3.9   93.2            109.1            113.3       -4.2\n",
       "天津      -8.5   95.2            107.6            116.7       -9.1\n",
       "江苏      -9.3   94.4            103.4            113.3       -9.9\n",
       "福建     -12.1   94.8            112.2            125.4      -13.1\n",
       "同曦     -12.9   93.7            104.1            118.1      -14.0"
      ]
     },
     "execution_count": 90,
     "metadata": {},
     "output_type": "execute_result"
    }
   ],
   "source": [
    "teams = Team('',df_all_games_stats)\n",
    "\n",
    "teams_df = pd.concat([teams.mov, teams.tm_pace, teams.tm_ortg, teams.tm_drtg, teams.tm_nrtg], axis=1)\n",
    "\n",
    "teams_df.columns=['场均净胜分MOV', 'Pace', 'OffensiveRating', 'DefensiveRating', 'NetRating']\n",
    "teams_df = teams_df.sort_values(by='NetRating',ascending=False)\n",
    "teams_df.round(1)"
   ]
  },
  {
   "cell_type": "markdown",
   "metadata": {},
   "source": [
    "### Truncate and Insert Curent Season Team Stats"
   ]
  },
  {
   "cell_type": "code",
   "execution_count": 91,
   "metadata": {},
   "outputs": [
    {
     "data": {
      "text/plain": [
       "['cbaAllGamesBoxScore',\n",
       " 'cbaGamesStaging',\n",
       " 'uniqueBoxScores',\n",
       " 'seasonTeamStats',\n",
       " 'seasonPlayerStats',\n",
       " 'cbaGames']"
      ]
     },
     "execution_count": 91,
     "metadata": {},
     "output_type": "execute_result"
    }
   ],
   "source": [
    "db.list_collection_names()"
   ]
  },
  {
   "cell_type": "code",
   "execution_count": 92,
   "metadata": {},
   "outputs": [
    {
     "name": "stdout",
     "output_type": "stream",
     "text": [
      "seasonTeamStats operation acknowledged!\n",
      "19 records were deleted from seasonTeamStats .\n",
      "seasonTeamStats operation acknowledged!\n",
      "19 records were inserted into seasonTeamStats.\n"
     ]
    },
    {
     "data": {
      "text/plain": [
       "<pymongo.results.InsertManyResult at 0x7f2d47bda0f0>"
      ]
     },
     "execution_count": 92,
     "metadata": {},
     "output_type": "execute_result"
    }
   ],
   "source": [
    "coll_teamStats = db['seasonTeamStats']\n",
    "\n",
    "# insert\n",
    "mongodbio.delete_records(coll_teamStats,{})\n",
    "mongodbio.insert_records(coll_teamStats,teams_df.to_dict('record'))"
   ]
  },
  {
   "cell_type": "markdown",
   "metadata": {},
   "source": [
    "### Calculate Player Stats"
   ]
  },
  {
   "cell_type": "code",
   "execution_count": 93,
   "metadata": {},
   "outputs": [
    {
     "data": {
      "text/html": [
       "<div>\n",
       "<style scoped>\n",
       "    .dataframe tbody tr th:only-of-type {\n",
       "        vertical-align: middle;\n",
       "    }\n",
       "\n",
       "    .dataframe tbody tr th {\n",
       "        vertical-align: top;\n",
       "    }\n",
       "\n",
       "    .dataframe thead th {\n",
       "        text-align: right;\n",
       "    }\n",
       "</style>\n",
       "<table border=\"1\" class=\"dataframe\">\n",
       "  <thead>\n",
       "    <tr style=\"text-align: right;\">\n",
       "      <th></th>\n",
       "      <th>球员</th>\n",
       "      <th>球队</th>\n",
       "      <th>OffensiveRating</th>\n",
       "      <th>DefensiveRating</th>\n",
       "      <th>NetRating</th>\n",
       "      <th>UsagePercent</th>\n",
       "      <th>出场时间</th>\n",
       "      <th>首发</th>\n",
       "      <th>进攻篮板</th>\n",
       "      <th>防守篮板</th>\n",
       "      <th>...</th>\n",
       "      <th>被侵</th>\n",
       "      <th>得分</th>\n",
       "      <th>2分中</th>\n",
       "      <th>2分投</th>\n",
       "      <th>3分中</th>\n",
       "      <th>3分投</th>\n",
       "      <th>罚球中</th>\n",
       "      <th>罚球投</th>\n",
       "      <th>篮板</th>\n",
       "      <th>出场</th>\n",
       "    </tr>\n",
       "  </thead>\n",
       "  <tbody>\n",
       "    <tr>\n",
       "      <th>266</th>\n",
       "      <td>约翰逊</td>\n",
       "      <td>青岛</td>\n",
       "      <td>116.918434</td>\n",
       "      <td>111.932798</td>\n",
       "      <td>4.985636</td>\n",
       "      <td>30.504621</td>\n",
       "      <td>380</td>\n",
       "      <td>7</td>\n",
       "      <td>63</td>\n",
       "      <td>116</td>\n",
       "      <td>...</td>\n",
       "      <td>118</td>\n",
       "      <td>288</td>\n",
       "      <td>105</td>\n",
       "      <td>162</td>\n",
       "      <td>0</td>\n",
       "      <td>0</td>\n",
       "      <td>78</td>\n",
       "      <td>151</td>\n",
       "      <td>179</td>\n",
       "      <td>15</td>\n",
       "    </tr>\n",
       "    <tr>\n",
       "      <th>39</th>\n",
       "      <td>刘传兴</td>\n",
       "      <td>青岛</td>\n",
       "      <td>117.669163</td>\n",
       "      <td>114.691009</td>\n",
       "      <td>2.978154</td>\n",
       "      <td>15.277952</td>\n",
       "      <td>628</td>\n",
       "      <td>18</td>\n",
       "      <td>78</td>\n",
       "      <td>143</td>\n",
       "      <td>...</td>\n",
       "      <td>88</td>\n",
       "      <td>230</td>\n",
       "      <td>79</td>\n",
       "      <td>131</td>\n",
       "      <td>0</td>\n",
       "      <td>0</td>\n",
       "      <td>72</td>\n",
       "      <td>102</td>\n",
       "      <td>221</td>\n",
       "      <td>29</td>\n",
       "    </tr>\n",
       "    <tr>\n",
       "      <th>250</th>\n",
       "      <td>王睿泽</td>\n",
       "      <td>青岛</td>\n",
       "      <td>117.487166</td>\n",
       "      <td>115.428752</td>\n",
       "      <td>2.058414</td>\n",
       "      <td>18.543895</td>\n",
       "      <td>189</td>\n",
       "      <td>5</td>\n",
       "      <td>6</td>\n",
       "      <td>18</td>\n",
       "      <td>...</td>\n",
       "      <td>6</td>\n",
       "      <td>93</td>\n",
       "      <td>17</td>\n",
       "      <td>31</td>\n",
       "      <td>19</td>\n",
       "      <td>39</td>\n",
       "      <td>2</td>\n",
       "      <td>3</td>\n",
       "      <td>24</td>\n",
       "      <td>9</td>\n",
       "    </tr>\n",
       "    <tr>\n",
       "      <th>158</th>\n",
       "      <td>斯蒂马克</td>\n",
       "      <td>青岛</td>\n",
       "      <td>114.936632</td>\n",
       "      <td>116.047588</td>\n",
       "      <td>-1.110956</td>\n",
       "      <td>28.342506</td>\n",
       "      <td>126</td>\n",
       "      <td>0</td>\n",
       "      <td>26</td>\n",
       "      <td>45</td>\n",
       "      <td>...</td>\n",
       "      <td>22</td>\n",
       "      <td>84</td>\n",
       "      <td>32</td>\n",
       "      <td>58</td>\n",
       "      <td>3</td>\n",
       "      <td>6</td>\n",
       "      <td>11</td>\n",
       "      <td>25</td>\n",
       "      <td>71</td>\n",
       "      <td>9</td>\n",
       "    </tr>\n",
       "    <tr>\n",
       "      <th>318</th>\n",
       "      <td>赵泰隆</td>\n",
       "      <td>青岛</td>\n",
       "      <td>113.728280</td>\n",
       "      <td>116.071007</td>\n",
       "      <td>-2.342726</td>\n",
       "      <td>14.135525</td>\n",
       "      <td>446</td>\n",
       "      <td>16</td>\n",
       "      <td>6</td>\n",
       "      <td>25</td>\n",
       "      <td>...</td>\n",
       "      <td>16</td>\n",
       "      <td>156</td>\n",
       "      <td>18</td>\n",
       "      <td>34</td>\n",
       "      <td>37</td>\n",
       "      <td>96</td>\n",
       "      <td>9</td>\n",
       "      <td>17</td>\n",
       "      <td>31</td>\n",
       "      <td>20</td>\n",
       "    </tr>\n",
       "    <tr>\n",
       "      <th>...</th>\n",
       "      <td>...</td>\n",
       "      <td>...</td>\n",
       "      <td>...</td>\n",
       "      <td>...</td>\n",
       "      <td>...</td>\n",
       "      <td>...</td>\n",
       "      <td>...</td>\n",
       "      <td>...</td>\n",
       "      <td>...</td>\n",
       "      <td>...</td>\n",
       "      <td>...</td>\n",
       "      <td>...</td>\n",
       "      <td>...</td>\n",
       "      <td>...</td>\n",
       "      <td>...</td>\n",
       "      <td>...</td>\n",
       "      <td>...</td>\n",
       "      <td>...</td>\n",
       "      <td>...</td>\n",
       "      <td>...</td>\n",
       "      <td>...</td>\n",
       "    </tr>\n",
       "    <tr>\n",
       "      <th>177</th>\n",
       "      <td>朱瀛</td>\n",
       "      <td>上海</td>\n",
       "      <td>NaN</td>\n",
       "      <td>124.078772</td>\n",
       "      <td>NaN</td>\n",
       "      <td>19.608027</td>\n",
       "      <td>2</td>\n",
       "      <td>0</td>\n",
       "      <td>1</td>\n",
       "      <td>1</td>\n",
       "      <td>...</td>\n",
       "      <td>1</td>\n",
       "      <td>1</td>\n",
       "      <td>0</td>\n",
       "      <td>0</td>\n",
       "      <td>0</td>\n",
       "      <td>0</td>\n",
       "      <td>1</td>\n",
       "      <td>2</td>\n",
       "      <td>2</td>\n",
       "      <td>1</td>\n",
       "    </tr>\n",
       "    <tr>\n",
       "      <th>375</th>\n",
       "      <td>黄旭</td>\n",
       "      <td>上海</td>\n",
       "      <td>NaN</td>\n",
       "      <td>120.851037</td>\n",
       "      <td>NaN</td>\n",
       "      <td>14.483202</td>\n",
       "      <td>40</td>\n",
       "      <td>0</td>\n",
       "      <td>1</td>\n",
       "      <td>1</td>\n",
       "      <td>...</td>\n",
       "      <td>1</td>\n",
       "      <td>17</td>\n",
       "      <td>4</td>\n",
       "      <td>6</td>\n",
       "      <td>3</td>\n",
       "      <td>7</td>\n",
       "      <td>0</td>\n",
       "      <td>0</td>\n",
       "      <td>2</td>\n",
       "      <td>6</td>\n",
       "    </tr>\n",
       "    <tr>\n",
       "      <th>82</th>\n",
       "      <td>周彦旭</td>\n",
       "      <td>上海</td>\n",
       "      <td>NaN</td>\n",
       "      <td>NaN</td>\n",
       "      <td>NaN</td>\n",
       "      <td>NaN</td>\n",
       "      <td>0</td>\n",
       "      <td>0</td>\n",
       "      <td>0</td>\n",
       "      <td>0</td>\n",
       "      <td>...</td>\n",
       "      <td>0</td>\n",
       "      <td>0</td>\n",
       "      <td>0</td>\n",
       "      <td>0</td>\n",
       "      <td>0</td>\n",
       "      <td>0</td>\n",
       "      <td>0</td>\n",
       "      <td>0</td>\n",
       "      <td>0</td>\n",
       "      <td>0</td>\n",
       "    </tr>\n",
       "    <tr>\n",
       "      <th>242</th>\n",
       "      <td>王旭</td>\n",
       "      <td>上海</td>\n",
       "      <td>NaN</td>\n",
       "      <td>NaN</td>\n",
       "      <td>NaN</td>\n",
       "      <td>NaN</td>\n",
       "      <td>0</td>\n",
       "      <td>0</td>\n",
       "      <td>0</td>\n",
       "      <td>0</td>\n",
       "      <td>...</td>\n",
       "      <td>0</td>\n",
       "      <td>0</td>\n",
       "      <td>0</td>\n",
       "      <td>0</td>\n",
       "      <td>0</td>\n",
       "      <td>0</td>\n",
       "      <td>0</td>\n",
       "      <td>0</td>\n",
       "      <td>0</td>\n",
       "      <td>0</td>\n",
       "    </tr>\n",
       "    <tr>\n",
       "      <th>370</th>\n",
       "      <td>高尚</td>\n",
       "      <td>上海</td>\n",
       "      <td>NaN</td>\n",
       "      <td>NaN</td>\n",
       "      <td>NaN</td>\n",
       "      <td>NaN</td>\n",
       "      <td>0</td>\n",
       "      <td>0</td>\n",
       "      <td>0</td>\n",
       "      <td>0</td>\n",
       "      <td>...</td>\n",
       "      <td>0</td>\n",
       "      <td>0</td>\n",
       "      <td>0</td>\n",
       "      <td>0</td>\n",
       "      <td>0</td>\n",
       "      <td>0</td>\n",
       "      <td>0</td>\n",
       "      <td>0</td>\n",
       "      <td>0</td>\n",
       "      <td>0</td>\n",
       "    </tr>\n",
       "  </tbody>\n",
       "</table>\n",
       "<p>380 rows × 26 columns</p>\n",
       "</div>"
      ],
      "text/plain": [
       "       球员  球队  OffensiveRating  DefensiveRating  NetRating  UsagePercent  \\\n",
       "266   约翰逊  青岛       116.918434       111.932798   4.985636     30.504621   \n",
       "39    刘传兴  青岛       117.669163       114.691009   2.978154     15.277952   \n",
       "250   王睿泽  青岛       117.487166       115.428752   2.058414     18.543895   \n",
       "158  斯蒂马克  青岛       114.936632       116.047588  -1.110956     28.342506   \n",
       "318   赵泰隆  青岛       113.728280       116.071007  -2.342726     14.135525   \n",
       "..    ...  ..              ...              ...        ...           ...   \n",
       "177    朱瀛  上海              NaN       124.078772        NaN     19.608027   \n",
       "375    黄旭  上海              NaN       120.851037        NaN     14.483202   \n",
       "82    周彦旭  上海              NaN              NaN        NaN           NaN   \n",
       "242    王旭  上海              NaN              NaN        NaN           NaN   \n",
       "370    高尚  上海              NaN              NaN        NaN           NaN   \n",
       "\n",
       "     出场时间  首发  进攻篮板  防守篮板  ...   被侵   得分  2分中  2分投  3分中  3分投  罚球中  罚球投   篮板  \\\n",
       "266   380   7    63   116  ...  118  288  105  162    0    0   78  151  179   \n",
       "39    628  18    78   143  ...   88  230   79  131    0    0   72  102  221   \n",
       "250   189   5     6    18  ...    6   93   17   31   19   39    2    3   24   \n",
       "158   126   0    26    45  ...   22   84   32   58    3    6   11   25   71   \n",
       "318   446  16     6    25  ...   16  156   18   34   37   96    9   17   31   \n",
       "..    ...  ..   ...   ...  ...  ...  ...  ...  ...  ...  ...  ...  ...  ...   \n",
       "177     2   0     1     1  ...    1    1    0    0    0    0    1    2    2   \n",
       "375    40   0     1     1  ...    1   17    4    6    3    7    0    0    2   \n",
       "82      0   0     0     0  ...    0    0    0    0    0    0    0    0    0   \n",
       "242     0   0     0     0  ...    0    0    0    0    0    0    0    0    0   \n",
       "370     0   0     0     0  ...    0    0    0    0    0    0    0    0    0   \n",
       "\n",
       "     出场  \n",
       "266  15  \n",
       "39   29  \n",
       "250   9  \n",
       "158   9  \n",
       "318  20  \n",
       "..   ..  \n",
       "177   1  \n",
       "375   6  \n",
       "82    0  \n",
       "242   0  \n",
       "370   0  \n",
       "\n",
       "[380 rows x 26 columns]"
      ]
     },
     "execution_count": 93,
     "metadata": {},
     "output_type": "execute_result"
    }
   ],
   "source": [
    "players = Player('',df_all_games_stats)\n",
    "\n",
    "# with pd.option_context('display.max_rows', None, 'display.max_columns', None):\n",
    "players_df = pd.concat([players.plr_ortg, players.plr_drtg, players.plr_nrtg,players.plr_usg], axis=1)\n",
    "\n",
    "players_df.columns=['OffensiveRating', 'DefensiveRating', 'NetRating','UsagePercent']\n",
    "players_df = players_df.sort_values(by=['NetRating','UsagePercent'],ascending=False)\n",
    "\n",
    "\n",
    "players_df = pd.merge(players_df,players.plr_total_stats,left_index=True,right_index=True)\n",
    "players_df.reset_index(inplace=True)\n",
    "players_df.sort_values(by=['球队','NetRating','UsagePercent'],ascending=False,inplace=True)\n",
    "players_df"
   ]
  },
  {
   "cell_type": "markdown",
   "metadata": {},
   "source": [
    "### Truncate and Insert Current Season Player Stats"
   ]
  },
  {
   "cell_type": "code",
   "execution_count": 94,
   "metadata": {},
   "outputs": [
    {
     "name": "stdout",
     "output_type": "stream",
     "text": [
      "seasonPlayerStats operation acknowledged!\n",
      "380 records were deleted from seasonPlayerStats .\n",
      "seasonPlayerStats operation acknowledged!\n",
      "380 records were inserted into seasonPlayerStats.\n"
     ]
    },
    {
     "data": {
      "text/plain": [
       "<pymongo.results.InsertManyResult at 0x7f2d47bd8e60>"
      ]
     },
     "execution_count": 94,
     "metadata": {},
     "output_type": "execute_result"
    }
   ],
   "source": [
    "coll_playerStats = db['seasonPlayerStats']\n",
    "\n",
    "# insert\n",
    "mongodbio.delete_records(coll_playerStats,{})\n",
    "mongodbio.insert_records(coll_playerStats,players_df.to_dict('record'))"
   ]
  },
  {
   "cell_type": "markdown",
   "metadata": {},
   "source": [
    "# Update play by play"
   ]
  },
  {
   "cell_type": "code",
   "execution_count": null,
   "metadata": {},
   "outputs": [],
   "source": []
  },
  {
   "cell_type": "code",
   "execution_count": null,
   "metadata": {},
   "outputs": [],
   "source": []
  },
  {
   "cell_type": "code",
   "execution_count": null,
   "metadata": {},
   "outputs": [],
   "source": []
  },
  {
   "cell_type": "code",
   "execution_count": null,
   "metadata": {},
   "outputs": [],
   "source": []
  },
  {
   "cell_type": "code",
   "execution_count": null,
   "metadata": {},
   "outputs": [],
   "source": []
  },
  {
   "cell_type": "code",
   "execution_count": null,
   "metadata": {},
   "outputs": [],
   "source": []
  },
  {
   "cell_type": "code",
   "execution_count": null,
   "metadata": {},
   "outputs": [],
   "source": []
  },
  {
   "cell_type": "code",
   "execution_count": null,
   "metadata": {},
   "outputs": [],
   "source": []
  },
  {
   "cell_type": "code",
   "execution_count": null,
   "metadata": {},
   "outputs": [],
   "source": []
  },
  {
   "cell_type": "code",
   "execution_count": null,
   "metadata": {},
   "outputs": [],
   "source": []
  },
  {
   "cell_type": "code",
   "execution_count": null,
   "metadata": {},
   "outputs": [],
   "source": []
  }
 ],
 "metadata": {
  "kernelspec": {
   "display_name": "Python 3",
   "language": "python",
   "name": "python3"
  },
  "language_info": {
   "codemirror_mode": {
    "name": "ipython",
    "version": 3
   },
   "file_extension": ".py",
   "mimetype": "text/x-python",
   "name": "python",
   "nbconvert_exporter": "python",
   "pygments_lexer": "ipython3",
   "version": "3.7.6"
  }
 },
 "nbformat": 4,
 "nbformat_minor": 4
}
