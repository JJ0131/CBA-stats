{
 "cells": [
  {
   "cell_type": "code",
   "execution_count": 1,
   "metadata": {},
   "outputs": [],
   "source": [
    "# import os\n",
    "\n",
    "# os.chdir('/Documents/CBA_Stats')\n",
    "\n",
    "import pandas as pd\n",
    "import re\n",
    "from cbastats import DBHelper\n",
    "import datetime\n",
    "import pytz\n",
    "import unicodedata\n",
    "# from cbastats import Scraper\n",
    "from cbastats import ScraperMongo\n",
    "from cbastats.Team import *\n",
    "from cbastats.Player import *\n",
    "#from multiprocessing import Pool\n",
    "from tqdm.notebook import tqdm"
   ]
  },
  {
   "cell_type": "markdown",
   "metadata": {},
   "source": [
    "# Connect Database"
   ]
  },
  {
   "cell_type": "code",
   "execution_count": 2,
   "metadata": {},
   "outputs": [
    {
     "name": "stdout",
     "output_type": "stream",
     "text": [
      "existing database ['cbaStats', 'admin', 'local']\n"
     ]
    },
    {
     "data": {
      "text/plain": [
       "['cbaAllGamesBoxScore',\n",
       " 'cbaGamesStaging',\n",
       " 'uniqueBoxScores',\n",
       " 'seasonTeamStats',\n",
       " 'seasonPlayerStats',\n",
       " 'cbaGames']"
      ]
     },
     "execution_count": 2,
     "metadata": {},
     "output_type": "execute_result"
    }
   ],
   "source": [
    "mongodbio =DBHelper.MongoDBHelper() \n",
    "client = mongodbio.create_connection(DBHelper.MONGODB_USERNAME,DBHelper.MONGODB_PWD,DBHelper.MONGODB_ENDPOINT)\n",
    "\n",
    "db = client['cbaStats']\n",
    "\n",
    "db.list_collection_names()"
   ]
  },
  {
   "cell_type": "code",
   "execution_count": 3,
   "metadata": {},
   "outputs": [],
   "source": [
    "coll_cbaGames = db['cbaGames']\n",
    "coll_cbaGamesStaging=db['cbaGamesStaging']"
   ]
  },
  {
   "cell_type": "raw",
   "metadata": {},
   "source": [
    "coll_cbaGames.delete_many({})"
   ]
  },
  {
   "cell_type": "markdown",
   "metadata": {},
   "source": [
    "# Scrape current schedule"
   ]
  },
  {
   "cell_type": "code",
   "execution_count": 4,
   "metadata": {},
   "outputs": [],
   "source": [
    "sina_scraper = ScraperMongo.SinaScraper(ScraperMongo.SINA_SCHEDULE_BASE_URL,ScraperMongo.ENCODING, ScraperMongo.PARSER, ScraperMongo.HEADERS)"
   ]
  },
  {
   "cell_type": "code",
   "execution_count": 15,
   "metadata": {},
   "outputs": [
    {
     "data": {
      "text/plain": [
       "['20-21',\n",
       " '19-20',\n",
       " '18-19',\n",
       " '17-18',\n",
       " '16-17',\n",
       " '15-16',\n",
       " '14-15',\n",
       " '13-14',\n",
       " '12-13',\n",
       " '11-12',\n",
       " '10-11',\n",
       " '09-10',\n",
       " '08-09',\n",
       " '07-08',\n",
       " '06-07',\n",
       " '05-06']"
      ]
     },
     "execution_count": 15,
     "metadata": {},
     "output_type": "execute_result"
    }
   ],
   "source": [
    "seasons_to_scrape = [key for key in sina_scraper.scraper_params['qleagueid']]\n",
    "seasons_to_scrape"
   ]
  },
  {
   "cell_type": "code",
   "execution_count": 17,
   "metadata": {
    "scrolled": true
   },
   "outputs": [
    {
     "name": "stderr",
     "output_type": "stream",
     "text": [
      "/opt/conda/lib/python3.7/site-packages/ipykernel_launcher.py:2: TqdmDeprecationWarning: This function will be removed in tqdm==5.0.0\n",
      "Please use `tqdm.notebook.tqdm` instead of `tqdm.tqdm_notebook`\n",
      "  \n"
     ]
    },
    {
     "data": {
      "application/vnd.jupyter.widget-view+json": {
       "model_id": "899be89d65854b2bbdfb01cc61072ecb",
       "version_major": 2,
       "version_minor": 0
      },
      "text/plain": [
       "HBox(children=(FloatProgress(value=0.0, max=16.0), HTML(value='')))"
      ]
     },
     "metadata": {},
     "output_type": "display_data"
    },
    {
     "name": "stdout",
     "output_type": "stream",
     "text": [
      "skip 05-06 season - 无上场时间数据\n",
      "\n"
     ]
    }
   ],
   "source": [
    "scraped_schedule=[]\n",
    "for season_to_scrape in tqdm_notebook(seasons_to_scrape):\n",
    "    if season_to_scrape == '05-06':\n",
    "        print('skip 05-06 season - 无上场时间数据')\n",
    "        continue\n",
    "    scraped_schedule.extend(sina_scraper.scrape_schedule(season=season_to_scrape))\n",
    "    ScraperMongo.time.sleep(2)"
   ]
  },
  {
   "cell_type": "code",
   "execution_count": 18,
   "metadata": {},
   "outputs": [
    {
     "name": "stdout",
     "output_type": "stream",
     "text": [
      "----------clean up staging collection----------\n",
      "cbaGamesStaging operation acknowledged!\n",
      "0 records were deleted from cbaGamesStaging .\n",
      "cbaGames has 0 docs.\n",
      "cbaGamesStaging has 0 docs.\n",
      "----------insert records into staging collection----------\n",
      "cbaGamesStaging operation acknowledged!\n",
      "5496 records were inserted into cbaGamesStaging.\n",
      "----------checking what records to insert into production----------\n",
      "----------insert records into production collection----------\n",
      "cbaGames operation acknowledged!\n",
      "5496 records were inserted into cbaGames.\n",
      "cbaGamesStaging operation acknowledged!\n",
      "5496 records were deleted from cbaGamesStaging .\n",
      "cbaGames has 5496 docs.\n",
      "cbaGamesStaging has 0 docs.\n"
     ]
    }
   ],
   "source": [
    "# Insert new games\n",
    "\n",
    "result = mongodbio.insert_new_games(scraped_schedule,coll_cbaGames,coll_cbaGamesStaging)"
   ]
  },
  {
   "cell_type": "markdown",
   "metadata": {},
   "source": [
    "# Update Game Stats within each game"
   ]
  },
  {
   "cell_type": "code",
   "execution_count": 5,
   "metadata": {},
   "outputs": [
    {
     "data": {
      "text/plain": [
       "datetime.datetime(2021, 1, 16, 12, 14, 36, 688150, tzinfo=<UTC>)"
      ]
     },
     "execution_count": 5,
     "metadata": {},
     "output_type": "execute_result"
    }
   ],
   "source": [
    "current_time = datetime.datetime.now()\n",
    "timezone_est = pytz.timezone('US/Eastern')\n",
    "timezone_utc = pytz.timezone('UTC')\n",
    "current_time = timezone_utc.localize(current_time)\n",
    "current_time"
   ]
  },
  {
   "cell_type": "code",
   "execution_count": 6,
   "metadata": {},
   "outputs": [],
   "source": [
    "five_hours = datetime.timedelta(hours=5)"
   ]
  },
  {
   "cell_type": "code",
   "execution_count": 7,
   "metadata": {
    "scrolled": true
   },
   "outputs": [],
   "source": [
    "schedule_to_scrape = list(mongodbio.select_records(coll_cbaGames,filter={'详细统计':'','日期':{\"$lt\":current_time-five_hours}}))"
   ]
  },
  {
   "cell_type": "code",
   "execution_count": 8,
   "metadata": {
    "scrolled": false
   },
   "outputs": [
    {
     "data": {
      "text/plain": [
       "5416"
      ]
     },
     "execution_count": 8,
     "metadata": {},
     "output_type": "execute_result"
    }
   ],
   "source": [
    "len(schedule_to_scrape)"
   ]
  },
  {
   "cell_type": "code",
   "execution_count": 9,
   "metadata": {
    "scrolled": true
   },
   "outputs": [
    {
     "data": {
      "application/vnd.jupyter.widget-view+json": {
       "model_id": "5c5623090947481db504df74b6fb113f",
       "version_major": 2,
       "version_minor": 0
      },
      "text/plain": [
       "HBox(children=(FloatProgress(value=0.0, max=54.0), HTML(value='')))"
      ]
     },
     "metadata": {},
     "output_type": "display_data"
    },
    {
     "name": "stderr",
     "output_type": "stream",
     "text": [
      " 94%|█████████▍| 94/100 [17:48<01:08, 11.36s/it]   \n",
      "100%|██████████| 100/100 [03:45<00:00,  2.25s/it]\n",
      "100%|██████████| 100/100 [03:16<00:00,  1.97s/it]\n",
      "100%|██████████| 100/100 [03:19<00:00,  2.00s/it]\n",
      "100%|██████████| 100/100 [03:04<00:00,  1.84s/it]\n",
      " 99%|█████████▉| 99/100 [08:58<00:05,  5.44s/it]\n",
      "100%|██████████| 100/100 [03:45<00:00,  2.26s/it]\n",
      " 99%|█████████▉| 99/100 [05:18<00:03,  3.22s/it]\n",
      " 99%|█████████▉| 99/100 [05:23<00:03,  3.26s/it]\n",
      "100%|██████████| 100/100 [03:29<00:00,  2.10s/it]\n",
      "100%|██████████| 100/100 [03:47<00:00,  2.28s/it]\n",
      "100%|██████████| 100/100 [04:05<00:00,  2.46s/it]\n",
      "100%|██████████| 100/100 [03:28<00:00,  2.08s/it]\n",
      "100%|██████████| 100/100 [04:05<00:00,  2.45s/it]\n",
      "100%|██████████| 100/100 [03:32<00:00,  2.13s/it]\n",
      "100%|██████████| 100/100 [03:42<00:00,  2.23s/it]\n",
      "100%|██████████| 100/100 [03:48<00:00,  2.28s/it]\n",
      "100%|██████████| 100/100 [03:29<00:00,  2.10s/it]\n",
      " 95%|█████████▌| 95/100 [20:05<01:03, 12.69s/it]   \n",
      "100%|██████████| 100/100 [04:11<00:00,  2.51s/it]\n",
      " 99%|█████████▉| 99/100 [04:37<00:02,  2.81s/it]\n",
      " 99%|█████████▉| 99/100 [05:22<00:03,  3.26s/it]\n",
      "100%|██████████| 100/100 [03:42<00:00,  2.23s/it]\n",
      " 99%|█████████▉| 99/100 [09:29<00:05,  5.75s/it]   \n",
      "100%|██████████| 100/100 [03:52<00:00,  2.32s/it]\n",
      "100%|██████████| 100/100 [04:28<00:00,  2.68s/it]\n",
      " 99%|█████████▉| 99/100 [04:50<00:02,  2.94s/it]\n",
      " 99%|█████████▉| 99/100 [05:02<00:03,  3.05s/it]\n",
      "100%|██████████| 100/100 [03:56<00:00,  2.37s/it]\n",
      "100%|██████████| 100/100 [04:28<00:00,  2.68s/it]\n",
      " 99%|█████████▉| 99/100 [05:23<00:03,  3.26s/it]\n",
      "100%|██████████| 100/100 [04:40<00:00,  2.80s/it]\n",
      "100%|██████████| 100/100 [04:45<00:00,  2.85s/it]\n",
      "100%|██████████| 100/100 [03:49<00:00,  2.30s/it]\n",
      "100%|██████████| 100/100 [05:02<00:00,  3.03s/it]\n",
      " 99%|█████████▉| 99/100 [08:35<00:05,  5.21s/it]  \n",
      "100%|██████████| 100/100 [03:57<00:00,  2.37s/it]\n",
      "100%|██████████| 100/100 [04:50<00:00,  2.90s/it]\n",
      "100%|██████████| 100/100 [04:02<00:00,  2.43s/it]\n",
      "100%|██████████| 100/100 [03:58<00:00,  2.38s/it]\n",
      "100%|██████████| 100/100 [04:31<00:00,  2.72s/it]\n",
      "100%|██████████| 100/100 [04:07<00:00,  2.47s/it]\n",
      "100%|██████████| 100/100 [04:16<00:00,  2.57s/it]\n",
      "100%|██████████| 100/100 [04:14<00:00,  2.54s/it]\n",
      " 98%|█████████▊| 98/100 [03:38<00:04,  2.23s/it]\n",
      "100%|██████████| 100/100 [03:13<00:00,  1.93s/it]\n",
      "100%|██████████| 100/100 [03:04<00:00,  1.85s/it]\n",
      "100%|██████████| 100/100 [03:05<00:00,  1.85s/it]\n",
      "100%|██████████| 100/100 [02:57<00:00,  1.78s/it]\n",
      "100%|██████████| 100/100 [02:56<00:00,  1.76s/it]\n",
      "100%|██████████| 100/100 [03:16<00:00,  1.97s/it]\n",
      "100%|██████████| 100/100 [03:02<00:00,  1.82s/it]\n",
      "100%|██████████| 100/100 [03:10<00:00,  1.90s/it]\n",
      "100%|██████████| 100/100 [03:10<00:00,  1.91s/it]\n",
      "  0%|          | 0/100 [00:00<?, ?it/s]"
     ]
    },
    {
     "name": "stdout",
     "output_type": "stream",
     "text": [
      "\n"
     ]
    },
    {
     "name": "stderr",
     "output_type": "stream",
     "text": [
      "100%|██████████| 100/100 [03:26<00:00,  2.06s/it]\n"
     ]
    }
   ],
   "source": [
    "games_stats=[]\n",
    "bad_scrapes=[]\n",
    "for batch in tqdm(range(len(schedule_to_scrape)//100)):\n",
    "    temp_schedule_to_scrape = schedule_to_scrape[batch*100:100*(batch+1)]\n",
    "    temp_games_stats, temp_bad_scrapes = sina_scraper.scrape_games(temp_schedule_to_scrape,1)\n",
    "    games_stats.append(temp_games_stats)\n",
    "    bad_scrapes.append(temp_bad_scrapes)\n",
    "    \n",
    "# scrape rest of the games\n",
    "temp_games_stats, temp_bad_scrapes = sina_scraper.scrape_games(temp_schedule_to_scrape,1)\n",
    "games_stats.append(temp_games_stats)\n",
    "bad_scrapes.append(temp_bad_scrapes)\n"
   ]
  },
  {
   "cell_type": "code",
   "execution_count": 10,
   "metadata": {
    "scrolled": true
   },
   "outputs": [
    {
     "data": {
      "text/plain": [
       "55"
      ]
     },
     "execution_count": 10,
     "metadata": {},
     "output_type": "execute_result"
    }
   ],
   "source": [
    "len(bad_scrapes)"
   ]
  },
  {
   "cell_type": "code",
   "execution_count": 14,
   "metadata": {},
   "outputs": [
    {
     "data": {
      "text/plain": [
       "55"
      ]
     },
     "execution_count": 14,
     "metadata": {},
     "output_type": "execute_result"
    }
   ],
   "source": [
    "len(games_stats)"
   ]
  },
  {
   "cell_type": "code",
   "execution_count": 26,
   "metadata": {
    "scrolled": false
   },
   "outputs": [],
   "source": [
    "full_games_stats=pd.concat(games_stats, ignore_index=True)"
   ]
  },
  {
   "cell_type": "code",
   "execution_count": 28,
   "metadata": {
    "scrolled": true
   },
   "outputs": [],
   "source": [
    "# put game_stats into a dictionary\n",
    "game_stats_dict={}\n",
    "unique_gameids = list(full_games_stats['GameID_Sina'].value_counts().index)\n",
    "for gameid in unique_gameids:\n",
    "    game_stats_dict[gameid] = full_games_stats.loc[full_games_stats['GameID_Sina']==gameid].to_dict('record')"
   ]
  },
  {
   "cell_type": "code",
   "execution_count": 34,
   "metadata": {},
   "outputs": [
    {
     "data": {
      "text/plain": [
       "5375"
      ]
     },
     "execution_count": 34,
     "metadata": {},
     "output_type": "execute_result"
    }
   ],
   "source": [
    "len(game_stats_dict)"
   ]
  },
  {
   "cell_type": "code",
   "execution_count": 33,
   "metadata": {},
   "outputs": [],
   "source": [
    "# update the stats in mongo\n",
    "results=[]\n",
    "for game_id, game_stats in game_stats_dict.items():\n",
    "#     print(game_id)\n",
    "    results.append(coll_cbaGames.update_one({'GameID_Sina':game_id},{\"$set\":{\"详细统计\":game_stats}}))"
   ]
  },
  {
   "cell_type": "markdown",
   "metadata": {},
   "source": [
    "### Handle Bad Scrapes"
   ]
  },
  {
   "cell_type": "code",
   "execution_count": 39,
   "metadata": {},
   "outputs": [],
   "source": [
    "list_badscrapes=[item for items in bad_scrapes for item in items]"
   ]
  },
  {
   "cell_type": "code",
   "execution_count": null,
   "metadata": {},
   "outputs": [],
   "source": []
  },
  {
   "cell_type": "code",
   "execution_count": null,
   "metadata": {},
   "outputs": [],
   "source": []
  },
  {
   "cell_type": "code",
   "execution_count": null,
   "metadata": {},
   "outputs": [],
   "source": []
  },
  {
   "cell_type": "code",
   "execution_count": null,
   "metadata": {},
   "outputs": [],
   "source": []
  },
  {
   "cell_type": "code",
   "execution_count": null,
   "metadata": {},
   "outputs": [],
   "source": []
  },
  {
   "cell_type": "code",
   "execution_count": null,
   "metadata": {},
   "outputs": [],
   "source": []
  },
  {
   "cell_type": "code",
   "execution_count": null,
   "metadata": {},
   "outputs": [],
   "source": []
  },
  {
   "cell_type": "code",
   "execution_count": null,
   "metadata": {},
   "outputs": [],
   "source": []
  },
  {
   "cell_type": "code",
   "execution_count": null,
   "metadata": {},
   "outputs": [],
   "source": []
  },
  {
   "cell_type": "code",
   "execution_count": null,
   "metadata": {},
   "outputs": [],
   "source": []
  },
  {
   "cell_type": "code",
   "execution_count": null,
   "metadata": {},
   "outputs": [],
   "source": []
  }
 ],
 "metadata": {
  "kernelspec": {
   "display_name": "Python 3",
   "language": "python",
   "name": "python3"
  },
  "language_info": {
   "codemirror_mode": {
    "name": "ipython",
    "version": 3
   },
   "file_extension": ".py",
   "mimetype": "text/x-python",
   "name": "python",
   "nbconvert_exporter": "python",
   "pygments_lexer": "ipython3",
   "version": "3.7.6"
  }
 },
 "nbformat": 4,
 "nbformat_minor": 4
}
