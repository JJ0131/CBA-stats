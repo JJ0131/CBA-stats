{
 "cells": [
  {
   "cell_type": "code",
   "execution_count": 86,
   "metadata": {
    "collapsed": true
   },
   "outputs": [],
   "source": [
    "# import nltk\n",
    "import requests\n",
    "from bs4 import BeautifulSoup\n",
    "# import string\n",
    "from fake_useragent import UserAgent\n",
    "import lxml.html as lh\n",
    "# import newspaper\n",
    "# import random"
   ]
  },
  {
   "cell_type": "code",
   "execution_count": 92,
   "metadata": {
    "scrolled": true
   },
   "outputs": [],
   "source": [
    "ua = UserAgent()\n",
    "header = {'User-Agent':ua.chrome}\n",
    "session = requests.Session()\n",
    "base_url = r\"http://cba.sports.sina.com.cn/cba/stats/playerstats/\"\n",
    "response = session.get(base_url,headers = header)\n",
    "\n",
    "response.encoding = 'GBK'"
   ]
  },
  {
   "cell_type": "code",
   "execution_count": 93,
   "metadata": {},
   "outputs": [],
   "source": [
    "doc = lh.fromstring(req.content)"
   ]
  },
  {
   "cell_type": "code",
   "execution_count": 94,
   "metadata": {
    "collapsed": true
   },
   "outputs": [],
   "source": [
    "rows = doc.xpath('//tr')"
   ]
  },
  {
   "cell_type": "code",
   "execution_count": 95,
   "metadata": {},
   "outputs": [
    {
     "name": "stdout",
     "output_type": "stream",
     "text": [
      "['号码', '球员', '球队', '场次', '得分', '二分', '三分', '罚球', '篮板', '前篮板', '后篮板', '助攻', '抢断', '扣篮', '盖帽', '失误', '犯规', '效率']\n"
     ]
    }
   ],
   "source": [
    "table_headers = [t.text_content() for t in rows[0]]\n",
    "print(table_headers)"
   ]
  },
  {
   "cell_type": "code",
   "execution_count": 68,
   "metadata": {},
   "outputs": [
    {
     "data": {
      "text/plain": [
       "371"
      ]
     },
     "execution_count": 68,
     "metadata": {},
     "output_type": "execute_result"
    }
   ],
   "source": [
    "len(tr_elements)"
   ]
  },
  {
   "cell_type": "code",
   "execution_count": 100,
   "metadata": {},
   "outputs": [],
   "source": [
    "i=0\n",
    "table = []\n",
    "# \n",
    "for row in rows:\n",
    "    one_row = []\n",
    "    for cell in row:\n",
    "        txt=cell.text_content().strip()\n",
    "        one_row.append(txt)\n",
    "    table.append(one_row)"
   ]
  },
  {
   "cell_type": "code",
   "execution_count": 99,
   "metadata": {
    "scrolled": true
   },
   "outputs": [
    {
     "data": {
      "text/plain": [
       "[['号码',\n",
       "  '球员',\n",
       "  '球队',\n",
       "  '场次',\n",
       "  '得分',\n",
       "  '二分',\n",
       "  '三分',\n",
       "  '罚球',\n",
       "  '篮板',\n",
       "  '前篮板',\n",
       "  '后篮板',\n",
       "  '助攻',\n",
       "  '抢断',\n",
       "  '扣篮',\n",
       "  '盖帽',\n",
       "  '失误',\n",
       "  '犯规',\n",
       "  '效率'],\n",
       " ['1',\n",
       "  '琼斯',\n",
       "  '吉林',\n",
       "  '20',\n",
       "  '38.0',\n",
       "  '10.1-17.6',\n",
       "  '2.7-9.3',\n",
       "  '9.8-12.1',\n",
       "  '8.0',\n",
       "  '2.1',\n",
       "  '6.0',\n",
       "  '8.5',\n",
       "  '1.7',\n",
       "  '0.2',\n",
       "  '0.5',\n",
       "  '3.5',\n",
       "  '3.9',\n",
       "  '36.85'],\n",
       " ['2',\n",
       "  '布莱克尼',\n",
       "  '江苏',\n",
       "  '4',\n",
       "  '36.3',\n",
       "  '9.8-18.3',\n",
       "  '3.3-7.0',\n",
       "  '7.0-9.8',\n",
       "  '6.5',\n",
       "  '0.5',\n",
       "  '6.0',\n",
       "  '3.3',\n",
       "  '1.5',\n",
       "  '1.3',\n",
       "  '1.0',\n",
       "  '4.3',\n",
       "  '2.0',\n",
       "  '29.25'],\n",
       " ['3',\n",
       "  '约瑟夫-杨',\n",
       "  '同曦',\n",
       "  '20',\n",
       "  '35.7',\n",
       "  '9.4-16.1',\n",
       "  '3.6-8.7',\n",
       "  '6.1-6.8',\n",
       "  '4.4',\n",
       "  '0.6',\n",
       "  '3.8',\n",
       "  '6.8',\n",
       "  '1.7',\n",
       "  '0.8',\n",
       "  '0.0',\n",
       "  '3.8',\n",
       "  '1.4',\n",
       "  '32.25'],\n",
       " ['4',\n",
       "  '亚当斯',\n",
       "  '青岛',\n",
       "  '19',\n",
       "  '35.4',\n",
       "  '8.0-13.5',\n",
       "  '3.8-11.8',\n",
       "  '8.1-9.2',\n",
       "  '8.4',\n",
       "  '0.9',\n",
       "  '7.5',\n",
       "  '5.5',\n",
       "  '2.6',\n",
       "  '0.1',\n",
       "  '0.3',\n",
       "  '4.1',\n",
       "  '2.3',\n",
       "  '33.37']]"
      ]
     },
     "execution_count": 99,
     "metadata": {},
     "output_type": "execute_result"
    }
   ],
   "source": [
    "table"
   ]
  },
  {
   "cell_type": "code",
   "execution_count": null,
   "metadata": {
    "collapsed": true
   },
   "outputs": [],
   "source": []
  }
 ],
 "metadata": {
  "anaconda-cloud": {},
  "kernelspec": {
   "display_name": "Python [default]",
   "language": "python",
   "name": "python3"
  },
  "language_info": {
   "codemirror_mode": {
    "name": "ipython",
    "version": 3
   },
   "file_extension": ".py",
   "mimetype": "text/x-python",
   "name": "python",
   "nbconvert_exporter": "python",
   "pygments_lexer": "ipython3",
   "version": "3.5.2"
  }
 },
 "nbformat": 4,
 "nbformat_minor": 1
}
