{
 "cells": [
  {
   "cell_type": "markdown",
   "metadata": {},
   "source": [
    "# Player Stats Collecting"
   ]
  },
  {
   "cell_type": "code",
   "execution_count": null,
   "metadata": {
    "pycharm": {
     "is_executing": true
    }
   },
   "outputs": [],
   "source": [
    "import requests\n",
    "# from bs4 import BeautifulSoup\n",
    "import lxml.html as lh\n",
    "import pandas as pd\n",
    "import datetime\n",
    "\n",
    "header = {'User-Agent': r'Mozilla/5.0 (Macintosh; Intel Mac OS X 10_10_1) AppleWebKit/537.36 (KHTML, like Gecko) '\n",
    "                        r'Chrome/41.0.2227.1 Safari/537.36'}\n",
    "session = requests.Session()\n",
    "base_url = r\"http://cba.sports.sina.com.cn/cba/stats/playerstats/\"\n",
    "response = session.get(base_url, headers=header)\n",
    "\n",
    "response.encoding = 'GBK'\n",
    "\n",
    "doc = lh.fromstring(response.content)\n",
    "\n",
    "rows = doc.xpath('//tr')\n",
    "\n",
    "table_headers = [t.text_content() for t in rows[0]]\n",
    "print(table_headers)\n",
    "\n",
    "print(len(rows))\n",
    "\n",
    "i = 0\n",
    "table = []\n",
    "#\n",
    "for row in rows:\n",
    "    one_row = []\n",
    "    for cell in row:\n",
    "        txt = cell.text_content().strip()\n",
    "        one_row.append(txt)\n",
    "    table.append(one_row)\n",
    "\n",
    "len(table)\n",
    "\n",
    "player_stats_sina = pd.DataFrame(table[1:], columns=table[0])\n",
    "\n",
    "player_stats_sina.rename(columns={\"号码\": '排名'}, inplace=True)\n",
    "\n",
    "print(datetime.date.today())\n",
    "\n",
    "player_stats_sina.to_csv(f'Player_Stats_{datetime.date.today()}.csv', index=False)\n"
   ]
  },
  {
   "cell_type": "markdown",
   "metadata": {},
   "source": [
    "# All Games Collecting\n",
    "* Get the schedule from http://cba.sports.sina.com.cn/cba/schedule/all/?qleagueid=205&qmonth=&qteamid=\n",
    "* Get all the links\n",
    "* Loop through all the game links and scrape detailed stats"
   ]
  },
  {
   "cell_type": "markdown",
   "metadata": {},
   "source": [
    "### To do:\n",
    "* get all values in \"select\" tag, just in case this base url does not work anymore\n",
    "* get all links\n",
    "* after get all links, scrape each game's stats\n",
    "* 暂定 主队_link，统计_link这样的header, 后期可能单独建一个表放所有entity（球队，球员）的link\n",
    "* automatically determine number of columns in the table"
   ]
  },
  {
   "cell_type": "code",
   "execution_count": 12,
   "metadata": {
    "pycharm": {
     "is_executing": true,
     "name": "#%%\n"
    }
   },
   "outputs": [],
   "source": [
    "import requests\n",
    "from bs4 import BeautifulSoup\n",
    "# import lxml.html as lh\n",
    "import pandas as pd\n",
    "import datetime\n",
    "import re\n",
    "\n",
    "header = {'User-Agent': r'Mozilla/5.0 (Macintosh; Intel Mac OS X 10_10_1) AppleWebKit/537.36 (KHTML, like Gecko) '\n",
    "                        r'Chrome/41.0.2227.1 Safari/537.36'}\n",
    "session = requests.Session()\n",
    "base_url = r\"http://cba.sports.sina.com.cn/cba/schedule/all/?qleagueid=205&qmonth=&qteamid=\"\n",
    "response = session.get(base_url, headers=header)\n",
    "\n",
    "response.encoding = 'GB2312'\n",
    "\n",
    "page_content = BeautifulSoup(response.content, \"html.parser\")"
   ]
  },
  {
   "cell_type": "code",
   "execution_count": 40,
   "metadata": {
    "scrolled": true
   },
   "outputs": [
    {
     "name": "stdout",
     "output_type": "stream",
     "text": [
      "400549\n",
      "385263\n"
     ]
    },
    {
     "data": {
      "text/plain": [
       "1"
      ]
     },
     "execution_count": 40,
     "metadata": {},
     "output_type": "execute_result"
    }
   ],
   "source": [
    "# Get table division\n",
    "\n",
    "page_content_str = str(page_content)\n",
    "print(len(page_content_str))\n",
    "\n",
    "page_content_str = re.sub('\\n','',page_content_str)\n",
    "print(len(page_content_str))\n",
    "table_content = re.findall('<div class=\"blk_wrap\"><table>(.*)</table></div>',page_content_str)\n",
    "\n",
    "len(table_content)"
   ]
  },
  {
   "cell_type": "code",
   "execution_count": 45,
   "metadata": {},
   "outputs": [
    {
     "data": {
      "text/plain": [
       "'<thead><tr class=\"even\"><th>轮次</th><th>日期</th><th>主队</th><th>比分</th><th>客队</th><th>战报</th><th>统计</th><th>组图</th><th>地点</th><th>电视</th></tr></thead><tbody><tr class=\"odd\"><td>\\t\\t\\t\\t\\t\\t\\t\\t\\t\\t\\t\\t\\t\\t第1轮\\t\\t\\t\\t\\t\\t\\t\\t\\t\\t\\t\\t\\t\\t</td><td>2019-11-01\\xa019:35</td><td><a href=\"http://cba.sports.sina.com.cn/cba/team/show/1/\" target=\"_blank\">                            广东                            </a></td><td><a href=\"http://cba.sports.sina.com.cn/cba/schedule/show/18381/\" target=\"_blank\">                            \\t\\t\\t\\t\\t\\t\\t\\t\\t\\t\\t\\t\\t\\t107:98\\t\\t\\t\\t\\t\\t\\t\\t\\t\\t\\t\\t\\t\\t</a></td><td><a href=\"http://cba.sports.sina.com.cn/cba/team/show/9/\" target=\"_blank\">                            辽宁                            </a></td><td><a href=\"http://sports.sina.com.cn/basketball/cba/2019-11-01/doc-iicezzrr6602072.shtml\" target=\"_blank\">战报</a></td><td><a href=\"http://cba.sports.sina.com.cn/cba/schedule/show/18381/\" target=\"_blank\">统计</a></td><td><a href=\"http://slide.sports.sina.com.cn/cba/slide_2_792_233270.html\" target=\"_blank\">组图</a></td><td>东'"
      ]
     },
     "execution_count": 45,
     "metadata": {},
     "output_type": "execute_result"
    }
   ],
   "source": [
    "table_content_str = table_content[0]\n",
    "table_content_str[:1000]"
   ]
  },
  {
   "cell_type": "markdown",
   "metadata": {},
   "source": [
    "### Get table headers"
   ]
  },
  {
   "cell_type": "code",
   "execution_count": 49,
   "metadata": {
    "scrolled": true
   },
   "outputs": [
    {
     "data": {
      "text/plain": [
       "['轮次', '日期', '主队', '比分', '客队', '战报', '统计', '组图', '地点', '电视']"
      ]
     },
     "execution_count": 49,
     "metadata": {},
     "output_type": "execute_result"
    }
   ],
   "source": [
    "# Get headers\n",
    "\n",
    "\n",
    "table_headers = re.findall('<th>(.*?)</th>',table_content_str)\n",
    "table_headers"
   ]
  },
  {
   "cell_type": "markdown",
   "metadata": {},
   "source": [
    "### Get table rows (table body, 也就是赛程表)"
   ]
  },
  {
   "cell_type": "code",
   "execution_count": 52,
   "metadata": {},
   "outputs": [
    {
     "data": {
      "text/plain": [
       "1"
      ]
     },
     "execution_count": 52,
     "metadata": {},
     "output_type": "execute_result"
    }
   ],
   "source": [
    "# Get table data\n",
    "\n",
    "\n",
    "\n",
    "table_body = re.findall('<tbody>(.*?)</tbody>',table_content_str)\n",
    "len(table_body)"
   ]
  },
  {
   "cell_type": "code",
   "execution_count": 83,
   "metadata": {},
   "outputs": [
    {
     "data": {
      "text/plain": [
       "'<tr class=\"odd\"><td>\\t\\t\\t\\t\\t\\t\\t\\t\\t\\t\\t\\t\\t\\t第1轮\\t\\t\\t\\t\\t\\t\\t\\t\\t\\t\\t\\t\\t\\t</td><td>2019-11-01 19:35</td><td><a href=\"http://cba.sports.sina.com.cn/cba/team/show/1/\" target=\"_blank\">                            广东                            </a></td><td><a href=\"http://cba.sports.sina.com.cn/cba/schedule/show/18381/\" target=\"_blank\">                            \\t\\t\\t\\t\\t\\t\\t\\t\\t\\t\\t\\t\\t\\t107:98\\t\\t\\t\\t\\t\\t\\t\\t\\t\\t\\t\\t\\t\\t</a></td><td><a href=\"http://cba.sports.sina.com.cn/cba/team/show/9/\" target=\"_blank\">                            辽宁                            </a></td><td><a href=\"http://sports.sina.com.cn/basketball/cba/2019-11-01/doc-iicezzrr6602072.shtml\" target=\"_blank\">战报</a></td><td><a href=\"http://cba.sports.sina.com.cn/cba/schedule/show/18381/\" target=\"_blank\">统计</a></td><td><a href=\"http://slide.sports.sina.com.cn/cba/slide_2_792_233270.html\" target=\"_blank\">组图</a></td><td>东莞</td><td></td></tr><tr class=\"even\"><td>\\t\\t\\t\\t\\t\\t\\t\\t\\t\\t\\t\\t\\t\\t第1轮\\t\\t\\t\\t\\t\\t\\t\\t\\t\\t\\t\\t\\t\\t</td><td>2019-11-02 19:35</td><td><a href=\"http://cba.sports.sina.com.cn/cba/team/'"
      ]
     },
     "execution_count": 83,
     "metadata": {},
     "output_type": "execute_result"
    }
   ],
   "source": [
    "table_body_str = table_body[0]\n",
    "# get rid of invalid character\n",
    "table_body_str = table_body_str.replace(u'\\xa0',' ')\n",
    "table_body_str[:1000]"
   ]
  },
  {
   "cell_type": "code",
   "execution_count": 84,
   "metadata": {},
   "outputs": [
    {
     "data": {
      "text/plain": [
       "'                     山东                            </a></td><td>\\t\\t\\t\\t\\t\\t\\t\\t\\t\\t\\t\\t\\t\\t--\\t\\t\\t\\t\\t\\t\\t\\t\\t\\t\\t\\t\\t\\t</td><td><a href=\"http://cba.sports.sina.com.cn/cba/schedule/show/18839/\" target=\"_blank\">统计</a></td><td>\\t\\t\\t\\t\\t\\t\\t\\t\\t\\t\\t\\t\\t\\t--\\t\\t\\t\\t\\t\\t\\t\\t\\t\\t\\t\\t\\t\\t</td><td>晋江</td><td></td></tr><tr class=\"even\"><td>\\t\\t\\t\\t\\t\\t\\t\\t\\t\\t\\t\\t\\t\\t第46轮\\t\\t\\t\\t\\t\\t\\t\\t\\t\\t\\t\\t\\t\\t</td><td>2020-03-12 19:35</td><td><a href=\"http://cba.sports.sina.com.cn/cba/team/show/11/\" target=\"_blank\">                            新疆                            </a></td><td><a href=\"http://cba.sports.sina.com.cn/cba/schedule/show/18840/\" target=\"_blank\">                            \\t\\t\\t\\t\\t\\t\\t\\t\\t\\t\\t\\t\\t\\t\\t\\t\\t\\t\\t\\t\\tVS\\t\\t\\t\\t\\t\\t\\t\\t\\t\\t\\t\\t\\t\\t\\t\\t\\t\\t\\t\\t\\t</a></td><td><a href=\"http://cba.sports.sina.com.cn/cba/team/show/113/\" target=\"_blank\">                            天津                            </a></td><td>\\t\\t\\t\\t\\t\\t\\t\\t\\t\\t\\t\\t\\t\\t--\\t\\t\\t\\t\\t\\t\\t\\t\\t\\t\\t\\t\\t\\t</td><td><a href=\"http://cba.sports.sina.com.cn/cba/schedule/show/18840/\" target=\"_blank\">统计</a></td><td>\\t\\t\\t\\t\\t\\t\\t\\t\\t\\t\\t\\t\\t\\t--\\t\\t\\t\\t\\t\\t\\t\\t\\t\\t\\t\\t\\t\\t</td><td>乌鲁木齐</td><td></td></tr>'"
      ]
     },
     "execution_count": 84,
     "metadata": {},
     "output_type": "execute_result"
    }
   ],
   "source": [
    "# check last 1000 characters\n",
    "table_body_str[-1000:]"
   ]
  },
  {
   "cell_type": "code",
   "execution_count": 85,
   "metadata": {},
   "outputs": [
    {
     "data": {
      "text/plain": [
       "4600"
      ]
     },
     "execution_count": 85,
     "metadata": {},
     "output_type": "execute_result"
    }
   ],
   "source": [
    "table_cells = re.findall('<td>(.*?)</td>',table_body_str)\n",
    "\n",
    "# CBA has 46 rounds, each round constits of 10 games, so we need to have 46*10*10 cells = 4600 cells\n",
    "len(table_cells)"
   ]
  },
  {
   "cell_type": "code",
   "execution_count": 86,
   "metadata": {
    "scrolled": true
   },
   "outputs": [
    {
     "data": {
      "text/plain": [
       "['第1轮',\n",
       " '2019-11-01 19:35',\n",
       " '<a href=\"http://cba.sports.sina.com.cn/cba/team/show/1/\" target=\"_blank\">                            广东                            </a>',\n",
       " '<a href=\"http://cba.sports.sina.com.cn/cba/schedule/show/18381/\" target=\"_blank\">                            \\t\\t\\t\\t\\t\\t\\t\\t\\t\\t\\t\\t\\t\\t107:98\\t\\t\\t\\t\\t\\t\\t\\t\\t\\t\\t\\t\\t\\t</a>',\n",
       " '<a href=\"http://cba.sports.sina.com.cn/cba/team/show/9/\" target=\"_blank\">                            辽宁                            </a>',\n",
       " '<a href=\"http://sports.sina.com.cn/basketball/cba/2019-11-01/doc-iicezzrr6602072.shtml\" target=\"_blank\">战报</a>',\n",
       " '<a href=\"http://cba.sports.sina.com.cn/cba/schedule/show/18381/\" target=\"_blank\">统计</a>',\n",
       " '<a href=\"http://slide.sports.sina.com.cn/cba/slide_2_792_233270.html\" target=\"_blank\">组图</a>',\n",
       " '东莞',\n",
       " '']"
      ]
     },
     "execution_count": 86,
     "metadata": {},
     "output_type": "execute_result"
    }
   ],
   "source": [
    "# get rid of spaces\n",
    "table_cells = list(map(lambda x: x.strip(),table_cells))\n",
    "table_cells[:10]"
   ]
  },
  {
   "cell_type": "markdown",
   "metadata": {},
   "source": [
    "### Get actual texts and links"
   ]
  },
  {
   "cell_type": "code",
   "execution_count": 87,
   "metadata": {},
   "outputs": [
    {
     "name": "stdout",
     "output_type": "stream",
     "text": [
      "4600\n",
      "['第1轮', '2019-11-01 19:35', '广东', '107:98', '辽宁', '战报', '统计', '组图', '东莞', '', '第1轮', '2019-11-02 19:35', '江苏', '96:97', '浙江', '战报', '统计', '组图', '苏州', '']\n",
      "4600\n",
      "[None, None, 'http://cba.sports.sina.com.cn/cba/team/show/1/', 'http://cba.sports.sina.com.cn/cba/schedule/show/18381/', 'http://cba.sports.sina.com.cn/cba/team/show/9/', 'http://sports.sina.com.cn/basketball/cba/2019-11-01/doc-iicezzrr6602072.shtml', 'http://cba.sports.sina.com.cn/cba/schedule/show/18381/', 'http://slide.sports.sina.com.cn/cba/slide_2_792_233270.html', None, None, None, None, 'http://cba.sports.sina.com.cn/cba/team/show/2/', 'http://cba.sports.sina.com.cn/cba/schedule/show/18382/', 'http://cba.sports.sina.com.cn/cba/team/show/6/', 'http://sports.sina.com.cn/basketball/cba/2019-11-02/doc-iicezuev6752945.shtml', 'http://cba.sports.sina.com.cn/cba/schedule/show/18382/', 'http://slide.sports.sina.com.cn/cba/slide_2_786_233393.html', None, None]\n"
     ]
    }
   ],
   "source": [
    "# get actual text\n",
    "table_cells_txt = list(map(lambda x: re.findall('<a.*?>(.*)</a>',x)[0].strip() if '<a' in x else x, table_cells))\n",
    "print(len(table_cells_txt))\n",
    "print(table_cells_txt[:20])\n",
    "# get all the links\n",
    "table_cells_links = list(map(lambda x: re.findall('<a href=\"(.*?)\" target=\"_blank\">'\n",
    "                                                  ,x)[0].strip() if '<a' in x else None, table_cells))\n",
    "print(len(table_cells_links))\n",
    "print(table_cells_links[:20])"
   ]
  },
  {
   "cell_type": "markdown",
   "metadata": {},
   "source": [
    "### Save data as schedule table"
   ]
  },
  {
   "cell_type": "code",
   "execution_count": 98,
   "metadata": {},
   "outputs": [
    {
     "name": "stdout",
     "output_type": "stream",
     "text": [
      "[['第1轮', '2019-11-01 19:35', '广东', '107:98', '辽宁', '战报', '统计', '组图', '东莞', ''], ['第1轮', '2019-11-02 19:35', '江苏', '96:97', '浙江', '战报', '统计', '组图', '苏州', ''], ['第1轮', '2019-11-02 19:35', '四川', '87:134', '新疆', '战报', '统计', '组图', '成都', ''], ['第1轮', '2019-11-02 19:35', '山东', '108:95', '八一', '战报', '统计', '组图', '济南', ''], ['第1轮', '2019-11-02 19:35', '北控', '108:103', '深圳', '战报', '统计', '组图', '北京', ''], ['第1轮', '2019-11-02 19:35', '青岛', '103:105', '吉林', '战报', '统计', '组图', '青岛', ''], ['第1轮', '2019-11-02 19:35', '广厦', '93:90', '福建', '战报', '统计', '组图', '诸暨', ''], ['第1轮', '2019-11-02 20:00', '上海', '93:84', '同曦', '战报', '统计', '组图', '上海', ''], ['第1轮', '2019-11-03 19:35', '天津', '81:103', '北京', '战报', '统计', '组图', '天津', ''], ['第1轮', '2019-11-03 19:35', '广州', '96:123', '山西', '战报', '统计', '组图', '广州', '']]\n",
      "[[None, None, 'http://cba.sports.sina.com.cn/cba/team/show/1/', 'http://cba.sports.sina.com.cn/cba/schedule/show/18381/', 'http://cba.sports.sina.com.cn/cba/team/show/9/', 'http://sports.sina.com.cn/basketball/cba/2019-11-01/doc-iicezzrr6602072.shtml', 'http://cba.sports.sina.com.cn/cba/schedule/show/18381/', 'http://slide.sports.sina.com.cn/cba/slide_2_792_233270.html', None, None], [None, None, 'http://cba.sports.sina.com.cn/cba/team/show/2/', 'http://cba.sports.sina.com.cn/cba/schedule/show/18382/', 'http://cba.sports.sina.com.cn/cba/team/show/6/', 'http://sports.sina.com.cn/basketball/cba/2019-11-02/doc-iicezuev6752945.shtml', 'http://cba.sports.sina.com.cn/cba/schedule/show/18382/', 'http://slide.sports.sina.com.cn/cba/slide_2_786_233393.html', None, None], [None, None, 'http://cba.sports.sina.com.cn/cba/team/show/182/', 'http://cba.sports.sina.com.cn/cba/schedule/show/18383/', 'http://cba.sports.sina.com.cn/cba/team/show/11/', 'http://sports.sina.com.cn/basketball/cba/2019-11-02/doc-iicezuev6751102.shtml', 'http://cba.sports.sina.com.cn/cba/schedule/show/18383/', 'http://slide.sports.sina.com.cn/cba/slide_2_786_233388.html', None, None], [None, None, 'http://cba.sports.sina.com.cn/cba/team/show/15/', 'http://cba.sports.sina.com.cn/cba/schedule/show/18384/', 'http://cba.sports.sina.com.cn/cba/team/show/3/', 'http://sports.sina.com.cn/basketball/cba/2019-11-02/doc-iicezuev6752945.shtml', 'http://cba.sports.sina.com.cn/cba/schedule/show/18384/', 'http://slide.sports.sina.com.cn/cba/slide_2_786_233393.html', None, None], [None, None, 'http://cba.sports.sina.com.cn/cba/team/show/369/', 'http://cba.sports.sina.com.cn/cba/schedule/show/18385/', 'http://cba.sports.sina.com.cn/cba/team/show/8/', 'http://sports.sina.com.cn/basketball/cba/2019-11-02/doc-iicezuev6752945.shtml', 'http://cba.sports.sina.com.cn/cba/schedule/show/18385/', 'http://slide.sports.sina.com.cn/cba/slide_2_792_233391.html', None, None], [None, None, 'http://cba.sports.sina.com.cn/cba/team/show/114/', 'http://cba.sports.sina.com.cn/cba/schedule/show/18387/', 'http://cba.sports.sina.com.cn/cba/team/show/12/', 'http://sports.sina.com.cn/basketball/cba/2019-11-02/doc-iicezuev6752945.shtml', 'http://cba.sports.sina.com.cn/cba/schedule/show/18387/', 'http://slide.sports.sina.com.cn/cba/slide_2_786_233393.html', None, None], [None, None, 'http://cba.sports.sina.com.cn/cba/team/show/16/', 'http://cba.sports.sina.com.cn/cba/schedule/show/18388/', 'http://cba.sports.sina.com.cn/cba/team/show/7/', 'http://sports.sina.com.cn/basketball/cba/2019-11-02/doc-iicezzrr6792223.shtml', 'http://cba.sports.sina.com.cn/cba/schedule/show/18388/', 'http://slide.sports.sina.com.cn/cba/slide_2_786_233385.html', None, None], [None, None, 'http://cba.sports.sina.com.cn/cba/team/show/4/', 'http://cba.sports.sina.com.cn/cba/schedule/show/18386/', 'http://cba.sports.sina.com.cn/cba/team/show/368/', 'http://sports.sina.com.cn/basketball/cba/2019-11-02/doc-iicezuev6752945.shtml', 'http://cba.sports.sina.com.cn/cba/schedule/show/18386/', 'http://slide.sports.sina.com.cn/cba/slide_2_786_233393.html', None, None], [None, None, 'http://cba.sports.sina.com.cn/cba/team/show/113/', 'http://cba.sports.sina.com.cn/cba/schedule/show/18389/', 'http://cba.sports.sina.com.cn/cba/team/show/10/', 'http://sports.sina.com.cn/basketball/cba/2019-11-03/doc-iicezuev6927306.shtml', 'http://cba.sports.sina.com.cn/cba/schedule/show/18389/', 'http://slide.sports.sina.com.cn/cba/slide_2_792_233493.html', None, None], [None, None, 'http://cba.sports.sina.com.cn/cba/team/show/13/', 'http://cba.sports.sina.com.cn/cba/schedule/show/18390/', 'http://cba.sports.sina.com.cn/cba/team/show/14/', 'http://sports.sina.com.cn/basketball/cba/2019-11-03/doc-iicezuev6925002.shtml', 'http://cba.sports.sina.com.cn/cba/schedule/show/18390/', 'http://slide.sports.sina.com.cn/cba/slide_2_786_233497.html', None, None]]\n"
     ]
    }
   ],
   "source": [
    "# transform into \n",
    "\n",
    "import numpy as np\n",
    "table_cells_txt = np.reshape(table_cells_txt,[-1,10]).tolist()\n",
    "table_cells_links = np.reshape(table_cells_links,[-1,10]).tolist()\n",
    "print(table_cells_txt[:10])\n",
    "print(table_cells_links[:10])"
   ]
  },
  {
   "cell_type": "code",
   "execution_count": 106,
   "metadata": {},
   "outputs": [],
   "source": [
    "df_schedule_text = pd.DataFrame(data = table_cells_txt,columns=table_headers)\n",
    "df_schedule_links = pd.DataFrame(data = table_cells_links,columns=[header+'_link' for header in table_headers])"
   ]
  },
  {
   "cell_type": "code",
   "execution_count": 108,
   "metadata": {},
   "outputs": [
    {
     "data": {
      "text/html": [
       "<div>\n",
       "<style scoped>\n",
       "    .dataframe tbody tr th:only-of-type {\n",
       "        vertical-align: middle;\n",
       "    }\n",
       "\n",
       "    .dataframe tbody tr th {\n",
       "        vertical-align: top;\n",
       "    }\n",
       "\n",
       "    .dataframe thead th {\n",
       "        text-align: right;\n",
       "    }\n",
       "</style>\n",
       "<table border=\"1\" class=\"dataframe\">\n",
       "  <thead>\n",
       "    <tr style=\"text-align: right;\">\n",
       "      <th></th>\n",
       "      <th>轮次</th>\n",
       "      <th>日期</th>\n",
       "      <th>主队</th>\n",
       "      <th>比分</th>\n",
       "      <th>客队</th>\n",
       "      <th>战报</th>\n",
       "      <th>统计</th>\n",
       "      <th>组图</th>\n",
       "      <th>地点</th>\n",
       "      <th>电视</th>\n",
       "    </tr>\n",
       "  </thead>\n",
       "  <tbody>\n",
       "    <tr>\n",
       "      <th>0</th>\n",
       "      <td>第1轮</td>\n",
       "      <td>2019-11-01 19:35</td>\n",
       "      <td>广东</td>\n",
       "      <td>107:98</td>\n",
       "      <td>辽宁</td>\n",
       "      <td>战报</td>\n",
       "      <td>统计</td>\n",
       "      <td>组图</td>\n",
       "      <td>东莞</td>\n",
       "      <td></td>\n",
       "    </tr>\n",
       "    <tr>\n",
       "      <th>1</th>\n",
       "      <td>第1轮</td>\n",
       "      <td>2019-11-02 19:35</td>\n",
       "      <td>江苏</td>\n",
       "      <td>96:97</td>\n",
       "      <td>浙江</td>\n",
       "      <td>战报</td>\n",
       "      <td>统计</td>\n",
       "      <td>组图</td>\n",
       "      <td>苏州</td>\n",
       "      <td></td>\n",
       "    </tr>\n",
       "    <tr>\n",
       "      <th>2</th>\n",
       "      <td>第1轮</td>\n",
       "      <td>2019-11-02 19:35</td>\n",
       "      <td>四川</td>\n",
       "      <td>87:134</td>\n",
       "      <td>新疆</td>\n",
       "      <td>战报</td>\n",
       "      <td>统计</td>\n",
       "      <td>组图</td>\n",
       "      <td>成都</td>\n",
       "      <td></td>\n",
       "    </tr>\n",
       "    <tr>\n",
       "      <th>3</th>\n",
       "      <td>第1轮</td>\n",
       "      <td>2019-11-02 19:35</td>\n",
       "      <td>山东</td>\n",
       "      <td>108:95</td>\n",
       "      <td>八一</td>\n",
       "      <td>战报</td>\n",
       "      <td>统计</td>\n",
       "      <td>组图</td>\n",
       "      <td>济南</td>\n",
       "      <td></td>\n",
       "    </tr>\n",
       "    <tr>\n",
       "      <th>4</th>\n",
       "      <td>第1轮</td>\n",
       "      <td>2019-11-02 19:35</td>\n",
       "      <td>北控</td>\n",
       "      <td>108:103</td>\n",
       "      <td>深圳</td>\n",
       "      <td>战报</td>\n",
       "      <td>统计</td>\n",
       "      <td>组图</td>\n",
       "      <td>北京</td>\n",
       "      <td></td>\n",
       "    </tr>\n",
       "  </tbody>\n",
       "</table>\n",
       "</div>"
      ],
      "text/plain": [
       "    轮次                日期  主队       比分  客队  战报  统计  组图  地点 电视\n",
       "0  第1轮  2019-11-01 19:35  广东   107:98  辽宁  战报  统计  组图  东莞   \n",
       "1  第1轮  2019-11-02 19:35  江苏    96:97  浙江  战报  统计  组图  苏州   \n",
       "2  第1轮  2019-11-02 19:35  四川   87:134  新疆  战报  统计  组图  成都   \n",
       "3  第1轮  2019-11-02 19:35  山东   108:95  八一  战报  统计  组图  济南   \n",
       "4  第1轮  2019-11-02 19:35  北控  108:103  深圳  战报  统计  组图  北京   "
      ]
     },
     "execution_count": 108,
     "metadata": {},
     "output_type": "execute_result"
    }
   ],
   "source": [
    "df_schedule_text.head()"
   ]
  },
  {
   "cell_type": "code",
   "execution_count": 109,
   "metadata": {},
   "outputs": [
    {
     "data": {
      "text/html": [
       "<div>\n",
       "<style scoped>\n",
       "    .dataframe tbody tr th:only-of-type {\n",
       "        vertical-align: middle;\n",
       "    }\n",
       "\n",
       "    .dataframe tbody tr th {\n",
       "        vertical-align: top;\n",
       "    }\n",
       "\n",
       "    .dataframe thead th {\n",
       "        text-align: right;\n",
       "    }\n",
       "</style>\n",
       "<table border=\"1\" class=\"dataframe\">\n",
       "  <thead>\n",
       "    <tr style=\"text-align: right;\">\n",
       "      <th></th>\n",
       "      <th>轮次_link</th>\n",
       "      <th>日期_link</th>\n",
       "      <th>主队_link</th>\n",
       "      <th>比分_link</th>\n",
       "      <th>客队_link</th>\n",
       "      <th>战报_link</th>\n",
       "      <th>统计_link</th>\n",
       "      <th>组图_link</th>\n",
       "      <th>地点_link</th>\n",
       "      <th>电视_link</th>\n",
       "    </tr>\n",
       "  </thead>\n",
       "  <tbody>\n",
       "    <tr>\n",
       "      <th>0</th>\n",
       "      <td>None</td>\n",
       "      <td>None</td>\n",
       "      <td>http://cba.sports.sina.com.cn/cba/team/show/1/</td>\n",
       "      <td>http://cba.sports.sina.com.cn/cba/schedule/sho...</td>\n",
       "      <td>http://cba.sports.sina.com.cn/cba/team/show/9/</td>\n",
       "      <td>http://sports.sina.com.cn/basketball/cba/2019-...</td>\n",
       "      <td>http://cba.sports.sina.com.cn/cba/schedule/sho...</td>\n",
       "      <td>http://slide.sports.sina.com.cn/cba/slide_2_79...</td>\n",
       "      <td>None</td>\n",
       "      <td>None</td>\n",
       "    </tr>\n",
       "    <tr>\n",
       "      <th>1</th>\n",
       "      <td>None</td>\n",
       "      <td>None</td>\n",
       "      <td>http://cba.sports.sina.com.cn/cba/team/show/2/</td>\n",
       "      <td>http://cba.sports.sina.com.cn/cba/schedule/sho...</td>\n",
       "      <td>http://cba.sports.sina.com.cn/cba/team/show/6/</td>\n",
       "      <td>http://sports.sina.com.cn/basketball/cba/2019-...</td>\n",
       "      <td>http://cba.sports.sina.com.cn/cba/schedule/sho...</td>\n",
       "      <td>http://slide.sports.sina.com.cn/cba/slide_2_78...</td>\n",
       "      <td>None</td>\n",
       "      <td>None</td>\n",
       "    </tr>\n",
       "    <tr>\n",
       "      <th>2</th>\n",
       "      <td>None</td>\n",
       "      <td>None</td>\n",
       "      <td>http://cba.sports.sina.com.cn/cba/team/show/182/</td>\n",
       "      <td>http://cba.sports.sina.com.cn/cba/schedule/sho...</td>\n",
       "      <td>http://cba.sports.sina.com.cn/cba/team/show/11/</td>\n",
       "      <td>http://sports.sina.com.cn/basketball/cba/2019-...</td>\n",
       "      <td>http://cba.sports.sina.com.cn/cba/schedule/sho...</td>\n",
       "      <td>http://slide.sports.sina.com.cn/cba/slide_2_78...</td>\n",
       "      <td>None</td>\n",
       "      <td>None</td>\n",
       "    </tr>\n",
       "    <tr>\n",
       "      <th>3</th>\n",
       "      <td>None</td>\n",
       "      <td>None</td>\n",
       "      <td>http://cba.sports.sina.com.cn/cba/team/show/15/</td>\n",
       "      <td>http://cba.sports.sina.com.cn/cba/schedule/sho...</td>\n",
       "      <td>http://cba.sports.sina.com.cn/cba/team/show/3/</td>\n",
       "      <td>http://sports.sina.com.cn/basketball/cba/2019-...</td>\n",
       "      <td>http://cba.sports.sina.com.cn/cba/schedule/sho...</td>\n",
       "      <td>http://slide.sports.sina.com.cn/cba/slide_2_78...</td>\n",
       "      <td>None</td>\n",
       "      <td>None</td>\n",
       "    </tr>\n",
       "    <tr>\n",
       "      <th>4</th>\n",
       "      <td>None</td>\n",
       "      <td>None</td>\n",
       "      <td>http://cba.sports.sina.com.cn/cba/team/show/369/</td>\n",
       "      <td>http://cba.sports.sina.com.cn/cba/schedule/sho...</td>\n",
       "      <td>http://cba.sports.sina.com.cn/cba/team/show/8/</td>\n",
       "      <td>http://sports.sina.com.cn/basketball/cba/2019-...</td>\n",
       "      <td>http://cba.sports.sina.com.cn/cba/schedule/sho...</td>\n",
       "      <td>http://slide.sports.sina.com.cn/cba/slide_2_79...</td>\n",
       "      <td>None</td>\n",
       "      <td>None</td>\n",
       "    </tr>\n",
       "  </tbody>\n",
       "</table>\n",
       "</div>"
      ],
      "text/plain": [
       "  轮次_link 日期_link                                           主队_link  \\\n",
       "0    None    None    http://cba.sports.sina.com.cn/cba/team/show/1/   \n",
       "1    None    None    http://cba.sports.sina.com.cn/cba/team/show/2/   \n",
       "2    None    None  http://cba.sports.sina.com.cn/cba/team/show/182/   \n",
       "3    None    None   http://cba.sports.sina.com.cn/cba/team/show/15/   \n",
       "4    None    None  http://cba.sports.sina.com.cn/cba/team/show/369/   \n",
       "\n",
       "                                             比分_link  \\\n",
       "0  http://cba.sports.sina.com.cn/cba/schedule/sho...   \n",
       "1  http://cba.sports.sina.com.cn/cba/schedule/sho...   \n",
       "2  http://cba.sports.sina.com.cn/cba/schedule/sho...   \n",
       "3  http://cba.sports.sina.com.cn/cba/schedule/sho...   \n",
       "4  http://cba.sports.sina.com.cn/cba/schedule/sho...   \n",
       "\n",
       "                                           客队_link  \\\n",
       "0   http://cba.sports.sina.com.cn/cba/team/show/9/   \n",
       "1   http://cba.sports.sina.com.cn/cba/team/show/6/   \n",
       "2  http://cba.sports.sina.com.cn/cba/team/show/11/   \n",
       "3   http://cba.sports.sina.com.cn/cba/team/show/3/   \n",
       "4   http://cba.sports.sina.com.cn/cba/team/show/8/   \n",
       "\n",
       "                                             战报_link  \\\n",
       "0  http://sports.sina.com.cn/basketball/cba/2019-...   \n",
       "1  http://sports.sina.com.cn/basketball/cba/2019-...   \n",
       "2  http://sports.sina.com.cn/basketball/cba/2019-...   \n",
       "3  http://sports.sina.com.cn/basketball/cba/2019-...   \n",
       "4  http://sports.sina.com.cn/basketball/cba/2019-...   \n",
       "\n",
       "                                             统计_link  \\\n",
       "0  http://cba.sports.sina.com.cn/cba/schedule/sho...   \n",
       "1  http://cba.sports.sina.com.cn/cba/schedule/sho...   \n",
       "2  http://cba.sports.sina.com.cn/cba/schedule/sho...   \n",
       "3  http://cba.sports.sina.com.cn/cba/schedule/sho...   \n",
       "4  http://cba.sports.sina.com.cn/cba/schedule/sho...   \n",
       "\n",
       "                                             组图_link 地点_link 电视_link  \n",
       "0  http://slide.sports.sina.com.cn/cba/slide_2_79...    None    None  \n",
       "1  http://slide.sports.sina.com.cn/cba/slide_2_78...    None    None  \n",
       "2  http://slide.sports.sina.com.cn/cba/slide_2_78...    None    None  \n",
       "3  http://slide.sports.sina.com.cn/cba/slide_2_78...    None    None  \n",
       "4  http://slide.sports.sina.com.cn/cba/slide_2_79...    None    None  "
      ]
     },
     "execution_count": 109,
     "metadata": {},
     "output_type": "execute_result"
    }
   ],
   "source": [
    "df_schedule_links.head()"
   ]
  },
  {
   "cell_type": "code",
   "execution_count": 113,
   "metadata": {},
   "outputs": [
    {
     "data": {
      "text/html": [
       "<div>\n",
       "<style scoped>\n",
       "    .dataframe tbody tr th:only-of-type {\n",
       "        vertical-align: middle;\n",
       "    }\n",
       "\n",
       "    .dataframe tbody tr th {\n",
       "        vertical-align: top;\n",
       "    }\n",
       "\n",
       "    .dataframe thead th {\n",
       "        text-align: right;\n",
       "    }\n",
       "</style>\n",
       "<table border=\"1\" class=\"dataframe\">\n",
       "  <thead>\n",
       "    <tr style=\"text-align: right;\">\n",
       "      <th></th>\n",
       "      <th>轮次</th>\n",
       "      <th>日期</th>\n",
       "      <th>主队</th>\n",
       "      <th>比分</th>\n",
       "      <th>客队</th>\n",
       "      <th>战报</th>\n",
       "      <th>统计</th>\n",
       "      <th>组图</th>\n",
       "      <th>地点</th>\n",
       "      <th>电视</th>\n",
       "      <th>主队_link</th>\n",
       "      <th>比分_link</th>\n",
       "      <th>客队_link</th>\n",
       "      <th>战报_link</th>\n",
       "      <th>统计_link</th>\n",
       "      <th>组图_link</th>\n",
       "    </tr>\n",
       "  </thead>\n",
       "  <tbody>\n",
       "    <tr>\n",
       "      <th>0</th>\n",
       "      <td>第1轮</td>\n",
       "      <td>2019-11-01 19:35</td>\n",
       "      <td>广东</td>\n",
       "      <td>107:98</td>\n",
       "      <td>辽宁</td>\n",
       "      <td>战报</td>\n",
       "      <td>统计</td>\n",
       "      <td>组图</td>\n",
       "      <td>东莞</td>\n",
       "      <td></td>\n",
       "      <td>http://cba.sports.sina.com.cn/cba/team/show/1/</td>\n",
       "      <td>http://cba.sports.sina.com.cn/cba/schedule/sho...</td>\n",
       "      <td>http://cba.sports.sina.com.cn/cba/team/show/9/</td>\n",
       "      <td>http://sports.sina.com.cn/basketball/cba/2019-...</td>\n",
       "      <td>http://cba.sports.sina.com.cn/cba/schedule/sho...</td>\n",
       "      <td>http://slide.sports.sina.com.cn/cba/slide_2_79...</td>\n",
       "    </tr>\n",
       "    <tr>\n",
       "      <th>1</th>\n",
       "      <td>第1轮</td>\n",
       "      <td>2019-11-02 19:35</td>\n",
       "      <td>江苏</td>\n",
       "      <td>96:97</td>\n",
       "      <td>浙江</td>\n",
       "      <td>战报</td>\n",
       "      <td>统计</td>\n",
       "      <td>组图</td>\n",
       "      <td>苏州</td>\n",
       "      <td></td>\n",
       "      <td>http://cba.sports.sina.com.cn/cba/team/show/2/</td>\n",
       "      <td>http://cba.sports.sina.com.cn/cba/schedule/sho...</td>\n",
       "      <td>http://cba.sports.sina.com.cn/cba/team/show/6/</td>\n",
       "      <td>http://sports.sina.com.cn/basketball/cba/2019-...</td>\n",
       "      <td>http://cba.sports.sina.com.cn/cba/schedule/sho...</td>\n",
       "      <td>http://slide.sports.sina.com.cn/cba/slide_2_78...</td>\n",
       "    </tr>\n",
       "    <tr>\n",
       "      <th>2</th>\n",
       "      <td>第1轮</td>\n",
       "      <td>2019-11-02 19:35</td>\n",
       "      <td>四川</td>\n",
       "      <td>87:134</td>\n",
       "      <td>新疆</td>\n",
       "      <td>战报</td>\n",
       "      <td>统计</td>\n",
       "      <td>组图</td>\n",
       "      <td>成都</td>\n",
       "      <td></td>\n",
       "      <td>http://cba.sports.sina.com.cn/cba/team/show/182/</td>\n",
       "      <td>http://cba.sports.sina.com.cn/cba/schedule/sho...</td>\n",
       "      <td>http://cba.sports.sina.com.cn/cba/team/show/11/</td>\n",
       "      <td>http://sports.sina.com.cn/basketball/cba/2019-...</td>\n",
       "      <td>http://cba.sports.sina.com.cn/cba/schedule/sho...</td>\n",
       "      <td>http://slide.sports.sina.com.cn/cba/slide_2_78...</td>\n",
       "    </tr>\n",
       "    <tr>\n",
       "      <th>3</th>\n",
       "      <td>第1轮</td>\n",
       "      <td>2019-11-02 19:35</td>\n",
       "      <td>山东</td>\n",
       "      <td>108:95</td>\n",
       "      <td>八一</td>\n",
       "      <td>战报</td>\n",
       "      <td>统计</td>\n",
       "      <td>组图</td>\n",
       "      <td>济南</td>\n",
       "      <td></td>\n",
       "      <td>http://cba.sports.sina.com.cn/cba/team/show/15/</td>\n",
       "      <td>http://cba.sports.sina.com.cn/cba/schedule/sho...</td>\n",
       "      <td>http://cba.sports.sina.com.cn/cba/team/show/3/</td>\n",
       "      <td>http://sports.sina.com.cn/basketball/cba/2019-...</td>\n",
       "      <td>http://cba.sports.sina.com.cn/cba/schedule/sho...</td>\n",
       "      <td>http://slide.sports.sina.com.cn/cba/slide_2_78...</td>\n",
       "    </tr>\n",
       "    <tr>\n",
       "      <th>4</th>\n",
       "      <td>第1轮</td>\n",
       "      <td>2019-11-02 19:35</td>\n",
       "      <td>北控</td>\n",
       "      <td>108:103</td>\n",
       "      <td>深圳</td>\n",
       "      <td>战报</td>\n",
       "      <td>统计</td>\n",
       "      <td>组图</td>\n",
       "      <td>北京</td>\n",
       "      <td></td>\n",
       "      <td>http://cba.sports.sina.com.cn/cba/team/show/369/</td>\n",
       "      <td>http://cba.sports.sina.com.cn/cba/schedule/sho...</td>\n",
       "      <td>http://cba.sports.sina.com.cn/cba/team/show/8/</td>\n",
       "      <td>http://sports.sina.com.cn/basketball/cba/2019-...</td>\n",
       "      <td>http://cba.sports.sina.com.cn/cba/schedule/sho...</td>\n",
       "      <td>http://slide.sports.sina.com.cn/cba/slide_2_79...</td>\n",
       "    </tr>\n",
       "  </tbody>\n",
       "</table>\n",
       "</div>"
      ],
      "text/plain": [
       "    轮次                日期  主队       比分  客队  战报  统计  组图  地点 电视  \\\n",
       "0  第1轮  2019-11-01 19:35  广东   107:98  辽宁  战报  统计  组图  东莞      \n",
       "1  第1轮  2019-11-02 19:35  江苏    96:97  浙江  战报  统计  组图  苏州      \n",
       "2  第1轮  2019-11-02 19:35  四川   87:134  新疆  战报  统计  组图  成都      \n",
       "3  第1轮  2019-11-02 19:35  山东   108:95  八一  战报  统计  组图  济南      \n",
       "4  第1轮  2019-11-02 19:35  北控  108:103  深圳  战报  统计  组图  北京      \n",
       "\n",
       "                                            主队_link  \\\n",
       "0    http://cba.sports.sina.com.cn/cba/team/show/1/   \n",
       "1    http://cba.sports.sina.com.cn/cba/team/show/2/   \n",
       "2  http://cba.sports.sina.com.cn/cba/team/show/182/   \n",
       "3   http://cba.sports.sina.com.cn/cba/team/show/15/   \n",
       "4  http://cba.sports.sina.com.cn/cba/team/show/369/   \n",
       "\n",
       "                                             比分_link  \\\n",
       "0  http://cba.sports.sina.com.cn/cba/schedule/sho...   \n",
       "1  http://cba.sports.sina.com.cn/cba/schedule/sho...   \n",
       "2  http://cba.sports.sina.com.cn/cba/schedule/sho...   \n",
       "3  http://cba.sports.sina.com.cn/cba/schedule/sho...   \n",
       "4  http://cba.sports.sina.com.cn/cba/schedule/sho...   \n",
       "\n",
       "                                           客队_link  \\\n",
       "0   http://cba.sports.sina.com.cn/cba/team/show/9/   \n",
       "1   http://cba.sports.sina.com.cn/cba/team/show/6/   \n",
       "2  http://cba.sports.sina.com.cn/cba/team/show/11/   \n",
       "3   http://cba.sports.sina.com.cn/cba/team/show/3/   \n",
       "4   http://cba.sports.sina.com.cn/cba/team/show/8/   \n",
       "\n",
       "                                             战报_link  \\\n",
       "0  http://sports.sina.com.cn/basketball/cba/2019-...   \n",
       "1  http://sports.sina.com.cn/basketball/cba/2019-...   \n",
       "2  http://sports.sina.com.cn/basketball/cba/2019-...   \n",
       "3  http://sports.sina.com.cn/basketball/cba/2019-...   \n",
       "4  http://sports.sina.com.cn/basketball/cba/2019-...   \n",
       "\n",
       "                                             统计_link  \\\n",
       "0  http://cba.sports.sina.com.cn/cba/schedule/sho...   \n",
       "1  http://cba.sports.sina.com.cn/cba/schedule/sho...   \n",
       "2  http://cba.sports.sina.com.cn/cba/schedule/sho...   \n",
       "3  http://cba.sports.sina.com.cn/cba/schedule/sho...   \n",
       "4  http://cba.sports.sina.com.cn/cba/schedule/sho...   \n",
       "\n",
       "                                             组图_link  \n",
       "0  http://slide.sports.sina.com.cn/cba/slide_2_79...  \n",
       "1  http://slide.sports.sina.com.cn/cba/slide_2_78...  \n",
       "2  http://slide.sports.sina.com.cn/cba/slide_2_78...  \n",
       "3  http://slide.sports.sina.com.cn/cba/slide_2_78...  \n",
       "4  http://slide.sports.sina.com.cn/cba/slide_2_79...  "
      ]
     },
     "execution_count": 113,
     "metadata": {},
     "output_type": "execute_result"
    }
   ],
   "source": [
    "df_schedule_full = pd.merge(df_schedule_text,df_schedule_links,left_index=True,right_index=True)\n",
    "# remove columns that are all None\n",
    "df_schedule_full.dropna(axis=1,how='all',inplace=True)\n",
    "df_schedule_full.head()"
   ]
  },
  {
   "cell_type": "code",
   "execution_count": 150,
   "metadata": {
    "scrolled": true
   },
   "outputs": [],
   "source": [
    "# id consists of season and a 5-digit label of the game - 2019-2020 season, game No.1 = 2019202000001\n",
    "# lable is generated by unique http address of the game stats\n",
    "uid_column = ['20192020'+f'{item+1:05d}' for item in pd.factorize(df_schedule_full['统计_link'])[0].tolist()]\n",
    "df_schedule_full['UID'] = uid_column\n",
    "# get rid of Hanzi and convert into integers\n",
    "df_schedule_full['轮次'] = df_schedule_full['轮次'].apply(lambda x: int(re.findall('(\\d+)',x)[0])"
   ]
  },
  {
   "cell_type": "code",
   "execution_count": 167,
   "metadata": {},
   "outputs": [
    {
     "data": {
      "text/html": [
       "<div>\n",
       "<style scoped>\n",
       "    .dataframe tbody tr th:only-of-type {\n",
       "        vertical-align: middle;\n",
       "    }\n",
       "\n",
       "    .dataframe tbody tr th {\n",
       "        vertical-align: top;\n",
       "    }\n",
       "\n",
       "    .dataframe thead th {\n",
       "        text-align: right;\n",
       "    }\n",
       "</style>\n",
       "<table border=\"1\" class=\"dataframe\">\n",
       "  <thead>\n",
       "    <tr style=\"text-align: right;\">\n",
       "      <th></th>\n",
       "      <th>轮次</th>\n",
       "      <th>日期</th>\n",
       "      <th>主队</th>\n",
       "      <th>比分</th>\n",
       "      <th>客队</th>\n",
       "      <th>战报</th>\n",
       "      <th>统计</th>\n",
       "      <th>组图</th>\n",
       "      <th>地点</th>\n",
       "      <th>电视</th>\n",
       "      <th>主队_link</th>\n",
       "      <th>比分_link</th>\n",
       "      <th>客队_link</th>\n",
       "      <th>战报_link</th>\n",
       "      <th>统计_link</th>\n",
       "      <th>组图_link</th>\n",
       "      <th>UID</th>\n",
       "    </tr>\n",
       "  </thead>\n",
       "  <tbody>\n",
       "    <tr>\n",
       "      <th>0</th>\n",
       "      <td>1</td>\n",
       "      <td>2019-11-01 19:35</td>\n",
       "      <td>广东</td>\n",
       "      <td>107:98</td>\n",
       "      <td>辽宁</td>\n",
       "      <td>战报</td>\n",
       "      <td>统计</td>\n",
       "      <td>组图</td>\n",
       "      <td>东莞</td>\n",
       "      <td></td>\n",
       "      <td>http://cba.sports.sina.com.cn/cba/team/show/1/</td>\n",
       "      <td>http://cba.sports.sina.com.cn/cba/schedule/sho...</td>\n",
       "      <td>http://cba.sports.sina.com.cn/cba/team/show/9/</td>\n",
       "      <td>http://sports.sina.com.cn/basketball/cba/2019-...</td>\n",
       "      <td>http://cba.sports.sina.com.cn/cba/schedule/sho...</td>\n",
       "      <td>http://slide.sports.sina.com.cn/cba/slide_2_79...</td>\n",
       "      <td>2019202000001</td>\n",
       "    </tr>\n",
       "    <tr>\n",
       "      <th>1</th>\n",
       "      <td>1</td>\n",
       "      <td>2019-11-02 19:35</td>\n",
       "      <td>江苏</td>\n",
       "      <td>96:97</td>\n",
       "      <td>浙江</td>\n",
       "      <td>战报</td>\n",
       "      <td>统计</td>\n",
       "      <td>组图</td>\n",
       "      <td>苏州</td>\n",
       "      <td></td>\n",
       "      <td>http://cba.sports.sina.com.cn/cba/team/show/2/</td>\n",
       "      <td>http://cba.sports.sina.com.cn/cba/schedule/sho...</td>\n",
       "      <td>http://cba.sports.sina.com.cn/cba/team/show/6/</td>\n",
       "      <td>http://sports.sina.com.cn/basketball/cba/2019-...</td>\n",
       "      <td>http://cba.sports.sina.com.cn/cba/schedule/sho...</td>\n",
       "      <td>http://slide.sports.sina.com.cn/cba/slide_2_78...</td>\n",
       "      <td>2019202000002</td>\n",
       "    </tr>\n",
       "    <tr>\n",
       "      <th>2</th>\n",
       "      <td>1</td>\n",
       "      <td>2019-11-02 19:35</td>\n",
       "      <td>四川</td>\n",
       "      <td>87:134</td>\n",
       "      <td>新疆</td>\n",
       "      <td>战报</td>\n",
       "      <td>统计</td>\n",
       "      <td>组图</td>\n",
       "      <td>成都</td>\n",
       "      <td></td>\n",
       "      <td>http://cba.sports.sina.com.cn/cba/team/show/182/</td>\n",
       "      <td>http://cba.sports.sina.com.cn/cba/schedule/sho...</td>\n",
       "      <td>http://cba.sports.sina.com.cn/cba/team/show/11/</td>\n",
       "      <td>http://sports.sina.com.cn/basketball/cba/2019-...</td>\n",
       "      <td>http://cba.sports.sina.com.cn/cba/schedule/sho...</td>\n",
       "      <td>http://slide.sports.sina.com.cn/cba/slide_2_78...</td>\n",
       "      <td>2019202000003</td>\n",
       "    </tr>\n",
       "    <tr>\n",
       "      <th>3</th>\n",
       "      <td>1</td>\n",
       "      <td>2019-11-02 19:35</td>\n",
       "      <td>山东</td>\n",
       "      <td>108:95</td>\n",
       "      <td>八一</td>\n",
       "      <td>战报</td>\n",
       "      <td>统计</td>\n",
       "      <td>组图</td>\n",
       "      <td>济南</td>\n",
       "      <td></td>\n",
       "      <td>http://cba.sports.sina.com.cn/cba/team/show/15/</td>\n",
       "      <td>http://cba.sports.sina.com.cn/cba/schedule/sho...</td>\n",
       "      <td>http://cba.sports.sina.com.cn/cba/team/show/3/</td>\n",
       "      <td>http://sports.sina.com.cn/basketball/cba/2019-...</td>\n",
       "      <td>http://cba.sports.sina.com.cn/cba/schedule/sho...</td>\n",
       "      <td>http://slide.sports.sina.com.cn/cba/slide_2_78...</td>\n",
       "      <td>2019202000004</td>\n",
       "    </tr>\n",
       "    <tr>\n",
       "      <th>4</th>\n",
       "      <td>1</td>\n",
       "      <td>2019-11-02 19:35</td>\n",
       "      <td>北控</td>\n",
       "      <td>108:103</td>\n",
       "      <td>深圳</td>\n",
       "      <td>战报</td>\n",
       "      <td>统计</td>\n",
       "      <td>组图</td>\n",
       "      <td>北京</td>\n",
       "      <td></td>\n",
       "      <td>http://cba.sports.sina.com.cn/cba/team/show/369/</td>\n",
       "      <td>http://cba.sports.sina.com.cn/cba/schedule/sho...</td>\n",
       "      <td>http://cba.sports.sina.com.cn/cba/team/show/8/</td>\n",
       "      <td>http://sports.sina.com.cn/basketball/cba/2019-...</td>\n",
       "      <td>http://cba.sports.sina.com.cn/cba/schedule/sho...</td>\n",
       "      <td>http://slide.sports.sina.com.cn/cba/slide_2_79...</td>\n",
       "      <td>2019202000005</td>\n",
       "    </tr>\n",
       "  </tbody>\n",
       "</table>\n",
       "</div>"
      ],
      "text/plain": [
       "  轮次                日期  主队       比分  客队  战报  统计  组图  地点 电视  \\\n",
       "0  1  2019-11-01 19:35  广东   107:98  辽宁  战报  统计  组图  东莞      \n",
       "1  1  2019-11-02 19:35  江苏    96:97  浙江  战报  统计  组图  苏州      \n",
       "2  1  2019-11-02 19:35  四川   87:134  新疆  战报  统计  组图  成都      \n",
       "3  1  2019-11-02 19:35  山东   108:95  八一  战报  统计  组图  济南      \n",
       "4  1  2019-11-02 19:35  北控  108:103  深圳  战报  统计  组图  北京      \n",
       "\n",
       "                                            主队_link  \\\n",
       "0    http://cba.sports.sina.com.cn/cba/team/show/1/   \n",
       "1    http://cba.sports.sina.com.cn/cba/team/show/2/   \n",
       "2  http://cba.sports.sina.com.cn/cba/team/show/182/   \n",
       "3   http://cba.sports.sina.com.cn/cba/team/show/15/   \n",
       "4  http://cba.sports.sina.com.cn/cba/team/show/369/   \n",
       "\n",
       "                                             比分_link  \\\n",
       "0  http://cba.sports.sina.com.cn/cba/schedule/sho...   \n",
       "1  http://cba.sports.sina.com.cn/cba/schedule/sho...   \n",
       "2  http://cba.sports.sina.com.cn/cba/schedule/sho...   \n",
       "3  http://cba.sports.sina.com.cn/cba/schedule/sho...   \n",
       "4  http://cba.sports.sina.com.cn/cba/schedule/sho...   \n",
       "\n",
       "                                           客队_link  \\\n",
       "0   http://cba.sports.sina.com.cn/cba/team/show/9/   \n",
       "1   http://cba.sports.sina.com.cn/cba/team/show/6/   \n",
       "2  http://cba.sports.sina.com.cn/cba/team/show/11/   \n",
       "3   http://cba.sports.sina.com.cn/cba/team/show/3/   \n",
       "4   http://cba.sports.sina.com.cn/cba/team/show/8/   \n",
       "\n",
       "                                             战报_link  \\\n",
       "0  http://sports.sina.com.cn/basketball/cba/2019-...   \n",
       "1  http://sports.sina.com.cn/basketball/cba/2019-...   \n",
       "2  http://sports.sina.com.cn/basketball/cba/2019-...   \n",
       "3  http://sports.sina.com.cn/basketball/cba/2019-...   \n",
       "4  http://sports.sina.com.cn/basketball/cba/2019-...   \n",
       "\n",
       "                                             统计_link  \\\n",
       "0  http://cba.sports.sina.com.cn/cba/schedule/sho...   \n",
       "1  http://cba.sports.sina.com.cn/cba/schedule/sho...   \n",
       "2  http://cba.sports.sina.com.cn/cba/schedule/sho...   \n",
       "3  http://cba.sports.sina.com.cn/cba/schedule/sho...   \n",
       "4  http://cba.sports.sina.com.cn/cba/schedule/sho...   \n",
       "\n",
       "                                             组图_link            UID  \n",
       "0  http://slide.sports.sina.com.cn/cba/slide_2_79...  2019202000001  \n",
       "1  http://slide.sports.sina.com.cn/cba/slide_2_78...  2019202000002  \n",
       "2  http://slide.sports.sina.com.cn/cba/slide_2_78...  2019202000003  \n",
       "3  http://slide.sports.sina.com.cn/cba/slide_2_78...  2019202000004  \n",
       "4  http://slide.sports.sina.com.cn/cba/slide_2_79...  2019202000005  "
      ]
     },
     "execution_count": 167,
     "metadata": {},
     "output_type": "execute_result"
    }
   ],
   "source": [
    "df_schedule_full.head()"
   ]
  },
  {
   "cell_type": "code",
   "execution_count": null,
   "metadata": {},
   "outputs": [],
   "source": []
  },
  {
   "cell_type": "code",
   "execution_count": null,
   "metadata": {},
   "outputs": [],
   "source": []
  },
  {
   "cell_type": "code",
   "execution_count": null,
   "metadata": {},
   "outputs": [],
   "source": []
  },
  {
   "cell_type": "code",
   "execution_count": null,
   "metadata": {},
   "outputs": [],
   "source": []
  },
  {
   "cell_type": "code",
   "execution_count": null,
   "metadata": {},
   "outputs": [],
   "source": []
  },
  {
   "cell_type": "code",
   "execution_count": null,
   "metadata": {},
   "outputs": [],
   "source": []
  },
  {
   "cell_type": "code",
   "execution_count": null,
   "metadata": {},
   "outputs": [],
   "source": []
  },
  {
   "cell_type": "code",
   "execution_count": null,
   "metadata": {},
   "outputs": [],
   "source": []
  },
  {
   "cell_type": "code",
   "execution_count": null,
   "metadata": {},
   "outputs": [],
   "source": []
  },
  {
   "cell_type": "code",
   "execution_count": null,
   "metadata": {},
   "outputs": [],
   "source": []
  },
  {
   "cell_type": "code",
   "execution_count": null,
   "metadata": {},
   "outputs": [],
   "source": []
  },
  {
   "cell_type": "code",
   "execution_count": null,
   "metadata": {},
   "outputs": [],
   "source": []
  },
  {
   "cell_type": "code",
   "execution_count": null,
   "metadata": {},
   "outputs": [],
   "source": []
  },
  {
   "cell_type": "code",
   "execution_count": null,
   "metadata": {},
   "outputs": [],
   "source": []
  },
  {
   "cell_type": "code",
   "execution_count": null,
   "metadata": {},
   "outputs": [],
   "source": []
  },
  {
   "cell_type": "code",
   "execution_count": null,
   "metadata": {},
   "outputs": [],
   "source": []
  },
  {
   "cell_type": "code",
   "execution_count": null,
   "metadata": {},
   "outputs": [],
   "source": []
  },
  {
   "cell_type": "code",
   "execution_count": null,
   "metadata": {},
   "outputs": [],
   "source": []
  },
  {
   "cell_type": "code",
   "execution_count": null,
   "metadata": {},
   "outputs": [],
   "source": []
  }
 ],
 "metadata": {
  "anaconda-cloud": {},
  "kernelspec": {
   "display_name": "Python 3",
   "language": "python",
   "name": "python3"
  },
  "language_info": {
   "codemirror_mode": {
    "name": "ipython",
    "version": 3
   },
   "file_extension": ".py",
   "mimetype": "text/x-python",
   "name": "python",
   "nbconvert_exporter": "python",
   "pygments_lexer": "ipython3",
   "version": "3.7.6"
  },
  "pycharm": {
   "stem_cell": {
    "cell_type": "raw",
    "metadata": {
     "collapsed": false
    },
    "source": []
   }
  }
 },
 "nbformat": 4,
 "nbformat_minor": 1
}
