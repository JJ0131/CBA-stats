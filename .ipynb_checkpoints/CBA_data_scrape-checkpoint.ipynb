{
 "cells": [
  {
   "cell_type": "markdown",
   "metadata": {},
   "source": [
    "# Player Stats Collecting \n",
    "(Don't need to collect player stats for now)"
   ]
  },
  {
   "cell_type": "code",
   "execution_count": 1,
   "metadata": {
    "pycharm": {
     "is_executing": false
    }
   },
   "outputs": [],
   "source": [
    "import requests\n",
    "from bs4 import BeautifulSoup\n",
    "# import lxml.html as lh\n",
    "from bs4 import BeautifulSoup\n",
    "import pandas as pd\n",
    "import datetime\n",
    "import numpy as np\n",
    "import re\n",
    "import time\n",
    "\n",
    "\n",
    "def get_page_content(url,encoding='UTF-8',remove_linebreaks=True\n",
    "                    ,header = {'User-Agent': r'Mozilla/5.0 (Macintosh; Intel Mac OS X 10_10_1) AppleWebKit/537.36 (KHTML, like Gecko) '\n",
    "                            r'Chrome/41.0.2227.1 Safari/537.36'}):\n",
    "    session = requests.Session()\n",
    "    base_url = url\n",
    "    response = session.get(base_url, headers=header)\n",
    "    response.encoding = encoding\n",
    "    page_content = BeautifulSoup(response.content, \"html.parser\")\n",
    "    page_content_str = str(page_content)\n",
    "    if remove_linebreaks:\n",
    "        page_content_str = re.sub('\\n','',page_content_str)\n",
    "    return page_content_str"
   ]
  },
  {
   "cell_type": "raw",
   "metadata": {
    "pycharm": {
     "is_executing": true
    }
   },
   "source": [
    "header = {'User-Agent': r'Mozilla/5.0 (Macintosh; Intel Mac OS X 10_10_1) AppleWebKit/537.36 (KHTML, like Gecko) '\n",
    "                        r'Chrome/41.0.2227.1 Safari/537.36'}\n",
    "session = requests.Session()\n",
    "base_url = r\"http://cba.sports.sina.com.cn/cba/stats/playerstats/\"\n",
    "response = session.get(base_url, headers=header)\n",
    "\n",
    "response.encoding = 'GBK'\n",
    "\n",
    "\n",
    "doc = lh.fromstring(response.content)\n",
    "\n",
    "rows = doc.xpath('//tr')\n",
    "\n",
    "table_headers = [t.text_content() for t in rows[0]]\n",
    "print(table_headers)\n",
    "\n",
    "print(len(rows))\n",
    "\n",
    "i = 0\n",
    "table = []\n",
    "#\n",
    "for row in rows:\n",
    "    one_row = []\n",
    "    for cell in row:\n",
    "        txt = cell.text_content().strip()\n",
    "        one_row.append(txt)\n",
    "    table.append(one_row)\n",
    "\n",
    "len(table)\n",
    "\n",
    "player_stats_sina = pd.DataFrame(table[1:], columns=table[0])\n",
    "\n",
    "player_stats_sina.rename(columns={\"号码\": '排名'}, inplace=True)\n",
    "\n",
    "print(datetime.date.today())\n",
    "\n",
    "player_stats_sina.to_csv(f'StatsData/Player_Stats_{datetime.date.today()}.csv', index=False)"
   ]
  },
  {
   "cell_type": "markdown",
   "metadata": {},
   "source": [
    "# All Games Collecting\n",
    "* Get the schedule from http://cba.sports.sina.com.cn/cba/schedule/all/?qleagueid=205&qmonth=&qteamid=\n",
    "* Get all the links\n",
    "* Loop through all the game links and scrape detailed stats"
   ]
  },
  {
   "cell_type": "markdown",
   "metadata": {},
   "source": [
    "### To do:\n",
    "* get all values in \"select\" tag, just in case this base url does not work anymore\n",
    "* get all links\n",
    "* after get all links, scrape each game's stats\n",
    "* 暂定 主队_link，统计_link这样的header, 后期可能单独建一个表放所有entity（球队，球员）的link\n",
    "* automatically determine number of columns in the table\n",
    "* Not sure if I want to rescrape all the data every week or just go look for the missing game links using known data\n",
    "* 单节得分，教练，领队可以记在game表里"
   ]
  },
  {
   "cell_type": "code",
   "execution_count": null,
   "metadata": {
    "pycharm": {
     "is_executing": false,
     "name": "#%%\n"
    }
   },
   "outputs": [],
   "source": [
    "import requests\n",
    "from bs4 import BeautifulSoup\n",
    "# import lxml.html as lh\n",
    "import pandas as pd\n",
    "import datetime\n",
    "import re\n",
    "\n",
    "header = {'User-Agent': r'Mozilla/5.0 (Macintosh; Intel Mac OS X 10_10_1) AppleWebKit/537.36 (KHTML, like Gecko) '\n",
    "                        r'Chrome/41.0.2227.1 Safari/537.36'}\n",
    "session = requests.Session()\n",
    "base_url = r\"http://cba.sports.sina.com.cn/cba/schedule/all/?qleagueid=205&qmonth=&qteamid=\"\n",
    "response = session.get(base_url, headers=header)\n",
    "\n",
    "response.encoding = 'GB2312'\n",
    "\n",
    "page_content = BeautifulSoup(response.content, \"html.parser\")\n",
    "page_content_str = str(page_content)\n",
    "page_content_str = re.sub('\\n','',page_content_str)"
   ]
  },
  {
   "cell_type": "code",
   "execution_count": null,
   "metadata": {
    "pycharm": {
     "is_executing": false
    },
    "scrolled": true
   },
   "outputs": [],
   "source": [
    "# Get table division\n",
    "table_content = re.findall('<div class=\"blk_wrap\"><table>(.*)</table></div>',page_content_str)\n",
    "\n",
    "len(table_content)"
   ]
  },
  {
   "cell_type": "code",
   "execution_count": null,
   "metadata": {
    "pycharm": {
     "is_executing": false
    }
   },
   "outputs": [],
   "source": [
    "table_content_str = table_content[0]\n",
    "table_content_str[:1000]"
   ]
  },
  {
   "cell_type": "markdown",
   "metadata": {},
   "source": [
    "### Get table headers"
   ]
  },
  {
   "cell_type": "code",
   "execution_count": null,
   "metadata": {
    "pycharm": {
     "is_executing": false
    },
    "scrolled": true
   },
   "outputs": [],
   "source": [
    "# Get headers\n",
    "\n",
    "\n",
    "table_headers = re.findall('<th>(.*?)</th>',table_content_str)\n",
    "table_headers"
   ]
  },
  {
   "cell_type": "markdown",
   "metadata": {},
   "source": [
    "### Get table rows (table body, 也就是赛程表)"
   ]
  },
  {
   "cell_type": "code",
   "execution_count": null,
   "metadata": {
    "pycharm": {
     "is_executing": false
    }
   },
   "outputs": [],
   "source": [
    "# Get table data\n",
    "\n",
    "\n",
    "\n",
    "table_body = re.findall('<tbody>(.*?)</tbody>',table_content_str)\n",
    "len(table_body)"
   ]
  },
  {
   "cell_type": "code",
   "execution_count": null,
   "metadata": {
    "pycharm": {
     "is_executing": false
    }
   },
   "outputs": [],
   "source": [
    "table_body_str = table_body[0]\n",
    "# get rid of invalid character\n",
    "table_body_str = table_body_str.replace(u'\\xa0',' ')\n",
    "table_body_str[:1000]"
   ]
  },
  {
   "cell_type": "code",
   "execution_count": null,
   "metadata": {
    "pycharm": {
     "is_executing": false
    }
   },
   "outputs": [],
   "source": [
    "# check last 1000 characters\n",
    "table_body_str[-1000:]"
   ]
  },
  {
   "cell_type": "code",
   "execution_count": null,
   "metadata": {
    "pycharm": {
     "is_executing": false
    }
   },
   "outputs": [],
   "source": [
    "table_cells = re.findall('<td>(.*?)</td>',table_body_str)\n",
    "\n",
    "# CBA has 46 rounds, each round constits of 10 games, so we need to have 46*10*10 cells = 4600 cells\n",
    "len(table_cells)"
   ]
  },
  {
   "cell_type": "code",
   "execution_count": null,
   "metadata": {
    "pycharm": {
     "is_executing": false
    },
    "scrolled": true
   },
   "outputs": [],
   "source": [
    "# get rid of spaces\n",
    "table_cells = list(map(lambda x: x.strip(),table_cells))\n",
    "table_cells[:10]"
   ]
  },
  {
   "cell_type": "markdown",
   "metadata": {},
   "source": [
    "### Get actual texts and links"
   ]
  },
  {
   "cell_type": "code",
   "execution_count": null,
   "metadata": {
    "pycharm": {
     "is_executing": false
    }
   },
   "outputs": [],
   "source": [
    "# get actual text\n",
    "table_cells_txt = list(map(lambda x: re.findall('<a.*?>(.*)</a>',x)[0].strip() if '<a' in x else x, table_cells))\n",
    "print(len(table_cells_txt))\n",
    "print(table_cells_txt[:20])\n",
    "# get all the links\n",
    "table_cells_links = list(map(lambda x: re.findall('<a href=\"(.*?)\" target=\"_blank\">'\n",
    "                                                  ,x)[0].strip() if '<a' in x else None, table_cells))\n",
    "print(len(table_cells_links))\n",
    "print(table_cells_links[:20])"
   ]
  },
  {
   "cell_type": "markdown",
   "metadata": {},
   "source": [
    "### Save data as schedule table"
   ]
  },
  {
   "cell_type": "code",
   "execution_count": null,
   "metadata": {
    "pycharm": {
     "is_executing": false
    },
    "scrolled": true
   },
   "outputs": [],
   "source": [
    "# transform into \n",
    "\n",
    "import numpy as np\n",
    "table_cells_txt = np.reshape(table_cells_txt,[-1,10]).tolist()\n",
    "table_cells_links = np.reshape(table_cells_links,[-1,10]).tolist()\n",
    "print(table_cells_txt[:10])\n",
    "print(table_cells_links[:10])"
   ]
  },
  {
   "cell_type": "code",
   "execution_count": null,
   "metadata": {
    "pycharm": {
     "is_executing": false
    }
   },
   "outputs": [],
   "source": [
    "df_schedule_text = pd.DataFrame(data = table_cells_txt,columns=table_headers)\n",
    "df_schedule_links = pd.DataFrame(data = table_cells_links,columns=[header+'_link' for header in table_headers])"
   ]
  },
  {
   "cell_type": "code",
   "execution_count": null,
   "metadata": {
    "pycharm": {
     "is_executing": false
    }
   },
   "outputs": [],
   "source": [
    "df_schedule_text.head()"
   ]
  },
  {
   "cell_type": "code",
   "execution_count": null,
   "metadata": {
    "pycharm": {
     "is_executing": false
    }
   },
   "outputs": [],
   "source": [
    "df_schedule_links.head()"
   ]
  },
  {
   "cell_type": "code",
   "execution_count": null,
   "metadata": {
    "pycharm": {
     "is_executing": false
    }
   },
   "outputs": [],
   "source": [
    "df_schedule_full = pd.merge(df_schedule_text,df_schedule_links,left_index=True,right_index=True)\n",
    "# remove columns that are all None\n",
    "df_schedule_full.dropna(axis=1,how='all',inplace=True)\n",
    "df_schedule_full.head()"
   ]
  },
  {
   "cell_type": "code",
   "execution_count": null,
   "metadata": {
    "pycharm": {
     "is_executing": false
    },
    "scrolled": true
   },
   "outputs": [],
   "source": [
    "# id consists of season and a 5-digit label of the game - 2019-2020 season, game No.1 = 2019202000001\n",
    "# lable is generated by unique http address of the game stats\n",
    "uid_column = ['20192020'+f'{item+1:05d}' for item in pd.factorize(df_schedule_full['统计_link'])[0].tolist()]\n",
    "df_schedule_full['UID'] = uid_column\n",
    "# get rid of Hanzi and convert into integers\n",
    "df_schedule_full['轮次'] = df_schedule_full['轮次'].apply(lambda x: int(re.findall('(\\d+)',x)[0]))"
   ]
  },
  {
   "cell_type": "code",
   "execution_count": null,
   "metadata": {
    "pycharm": {
     "is_executing": false
    },
    "scrolled": true
   },
   "outputs": [],
   "source": [
    "df_schedule_full.head()"
   ]
  },
  {
   "cell_type": "code",
   "execution_count": null,
   "metadata": {
    "pycharm": {
     "is_executing": false
    }
   },
   "outputs": [],
   "source": [
    "df_schedule_full"
   ]
  },
  {
   "cell_type": "code",
   "execution_count": null,
   "metadata": {
    "pycharm": {
     "is_executing": false
    }
   },
   "outputs": [],
   "source": [
    "df_schedule_full.to_csv(f'StatsData/GamesSchedulePage_{datetime.date.today()}.csv', index=False)"
   ]
  },
  {
   "cell_type": "markdown",
   "metadata": {},
   "source": [
    "## Details Page"
   ]
  },
  {
   "cell_type": "code",
   "execution_count": null,
   "metadata": {
    "pycharm": {
     "is_executing": false
    }
   },
   "outputs": [],
   "source": [
    "links_list = list(df_schedule_full['统计_link'])\n",
    "links_list"
   ]
  },
  {
   "cell_type": "code",
   "execution_count": null,
   "metadata": {
    "pycharm": {
     "is_executing": false
    }
   },
   "outputs": [],
   "source": [
    "page_content_str = get_page_content(r'http://cba.sports.sina.com.cn/cba/schedule/show/18381/'\n",
    "                                    ,encoding='GB2312')\n",
    "page_content_str"
   ]
  },
  {
   "cell_type": "markdown",
   "metadata": {},
   "source": [
    "###  每节比分对比"
   ]
  },
  {
   "cell_type": "code",
   "execution_count": null,
   "metadata": {
    "pycharm": {
     "is_executing": false
    }
   },
   "outputs": [],
   "source": [
    "hometeam_name = re.findall('<span class=\"team_name team_nameA\" style=\"font-size:15px\">(.*?)</span>'\n",
    "                            ,page_content_str)[0]\n",
    "awayteam_name = re.findall('<span class=\"team_name team_nameB\" style=\"font-size:15px\">(.*?)</span>'\n",
    "                            ,page_content_str)[0]\n",
    "hometeam_score = re.findall('<div class=\"team_score team_scoreA\"><span>(\\d*?)</span></div>',page_content_str)[0]\n",
    "awayteam_score = re.findall('<div class=\"team_score team_scoreB\"><span>(\\d*?)</span></div>',page_content_str)[0]\n",
    "print(hometeam_name,hometeam_score)\n",
    "print(awayteam_name,awayteam_score)"
   ]
  },
  {
   "cell_type": "code",
   "execution_count": null,
   "metadata": {
    "pycharm": {
     "is_executing": false
    }
   },
   "outputs": [],
   "source": [
    "# <div class=\"score_pad\"><div class=\"scores\"></div>\n",
    "pts_qt_headers = re.findall('<div class=\"scores\">(.*?)<div class=\"score_tab\">',page_content_str)\n",
    "pts_qt_headers_str = pts_qt_headers[0]\n",
    "\n",
    "pts_qt_headers_lst = re.findall('<span.*?>(.*?)</span>',pts_qt_headers_str)\n",
    "pts_qt_headers_lst = pts_qt_headers_lst[1:-1]\n",
    "pts_qt_headers_lst"
   ]
  },
  {
   "cell_type": "code",
   "execution_count": null,
   "metadata": {
    "pycharm": {
     "is_executing": false
    }
   },
   "outputs": [],
   "source": [
    "# <div class=\"score_pad\"><div class=\"scores\"></div>\n",
    "pts_qt_pts = re.findall('<div class=\"team_score team_scoreA\">.*?</div>(.*?)<div class=\"team_score team_scoreB\">'\n",
    "                        ,page_content_str)\n",
    "pts_qt_pts_str = pts_qt_pts[0]\n",
    "pts_qt_pts_str = pts_qt_pts_str.replace('\\xa0','')\n",
    "pts_qt_pts_lst = re.findall('<span.*?>(.*?)</span>',pts_qt_pts_str)\n",
    "pts_qt_pts_lst = [int(x) if x else None for x in pts_qt_pts_lst]"
   ]
  },
  {
   "cell_type": "code",
   "execution_count": null,
   "metadata": {
    "pycharm": {
     "is_executing": false
    },
    "scrolled": true
   },
   "outputs": [],
   "source": [
    "hometeam_pts_qtr = pts_qt_pts_lst[0::2]\n",
    "awayteam_pts_qtr = pts_qt_pts_lst[1::2]\n",
    "\n",
    "print(hometeam_name,hometeam_score,hometeam_pts_qtr)\n",
    "print(awayteam_name,awayteam_score,awayteam_pts_qtr)"
   ]
  },
  {
   "cell_type": "markdown",
   "metadata": {},
   "source": [
    "###  主队统计数据"
   ]
  },
  {
   "cell_type": "markdown",
   "metadata": {},
   "source": [
    "### Todo:\n",
    "* 从game_schedule表内加上队伍名称，比赛ID\n",
    "* save as json?? df_schedule_full[:3].to_json(force_ascii=False,orient='index')"
   ]
  },
  {
   "cell_type": "code",
   "execution_count": null,
   "metadata": {
    "pycharm": {
     "is_executing": false
    }
   },
   "outputs": [],
   "source": [
    "def get_team_details(page_content_str,re_pattern):\n",
    "    team_details = re.findall(re_pattern,page_content_str)[0]\n",
    "    return team_details\n",
    "\n",
    "def get_table_coach(team_details):\n",
    "    coach = re.findall('主教练：(.*?)领队',team_details)[0].replace('\\xa0','')\n",
    "    return coach\n",
    "\n",
    "def get_table_lingdui(team_details):\n",
    "    lingdui = re.findall('领队：(.*?)<',team_details)[0].replace('\\xa0','')\n",
    "    return lingdui\n",
    "\n",
    "def get_table_headers(team_details):\n",
    "    team_table_str = re.findall('<table>(.*?)</table>',team_details)[0]\n",
    "    team_table_header_str = re.findall('<thead>(.*?)</thead>',team_table_str)[0]\n",
    "    team_table_header_lst = re.findall('<th>(.*?)</th>',team_table_header_str)\n",
    "    return team_table_header_lst\n",
    "\n",
    "def clean_cells(cell_data):\n",
    "    if '<a' in cell_data:\n",
    "        cell_data = re.findall('<a.*?>(.*?)</a>',cell_data)[0]\n",
    "    if 'document.write' in cell_data:\n",
    "        try:\n",
    "            cell_data = re.findall('[(]\"(\\d*)\"[)]',cell_data)[0]\n",
    "        except IndexError:\n",
    "            cell_data = re.findall('[(]\"(\\d*/\\d)\"[)]',cell_data)[0]\n",
    "    cell_data = re.sub('\\s','', cell_data)\n",
    "    cell_data = re.sub('是','1', cell_data)\n",
    "    cell_data = re.sub('否','0', cell_data)\n",
    "    return cell_data\n",
    "\n",
    "def get_table_cells(team_details,headers_count):\n",
    "    team_table_str = re.findall('<table>(.*?)</table>',team_details)[0]\n",
    "    team_table_cells_str = re.findall('<tbody style=\"\">(.*?)</tbody>',team_table_str)[0]\n",
    "    team_table_cells_lst = re.findall('<td>(.*?)</td>',team_table_cells_str)\n",
    "    team_table_cells_lst = list(map(clean_cells,team_table_cells_lst))\n",
    "    team_table_cells_lst = np.reshape(team_table_cells_lst,(-1,headers_count)).tolist()\n",
    "    return team_table_cells_lst"
   ]
  },
  {
   "cell_type": "code",
   "execution_count": null,
   "metadata": {
    "pycharm": {
     "is_executing": false
    }
   },
   "outputs": [],
   "source": [
    "def get_hometeam_stats(page_content_str,re_pattern=\n",
    "                       '<div class=\"part part01 blk\">(.*?)<div class=\"part part02 blk\">'):\n",
    "    hometeam_details = get_team_details(page_content_str,re_pattern)\n",
    "\n",
    "    hometeam_coach = get_table_coach(hometeam_details)\n",
    "    hometeam_lingdui = get_table_lingdui(hometeam_details)\n",
    "    \n",
    "    hometeam_table_header_lst = get_table_headers(hometeam_details)\n",
    "    hometeam_table_cells_lst = get_table_cells(hometeam_details,len(hometeam_table_header_lst))\n",
    "\n",
    "    df_hometeam_details = pd.DataFrame(data = hometeam_table_cells_lst,columns=hometeam_table_header_lst)\n",
    "    return df_hometeam_details"
   ]
  },
  {
   "cell_type": "code",
   "execution_count": null,
   "metadata": {
    "pycharm": {
     "is_executing": false
    },
    "scrolled": true
   },
   "outputs": [],
   "source": [
    "df_hometeam_details = get_hometeam_stats(page_content_str)\n",
    "df_hometeam_details"
   ]
  },
  {
   "cell_type": "markdown",
   "metadata": {},
   "source": [
    "###  客队统计数据"
   ]
  },
  {
   "cell_type": "code",
   "execution_count": null,
   "metadata": {
    "pycharm": {
     "is_executing": false
    }
   },
   "outputs": [],
   "source": [
    "def get_awayteam_stats(page_content_str,re_pattern=\n",
    "                       '<div class=\"part part02 blk\">(.*?)<div class=\"part part03 blk\">'):\n",
    "    awayteam_details = get_team_details(page_content_str,re_pattern)\n",
    "\n",
    "    awayteam_coach = get_table_coach(awayteam_details)\n",
    "    awayteam_lingdui = get_table_lingdui(awayteam_details)\n",
    "    \n",
    "    awayteam_table_header_lst = get_table_headers(awayteam_details)\n",
    "    awayteam_table_cells_lst = get_table_cells(awayteam_details,len(awayteam_table_header_lst))\n",
    "\n",
    "    df_awayteam_details = pd.DataFrame(data = awayteam_table_cells_lst,columns=awayteam_table_header_lst)\n",
    "    return df_awayteam_details\n",
    "\n"
   ]
  },
  {
   "cell_type": "code",
   "execution_count": null,
   "metadata": {
    "pycharm": {
     "is_executing": false
    },
    "scrolled": true
   },
   "outputs": [],
   "source": [
    "df_awayteam_details = get_awayteam_stats(page_content_str)\n",
    "df_awayteam_details"
   ]
  },
  {
   "cell_type": "code",
   "execution_count": null,
   "metadata": {
    "pycharm": {
     "is_executing": false
    },
    "scrolled": true
   },
   "outputs": [],
   "source": [
    "pd.concat([df_hometeam_details,df_awayteam_details],ignore_index=True)"
   ]
  },
  {
   "cell_type": "markdown",
   "metadata": {},
   "source": [
    "###  各项最高 (Later)"
   ]
  },
  {
   "cell_type": "code",
   "execution_count": null,
   "metadata": {
    "pycharm": {
     "is_executing": false
    }
   },
   "outputs": [],
   "source": [
    "highest_details = re.findall('<div class=\"part part01 blk\">(.*?)<div class=\"part part02 blk\">'\n",
    "                            ,page_content_str)[0]\n",
    "\n"
   ]
  },
  {
   "cell_type": "markdown",
   "metadata": {},
   "source": [
    "# Loop and Scrape"
   ]
  },
  {
   "cell_type": "raw",
   "metadata": {},
   "source": [
    "df_schedule_full = pd.read_csv('StatsData/GamesSchedulePage_2019-12-28.csv')"
   ]
  },
  {
   "cell_type": "code",
   "execution_count": null,
   "metadata": {
    "pycharm": {
     "is_executing": false
    },
    "scrolled": false
   },
   "outputs": [],
   "source": [
    "df_schedule_full[:3]"
   ]
  },
  {
   "cell_type": "code",
   "execution_count": null,
   "metadata": {
    "pycharm": {
     "is_executing": false
    },
    "scrolled": true
   },
   "outputs": [],
   "source": [
    "df_schedule_full.columns"
   ]
  },
  {
   "cell_type": "code",
   "execution_count": null,
   "metadata": {
    "pycharm": {
     "is_executing": false
    },
    "scrolled": true
   },
   "outputs": [],
   "source": [
    "df_list = []\n",
    "for index,row in df_schedule_full.iterrows():\n",
    "    game_UID = row['UID']\n",
    "    game_hteam_name = row['主队']\n",
    "    game_ateam_name = row['客队']\n",
    "    base_url = row['统计_link']\n",
    "    page_content_str = get_page_content(base_url,encoding='GB2312')\n",
    "    \n",
    "    # Get home team stats\n",
    "    df_home = get_hometeam_stats(page_content_str=page_content_str)\n",
    "    df_home['Game_ID'] = game_UID\n",
    "    df_home['球队'] = game_hteam_name\n",
    "    df_home['对手'] = game_ateam_name\n",
    "    df_list.append(df_home)\n",
    "    \n",
    "    # Get away team stats\n",
    "    df_away = get_awayteam_stats(page_content_str=page_content_str)\n",
    "    df_away['Game_ID'] = game_UID\n",
    "    df_away['球队'] = game_ateam_name\n",
    "    df_away['对手'] = game_hteam_name # use to get opponents stats\n",
    "    df_list.append(df_away)\n",
    "    print(row['UID'],' ',row['主队'],' ', row['客队'],' ',datetime.datetime.now())\n",
    "    \n",
    "    # pause for a few seconds to avoid getting banned\n",
    "    time.sleep(np.random.rand()*10)"
   ]
  },
  {
   "cell_type": "code",
   "execution_count": null,
   "metadata": {
    "pycharm": {
     "is_executing": false
    }
   },
   "outputs": [],
   "source": [
    "games_stats = pd.concat(df_list,ignore_index=True)\n",
    "\n",
    "games_stats"
   ]
  },
  {
   "cell_type": "code",
   "execution_count": null,
   "metadata": {
    "pycharm": {
     "is_executing": false
    }
   },
   "outputs": [],
   "source": [
    "# remove team stats\n",
    "if 2*len(games_stats['Game_ID'].unique())==len(games_stats.loc[games_stats['号码']=='--']):\n",
    "    games_stats.drop(games_stats.loc[games_stats['号码']=='--'].index,inplace=True)\n",
    "\n",
    "def split_made_attempt(df_orig):\n",
    "    df = df_orig.copy()\n",
    "    for col_name in list(filter(lambda x: '-' in x, df.columns.tolist())):\n",
    "        orig_col = col_name\n",
    "        col_made = re.findall('(.*)中-投',col_name)[0]+'中'\n",
    "        col_attempt = re.findall('(.*)中-投',col_name)[0]+'投'\n",
    "        df[[col_made,col_attempt]] = df[orig_col].str.split('-',expand=True)\n",
    "        df[col_attempt] = df[col_attempt].apply(lambda x: re.sub('[(].*[)]','',x))\n",
    "        df.drop(columns=orig_col,inplace=True)\n",
    "    return df\n",
    "\n",
    "games_stats = split_made_attempt(games_stats)\n",
    "games_stats"
   ]
  },
  {
   "cell_type": "code",
   "execution_count": null,
   "metadata": {
    "pycharm": {
     "is_executing": false
    }
   },
   "outputs": [],
   "source": [
    "games_stats.to_csv(f'StatsData/All_Games_Stats_{datetime.date.today()}.csv',encoding = 'UTF-8',\n",
    "                   index=False)"
   ]
  },
  {
   "cell_type": "code",
   "execution_count": null,
   "metadata": {
    "pycharm": {
     "is_executing": false
    }
   },
   "outputs": [],
   "source": []
  },
  {
   "cell_type": "code",
   "execution_count": null,
   "metadata": {
    "pycharm": {
     "is_executing": false
    }
   },
   "outputs": [],
   "source": []
  }
 ],
 "metadata": {
  "anaconda-cloud": {},
  "kernelspec": {
   "display_name": "Python 3",
   "language": "python",
   "name": "python3"
  },
  "language_info": {
   "codemirror_mode": {
    "name": "ipython",
    "version": 3
   },
   "file_extension": ".py",
   "mimetype": "text/x-python",
   "name": "python",
   "nbconvert_exporter": "python",
   "pygments_lexer": "ipython3",
   "version": "3.7.6"
  },
  "pycharm": {
   "stem_cell": {
    "cell_type": "raw",
    "metadata": {
     "collapsed": false
    },
    "source": []
   }
  }
 },
 "nbformat": 4,
 "nbformat_minor": 1
}
