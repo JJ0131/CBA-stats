{
 "cells": [
  {
   "cell_type": "code",
   "execution_count": 112,
   "metadata": {
    "collapsed": true
   },
   "outputs": [],
   "source": [
    "# import nltk\n",
    "import requests\n",
    "from bs4 import BeautifulSoup\n",
    "# import string\n",
    "from fake_useragent import UserAgent\n",
    "import lxml.html as lh\n",
    "# import newspaper\n",
    "# import random\n",
    "import pandas as pd\n",
    "import datetime\n",
    "\n",
    "ua = UserAgent()\n",
    "header = {'User-Agent':ua.chrome}\n",
    "session = requests.Session()\n",
    "base_url = r\"http://cba.sports.sina.com.cn/cba/stats/playerstats/\"\n",
    "response = session.get(base_url,headers = header)\n",
    "\n",
    "response.encoding = 'GBK'\n",
    "\n",
    "doc = lh.fromstring(req.content)\n",
    "\n",
    "rows = doc.xpath('//tr')\n",
    "\n",
    "table_headers = [t.text_content() for t in rows[0]]\n",
    "print(table_headers)\n",
    "\n",
    "len(tr_elements)\n",
    "\n",
    "i=0\n",
    "table = []\n",
    "# \n",
    "for row in rows:\n",
    "    one_row = []\n",
    "    for cell in row:\n",
    "        txt=cell.text_content().strip()\n",
    "        one_row.append(txt)\n",
    "    table.append(one_row)\n",
    "\n",
    "table\n",
    "\n",
    "len(table)\n",
    "\n",
    "player_stats_sina = pd.DataFrame(table[1:],columns = table[0])\n",
    "player_stats_sina\n",
    "\n",
    "player_stats_sina.rename(columns={\"号码\":'排名'},inplace=True)\n",
    "\n",
    "print(datetime.date.today())\n",
    "\n",
    "player_stats_sina.to_csv(f'Player_Stats_{datetime.date.today()}.csv',index = False)"
   ]
  }
 ],
 "metadata": {
  "anaconda-cloud": {},
  "kernelspec": {
   "display_name": "Python [default]",
   "language": "python",
   "name": "python3"
  },
  "language_info": {
   "codemirror_mode": {
    "name": "ipython",
    "version": 3
   },
   "file_extension": ".py",
   "mimetype": "text/x-python",
   "name": "python",
   "nbconvert_exporter": "python",
   "pygments_lexer": "ipython3",
   "version": "3.5.2"
  }
 },
 "nbformat": 4,
 "nbformat_minor": 1
}
