{
 "cells": [
  {
   "cell_type": "code",
   "execution_count": 1,
   "metadata": {},
   "outputs": [
    {
     "name": "stdout",
     "output_type": "stream",
     "text": [
      "4\n",
      "CBA球员数据\n"
     ]
    }
   ],
   "source": [
    "import requests\n",
    "from bs4 import BeautifulSoup\n",
    "import lxml.html as lh\n",
    "import pandas as pd\n",
    "import datetime\n",
    "\n",
    "header = {'User-Agent': r'Mozilla/5.0 (Macintosh; Intel Mac OS X 10_10_1) AppleWebKit/537.36 (KHTML, like Gecko) '\n",
    "                        r'Chrome/41.0.2227.1 Safari/537.36'}\n",
    "session = requests.Session()\n",
    "base_url = r\"http://cbadata.sports.sohu.com/ranking/players/2019/0/6/0/0/2/1\"\n",
    "response = session.get(base_url, headers=header)\n",
    "\n",
    "response.encoding = 'UTF-8'\n",
    "\n",
    "page_content = BeautifulSoup(response.content, \"html.parser\")\n",
    "\n",
    "print(len(page_content))\n",
    "print(page_content.title.get_text())"
   ]
  },
  {
   "cell_type": "code",
   "execution_count": 6,
   "metadata": {},
   "outputs": [],
   "source": [
    "table_str = str(page_content.findAll('div', attrs={\"class\": \"cutM\"}))"
   ]
  },
  {
   "cell_type": "code",
   "execution_count": 8,
   "metadata": {},
   "outputs": [],
   "source": [
    "table_soup = BeautifulSoup(table_str,\"html.parser\")"
   ]
  },
  {
   "cell_type": "code",
   "execution_count": 22,
   "metadata": {},
   "outputs": [
    {
     "data": {
      "text/plain": [
       "'[\\n\\n\\n\\n排名\\n球员\\n球队\\n出场次数\\n场均时间\\n投篮命中率\\n三分命中率\\n三分球总数\\n罚球命中率\\n总得分\\n场均得分\\n总篮板\\n场均篮板\\n\\n\\n1\\n多米尼克-琼斯\\n吉林\\n20\\n40.5\\n47.5%\\n29.2%\\n54\\n81.3%\\n760\\n38\\n160\\n8\\n\\n\\n2\\n约瑟夫-杨\\n同曦\\n20\\n40.5\\n52.5%\\n41.6%\\n72\\n89.6%\\n713\\n35.7\\n87\\n4.4\\n\\n\\n3\\n达柳斯-亚当斯\\n青岛\\n19\\n37\\n46.5%\\n32.1%\\n72\\n87.4%\\n671\\n35.3\\n160\\n8.4\\n\\n\\n4\\n考特尼-福特森\\n四川\\n20\\n38.3\\n46.4%\\n36%\\n50\\n75%\\n592\\n29.6\\n108\\n5.4\\n\\n\\n5\\n莱斯特-哈德森\\n山东\\n20\\n37.7\\n46.2%\\n40.1%\\n97\\n91.4%\\n567\\n28.4\\n164\\n8.2\\n\\n\\n6\\n马尚-布鲁克斯\\n广东\\n20\\n32.9\\n55.5%\\n42.6%\\n69\\n82.1%\\n559\\n28\\n126\\n6.3\\n\\n\\n7\\n贾马尔-富兰克林\\n山西\\n18\\n38.5\\n48.4%\\n35.9%\\n52\\n85.2%\\n532\\n29.6\\n162\\n9\\n\\n\\n8\\n马库斯-邓蒙\\n浙江\\n19\\n37.5\\n44.1%\\n39.4%\\n74\\n83.5%\\n524\\n27.6\\n91\\n4.8\\n\\n\\n9\\n兰斯-史蒂芬森\\n辽宁\\n21\\n35.2\\n51.9%\\n29.8%\\n34\\n75.7%\\n521\\n24.8\\n152\\n7.2\\n\\n\\n10\\n凯尔-弗格\\n北控\\n19\\n37.9\\n48.8%\\n42.2%\\n54\\n84.3%\\n513\\n27\\n136\\n7.2\\n\\n\\n11\\n泰-劳森\\n福建\\n18\\n35.8\\n51.5%\\n43%\\n34\\n82.1%\\n497\\n27.6\\n91\\n5.1\\n\\n\\n12\\n安德鲁-尼克尔森\\n广州\\n17\\n35.5\\n52.7%\\n48.6%\\n54\\n79%\\n473\\n27.8\\n185\\n10.9\\n\\n\\n13\\n林书豪\\n北京\\n19\\n34.5\\n47.8%\\n39.2%\\n29\\n83.3%\\n468\\n24.6\\n116\\n6.1\\n\\n\\n14\\n多纳塔斯-莫泰尤纳斯\\n上海\\n20\\n37.2\\n54.4%\\n31.6%\\n18\\n45.7%\\n463\\n23.2\\n307\\n15.4\\n\\n\\n15\\n西尔文-兰兹博格\\n浙江\\n19\\n32.3\\n45.3%\\n36.5%\\n42\\n83.9%\\n462\\n24.3\\n145\\n7.6\\n\\n\\n16\\n王哲林\\n福建\\n19\\n37.2\\n53.3%\\n25.5%\\n12\\n60.9%\\n458\\n24.1\\n208\\n10.9\\n\\n\\n17\\n达卡里-约翰逊\\n青岛\\n19\\n31.8\\n65.3%\\n-\\n0\\n66.1%\\n445\\n23.4\\n285\\n15\\n\\n\\n18\\n布兰登-巴斯\\n辽宁\\n21\\n32.3\\n60.8%\\n100%\\n1\\n78.6%\\n444\\n21.1\\n179\\n8.5\\n\\n\\n19\\n米罗斯拉夫-拉杜利察\\n江苏\\n20\\n30.5\\n53%\\n34.8%\\n16\\n79%\\n443\\n22.2\\n189\\n9.5\\n\\n\\n20\\n克拉伦斯-威姆斯\\n广东\\n20\\n31.2\\n50.6%\\n30%\\n15\\n80.6%\\n430\\n21.5\\n123\\n6.2\\n\\n\\n]'"
      ]
     },
     "execution_count": 22,
     "metadata": {},
     "output_type": "execute_result"
    }
   ],
   "source": [
    "table_soup.get_text()"
   ]
  },
  {
   "cell_type": "markdown",
   "metadata": {},
   "source": [
    "### Headers"
   ]
  },
  {
   "cell_type": "code",
   "execution_count": 27,
   "metadata": {},
   "outputs": [
    {
     "data": {
      "text/plain": [
       "[<th>排名</th>,\n",
       " <th>球员</th>,\n",
       " <th>球队</th>,\n",
       " <th>出场次数</th>,\n",
       " <th>场均时间</th>,\n",
       " <th>投篮命中率</th>,\n",
       " <th>三分命中率</th>,\n",
       " <th>三分球总数</th>,\n",
       " <th>罚球命中率</th>,\n",
       " <th class=\"act\">总得分</th>,\n",
       " <th>场均得分</th>,\n",
       " <th>总篮板</th>,\n",
       " <th>场均篮板</th>]"
      ]
     },
     "execution_count": 27,
     "metadata": {},
     "output_type": "execute_result"
    }
   ],
   "source": [
    "table_soup.findAll('th')"
   ]
  },
  {
   "cell_type": "code",
   "execution_count": 29,
   "metadata": {},
   "outputs": [],
   "source": [
    "rows = table_soup.findAll('th')"
   ]
  },
  {
   "cell_type": "code",
   "execution_count": 39,
   "metadata": {},
   "outputs": [
    {
     "data": {
      "text/plain": [
       "'排名'"
      ]
     },
     "execution_count": 39,
     "metadata": {},
     "output_type": "execute_result"
    }
   ],
   "source": [
    "rows[0].text"
   ]
  },
  {
   "cell_type": "code",
   "execution_count": 47,
   "metadata": {
    "collapsed": true
   },
   "outputs": [],
   "source": [
    "one_row = rows[9]"
   ]
  },
  {
   "cell_type": "code",
   "execution_count": 48,
   "metadata": {},
   "outputs": [
    {
     "data": {
      "text/plain": [
       "'总得分'"
      ]
     },
     "execution_count": 48,
     "metadata": {},
     "output_type": "execute_result"
    }
   ],
   "source": [
    "one_row.text"
   ]
  },
  {
   "cell_type": "code",
   "execution_count": 51,
   "metadata": {},
   "outputs": [
    {
     "data": {
      "text/plain": [
       "{'class': ['act']}"
      ]
     },
     "execution_count": 51,
     "metadata": {},
     "output_type": "execute_result"
    }
   ],
   "source": [
    "one_row.attrs"
   ]
  },
  {
   "cell_type": "code",
   "execution_count": 55,
   "metadata": {},
   "outputs": [
    {
     "data": {
      "text/plain": [
       "['总得分']"
      ]
     },
     "execution_count": 55,
     "metadata": {},
     "output_type": "execute_result"
    }
   ],
   "source": [
    "one_row.contents"
   ]
  },
  {
   "cell_type": "markdown",
   "metadata": {},
   "source": [
    "### table_rows"
   ]
  },
  {
   "cell_type": "code",
   "execution_count": 69,
   "metadata": {},
   "outputs": [],
   "source": [
    "rows = table_soup.findAll('tr')"
   ]
  },
  {
   "cell_type": "code",
   "execution_count": 78,
   "metadata": {},
   "outputs": [
    {
     "data": {
      "text/plain": [
       "['排名',\n",
       " '球员',\n",
       " '球队',\n",
       " '出场次数',\n",
       " '场均时间',\n",
       " '投篮命中率',\n",
       " '三分命中率',\n",
       " '三分球总数',\n",
       " '罚球命中率',\n",
       " '总得分',\n",
       " '场均得分',\n",
       " '总篮板',\n",
       " '场均篮板']"
      ]
     },
     "execution_count": 78,
     "metadata": {},
     "output_type": "execute_result"
    }
   ],
   "source": [
    "rows[0].text.strip().splitlines()"
   ]
  },
  {
   "cell_type": "code",
   "execution_count": null,
   "metadata": {
    "collapsed": true
   },
   "outputs": [],
   "source": []
  },
  {
   "cell_type": "markdown",
   "metadata": {},
   "source": [
    "I need to build a module - CBA_stats\n",
    "* 1 sub module is Sohu\n",
    "    * I should build something that can get pages = all, rounds= {most recent, (from, to)}\n",
    "* 1 sub module is Sina\n"
   ]
  },
  {
   "cell_type": "code",
   "execution_count": null,
   "metadata": {
    "collapsed": true
   },
   "outputs": [],
   "source": [
    "\n"
   ]
  }
 ],
 "metadata": {
  "anaconda-cloud": {},
  "kernelspec": {
   "display_name": "Python [default]",
   "language": "python",
   "name": "python3"
  },
  "language_info": {
   "codemirror_mode": {
    "name": "ipython",
    "version": 3
   },
   "file_extension": ".py",
   "mimetype": "text/x-python",
   "name": "python",
   "nbconvert_exporter": "python",
   "pygments_lexer": "ipython3",
   "version": "3.5.2"
  }
 },
 "nbformat": 4,
 "nbformat_minor": 1
}
