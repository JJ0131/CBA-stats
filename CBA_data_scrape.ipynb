{
 "cells": [
  {
   "cell_type": "markdown",
   "metadata": {},
   "source": [
    "# Player Stats Collecting \n",
    "(Don't need to collect player stats for now)"
   ]
  },
  {
   "cell_type": "code",
   "execution_count": 1,
   "metadata": {
    "pycharm": {
     "is_executing": false
    }
   },
   "outputs": [],
   "source": [
    "import requests\n",
    "from bs4 import BeautifulSoup\n",
    "# import lxml.html as lh\n",
    "from bs4 import BeautifulSoup\n",
    "import pandas as pd\n",
    "import datetime\n",
    "import numpy as np\n",
    "import re\n",
    "import time\n",
    "\n",
    "\n",
    "def get_page_content(url,encoding='UTF-8',remove_linebreaks=True\n",
    "                    ,header = {'User-Agent': r'Mozilla/5.0 (Macintosh; Intel Mac OS X 10_10_1) AppleWebKit/537.36 (KHTML, like Gecko) '\n",
    "                            r'Chrome/41.0.2227.1 Safari/537.36'}):\n",
    "    session = requests.Session()\n",
    "    base_url = url\n",
    "    response = session.get(base_url, headers=header)\n",
    "    response.encoding = encoding\n",
    "    page_content = BeautifulSoup(response.content, \"html.parser\")\n",
    "    page_content_str = str(page_content)\n",
    "    if remove_linebreaks:\n",
    "        page_content_str = re.sub('\\n','',page_content_str)\n",
    "    return page_content_str"
   ]
  },
  {
   "cell_type": "raw",
   "metadata": {
    "pycharm": {
     "is_executing": true
    }
   },
   "source": [
    "header = {'User-Agent': r'Mozilla/5.0 (Macintosh; Intel Mac OS X 10_10_1) AppleWebKit/537.36 (KHTML, like Gecko) '\n",
    "                        r'Chrome/41.0.2227.1 Safari/537.36'}\n",
    "session = requests.Session()\n",
    "base_url = r\"http://cba.sports.sina.com.cn/cba/stats/playerstats/\"\n",
    "response = session.get(base_url, headers=header)\n",
    "\n",
    "response.encoding = 'GBK'\n",
    "\n",
    "\n",
    "doc = lh.fromstring(response.content)\n",
    "\n",
    "rows = doc.xpath('//tr')\n",
    "\n",
    "table_headers = [t.text_content() for t in rows[0]]\n",
    "print(table_headers)\n",
    "\n",
    "print(len(rows))\n",
    "\n",
    "i = 0\n",
    "table = []\n",
    "#\n",
    "for row in rows:\n",
    "    one_row = []\n",
    "    for cell in row:\n",
    "        txt = cell.text_content().strip()\n",
    "        one_row.append(txt)\n",
    "    table.append(one_row)\n",
    "\n",
    "len(table)\n",
    "\n",
    "player_stats_sina = pd.DataFrame(table[1:], columns=table[0])\n",
    "\n",
    "player_stats_sina.rename(columns={\"号码\": '排名'}, inplace=True)\n",
    "\n",
    "print(datetime.date.today())\n",
    "\n",
    "player_stats_sina.to_csv(f'StatsData/Player_Stats_{datetime.date.today()}.csv', index=False)"
   ]
  },
  {
   "cell_type": "markdown",
   "metadata": {},
   "source": [
    "# All Games Collecting\n",
    "* Get the schedule from http://cba.sports.sina.com.cn/cba/schedule/all/?qleagueid=205&qmonth=&qteamid=\n",
    "* Get all the links\n",
    "* Loop through all the game links and scrape detailed stats"
   ]
  },
  {
   "cell_type": "markdown",
   "metadata": {},
   "source": [
    "### To do:\n",
    "* get all values in \"select\" tag, just in case this base url does not work anymore\n",
    "* get all links\n",
    "* after get all links, scrape each game's stats\n",
    "* 暂定 主队_link，统计_link这样的header, 后期可能单独建一个表放所有entity（球队，球员）的link\n",
    "* automatically determine number of columns in the table\n",
    "* Not sure if I want to rescrape all the data every week or just go look for the missing game links using known data\n",
    "* 单节得分，教练，领队可以记在game表里"
   ]
  },
  {
   "cell_type": "code",
   "execution_count": 2,
   "metadata": {
    "pycharm": {
     "is_executing": false,
     "name": "#%%\n"
    }
   },
   "outputs": [],
   "source": [
    "import requests\n",
    "from bs4 import BeautifulSoup\n",
    "# import lxml.html as lh\n",
    "import pandas as pd\n",
    "import datetime\n",
    "import re\n",
    "\n",
    "header = {'User-Agent': r'Mozilla/5.0 (Macintosh; Intel Mac OS X 10_10_1) AppleWebKit/537.36 (KHTML, like Gecko) '\n",
    "                        r'Chrome/41.0.2227.1 Safari/537.36'}\n",
    "session = requests.Session()\n",
    "base_url = r\"http://cba.sports.sina.com.cn/cba/schedule/all/?qleagueid=205&qmonth=&qteamid=\"\n",
    "response = session.get(base_url, headers=header)\n",
    "\n",
    "response.encoding = 'GB2312'\n",
    "\n",
    "page_content = BeautifulSoup(response.content, \"html.parser\")\n",
    "page_content_str = str(page_content)\n",
    "page_content_str = re.sub('\\n','',page_content_str)"
   ]
  },
  {
   "cell_type": "code",
   "execution_count": 3,
   "metadata": {
    "scrolled": true,
    "pycharm": {
     "is_executing": false
    }
   },
   "outputs": [
    {
     "data": {
      "text/plain": "1"
     },
     "metadata": {},
     "output_type": "execute_result",
     "execution_count": 3
    }
   ],
   "source": [
    "# Get table division\n",
    "table_content = re.findall('<div class=\"blk_wrap\"><table>(.*)</table></div>',page_content_str)\n",
    "\n",
    "len(table_content)"
   ]
  },
  {
   "cell_type": "code",
   "execution_count": 4,
   "metadata": {
    "pycharm": {
     "is_executing": false
    }
   },
   "outputs": [
    {
     "data": {
      "text/plain": "'<thead><tr class=\"even\"><th>轮次</th><th>日期</th><th>主队</th><th>比分</th><th>客队</th><th>战报</th><th>统计</th><th>组图</th><th>地点</th><th>电视</th></tr></thead><tbody><tr class=\"odd\"><td>\\t\\t\\t\\t\\t\\t\\t\\t\\t\\t\\t\\t\\t\\t第1轮\\t\\t\\t\\t\\t\\t\\t\\t\\t\\t\\t\\t\\t\\t</td><td>2019-11-01\\xa019:35</td><td><a href=\"http://cba.sports.sina.com.cn/cba/team/show/1/\" target=\"_blank\">                            广东                            </a></td><td><a href=\"http://cba.sports.sina.com.cn/cba/schedule/show/18381/\" target=\"_blank\">                            \\t\\t\\t\\t\\t\\t\\t\\t\\t\\t\\t\\t\\t\\t107:98\\t\\t\\t\\t\\t\\t\\t\\t\\t\\t\\t\\t\\t\\t</a></td><td><a href=\"http://cba.sports.sina.com.cn/cba/team/show/9/\" target=\"_blank\">                            辽宁                            </a></td><td><a href=\"http://sports.sina.com.cn/basketball/cba/2019-11-01/doc-iicezzrr6602072.shtml\" target=\"_blank\">战报</a></td><td><a href=\"http://cba.sports.sina.com.cn/cba/schedule/show/18381/\" target=\"_blank\">统计</a></td><td><a href=\"http://slide.sports.sina.com.cn/cba/slide_2_792_233270.html\" target=\"_blank\">组图</a></td><td>东'"
     },
     "metadata": {},
     "output_type": "execute_result",
     "execution_count": 4
    }
   ],
   "source": [
    "table_content_str = table_content[0]\n",
    "table_content_str[:1000]"
   ]
  },
  {
   "cell_type": "markdown",
   "metadata": {},
   "source": [
    "### Get table headers"
   ]
  },
  {
   "cell_type": "code",
   "execution_count": 5,
   "metadata": {
    "scrolled": true,
    "pycharm": {
     "is_executing": false
    }
   },
   "outputs": [
    {
     "data": {
      "text/plain": "['轮次', '日期', '主队', '比分', '客队', '战报', '统计', '组图', '地点', '电视']"
     },
     "metadata": {},
     "output_type": "execute_result",
     "execution_count": 5
    }
   ],
   "source": [
    "# Get headers\n",
    "\n",
    "\n",
    "table_headers = re.findall('<th>(.*?)</th>',table_content_str)\n",
    "table_headers"
   ]
  },
  {
   "cell_type": "markdown",
   "metadata": {},
   "source": [
    "### Get table rows (table body, 也就是赛程表)"
   ]
  },
  {
   "cell_type": "code",
   "execution_count": 6,
   "metadata": {
    "pycharm": {
     "is_executing": false
    }
   },
   "outputs": [
    {
     "data": {
      "text/plain": "1"
     },
     "metadata": {},
     "output_type": "execute_result",
     "execution_count": 6
    }
   ],
   "source": [
    "# Get table data\n",
    "\n",
    "\n",
    "\n",
    "table_body = re.findall('<tbody>(.*?)</tbody>',table_content_str)\n",
    "len(table_body)"
   ]
  },
  {
   "cell_type": "code",
   "execution_count": 7,
   "metadata": {
    "pycharm": {
     "is_executing": false
    }
   },
   "outputs": [
    {
     "data": {
      "text/plain": "'<tr class=\"odd\"><td>\\t\\t\\t\\t\\t\\t\\t\\t\\t\\t\\t\\t\\t\\t第1轮\\t\\t\\t\\t\\t\\t\\t\\t\\t\\t\\t\\t\\t\\t</td><td>2019-11-01 19:35</td><td><a href=\"http://cba.sports.sina.com.cn/cba/team/show/1/\" target=\"_blank\">                            广东                            </a></td><td><a href=\"http://cba.sports.sina.com.cn/cba/schedule/show/18381/\" target=\"_blank\">                            \\t\\t\\t\\t\\t\\t\\t\\t\\t\\t\\t\\t\\t\\t107:98\\t\\t\\t\\t\\t\\t\\t\\t\\t\\t\\t\\t\\t\\t</a></td><td><a href=\"http://cba.sports.sina.com.cn/cba/team/show/9/\" target=\"_blank\">                            辽宁                            </a></td><td><a href=\"http://sports.sina.com.cn/basketball/cba/2019-11-01/doc-iicezzrr6602072.shtml\" target=\"_blank\">战报</a></td><td><a href=\"http://cba.sports.sina.com.cn/cba/schedule/show/18381/\" target=\"_blank\">统计</a></td><td><a href=\"http://slide.sports.sina.com.cn/cba/slide_2_792_233270.html\" target=\"_blank\">组图</a></td><td>东莞</td><td></td></tr><tr class=\"even\"><td>\\t\\t\\t\\t\\t\\t\\t\\t\\t\\t\\t\\t\\t\\t第1轮\\t\\t\\t\\t\\t\\t\\t\\t\\t\\t\\t\\t\\t\\t</td><td>2019-11-02 19:35</td><td><a href=\"http://cba.sports.sina.com.cn/cba/team/'"
     },
     "metadata": {},
     "output_type": "execute_result",
     "execution_count": 7
    }
   ],
   "source": [
    "table_body_str = table_body[0]\n",
    "# get rid of invalid character\n",
    "table_body_str = table_body_str.replace(u'\\xa0',' ')\n",
    "table_body_str[:1000]"
   ]
  },
  {
   "cell_type": "code",
   "execution_count": 8,
   "metadata": {
    "pycharm": {
     "is_executing": false
    }
   },
   "outputs": [
    {
     "data": {
      "text/plain": "'                     山东                            </a></td><td>\\t\\t\\t\\t\\t\\t\\t\\t\\t\\t\\t\\t\\t\\t--\\t\\t\\t\\t\\t\\t\\t\\t\\t\\t\\t\\t\\t\\t</td><td><a href=\"http://cba.sports.sina.com.cn/cba/schedule/show/18839/\" target=\"_blank\">统计</a></td><td>\\t\\t\\t\\t\\t\\t\\t\\t\\t\\t\\t\\t\\t\\t--\\t\\t\\t\\t\\t\\t\\t\\t\\t\\t\\t\\t\\t\\t</td><td>晋江</td><td></td></tr><tr class=\"even\"><td>\\t\\t\\t\\t\\t\\t\\t\\t\\t\\t\\t\\t\\t\\t第46轮\\t\\t\\t\\t\\t\\t\\t\\t\\t\\t\\t\\t\\t\\t</td><td>2020-03-12 19:35</td><td><a href=\"http://cba.sports.sina.com.cn/cba/team/show/11/\" target=\"_blank\">                            新疆                            </a></td><td><a href=\"http://cba.sports.sina.com.cn/cba/schedule/show/18840/\" target=\"_blank\">                            \\t\\t\\t\\t\\t\\t\\t\\t\\t\\t\\t\\t\\t\\t\\t\\t\\t\\t\\t\\t\\tVS\\t\\t\\t\\t\\t\\t\\t\\t\\t\\t\\t\\t\\t\\t\\t\\t\\t\\t\\t\\t\\t</a></td><td><a href=\"http://cba.sports.sina.com.cn/cba/team/show/113/\" target=\"_blank\">                            天津                            </a></td><td>\\t\\t\\t\\t\\t\\t\\t\\t\\t\\t\\t\\t\\t\\t--\\t\\t\\t\\t\\t\\t\\t\\t\\t\\t\\t\\t\\t\\t</td><td><a href=\"http://cba.sports.sina.com.cn/cba/schedule/show/18840/\" target=\"_blank\">统计</a></td><td>\\t\\t\\t\\t\\t\\t\\t\\t\\t\\t\\t\\t\\t\\t--\\t\\t\\t\\t\\t\\t\\t\\t\\t\\t\\t\\t\\t\\t</td><td>乌鲁木齐</td><td></td></tr>'"
     },
     "metadata": {},
     "output_type": "execute_result",
     "execution_count": 8
    }
   ],
   "source": [
    "# check last 1000 characters\n",
    "table_body_str[-1000:]"
   ]
  },
  {
   "cell_type": "code",
   "execution_count": 9,
   "metadata": {
    "pycharm": {
     "is_executing": false
    }
   },
   "outputs": [
    {
     "data": {
      "text/plain": "4600"
     },
     "metadata": {},
     "output_type": "execute_result",
     "execution_count": 9
    }
   ],
   "source": [
    "table_cells = re.findall('<td>(.*?)</td>',table_body_str)\n",
    "\n",
    "# CBA has 46 rounds, each round constits of 10 games, so we need to have 46*10*10 cells = 4600 cells\n",
    "len(table_cells)"
   ]
  },
  {
   "cell_type": "code",
   "execution_count": 10,
   "metadata": {
    "scrolled": true,
    "pycharm": {
     "is_executing": false
    }
   },
   "outputs": [
    {
     "data": {
      "text/plain": "['第1轮',\n '2019-11-01 19:35',\n '<a href=\"http://cba.sports.sina.com.cn/cba/team/show/1/\" target=\"_blank\">                            广东                            </a>',\n '<a href=\"http://cba.sports.sina.com.cn/cba/schedule/show/18381/\" target=\"_blank\">                            \\t\\t\\t\\t\\t\\t\\t\\t\\t\\t\\t\\t\\t\\t107:98\\t\\t\\t\\t\\t\\t\\t\\t\\t\\t\\t\\t\\t\\t</a>',\n '<a href=\"http://cba.sports.sina.com.cn/cba/team/show/9/\" target=\"_blank\">                            辽宁                            </a>',\n '<a href=\"http://sports.sina.com.cn/basketball/cba/2019-11-01/doc-iicezzrr6602072.shtml\" target=\"_blank\">战报</a>',\n '<a href=\"http://cba.sports.sina.com.cn/cba/schedule/show/18381/\" target=\"_blank\">统计</a>',\n '<a href=\"http://slide.sports.sina.com.cn/cba/slide_2_792_233270.html\" target=\"_blank\">组图</a>',\n '东莞',\n '']"
     },
     "metadata": {},
     "output_type": "execute_result",
     "execution_count": 10
    }
   ],
   "source": [
    "# get rid of spaces\n",
    "table_cells = list(map(lambda x: x.strip(),table_cells))\n",
    "table_cells[:10]"
   ]
  },
  {
   "cell_type": "markdown",
   "metadata": {},
   "source": [
    "### Get actual texts and links"
   ]
  },
  {
   "cell_type": "code",
   "execution_count": 11,
   "metadata": {
    "pycharm": {
     "is_executing": false
    }
   },
   "outputs": [
    {
     "name": "stdout",
     "text": [
      "4600\n",
      "['第1轮', '2019-11-01 19:35', '广东', '107:98', '辽宁', '战报', '统计', '组图', '东莞', '', '第1轮', '2019-11-02 19:35', '江苏', '96:97', '浙江', '战报', '统计', '组图', '苏州', '']\n",
      "4600\n",
      "[None, None, 'http://cba.sports.sina.com.cn/cba/team/show/1/', 'http://cba.sports.sina.com.cn/cba/schedule/show/18381/', 'http://cba.sports.sina.com.cn/cba/team/show/9/', 'http://sports.sina.com.cn/basketball/cba/2019-11-01/doc-iicezzrr6602072.shtml', 'http://cba.sports.sina.com.cn/cba/schedule/show/18381/', 'http://slide.sports.sina.com.cn/cba/slide_2_792_233270.html', None, None, None, None, 'http://cba.sports.sina.com.cn/cba/team/show/2/', 'http://cba.sports.sina.com.cn/cba/schedule/show/18382/', 'http://cba.sports.sina.com.cn/cba/team/show/6/', 'http://sports.sina.com.cn/basketball/cba/2019-11-02/doc-iicezuev6752945.shtml', 'http://cba.sports.sina.com.cn/cba/schedule/show/18382/', 'http://slide.sports.sina.com.cn/cba/slide_2_786_233393.html', None, None]\n"
     ],
     "output_type": "stream"
    }
   ],
   "source": [
    "# get actual text\n",
    "table_cells_txt = list(map(lambda x: re.findall('<a.*?>(.*)</a>',x)[0].strip() if '<a' in x else x, table_cells))\n",
    "print(len(table_cells_txt))\n",
    "print(table_cells_txt[:20])\n",
    "# get all the links\n",
    "table_cells_links = list(map(lambda x: re.findall('<a href=\"(.*?)\" target=\"_blank\">'\n",
    "                                                  ,x)[0].strip() if '<a' in x else None, table_cells))\n",
    "print(len(table_cells_links))\n",
    "print(table_cells_links[:20])"
   ]
  },
  {
   "cell_type": "markdown",
   "metadata": {},
   "source": [
    "### Save data as schedule table"
   ]
  },
  {
   "cell_type": "code",
   "execution_count": 12,
   "metadata": {
    "scrolled": true,
    "pycharm": {
     "is_executing": false
    }
   },
   "outputs": [
    {
     "name": "stdout",
     "text": [
      "[['第1轮', '2019-11-01 19:35', '广东', '107:98', '辽宁', '战报', '统计', '组图', '东莞', ''], ['第1轮', '2019-11-02 19:35', '江苏', '96:97', '浙江', '战报', '统计', '组图', '苏州', ''], ['第1轮', '2019-11-02 19:35', '四川', '87:134', '新疆', '战报', '统计', '组图', '成都', ''], ['第1轮', '2019-11-02 19:35', '山东', '108:95', '八一', '战报', '统计', '组图', '济南', ''], ['第1轮', '2019-11-02 19:35', '北控', '108:103', '深圳', '战报', '统计', '组图', '北京', ''], ['第1轮', '2019-11-02 19:35', '青岛', '103:105', '吉林', '战报', '统计', '组图', '青岛', ''], ['第1轮', '2019-11-02 19:35', '广厦', '93:90', '福建', '战报', '统计', '组图', '诸暨', ''], ['第1轮', '2019-11-02 20:00', '上海', '93:84', '同曦', '战报', '统计', '组图', '上海', ''], ['第1轮', '2019-11-03 19:35', '天津', '81:103', '北京', '战报', '统计', '组图', '天津', ''], ['第1轮', '2019-11-03 19:35', '广州', '96:123', '山西', '战报', '统计', '组图', '广州', '']]\n",
      "[[None, None, 'http://cba.sports.sina.com.cn/cba/team/show/1/', 'http://cba.sports.sina.com.cn/cba/schedule/show/18381/', 'http://cba.sports.sina.com.cn/cba/team/show/9/', 'http://sports.sina.com.cn/basketball/cba/2019-11-01/doc-iicezzrr6602072.shtml', 'http://cba.sports.sina.com.cn/cba/schedule/show/18381/', 'http://slide.sports.sina.com.cn/cba/slide_2_792_233270.html', None, None], [None, None, 'http://cba.sports.sina.com.cn/cba/team/show/2/', 'http://cba.sports.sina.com.cn/cba/schedule/show/18382/', 'http://cba.sports.sina.com.cn/cba/team/show/6/', 'http://sports.sina.com.cn/basketball/cba/2019-11-02/doc-iicezuev6752945.shtml', 'http://cba.sports.sina.com.cn/cba/schedule/show/18382/', 'http://slide.sports.sina.com.cn/cba/slide_2_786_233393.html', None, None], [None, None, 'http://cba.sports.sina.com.cn/cba/team/show/182/', 'http://cba.sports.sina.com.cn/cba/schedule/show/18383/', 'http://cba.sports.sina.com.cn/cba/team/show/11/', 'http://sports.sina.com.cn/basketball/cba/2019-11-02/doc-iicezuev6751102.shtml', 'http://cba.sports.sina.com.cn/cba/schedule/show/18383/', 'http://slide.sports.sina.com.cn/cba/slide_2_786_233388.html', None, None], [None, None, 'http://cba.sports.sina.com.cn/cba/team/show/15/', 'http://cba.sports.sina.com.cn/cba/schedule/show/18384/', 'http://cba.sports.sina.com.cn/cba/team/show/3/', 'http://sports.sina.com.cn/basketball/cba/2019-11-02/doc-iicezuev6752945.shtml', 'http://cba.sports.sina.com.cn/cba/schedule/show/18384/', 'http://slide.sports.sina.com.cn/cba/slide_2_786_233393.html', None, None], [None, None, 'http://cba.sports.sina.com.cn/cba/team/show/369/', 'http://cba.sports.sina.com.cn/cba/schedule/show/18385/', 'http://cba.sports.sina.com.cn/cba/team/show/8/', 'http://sports.sina.com.cn/basketball/cba/2019-11-02/doc-iicezuev6752945.shtml', 'http://cba.sports.sina.com.cn/cba/schedule/show/18385/', 'http://slide.sports.sina.com.cn/cba/slide_2_792_233391.html', None, None], [None, None, 'http://cba.sports.sina.com.cn/cba/team/show/114/', 'http://cba.sports.sina.com.cn/cba/schedule/show/18387/', 'http://cba.sports.sina.com.cn/cba/team/show/12/', 'http://sports.sina.com.cn/basketball/cba/2019-11-02/doc-iicezuev6752945.shtml', 'http://cba.sports.sina.com.cn/cba/schedule/show/18387/', 'http://slide.sports.sina.com.cn/cba/slide_2_786_233393.html', None, None], [None, None, 'http://cba.sports.sina.com.cn/cba/team/show/16/', 'http://cba.sports.sina.com.cn/cba/schedule/show/18388/', 'http://cba.sports.sina.com.cn/cba/team/show/7/', 'http://sports.sina.com.cn/basketball/cba/2019-11-02/doc-iicezzrr6792223.shtml', 'http://cba.sports.sina.com.cn/cba/schedule/show/18388/', 'http://slide.sports.sina.com.cn/cba/slide_2_786_233385.html', None, None], [None, None, 'http://cba.sports.sina.com.cn/cba/team/show/4/', 'http://cba.sports.sina.com.cn/cba/schedule/show/18386/', 'http://cba.sports.sina.com.cn/cba/team/show/368/', 'http://sports.sina.com.cn/basketball/cba/2019-11-02/doc-iicezuev6752945.shtml', 'http://cba.sports.sina.com.cn/cba/schedule/show/18386/', 'http://slide.sports.sina.com.cn/cba/slide_2_786_233393.html', None, None], [None, None, 'http://cba.sports.sina.com.cn/cba/team/show/113/', 'http://cba.sports.sina.com.cn/cba/schedule/show/18389/', 'http://cba.sports.sina.com.cn/cba/team/show/10/', 'http://sports.sina.com.cn/basketball/cba/2019-11-03/doc-iicezuev6927306.shtml', 'http://cba.sports.sina.com.cn/cba/schedule/show/18389/', 'http://slide.sports.sina.com.cn/cba/slide_2_792_233493.html', None, None], [None, None, 'http://cba.sports.sina.com.cn/cba/team/show/13/', 'http://cba.sports.sina.com.cn/cba/schedule/show/18390/', 'http://cba.sports.sina.com.cn/cba/team/show/14/', 'http://sports.sina.com.cn/basketball/cba/2019-11-03/doc-iicezuev6925002.shtml', 'http://cba.sports.sina.com.cn/cba/schedule/show/18390/', 'http://slide.sports.sina.com.cn/cba/slide_2_786_233497.html', None, None]]\n"
     ],
     "output_type": "stream"
    }
   ],
   "source": [
    "# transform into \n",
    "\n",
    "import numpy as np\n",
    "table_cells_txt = np.reshape(table_cells_txt,[-1,10]).tolist()\n",
    "table_cells_links = np.reshape(table_cells_links,[-1,10]).tolist()\n",
    "print(table_cells_txt[:10])\n",
    "print(table_cells_links[:10])"
   ]
  },
  {
   "cell_type": "code",
   "execution_count": 13,
   "metadata": {
    "pycharm": {
     "is_executing": false
    }
   },
   "outputs": [],
   "source": [
    "df_schedule_text = pd.DataFrame(data = table_cells_txt,columns=table_headers)\n",
    "df_schedule_links = pd.DataFrame(data = table_cells_links,columns=[header+'_link' for header in table_headers])"
   ]
  },
  {
   "cell_type": "code",
   "execution_count": 14,
   "metadata": {
    "pycharm": {
     "is_executing": false
    }
   },
   "outputs": [
    {
     "data": {
      "text/plain": "    轮次                日期  主队       比分  客队  战报  统计  组图  地点 电视\n0  第1轮  2019-11-01 19:35  广东   107:98  辽宁  战报  统计  组图  东莞   \n1  第1轮  2019-11-02 19:35  江苏    96:97  浙江  战报  统计  组图  苏州   \n2  第1轮  2019-11-02 19:35  四川   87:134  新疆  战报  统计  组图  成都   \n3  第1轮  2019-11-02 19:35  山东   108:95  八一  战报  统计  组图  济南   \n4  第1轮  2019-11-02 19:35  北控  108:103  深圳  战报  统计  组图  北京   ",
      "text/html": "<div>\n<style scoped>\n    .dataframe tbody tr th:only-of-type {\n        vertical-align: middle;\n    }\n\n    .dataframe tbody tr th {\n        vertical-align: top;\n    }\n\n    .dataframe thead th {\n        text-align: right;\n    }\n</style>\n<table border=\"1\" class=\"dataframe\">\n  <thead>\n    <tr style=\"text-align: right;\">\n      <th></th>\n      <th>轮次</th>\n      <th>日期</th>\n      <th>主队</th>\n      <th>比分</th>\n      <th>客队</th>\n      <th>战报</th>\n      <th>统计</th>\n      <th>组图</th>\n      <th>地点</th>\n      <th>电视</th>\n    </tr>\n  </thead>\n  <tbody>\n    <tr>\n      <th>0</th>\n      <td>第1轮</td>\n      <td>2019-11-01 19:35</td>\n      <td>广东</td>\n      <td>107:98</td>\n      <td>辽宁</td>\n      <td>战报</td>\n      <td>统计</td>\n      <td>组图</td>\n      <td>东莞</td>\n      <td></td>\n    </tr>\n    <tr>\n      <th>1</th>\n      <td>第1轮</td>\n      <td>2019-11-02 19:35</td>\n      <td>江苏</td>\n      <td>96:97</td>\n      <td>浙江</td>\n      <td>战报</td>\n      <td>统计</td>\n      <td>组图</td>\n      <td>苏州</td>\n      <td></td>\n    </tr>\n    <tr>\n      <th>2</th>\n      <td>第1轮</td>\n      <td>2019-11-02 19:35</td>\n      <td>四川</td>\n      <td>87:134</td>\n      <td>新疆</td>\n      <td>战报</td>\n      <td>统计</td>\n      <td>组图</td>\n      <td>成都</td>\n      <td></td>\n    </tr>\n    <tr>\n      <th>3</th>\n      <td>第1轮</td>\n      <td>2019-11-02 19:35</td>\n      <td>山东</td>\n      <td>108:95</td>\n      <td>八一</td>\n      <td>战报</td>\n      <td>统计</td>\n      <td>组图</td>\n      <td>济南</td>\n      <td></td>\n    </tr>\n    <tr>\n      <th>4</th>\n      <td>第1轮</td>\n      <td>2019-11-02 19:35</td>\n      <td>北控</td>\n      <td>108:103</td>\n      <td>深圳</td>\n      <td>战报</td>\n      <td>统计</td>\n      <td>组图</td>\n      <td>北京</td>\n      <td></td>\n    </tr>\n  </tbody>\n</table>\n</div>"
     },
     "metadata": {},
     "output_type": "execute_result",
     "execution_count": 14
    }
   ],
   "source": [
    "df_schedule_text.head()"
   ]
  },
  {
   "cell_type": "code",
   "execution_count": 15,
   "metadata": {
    "pycharm": {
     "is_executing": false
    }
   },
   "outputs": [
    {
     "data": {
      "text/plain": "  轮次_link 日期_link                                           主队_link  \\\n0    None    None    http://cba.sports.sina.com.cn/cba/team/show/1/   \n1    None    None    http://cba.sports.sina.com.cn/cba/team/show/2/   \n2    None    None  http://cba.sports.sina.com.cn/cba/team/show/182/   \n3    None    None   http://cba.sports.sina.com.cn/cba/team/show/15/   \n4    None    None  http://cba.sports.sina.com.cn/cba/team/show/369/   \n\n                                             比分_link  \\\n0  http://cba.sports.sina.com.cn/cba/schedule/sho...   \n1  http://cba.sports.sina.com.cn/cba/schedule/sho...   \n2  http://cba.sports.sina.com.cn/cba/schedule/sho...   \n3  http://cba.sports.sina.com.cn/cba/schedule/sho...   \n4  http://cba.sports.sina.com.cn/cba/schedule/sho...   \n\n                                           客队_link  \\\n0   http://cba.sports.sina.com.cn/cba/team/show/9/   \n1   http://cba.sports.sina.com.cn/cba/team/show/6/   \n2  http://cba.sports.sina.com.cn/cba/team/show/11/   \n3   http://cba.sports.sina.com.cn/cba/team/show/3/   \n4   http://cba.sports.sina.com.cn/cba/team/show/8/   \n\n                                             战报_link  \\\n0  http://sports.sina.com.cn/basketball/cba/2019-...   \n1  http://sports.sina.com.cn/basketball/cba/2019-...   \n2  http://sports.sina.com.cn/basketball/cba/2019-...   \n3  http://sports.sina.com.cn/basketball/cba/2019-...   \n4  http://sports.sina.com.cn/basketball/cba/2019-...   \n\n                                             统计_link  \\\n0  http://cba.sports.sina.com.cn/cba/schedule/sho...   \n1  http://cba.sports.sina.com.cn/cba/schedule/sho...   \n2  http://cba.sports.sina.com.cn/cba/schedule/sho...   \n3  http://cba.sports.sina.com.cn/cba/schedule/sho...   \n4  http://cba.sports.sina.com.cn/cba/schedule/sho...   \n\n                                             组图_link 地点_link 电视_link  \n0  http://slide.sports.sina.com.cn/cba/slide_2_79...    None    None  \n1  http://slide.sports.sina.com.cn/cba/slide_2_78...    None    None  \n2  http://slide.sports.sina.com.cn/cba/slide_2_78...    None    None  \n3  http://slide.sports.sina.com.cn/cba/slide_2_78...    None    None  \n4  http://slide.sports.sina.com.cn/cba/slide_2_79...    None    None  ",
      "text/html": "<div>\n<style scoped>\n    .dataframe tbody tr th:only-of-type {\n        vertical-align: middle;\n    }\n\n    .dataframe tbody tr th {\n        vertical-align: top;\n    }\n\n    .dataframe thead th {\n        text-align: right;\n    }\n</style>\n<table border=\"1\" class=\"dataframe\">\n  <thead>\n    <tr style=\"text-align: right;\">\n      <th></th>\n      <th>轮次_link</th>\n      <th>日期_link</th>\n      <th>主队_link</th>\n      <th>比分_link</th>\n      <th>客队_link</th>\n      <th>战报_link</th>\n      <th>统计_link</th>\n      <th>组图_link</th>\n      <th>地点_link</th>\n      <th>电视_link</th>\n    </tr>\n  </thead>\n  <tbody>\n    <tr>\n      <th>0</th>\n      <td>None</td>\n      <td>None</td>\n      <td>http://cba.sports.sina.com.cn/cba/team/show/1/</td>\n      <td>http://cba.sports.sina.com.cn/cba/schedule/sho...</td>\n      <td>http://cba.sports.sina.com.cn/cba/team/show/9/</td>\n      <td>http://sports.sina.com.cn/basketball/cba/2019-...</td>\n      <td>http://cba.sports.sina.com.cn/cba/schedule/sho...</td>\n      <td>http://slide.sports.sina.com.cn/cba/slide_2_79...</td>\n      <td>None</td>\n      <td>None</td>\n    </tr>\n    <tr>\n      <th>1</th>\n      <td>None</td>\n      <td>None</td>\n      <td>http://cba.sports.sina.com.cn/cba/team/show/2/</td>\n      <td>http://cba.sports.sina.com.cn/cba/schedule/sho...</td>\n      <td>http://cba.sports.sina.com.cn/cba/team/show/6/</td>\n      <td>http://sports.sina.com.cn/basketball/cba/2019-...</td>\n      <td>http://cba.sports.sina.com.cn/cba/schedule/sho...</td>\n      <td>http://slide.sports.sina.com.cn/cba/slide_2_78...</td>\n      <td>None</td>\n      <td>None</td>\n    </tr>\n    <tr>\n      <th>2</th>\n      <td>None</td>\n      <td>None</td>\n      <td>http://cba.sports.sina.com.cn/cba/team/show/182/</td>\n      <td>http://cba.sports.sina.com.cn/cba/schedule/sho...</td>\n      <td>http://cba.sports.sina.com.cn/cba/team/show/11/</td>\n      <td>http://sports.sina.com.cn/basketball/cba/2019-...</td>\n      <td>http://cba.sports.sina.com.cn/cba/schedule/sho...</td>\n      <td>http://slide.sports.sina.com.cn/cba/slide_2_78...</td>\n      <td>None</td>\n      <td>None</td>\n    </tr>\n    <tr>\n      <th>3</th>\n      <td>None</td>\n      <td>None</td>\n      <td>http://cba.sports.sina.com.cn/cba/team/show/15/</td>\n      <td>http://cba.sports.sina.com.cn/cba/schedule/sho...</td>\n      <td>http://cba.sports.sina.com.cn/cba/team/show/3/</td>\n      <td>http://sports.sina.com.cn/basketball/cba/2019-...</td>\n      <td>http://cba.sports.sina.com.cn/cba/schedule/sho...</td>\n      <td>http://slide.sports.sina.com.cn/cba/slide_2_78...</td>\n      <td>None</td>\n      <td>None</td>\n    </tr>\n    <tr>\n      <th>4</th>\n      <td>None</td>\n      <td>None</td>\n      <td>http://cba.sports.sina.com.cn/cba/team/show/369/</td>\n      <td>http://cba.sports.sina.com.cn/cba/schedule/sho...</td>\n      <td>http://cba.sports.sina.com.cn/cba/team/show/8/</td>\n      <td>http://sports.sina.com.cn/basketball/cba/2019-...</td>\n      <td>http://cba.sports.sina.com.cn/cba/schedule/sho...</td>\n      <td>http://slide.sports.sina.com.cn/cba/slide_2_79...</td>\n      <td>None</td>\n      <td>None</td>\n    </tr>\n  </tbody>\n</table>\n</div>"
     },
     "metadata": {},
     "output_type": "execute_result",
     "execution_count": 15
    }
   ],
   "source": [
    "df_schedule_links.head()"
   ]
  },
  {
   "cell_type": "code",
   "execution_count": 16,
   "metadata": {
    "pycharm": {
     "is_executing": false
    }
   },
   "outputs": [
    {
     "data": {
      "text/plain": "    轮次                日期  主队       比分  客队  战报  统计  组图  地点 电视  \\\n0  第1轮  2019-11-01 19:35  广东   107:98  辽宁  战报  统计  组图  东莞      \n1  第1轮  2019-11-02 19:35  江苏    96:97  浙江  战报  统计  组图  苏州      \n2  第1轮  2019-11-02 19:35  四川   87:134  新疆  战报  统计  组图  成都      \n3  第1轮  2019-11-02 19:35  山东   108:95  八一  战报  统计  组图  济南      \n4  第1轮  2019-11-02 19:35  北控  108:103  深圳  战报  统计  组图  北京      \n\n                                            主队_link  \\\n0    http://cba.sports.sina.com.cn/cba/team/show/1/   \n1    http://cba.sports.sina.com.cn/cba/team/show/2/   \n2  http://cba.sports.sina.com.cn/cba/team/show/182/   \n3   http://cba.sports.sina.com.cn/cba/team/show/15/   \n4  http://cba.sports.sina.com.cn/cba/team/show/369/   \n\n                                             比分_link  \\\n0  http://cba.sports.sina.com.cn/cba/schedule/sho...   \n1  http://cba.sports.sina.com.cn/cba/schedule/sho...   \n2  http://cba.sports.sina.com.cn/cba/schedule/sho...   \n3  http://cba.sports.sina.com.cn/cba/schedule/sho...   \n4  http://cba.sports.sina.com.cn/cba/schedule/sho...   \n\n                                           客队_link  \\\n0   http://cba.sports.sina.com.cn/cba/team/show/9/   \n1   http://cba.sports.sina.com.cn/cba/team/show/6/   \n2  http://cba.sports.sina.com.cn/cba/team/show/11/   \n3   http://cba.sports.sina.com.cn/cba/team/show/3/   \n4   http://cba.sports.sina.com.cn/cba/team/show/8/   \n\n                                             战报_link  \\\n0  http://sports.sina.com.cn/basketball/cba/2019-...   \n1  http://sports.sina.com.cn/basketball/cba/2019-...   \n2  http://sports.sina.com.cn/basketball/cba/2019-...   \n3  http://sports.sina.com.cn/basketball/cba/2019-...   \n4  http://sports.sina.com.cn/basketball/cba/2019-...   \n\n                                             统计_link  \\\n0  http://cba.sports.sina.com.cn/cba/schedule/sho...   \n1  http://cba.sports.sina.com.cn/cba/schedule/sho...   \n2  http://cba.sports.sina.com.cn/cba/schedule/sho...   \n3  http://cba.sports.sina.com.cn/cba/schedule/sho...   \n4  http://cba.sports.sina.com.cn/cba/schedule/sho...   \n\n                                             组图_link  \n0  http://slide.sports.sina.com.cn/cba/slide_2_79...  \n1  http://slide.sports.sina.com.cn/cba/slide_2_78...  \n2  http://slide.sports.sina.com.cn/cba/slide_2_78...  \n3  http://slide.sports.sina.com.cn/cba/slide_2_78...  \n4  http://slide.sports.sina.com.cn/cba/slide_2_79...  ",
      "text/html": "<div>\n<style scoped>\n    .dataframe tbody tr th:only-of-type {\n        vertical-align: middle;\n    }\n\n    .dataframe tbody tr th {\n        vertical-align: top;\n    }\n\n    .dataframe thead th {\n        text-align: right;\n    }\n</style>\n<table border=\"1\" class=\"dataframe\">\n  <thead>\n    <tr style=\"text-align: right;\">\n      <th></th>\n      <th>轮次</th>\n      <th>日期</th>\n      <th>主队</th>\n      <th>比分</th>\n      <th>客队</th>\n      <th>战报</th>\n      <th>统计</th>\n      <th>组图</th>\n      <th>地点</th>\n      <th>电视</th>\n      <th>主队_link</th>\n      <th>比分_link</th>\n      <th>客队_link</th>\n      <th>战报_link</th>\n      <th>统计_link</th>\n      <th>组图_link</th>\n    </tr>\n  </thead>\n  <tbody>\n    <tr>\n      <th>0</th>\n      <td>第1轮</td>\n      <td>2019-11-01 19:35</td>\n      <td>广东</td>\n      <td>107:98</td>\n      <td>辽宁</td>\n      <td>战报</td>\n      <td>统计</td>\n      <td>组图</td>\n      <td>东莞</td>\n      <td></td>\n      <td>http://cba.sports.sina.com.cn/cba/team/show/1/</td>\n      <td>http://cba.sports.sina.com.cn/cba/schedule/sho...</td>\n      <td>http://cba.sports.sina.com.cn/cba/team/show/9/</td>\n      <td>http://sports.sina.com.cn/basketball/cba/2019-...</td>\n      <td>http://cba.sports.sina.com.cn/cba/schedule/sho...</td>\n      <td>http://slide.sports.sina.com.cn/cba/slide_2_79...</td>\n    </tr>\n    <tr>\n      <th>1</th>\n      <td>第1轮</td>\n      <td>2019-11-02 19:35</td>\n      <td>江苏</td>\n      <td>96:97</td>\n      <td>浙江</td>\n      <td>战报</td>\n      <td>统计</td>\n      <td>组图</td>\n      <td>苏州</td>\n      <td></td>\n      <td>http://cba.sports.sina.com.cn/cba/team/show/2/</td>\n      <td>http://cba.sports.sina.com.cn/cba/schedule/sho...</td>\n      <td>http://cba.sports.sina.com.cn/cba/team/show/6/</td>\n      <td>http://sports.sina.com.cn/basketball/cba/2019-...</td>\n      <td>http://cba.sports.sina.com.cn/cba/schedule/sho...</td>\n      <td>http://slide.sports.sina.com.cn/cba/slide_2_78...</td>\n    </tr>\n    <tr>\n      <th>2</th>\n      <td>第1轮</td>\n      <td>2019-11-02 19:35</td>\n      <td>四川</td>\n      <td>87:134</td>\n      <td>新疆</td>\n      <td>战报</td>\n      <td>统计</td>\n      <td>组图</td>\n      <td>成都</td>\n      <td></td>\n      <td>http://cba.sports.sina.com.cn/cba/team/show/182/</td>\n      <td>http://cba.sports.sina.com.cn/cba/schedule/sho...</td>\n      <td>http://cba.sports.sina.com.cn/cba/team/show/11/</td>\n      <td>http://sports.sina.com.cn/basketball/cba/2019-...</td>\n      <td>http://cba.sports.sina.com.cn/cba/schedule/sho...</td>\n      <td>http://slide.sports.sina.com.cn/cba/slide_2_78...</td>\n    </tr>\n    <tr>\n      <th>3</th>\n      <td>第1轮</td>\n      <td>2019-11-02 19:35</td>\n      <td>山东</td>\n      <td>108:95</td>\n      <td>八一</td>\n      <td>战报</td>\n      <td>统计</td>\n      <td>组图</td>\n      <td>济南</td>\n      <td></td>\n      <td>http://cba.sports.sina.com.cn/cba/team/show/15/</td>\n      <td>http://cba.sports.sina.com.cn/cba/schedule/sho...</td>\n      <td>http://cba.sports.sina.com.cn/cba/team/show/3/</td>\n      <td>http://sports.sina.com.cn/basketball/cba/2019-...</td>\n      <td>http://cba.sports.sina.com.cn/cba/schedule/sho...</td>\n      <td>http://slide.sports.sina.com.cn/cba/slide_2_78...</td>\n    </tr>\n    <tr>\n      <th>4</th>\n      <td>第1轮</td>\n      <td>2019-11-02 19:35</td>\n      <td>北控</td>\n      <td>108:103</td>\n      <td>深圳</td>\n      <td>战报</td>\n      <td>统计</td>\n      <td>组图</td>\n      <td>北京</td>\n      <td></td>\n      <td>http://cba.sports.sina.com.cn/cba/team/show/369/</td>\n      <td>http://cba.sports.sina.com.cn/cba/schedule/sho...</td>\n      <td>http://cba.sports.sina.com.cn/cba/team/show/8/</td>\n      <td>http://sports.sina.com.cn/basketball/cba/2019-...</td>\n      <td>http://cba.sports.sina.com.cn/cba/schedule/sho...</td>\n      <td>http://slide.sports.sina.com.cn/cba/slide_2_79...</td>\n    </tr>\n  </tbody>\n</table>\n</div>"
     },
     "metadata": {},
     "output_type": "execute_result",
     "execution_count": 16
    }
   ],
   "source": [
    "df_schedule_full = pd.merge(df_schedule_text,df_schedule_links,left_index=True,right_index=True)\n",
    "# remove columns that are all None\n",
    "df_schedule_full.dropna(axis=1,how='all',inplace=True)\n",
    "df_schedule_full.head()"
   ]
  },
  {
   "cell_type": "code",
   "execution_count": 17,
   "metadata": {
    "scrolled": true,
    "pycharm": {
     "is_executing": false
    }
   },
   "outputs": [],
   "source": [
    "# id consists of season and a 5-digit label of the game - 2019-2020 season, game No.1 = 2019202000001\n",
    "# lable is generated by unique http address of the game stats\n",
    "uid_column = ['20192020'+f'{item+1:05d}' for item in pd.factorize(df_schedule_full['统计_link'])[0].tolist()]\n",
    "df_schedule_full['UID'] = uid_column\n",
    "# get rid of Hanzi and convert into integers\n",
    "df_schedule_full['轮次'] = df_schedule_full['轮次'].apply(lambda x: int(re.findall('(\\d+)',x)[0]))"
   ]
  },
  {
   "cell_type": "code",
   "execution_count": 18,
   "metadata": {
    "scrolled": true,
    "pycharm": {
     "is_executing": false
    }
   },
   "outputs": [
    {
     "data": {
      "text/plain": "   轮次                日期  主队       比分  客队  战报  统计  组图  地点 电视  \\\n0   1  2019-11-01 19:35  广东   107:98  辽宁  战报  统计  组图  东莞      \n1   1  2019-11-02 19:35  江苏    96:97  浙江  战报  统计  组图  苏州      \n2   1  2019-11-02 19:35  四川   87:134  新疆  战报  统计  组图  成都      \n3   1  2019-11-02 19:35  山东   108:95  八一  战报  统计  组图  济南      \n4   1  2019-11-02 19:35  北控  108:103  深圳  战报  统计  组图  北京      \n\n                                            主队_link  \\\n0    http://cba.sports.sina.com.cn/cba/team/show/1/   \n1    http://cba.sports.sina.com.cn/cba/team/show/2/   \n2  http://cba.sports.sina.com.cn/cba/team/show/182/   \n3   http://cba.sports.sina.com.cn/cba/team/show/15/   \n4  http://cba.sports.sina.com.cn/cba/team/show/369/   \n\n                                             比分_link  \\\n0  http://cba.sports.sina.com.cn/cba/schedule/sho...   \n1  http://cba.sports.sina.com.cn/cba/schedule/sho...   \n2  http://cba.sports.sina.com.cn/cba/schedule/sho...   \n3  http://cba.sports.sina.com.cn/cba/schedule/sho...   \n4  http://cba.sports.sina.com.cn/cba/schedule/sho...   \n\n                                           客队_link  \\\n0   http://cba.sports.sina.com.cn/cba/team/show/9/   \n1   http://cba.sports.sina.com.cn/cba/team/show/6/   \n2  http://cba.sports.sina.com.cn/cba/team/show/11/   \n3   http://cba.sports.sina.com.cn/cba/team/show/3/   \n4   http://cba.sports.sina.com.cn/cba/team/show/8/   \n\n                                             战报_link  \\\n0  http://sports.sina.com.cn/basketball/cba/2019-...   \n1  http://sports.sina.com.cn/basketball/cba/2019-...   \n2  http://sports.sina.com.cn/basketball/cba/2019-...   \n3  http://sports.sina.com.cn/basketball/cba/2019-...   \n4  http://sports.sina.com.cn/basketball/cba/2019-...   \n\n                                             统计_link  \\\n0  http://cba.sports.sina.com.cn/cba/schedule/sho...   \n1  http://cba.sports.sina.com.cn/cba/schedule/sho...   \n2  http://cba.sports.sina.com.cn/cba/schedule/sho...   \n3  http://cba.sports.sina.com.cn/cba/schedule/sho...   \n4  http://cba.sports.sina.com.cn/cba/schedule/sho...   \n\n                                             组图_link            UID  \n0  http://slide.sports.sina.com.cn/cba/slide_2_79...  2019202000001  \n1  http://slide.sports.sina.com.cn/cba/slide_2_78...  2019202000002  \n2  http://slide.sports.sina.com.cn/cba/slide_2_78...  2019202000003  \n3  http://slide.sports.sina.com.cn/cba/slide_2_78...  2019202000004  \n4  http://slide.sports.sina.com.cn/cba/slide_2_79...  2019202000005  ",
      "text/html": "<div>\n<style scoped>\n    .dataframe tbody tr th:only-of-type {\n        vertical-align: middle;\n    }\n\n    .dataframe tbody tr th {\n        vertical-align: top;\n    }\n\n    .dataframe thead th {\n        text-align: right;\n    }\n</style>\n<table border=\"1\" class=\"dataframe\">\n  <thead>\n    <tr style=\"text-align: right;\">\n      <th></th>\n      <th>轮次</th>\n      <th>日期</th>\n      <th>主队</th>\n      <th>比分</th>\n      <th>客队</th>\n      <th>战报</th>\n      <th>统计</th>\n      <th>组图</th>\n      <th>地点</th>\n      <th>电视</th>\n      <th>主队_link</th>\n      <th>比分_link</th>\n      <th>客队_link</th>\n      <th>战报_link</th>\n      <th>统计_link</th>\n      <th>组图_link</th>\n      <th>UID</th>\n    </tr>\n  </thead>\n  <tbody>\n    <tr>\n      <th>0</th>\n      <td>1</td>\n      <td>2019-11-01 19:35</td>\n      <td>广东</td>\n      <td>107:98</td>\n      <td>辽宁</td>\n      <td>战报</td>\n      <td>统计</td>\n      <td>组图</td>\n      <td>东莞</td>\n      <td></td>\n      <td>http://cba.sports.sina.com.cn/cba/team/show/1/</td>\n      <td>http://cba.sports.sina.com.cn/cba/schedule/sho...</td>\n      <td>http://cba.sports.sina.com.cn/cba/team/show/9/</td>\n      <td>http://sports.sina.com.cn/basketball/cba/2019-...</td>\n      <td>http://cba.sports.sina.com.cn/cba/schedule/sho...</td>\n      <td>http://slide.sports.sina.com.cn/cba/slide_2_79...</td>\n      <td>2019202000001</td>\n    </tr>\n    <tr>\n      <th>1</th>\n      <td>1</td>\n      <td>2019-11-02 19:35</td>\n      <td>江苏</td>\n      <td>96:97</td>\n      <td>浙江</td>\n      <td>战报</td>\n      <td>统计</td>\n      <td>组图</td>\n      <td>苏州</td>\n      <td></td>\n      <td>http://cba.sports.sina.com.cn/cba/team/show/2/</td>\n      <td>http://cba.sports.sina.com.cn/cba/schedule/sho...</td>\n      <td>http://cba.sports.sina.com.cn/cba/team/show/6/</td>\n      <td>http://sports.sina.com.cn/basketball/cba/2019-...</td>\n      <td>http://cba.sports.sina.com.cn/cba/schedule/sho...</td>\n      <td>http://slide.sports.sina.com.cn/cba/slide_2_78...</td>\n      <td>2019202000002</td>\n    </tr>\n    <tr>\n      <th>2</th>\n      <td>1</td>\n      <td>2019-11-02 19:35</td>\n      <td>四川</td>\n      <td>87:134</td>\n      <td>新疆</td>\n      <td>战报</td>\n      <td>统计</td>\n      <td>组图</td>\n      <td>成都</td>\n      <td></td>\n      <td>http://cba.sports.sina.com.cn/cba/team/show/182/</td>\n      <td>http://cba.sports.sina.com.cn/cba/schedule/sho...</td>\n      <td>http://cba.sports.sina.com.cn/cba/team/show/11/</td>\n      <td>http://sports.sina.com.cn/basketball/cba/2019-...</td>\n      <td>http://cba.sports.sina.com.cn/cba/schedule/sho...</td>\n      <td>http://slide.sports.sina.com.cn/cba/slide_2_78...</td>\n      <td>2019202000003</td>\n    </tr>\n    <tr>\n      <th>3</th>\n      <td>1</td>\n      <td>2019-11-02 19:35</td>\n      <td>山东</td>\n      <td>108:95</td>\n      <td>八一</td>\n      <td>战报</td>\n      <td>统计</td>\n      <td>组图</td>\n      <td>济南</td>\n      <td></td>\n      <td>http://cba.sports.sina.com.cn/cba/team/show/15/</td>\n      <td>http://cba.sports.sina.com.cn/cba/schedule/sho...</td>\n      <td>http://cba.sports.sina.com.cn/cba/team/show/3/</td>\n      <td>http://sports.sina.com.cn/basketball/cba/2019-...</td>\n      <td>http://cba.sports.sina.com.cn/cba/schedule/sho...</td>\n      <td>http://slide.sports.sina.com.cn/cba/slide_2_78...</td>\n      <td>2019202000004</td>\n    </tr>\n    <tr>\n      <th>4</th>\n      <td>1</td>\n      <td>2019-11-02 19:35</td>\n      <td>北控</td>\n      <td>108:103</td>\n      <td>深圳</td>\n      <td>战报</td>\n      <td>统计</td>\n      <td>组图</td>\n      <td>北京</td>\n      <td></td>\n      <td>http://cba.sports.sina.com.cn/cba/team/show/369/</td>\n      <td>http://cba.sports.sina.com.cn/cba/schedule/sho...</td>\n      <td>http://cba.sports.sina.com.cn/cba/team/show/8/</td>\n      <td>http://sports.sina.com.cn/basketball/cba/2019-...</td>\n      <td>http://cba.sports.sina.com.cn/cba/schedule/sho...</td>\n      <td>http://slide.sports.sina.com.cn/cba/slide_2_79...</td>\n      <td>2019202000005</td>\n    </tr>\n  </tbody>\n</table>\n</div>"
     },
     "metadata": {},
     "output_type": "execute_result",
     "execution_count": 18
    }
   ],
   "source": [
    "df_schedule_full.head()"
   ]
  },
  {
   "cell_type": "code",
   "execution_count": 19,
   "metadata": {
    "pycharm": {
     "is_executing": false
    }
   },
   "outputs": [
    {
     "data": {
      "text/plain": "     轮次                日期  主队       比分  客队  战报  统计  组图    地点 电视  \\\n0     1  2019-11-01 19:35  广东   107:98  辽宁  战报  统计  组图    东莞      \n1     1  2019-11-02 19:35  江苏    96:97  浙江  战报  统计  组图    苏州      \n2     1  2019-11-02 19:35  四川   87:134  新疆  战报  统计  组图    成都      \n3     1  2019-11-02 19:35  山东   108:95  八一  战报  统计  组图    济南      \n4     1  2019-11-02 19:35  北控  108:103  深圳  战报  统计  组图    北京      \n..   ..               ...  ..      ...  ..  ..  ..  ..   ... ..   \n455  46  2020-03-12 19:35  辽宁       VS  江苏  --  统计  --    沈阳      \n456  46  2020-03-12 19:35  八一       VS  青岛  --  统计  --    南昌      \n457  46  2020-03-12 19:35  吉林       VS  广州  --  统计  --    长春      \n458  46  2020-03-12 19:35  福建       VS  山东  --  统计  --    晋江      \n459  46  2020-03-12 19:35  新疆       VS  天津  --  统计  --  乌鲁木齐      \n\n                                              主队_link  \\\n0      http://cba.sports.sina.com.cn/cba/team/show/1/   \n1      http://cba.sports.sina.com.cn/cba/team/show/2/   \n2    http://cba.sports.sina.com.cn/cba/team/show/182/   \n3     http://cba.sports.sina.com.cn/cba/team/show/15/   \n4    http://cba.sports.sina.com.cn/cba/team/show/369/   \n..                                                ...   \n455    http://cba.sports.sina.com.cn/cba/team/show/9/   \n456    http://cba.sports.sina.com.cn/cba/team/show/3/   \n457   http://cba.sports.sina.com.cn/cba/team/show/12/   \n458    http://cba.sports.sina.com.cn/cba/team/show/7/   \n459   http://cba.sports.sina.com.cn/cba/team/show/11/   \n\n                                               比分_link  \\\n0    http://cba.sports.sina.com.cn/cba/schedule/sho...   \n1    http://cba.sports.sina.com.cn/cba/schedule/sho...   \n2    http://cba.sports.sina.com.cn/cba/schedule/sho...   \n3    http://cba.sports.sina.com.cn/cba/schedule/sho...   \n4    http://cba.sports.sina.com.cn/cba/schedule/sho...   \n..                                                 ...   \n455  http://cba.sports.sina.com.cn/cba/schedule/sho...   \n456  http://cba.sports.sina.com.cn/cba/schedule/sho...   \n457  http://cba.sports.sina.com.cn/cba/schedule/sho...   \n458  http://cba.sports.sina.com.cn/cba/schedule/sho...   \n459  http://cba.sports.sina.com.cn/cba/schedule/sho...   \n\n                                              客队_link  \\\n0      http://cba.sports.sina.com.cn/cba/team/show/9/   \n1      http://cba.sports.sina.com.cn/cba/team/show/6/   \n2     http://cba.sports.sina.com.cn/cba/team/show/11/   \n3      http://cba.sports.sina.com.cn/cba/team/show/3/   \n4      http://cba.sports.sina.com.cn/cba/team/show/8/   \n..                                                ...   \n455    http://cba.sports.sina.com.cn/cba/team/show/2/   \n456  http://cba.sports.sina.com.cn/cba/team/show/114/   \n457   http://cba.sports.sina.com.cn/cba/team/show/13/   \n458   http://cba.sports.sina.com.cn/cba/team/show/15/   \n459  http://cba.sports.sina.com.cn/cba/team/show/113/   \n\n                                               战报_link  \\\n0    http://sports.sina.com.cn/basketball/cba/2019-...   \n1    http://sports.sina.com.cn/basketball/cba/2019-...   \n2    http://sports.sina.com.cn/basketball/cba/2019-...   \n3    http://sports.sina.com.cn/basketball/cba/2019-...   \n4    http://sports.sina.com.cn/basketball/cba/2019-...   \n..                                                 ...   \n455                                               None   \n456                                               None   \n457                                               None   \n458                                               None   \n459                                               None   \n\n                                               统计_link  \\\n0    http://cba.sports.sina.com.cn/cba/schedule/sho...   \n1    http://cba.sports.sina.com.cn/cba/schedule/sho...   \n2    http://cba.sports.sina.com.cn/cba/schedule/sho...   \n3    http://cba.sports.sina.com.cn/cba/schedule/sho...   \n4    http://cba.sports.sina.com.cn/cba/schedule/sho...   \n..                                                 ...   \n455  http://cba.sports.sina.com.cn/cba/schedule/sho...   \n456  http://cba.sports.sina.com.cn/cba/schedule/sho...   \n457  http://cba.sports.sina.com.cn/cba/schedule/sho...   \n458  http://cba.sports.sina.com.cn/cba/schedule/sho...   \n459  http://cba.sports.sina.com.cn/cba/schedule/sho...   \n\n                                               组图_link            UID  \n0    http://slide.sports.sina.com.cn/cba/slide_2_79...  2019202000001  \n1    http://slide.sports.sina.com.cn/cba/slide_2_78...  2019202000002  \n2    http://slide.sports.sina.com.cn/cba/slide_2_78...  2019202000003  \n3    http://slide.sports.sina.com.cn/cba/slide_2_78...  2019202000004  \n4    http://slide.sports.sina.com.cn/cba/slide_2_79...  2019202000005  \n..                                                 ...            ...  \n455                                               None  2019202000456  \n456                                               None  2019202000457  \n457                                               None  2019202000458  \n458                                               None  2019202000459  \n459                                               None  2019202000460  \n\n[460 rows x 17 columns]",
      "text/html": "<div>\n<style scoped>\n    .dataframe tbody tr th:only-of-type {\n        vertical-align: middle;\n    }\n\n    .dataframe tbody tr th {\n        vertical-align: top;\n    }\n\n    .dataframe thead th {\n        text-align: right;\n    }\n</style>\n<table border=\"1\" class=\"dataframe\">\n  <thead>\n    <tr style=\"text-align: right;\">\n      <th></th>\n      <th>轮次</th>\n      <th>日期</th>\n      <th>主队</th>\n      <th>比分</th>\n      <th>客队</th>\n      <th>战报</th>\n      <th>统计</th>\n      <th>组图</th>\n      <th>地点</th>\n      <th>电视</th>\n      <th>主队_link</th>\n      <th>比分_link</th>\n      <th>客队_link</th>\n      <th>战报_link</th>\n      <th>统计_link</th>\n      <th>组图_link</th>\n      <th>UID</th>\n    </tr>\n  </thead>\n  <tbody>\n    <tr>\n      <th>0</th>\n      <td>1</td>\n      <td>2019-11-01 19:35</td>\n      <td>广东</td>\n      <td>107:98</td>\n      <td>辽宁</td>\n      <td>战报</td>\n      <td>统计</td>\n      <td>组图</td>\n      <td>东莞</td>\n      <td></td>\n      <td>http://cba.sports.sina.com.cn/cba/team/show/1/</td>\n      <td>http://cba.sports.sina.com.cn/cba/schedule/sho...</td>\n      <td>http://cba.sports.sina.com.cn/cba/team/show/9/</td>\n      <td>http://sports.sina.com.cn/basketball/cba/2019-...</td>\n      <td>http://cba.sports.sina.com.cn/cba/schedule/sho...</td>\n      <td>http://slide.sports.sina.com.cn/cba/slide_2_79...</td>\n      <td>2019202000001</td>\n    </tr>\n    <tr>\n      <th>1</th>\n      <td>1</td>\n      <td>2019-11-02 19:35</td>\n      <td>江苏</td>\n      <td>96:97</td>\n      <td>浙江</td>\n      <td>战报</td>\n      <td>统计</td>\n      <td>组图</td>\n      <td>苏州</td>\n      <td></td>\n      <td>http://cba.sports.sina.com.cn/cba/team/show/2/</td>\n      <td>http://cba.sports.sina.com.cn/cba/schedule/sho...</td>\n      <td>http://cba.sports.sina.com.cn/cba/team/show/6/</td>\n      <td>http://sports.sina.com.cn/basketball/cba/2019-...</td>\n      <td>http://cba.sports.sina.com.cn/cba/schedule/sho...</td>\n      <td>http://slide.sports.sina.com.cn/cba/slide_2_78...</td>\n      <td>2019202000002</td>\n    </tr>\n    <tr>\n      <th>2</th>\n      <td>1</td>\n      <td>2019-11-02 19:35</td>\n      <td>四川</td>\n      <td>87:134</td>\n      <td>新疆</td>\n      <td>战报</td>\n      <td>统计</td>\n      <td>组图</td>\n      <td>成都</td>\n      <td></td>\n      <td>http://cba.sports.sina.com.cn/cba/team/show/182/</td>\n      <td>http://cba.sports.sina.com.cn/cba/schedule/sho...</td>\n      <td>http://cba.sports.sina.com.cn/cba/team/show/11/</td>\n      <td>http://sports.sina.com.cn/basketball/cba/2019-...</td>\n      <td>http://cba.sports.sina.com.cn/cba/schedule/sho...</td>\n      <td>http://slide.sports.sina.com.cn/cba/slide_2_78...</td>\n      <td>2019202000003</td>\n    </tr>\n    <tr>\n      <th>3</th>\n      <td>1</td>\n      <td>2019-11-02 19:35</td>\n      <td>山东</td>\n      <td>108:95</td>\n      <td>八一</td>\n      <td>战报</td>\n      <td>统计</td>\n      <td>组图</td>\n      <td>济南</td>\n      <td></td>\n      <td>http://cba.sports.sina.com.cn/cba/team/show/15/</td>\n      <td>http://cba.sports.sina.com.cn/cba/schedule/sho...</td>\n      <td>http://cba.sports.sina.com.cn/cba/team/show/3/</td>\n      <td>http://sports.sina.com.cn/basketball/cba/2019-...</td>\n      <td>http://cba.sports.sina.com.cn/cba/schedule/sho...</td>\n      <td>http://slide.sports.sina.com.cn/cba/slide_2_78...</td>\n      <td>2019202000004</td>\n    </tr>\n    <tr>\n      <th>4</th>\n      <td>1</td>\n      <td>2019-11-02 19:35</td>\n      <td>北控</td>\n      <td>108:103</td>\n      <td>深圳</td>\n      <td>战报</td>\n      <td>统计</td>\n      <td>组图</td>\n      <td>北京</td>\n      <td></td>\n      <td>http://cba.sports.sina.com.cn/cba/team/show/369/</td>\n      <td>http://cba.sports.sina.com.cn/cba/schedule/sho...</td>\n      <td>http://cba.sports.sina.com.cn/cba/team/show/8/</td>\n      <td>http://sports.sina.com.cn/basketball/cba/2019-...</td>\n      <td>http://cba.sports.sina.com.cn/cba/schedule/sho...</td>\n      <td>http://slide.sports.sina.com.cn/cba/slide_2_79...</td>\n      <td>2019202000005</td>\n    </tr>\n    <tr>\n      <th>...</th>\n      <td>...</td>\n      <td>...</td>\n      <td>...</td>\n      <td>...</td>\n      <td>...</td>\n      <td>...</td>\n      <td>...</td>\n      <td>...</td>\n      <td>...</td>\n      <td>...</td>\n      <td>...</td>\n      <td>...</td>\n      <td>...</td>\n      <td>...</td>\n      <td>...</td>\n      <td>...</td>\n      <td>...</td>\n    </tr>\n    <tr>\n      <th>455</th>\n      <td>46</td>\n      <td>2020-03-12 19:35</td>\n      <td>辽宁</td>\n      <td>VS</td>\n      <td>江苏</td>\n      <td>--</td>\n      <td>统计</td>\n      <td>--</td>\n      <td>沈阳</td>\n      <td></td>\n      <td>http://cba.sports.sina.com.cn/cba/team/show/9/</td>\n      <td>http://cba.sports.sina.com.cn/cba/schedule/sho...</td>\n      <td>http://cba.sports.sina.com.cn/cba/team/show/2/</td>\n      <td>None</td>\n      <td>http://cba.sports.sina.com.cn/cba/schedule/sho...</td>\n      <td>None</td>\n      <td>2019202000456</td>\n    </tr>\n    <tr>\n      <th>456</th>\n      <td>46</td>\n      <td>2020-03-12 19:35</td>\n      <td>八一</td>\n      <td>VS</td>\n      <td>青岛</td>\n      <td>--</td>\n      <td>统计</td>\n      <td>--</td>\n      <td>南昌</td>\n      <td></td>\n      <td>http://cba.sports.sina.com.cn/cba/team/show/3/</td>\n      <td>http://cba.sports.sina.com.cn/cba/schedule/sho...</td>\n      <td>http://cba.sports.sina.com.cn/cba/team/show/114/</td>\n      <td>None</td>\n      <td>http://cba.sports.sina.com.cn/cba/schedule/sho...</td>\n      <td>None</td>\n      <td>2019202000457</td>\n    </tr>\n    <tr>\n      <th>457</th>\n      <td>46</td>\n      <td>2020-03-12 19:35</td>\n      <td>吉林</td>\n      <td>VS</td>\n      <td>广州</td>\n      <td>--</td>\n      <td>统计</td>\n      <td>--</td>\n      <td>长春</td>\n      <td></td>\n      <td>http://cba.sports.sina.com.cn/cba/team/show/12/</td>\n      <td>http://cba.sports.sina.com.cn/cba/schedule/sho...</td>\n      <td>http://cba.sports.sina.com.cn/cba/team/show/13/</td>\n      <td>None</td>\n      <td>http://cba.sports.sina.com.cn/cba/schedule/sho...</td>\n      <td>None</td>\n      <td>2019202000458</td>\n    </tr>\n    <tr>\n      <th>458</th>\n      <td>46</td>\n      <td>2020-03-12 19:35</td>\n      <td>福建</td>\n      <td>VS</td>\n      <td>山东</td>\n      <td>--</td>\n      <td>统计</td>\n      <td>--</td>\n      <td>晋江</td>\n      <td></td>\n      <td>http://cba.sports.sina.com.cn/cba/team/show/7/</td>\n      <td>http://cba.sports.sina.com.cn/cba/schedule/sho...</td>\n      <td>http://cba.sports.sina.com.cn/cba/team/show/15/</td>\n      <td>None</td>\n      <td>http://cba.sports.sina.com.cn/cba/schedule/sho...</td>\n      <td>None</td>\n      <td>2019202000459</td>\n    </tr>\n    <tr>\n      <th>459</th>\n      <td>46</td>\n      <td>2020-03-12 19:35</td>\n      <td>新疆</td>\n      <td>VS</td>\n      <td>天津</td>\n      <td>--</td>\n      <td>统计</td>\n      <td>--</td>\n      <td>乌鲁木齐</td>\n      <td></td>\n      <td>http://cba.sports.sina.com.cn/cba/team/show/11/</td>\n      <td>http://cba.sports.sina.com.cn/cba/schedule/sho...</td>\n      <td>http://cba.sports.sina.com.cn/cba/team/show/113/</td>\n      <td>None</td>\n      <td>http://cba.sports.sina.com.cn/cba/schedule/sho...</td>\n      <td>None</td>\n      <td>2019202000460</td>\n    </tr>\n  </tbody>\n</table>\n<p>460 rows × 17 columns</p>\n</div>"
     },
     "metadata": {},
     "output_type": "execute_result",
     "execution_count": 19
    }
   ],
   "source": [
    "df_schedule_full"
   ]
  },
  {
   "cell_type": "code",
   "execution_count": 20,
   "metadata": {
    "pycharm": {
     "is_executing": false
    }
   },
   "outputs": [],
   "source": [
    "df_schedule_full.to_csv(f'StatsData/GamesSchedulePage_{datetime.date.today()}.csv', index=False)"
   ]
  },
  {
   "cell_type": "markdown",
   "metadata": {},
   "source": [
    "## Details Page"
   ]
  },
  {
   "cell_type": "code",
   "execution_count": 21,
   "metadata": {
    "pycharm": {
     "is_executing": false
    }
   },
   "outputs": [
    {
     "data": {
      "text/plain": "['http://cba.sports.sina.com.cn/cba/schedule/show/18381/',\n 'http://cba.sports.sina.com.cn/cba/schedule/show/18382/',\n 'http://cba.sports.sina.com.cn/cba/schedule/show/18383/',\n 'http://cba.sports.sina.com.cn/cba/schedule/show/18384/',\n 'http://cba.sports.sina.com.cn/cba/schedule/show/18385/',\n 'http://cba.sports.sina.com.cn/cba/schedule/show/18387/',\n 'http://cba.sports.sina.com.cn/cba/schedule/show/18388/',\n 'http://cba.sports.sina.com.cn/cba/schedule/show/18386/',\n 'http://cba.sports.sina.com.cn/cba/schedule/show/18389/',\n 'http://cba.sports.sina.com.cn/cba/schedule/show/18390/',\n 'http://cba.sports.sina.com.cn/cba/schedule/show/18391/',\n 'http://cba.sports.sina.com.cn/cba/schedule/show/18392/',\n 'http://cba.sports.sina.com.cn/cba/schedule/show/18393/',\n 'http://cba.sports.sina.com.cn/cba/schedule/show/18394/',\n 'http://cba.sports.sina.com.cn/cba/schedule/show/18395/',\n 'http://cba.sports.sina.com.cn/cba/schedule/show/18396/',\n 'http://cba.sports.sina.com.cn/cba/schedule/show/18397/',\n 'http://cba.sports.sina.com.cn/cba/schedule/show/18398/',\n 'http://cba.sports.sina.com.cn/cba/schedule/show/18399/',\n 'http://cba.sports.sina.com.cn/cba/schedule/show/18400/',\n 'http://cba.sports.sina.com.cn/cba/schedule/show/18401/',\n 'http://cba.sports.sina.com.cn/cba/schedule/show/18402/',\n 'http://cba.sports.sina.com.cn/cba/schedule/show/18403/',\n 'http://cba.sports.sina.com.cn/cba/schedule/show/18404/',\n 'http://cba.sports.sina.com.cn/cba/schedule/show/18405/',\n 'http://cba.sports.sina.com.cn/cba/schedule/show/18406/',\n 'http://cba.sports.sina.com.cn/cba/schedule/show/18407/',\n 'http://cba.sports.sina.com.cn/cba/schedule/show/18408/',\n 'http://cba.sports.sina.com.cn/cba/schedule/show/18409/',\n 'http://cba.sports.sina.com.cn/cba/schedule/show/18841/',\n 'http://cba.sports.sina.com.cn/cba/schedule/show/18410/',\n 'http://cba.sports.sina.com.cn/cba/schedule/show/18418/',\n 'http://cba.sports.sina.com.cn/cba/schedule/show/18419/',\n 'http://cba.sports.sina.com.cn/cba/schedule/show/18411/',\n 'http://cba.sports.sina.com.cn/cba/schedule/show/18412/',\n 'http://cba.sports.sina.com.cn/cba/schedule/show/18414/',\n 'http://cba.sports.sina.com.cn/cba/schedule/show/18415/',\n 'http://cba.sports.sina.com.cn/cba/schedule/show/18416/',\n 'http://cba.sports.sina.com.cn/cba/schedule/show/18417/',\n 'http://cba.sports.sina.com.cn/cba/schedule/show/18413/',\n 'http://cba.sports.sina.com.cn/cba/schedule/show/18420/',\n 'http://cba.sports.sina.com.cn/cba/schedule/show/18421/',\n 'http://cba.sports.sina.com.cn/cba/schedule/show/18422/',\n 'http://cba.sports.sina.com.cn/cba/schedule/show/18423/',\n 'http://cba.sports.sina.com.cn/cba/schedule/show/18424/',\n 'http://cba.sports.sina.com.cn/cba/schedule/show/18425/',\n 'http://cba.sports.sina.com.cn/cba/schedule/show/18426/',\n 'http://cba.sports.sina.com.cn/cba/schedule/show/18427/',\n 'http://cba.sports.sina.com.cn/cba/schedule/show/18428/',\n 'http://cba.sports.sina.com.cn/cba/schedule/show/18429/',\n 'http://cba.sports.sina.com.cn/cba/schedule/show/18430/',\n 'http://cba.sports.sina.com.cn/cba/schedule/show/18431/',\n 'http://cba.sports.sina.com.cn/cba/schedule/show/18432/',\n 'http://cba.sports.sina.com.cn/cba/schedule/show/18433/',\n 'http://cba.sports.sina.com.cn/cba/schedule/show/18434/',\n 'http://cba.sports.sina.com.cn/cba/schedule/show/18435/',\n 'http://cba.sports.sina.com.cn/cba/schedule/show/18436/',\n 'http://cba.sports.sina.com.cn/cba/schedule/show/18437/',\n 'http://cba.sports.sina.com.cn/cba/schedule/show/18438/',\n 'http://cba.sports.sina.com.cn/cba/schedule/show/18439/',\n 'http://cba.sports.sina.com.cn/cba/schedule/show/18440/',\n 'http://cba.sports.sina.com.cn/cba/schedule/show/18441/',\n 'http://cba.sports.sina.com.cn/cba/schedule/show/18442/',\n 'http://cba.sports.sina.com.cn/cba/schedule/show/18443/',\n 'http://cba.sports.sina.com.cn/cba/schedule/show/18444/',\n 'http://cba.sports.sina.com.cn/cba/schedule/show/18445/',\n 'http://cba.sports.sina.com.cn/cba/schedule/show/18446/',\n 'http://cba.sports.sina.com.cn/cba/schedule/show/18447/',\n 'http://cba.sports.sina.com.cn/cba/schedule/show/18448/',\n 'http://cba.sports.sina.com.cn/cba/schedule/show/18449/',\n 'http://cba.sports.sina.com.cn/cba/schedule/show/18450/',\n 'http://cba.sports.sina.com.cn/cba/schedule/show/18451/',\n 'http://cba.sports.sina.com.cn/cba/schedule/show/18452/',\n 'http://cba.sports.sina.com.cn/cba/schedule/show/18453/',\n 'http://cba.sports.sina.com.cn/cba/schedule/show/18454/',\n 'http://cba.sports.sina.com.cn/cba/schedule/show/18455/',\n 'http://cba.sports.sina.com.cn/cba/schedule/show/18456/',\n 'http://cba.sports.sina.com.cn/cba/schedule/show/18457/',\n 'http://cba.sports.sina.com.cn/cba/schedule/show/18458/',\n 'http://cba.sports.sina.com.cn/cba/schedule/show/18459/',\n 'http://cba.sports.sina.com.cn/cba/schedule/show/18460/',\n 'http://cba.sports.sina.com.cn/cba/schedule/show/18461/',\n 'http://cba.sports.sina.com.cn/cba/schedule/show/18462/',\n 'http://cba.sports.sina.com.cn/cba/schedule/show/18463/',\n 'http://cba.sports.sina.com.cn/cba/schedule/show/18464/',\n 'http://cba.sports.sina.com.cn/cba/schedule/show/18465/',\n 'http://cba.sports.sina.com.cn/cba/schedule/show/18466/',\n 'http://cba.sports.sina.com.cn/cba/schedule/show/18467/',\n 'http://cba.sports.sina.com.cn/cba/schedule/show/18468/',\n 'http://cba.sports.sina.com.cn/cba/schedule/show/18469/',\n 'http://cba.sports.sina.com.cn/cba/schedule/show/18470/',\n 'http://cba.sports.sina.com.cn/cba/schedule/show/18471/',\n 'http://cba.sports.sina.com.cn/cba/schedule/show/18472/',\n 'http://cba.sports.sina.com.cn/cba/schedule/show/18473/',\n 'http://cba.sports.sina.com.cn/cba/schedule/show/18474/',\n 'http://cba.sports.sina.com.cn/cba/schedule/show/18475/',\n 'http://cba.sports.sina.com.cn/cba/schedule/show/18476/',\n 'http://cba.sports.sina.com.cn/cba/schedule/show/18477/',\n 'http://cba.sports.sina.com.cn/cba/schedule/show/18478/',\n 'http://cba.sports.sina.com.cn/cba/schedule/show/18479/',\n 'http://cba.sports.sina.com.cn/cba/schedule/show/18480/',\n 'http://cba.sports.sina.com.cn/cba/schedule/show/18481/',\n 'http://cba.sports.sina.com.cn/cba/schedule/show/18482/',\n 'http://cba.sports.sina.com.cn/cba/schedule/show/18483/',\n 'http://cba.sports.sina.com.cn/cba/schedule/show/18484/',\n 'http://cba.sports.sina.com.cn/cba/schedule/show/18486/',\n 'http://cba.sports.sina.com.cn/cba/schedule/show/18487/',\n 'http://cba.sports.sina.com.cn/cba/schedule/show/18488/',\n 'http://cba.sports.sina.com.cn/cba/schedule/show/18489/',\n 'http://cba.sports.sina.com.cn/cba/schedule/show/18485/',\n 'http://cba.sports.sina.com.cn/cba/schedule/show/18490/',\n 'http://cba.sports.sina.com.cn/cba/schedule/show/18491/',\n 'http://cba.sports.sina.com.cn/cba/schedule/show/18492/',\n 'http://cba.sports.sina.com.cn/cba/schedule/show/18493/',\n 'http://cba.sports.sina.com.cn/cba/schedule/show/18494/',\n 'http://cba.sports.sina.com.cn/cba/schedule/show/18495/',\n 'http://cba.sports.sina.com.cn/cba/schedule/show/18496/',\n 'http://cba.sports.sina.com.cn/cba/schedule/show/18497/',\n 'http://cba.sports.sina.com.cn/cba/schedule/show/18498/',\n 'http://cba.sports.sina.com.cn/cba/schedule/show/18499/',\n 'http://cba.sports.sina.com.cn/cba/schedule/show/18500/',\n 'http://cba.sports.sina.com.cn/cba/schedule/show/18501/',\n 'http://cba.sports.sina.com.cn/cba/schedule/show/18507/',\n 'http://cba.sports.sina.com.cn/cba/schedule/show/18502/',\n 'http://cba.sports.sina.com.cn/cba/schedule/show/18503/',\n 'http://cba.sports.sina.com.cn/cba/schedule/show/18504/',\n 'http://cba.sports.sina.com.cn/cba/schedule/show/18505/',\n 'http://cba.sports.sina.com.cn/cba/schedule/show/18506/',\n 'http://cba.sports.sina.com.cn/cba/schedule/show/18508/',\n 'http://cba.sports.sina.com.cn/cba/schedule/show/18509/',\n 'http://cba.sports.sina.com.cn/cba/schedule/show/18510/',\n 'http://cba.sports.sina.com.cn/cba/schedule/show/18511/',\n 'http://cba.sports.sina.com.cn/cba/schedule/show/18512/',\n 'http://cba.sports.sina.com.cn/cba/schedule/show/18513/',\n 'http://cba.sports.sina.com.cn/cba/schedule/show/18514/',\n 'http://cba.sports.sina.com.cn/cba/schedule/show/18515/',\n 'http://cba.sports.sina.com.cn/cba/schedule/show/18516/',\n 'http://cba.sports.sina.com.cn/cba/schedule/show/18517/',\n 'http://cba.sports.sina.com.cn/cba/schedule/show/18518/',\n 'http://cba.sports.sina.com.cn/cba/schedule/show/18519/',\n 'http://cba.sports.sina.com.cn/cba/schedule/show/18520/',\n 'http://cba.sports.sina.com.cn/cba/schedule/show/18524/',\n 'http://cba.sports.sina.com.cn/cba/schedule/show/18521/',\n 'http://cba.sports.sina.com.cn/cba/schedule/show/18522/',\n 'http://cba.sports.sina.com.cn/cba/schedule/show/18523/',\n 'http://cba.sports.sina.com.cn/cba/schedule/show/18525/',\n 'http://cba.sports.sina.com.cn/cba/schedule/show/18526/',\n 'http://cba.sports.sina.com.cn/cba/schedule/show/18527/',\n 'http://cba.sports.sina.com.cn/cba/schedule/show/18528/',\n 'http://cba.sports.sina.com.cn/cba/schedule/show/18529/',\n 'http://cba.sports.sina.com.cn/cba/schedule/show/18533/',\n 'http://cba.sports.sina.com.cn/cba/schedule/show/18530/',\n 'http://cba.sports.sina.com.cn/cba/schedule/show/18531/',\n 'http://cba.sports.sina.com.cn/cba/schedule/show/18532/',\n 'http://cba.sports.sina.com.cn/cba/schedule/show/18534/',\n 'http://cba.sports.sina.com.cn/cba/schedule/show/18535/',\n 'http://cba.sports.sina.com.cn/cba/schedule/show/18536/',\n 'http://cba.sports.sina.com.cn/cba/schedule/show/18537/',\n 'http://cba.sports.sina.com.cn/cba/schedule/show/18538/',\n 'http://cba.sports.sina.com.cn/cba/schedule/show/18539/',\n 'http://cba.sports.sina.com.cn/cba/schedule/show/18540/',\n 'http://cba.sports.sina.com.cn/cba/schedule/show/18541/',\n 'http://cba.sports.sina.com.cn/cba/schedule/show/18542/',\n 'http://cba.sports.sina.com.cn/cba/schedule/show/18543/',\n 'http://cba.sports.sina.com.cn/cba/schedule/show/18544/',\n 'http://cba.sports.sina.com.cn/cba/schedule/show/18545/',\n 'http://cba.sports.sina.com.cn/cba/schedule/show/18546/',\n 'http://cba.sports.sina.com.cn/cba/schedule/show/18547/',\n 'http://cba.sports.sina.com.cn/cba/schedule/show/18548/',\n 'http://cba.sports.sina.com.cn/cba/schedule/show/18549/',\n 'http://cba.sports.sina.com.cn/cba/schedule/show/18555/',\n 'http://cba.sports.sina.com.cn/cba/schedule/show/18550/',\n 'http://cba.sports.sina.com.cn/cba/schedule/show/18551/',\n 'http://cba.sports.sina.com.cn/cba/schedule/show/18552/',\n 'http://cba.sports.sina.com.cn/cba/schedule/show/18553/',\n 'http://cba.sports.sina.com.cn/cba/schedule/show/18554/',\n 'http://cba.sports.sina.com.cn/cba/schedule/show/18556/',\n 'http://cba.sports.sina.com.cn/cba/schedule/show/18557/',\n 'http://cba.sports.sina.com.cn/cba/schedule/show/18558/',\n 'http://cba.sports.sina.com.cn/cba/schedule/show/18559/',\n 'http://cba.sports.sina.com.cn/cba/schedule/show/18560/',\n 'http://cba.sports.sina.com.cn/cba/schedule/show/18561/',\n 'http://cba.sports.sina.com.cn/cba/schedule/show/18562/',\n 'http://cba.sports.sina.com.cn/cba/schedule/show/18563/',\n 'http://cba.sports.sina.com.cn/cba/schedule/show/18564/',\n 'http://cba.sports.sina.com.cn/cba/schedule/show/18565/',\n 'http://cba.sports.sina.com.cn/cba/schedule/show/18566/',\n 'http://cba.sports.sina.com.cn/cba/schedule/show/18567/',\n 'http://cba.sports.sina.com.cn/cba/schedule/show/18568/',\n 'http://cba.sports.sina.com.cn/cba/schedule/show/18569/',\n 'http://cba.sports.sina.com.cn/cba/schedule/show/18570/',\n 'http://cba.sports.sina.com.cn/cba/schedule/show/18571/',\n 'http://cba.sports.sina.com.cn/cba/schedule/show/18572/',\n 'http://cba.sports.sina.com.cn/cba/schedule/show/18573/',\n 'http://cba.sports.sina.com.cn/cba/schedule/show/18574/',\n 'http://cba.sports.sina.com.cn/cba/schedule/show/18575/',\n 'http://cba.sports.sina.com.cn/cba/schedule/show/18576/',\n 'http://cba.sports.sina.com.cn/cba/schedule/show/18577/',\n 'http://cba.sports.sina.com.cn/cba/schedule/show/18578/',\n 'http://cba.sports.sina.com.cn/cba/schedule/show/18579/',\n 'http://cba.sports.sina.com.cn/cba/schedule/show/18580/',\n 'http://cba.sports.sina.com.cn/cba/schedule/show/18581/',\n 'http://cba.sports.sina.com.cn/cba/schedule/show/18582/',\n 'http://cba.sports.sina.com.cn/cba/schedule/show/18583/',\n 'http://cba.sports.sina.com.cn/cba/schedule/show/18584/',\n 'http://cba.sports.sina.com.cn/cba/schedule/show/18585/',\n 'http://cba.sports.sina.com.cn/cba/schedule/show/18586/',\n 'http://cba.sports.sina.com.cn/cba/schedule/show/18587/',\n 'http://cba.sports.sina.com.cn/cba/schedule/show/18588/',\n 'http://cba.sports.sina.com.cn/cba/schedule/show/18640/',\n 'http://cba.sports.sina.com.cn/cba/schedule/show/18589/',\n 'http://cba.sports.sina.com.cn/cba/schedule/show/18590/',\n 'http://cba.sports.sina.com.cn/cba/schedule/show/18591/',\n 'http://cba.sports.sina.com.cn/cba/schedule/show/18592/',\n 'http://cba.sports.sina.com.cn/cba/schedule/show/18593/',\n 'http://cba.sports.sina.com.cn/cba/schedule/show/18594/',\n 'http://cba.sports.sina.com.cn/cba/schedule/show/18595/',\n 'http://cba.sports.sina.com.cn/cba/schedule/show/18596/',\n 'http://cba.sports.sina.com.cn/cba/schedule/show/18597/',\n 'http://cba.sports.sina.com.cn/cba/schedule/show/18598/',\n 'http://cba.sports.sina.com.cn/cba/schedule/show/18599/',\n 'http://cba.sports.sina.com.cn/cba/schedule/show/18600/',\n 'http://cba.sports.sina.com.cn/cba/schedule/show/18601/',\n 'http://cba.sports.sina.com.cn/cba/schedule/show/18602/',\n 'http://cba.sports.sina.com.cn/cba/schedule/show/18603/',\n 'http://cba.sports.sina.com.cn/cba/schedule/show/18604/',\n 'http://cba.sports.sina.com.cn/cba/schedule/show/18605/',\n 'http://cba.sports.sina.com.cn/cba/schedule/show/18606/',\n 'http://cba.sports.sina.com.cn/cba/schedule/show/18607/',\n 'http://cba.sports.sina.com.cn/cba/schedule/show/18608/',\n 'http://cba.sports.sina.com.cn/cba/schedule/show/18609/',\n 'http://cba.sports.sina.com.cn/cba/schedule/show/18610/',\n 'http://cba.sports.sina.com.cn/cba/schedule/show/18611/',\n 'http://cba.sports.sina.com.cn/cba/schedule/show/18612/',\n 'http://cba.sports.sina.com.cn/cba/schedule/show/18613/',\n 'http://cba.sports.sina.com.cn/cba/schedule/show/18614/',\n 'http://cba.sports.sina.com.cn/cba/schedule/show/18616/',\n 'http://cba.sports.sina.com.cn/cba/schedule/show/18617/',\n 'http://cba.sports.sina.com.cn/cba/schedule/show/18618/',\n 'http://cba.sports.sina.com.cn/cba/schedule/show/18615/',\n 'http://cba.sports.sina.com.cn/cba/schedule/show/18619/',\n 'http://cba.sports.sina.com.cn/cba/schedule/show/18620/',\n 'http://cba.sports.sina.com.cn/cba/schedule/show/18621/',\n 'http://cba.sports.sina.com.cn/cba/schedule/show/18622/',\n 'http://cba.sports.sina.com.cn/cba/schedule/show/18623/',\n 'http://cba.sports.sina.com.cn/cba/schedule/show/18624/',\n 'http://cba.sports.sina.com.cn/cba/schedule/show/18625/',\n 'http://cba.sports.sina.com.cn/cba/schedule/show/18626/',\n 'http://cba.sports.sina.com.cn/cba/schedule/show/18627/',\n 'http://cba.sports.sina.com.cn/cba/schedule/show/18628/',\n 'http://cba.sports.sina.com.cn/cba/schedule/show/18629/',\n 'http://cba.sports.sina.com.cn/cba/schedule/show/18630/',\n 'http://cba.sports.sina.com.cn/cba/schedule/show/18631/',\n 'http://cba.sports.sina.com.cn/cba/schedule/show/18632/',\n 'http://cba.sports.sina.com.cn/cba/schedule/show/18633/',\n 'http://cba.sports.sina.com.cn/cba/schedule/show/18634/',\n 'http://cba.sports.sina.com.cn/cba/schedule/show/18635/',\n 'http://cba.sports.sina.com.cn/cba/schedule/show/18636/',\n 'http://cba.sports.sina.com.cn/cba/schedule/show/18637/',\n 'http://cba.sports.sina.com.cn/cba/schedule/show/18638/',\n 'http://cba.sports.sina.com.cn/cba/schedule/show/18641/',\n 'http://cba.sports.sina.com.cn/cba/schedule/show/18642/',\n 'http://cba.sports.sina.com.cn/cba/schedule/show/18643/',\n 'http://cba.sports.sina.com.cn/cba/schedule/show/18644/',\n 'http://cba.sports.sina.com.cn/cba/schedule/show/18645/',\n 'http://cba.sports.sina.com.cn/cba/schedule/show/18647/',\n 'http://cba.sports.sina.com.cn/cba/schedule/show/18648/',\n 'http://cba.sports.sina.com.cn/cba/schedule/show/18646/',\n 'http://cba.sports.sina.com.cn/cba/schedule/show/18649/',\n 'http://cba.sports.sina.com.cn/cba/schedule/show/18650/',\n 'http://cba.sports.sina.com.cn/cba/schedule/show/18651/',\n 'http://cba.sports.sina.com.cn/cba/schedule/show/18652/',\n 'http://cba.sports.sina.com.cn/cba/schedule/show/18653/',\n 'http://cba.sports.sina.com.cn/cba/schedule/show/18654/',\n 'http://cba.sports.sina.com.cn/cba/schedule/show/18655/',\n 'http://cba.sports.sina.com.cn/cba/schedule/show/18656/',\n 'http://cba.sports.sina.com.cn/cba/schedule/show/18657/',\n 'http://cba.sports.sina.com.cn/cba/schedule/show/18658/',\n 'http://cba.sports.sina.com.cn/cba/schedule/show/18659/',\n 'http://cba.sports.sina.com.cn/cba/schedule/show/18660/',\n 'http://cba.sports.sina.com.cn/cba/schedule/show/18661/',\n 'http://cba.sports.sina.com.cn/cba/schedule/show/18662/',\n 'http://cba.sports.sina.com.cn/cba/schedule/show/18664/',\n 'http://cba.sports.sina.com.cn/cba/schedule/show/18663/',\n 'http://cba.sports.sina.com.cn/cba/schedule/show/18665/',\n 'http://cba.sports.sina.com.cn/cba/schedule/show/18666/',\n 'http://cba.sports.sina.com.cn/cba/schedule/show/18667/',\n 'http://cba.sports.sina.com.cn/cba/schedule/show/18668/',\n 'http://cba.sports.sina.com.cn/cba/schedule/show/18669/',\n 'http://cba.sports.sina.com.cn/cba/schedule/show/18670/',\n 'http://cba.sports.sina.com.cn/cba/schedule/show/18679/',\n 'http://cba.sports.sina.com.cn/cba/schedule/show/18671/',\n 'http://cba.sports.sina.com.cn/cba/schedule/show/18672/',\n 'http://cba.sports.sina.com.cn/cba/schedule/show/18673/',\n 'http://cba.sports.sina.com.cn/cba/schedule/show/18674/',\n 'http://cba.sports.sina.com.cn/cba/schedule/show/18675/',\n 'http://cba.sports.sina.com.cn/cba/schedule/show/18676/',\n 'http://cba.sports.sina.com.cn/cba/schedule/show/18677/',\n 'http://cba.sports.sina.com.cn/cba/schedule/show/18678/',\n 'http://cba.sports.sina.com.cn/cba/schedule/show/18680/',\n 'http://cba.sports.sina.com.cn/cba/schedule/show/18681/',\n 'http://cba.sports.sina.com.cn/cba/schedule/show/18682/',\n 'http://cba.sports.sina.com.cn/cba/schedule/show/18683/',\n 'http://cba.sports.sina.com.cn/cba/schedule/show/18685/',\n 'http://cba.sports.sina.com.cn/cba/schedule/show/18684/',\n 'http://cba.sports.sina.com.cn/cba/schedule/show/18686/',\n 'http://cba.sports.sina.com.cn/cba/schedule/show/18687/',\n 'http://cba.sports.sina.com.cn/cba/schedule/show/18688/',\n 'http://cba.sports.sina.com.cn/cba/schedule/show/18689/',\n 'http://cba.sports.sina.com.cn/cba/schedule/show/18690/',\n 'http://cba.sports.sina.com.cn/cba/schedule/show/18691/',\n 'http://cba.sports.sina.com.cn/cba/schedule/show/18692/',\n 'http://cba.sports.sina.com.cn/cba/schedule/show/18693/',\n 'http://cba.sports.sina.com.cn/cba/schedule/show/18694/',\n 'http://cba.sports.sina.com.cn/cba/schedule/show/18695/',\n 'http://cba.sports.sina.com.cn/cba/schedule/show/18696/',\n 'http://cba.sports.sina.com.cn/cba/schedule/show/18697/',\n 'http://cba.sports.sina.com.cn/cba/schedule/show/18698/',\n 'http://cba.sports.sina.com.cn/cba/schedule/show/18699/',\n 'http://cba.sports.sina.com.cn/cba/schedule/show/18700/',\n 'http://cba.sports.sina.com.cn/cba/schedule/show/18701/',\n 'http://cba.sports.sina.com.cn/cba/schedule/show/18702/',\n 'http://cba.sports.sina.com.cn/cba/schedule/show/18703/',\n 'http://cba.sports.sina.com.cn/cba/schedule/show/18705/',\n 'http://cba.sports.sina.com.cn/cba/schedule/show/18706/',\n 'http://cba.sports.sina.com.cn/cba/schedule/show/18707/',\n 'http://cba.sports.sina.com.cn/cba/schedule/show/18708/',\n 'http://cba.sports.sina.com.cn/cba/schedule/show/18709/',\n 'http://cba.sports.sina.com.cn/cba/schedule/show/18710/',\n 'http://cba.sports.sina.com.cn/cba/schedule/show/18704/',\n 'http://cba.sports.sina.com.cn/cba/schedule/show/18711/',\n 'http://cba.sports.sina.com.cn/cba/schedule/show/18712/',\n 'http://cba.sports.sina.com.cn/cba/schedule/show/18713/',\n 'http://cba.sports.sina.com.cn/cba/schedule/show/18714/',\n 'http://cba.sports.sina.com.cn/cba/schedule/show/18715/',\n 'http://cba.sports.sina.com.cn/cba/schedule/show/18716/',\n 'http://cba.sports.sina.com.cn/cba/schedule/show/18717/',\n 'http://cba.sports.sina.com.cn/cba/schedule/show/18718/',\n 'http://cba.sports.sina.com.cn/cba/schedule/show/18719/',\n 'http://cba.sports.sina.com.cn/cba/schedule/show/18720/',\n 'http://cba.sports.sina.com.cn/cba/schedule/show/18721/',\n 'http://cba.sports.sina.com.cn/cba/schedule/show/18722/',\n 'http://cba.sports.sina.com.cn/cba/schedule/show/18723/',\n 'http://cba.sports.sina.com.cn/cba/schedule/show/18724/',\n 'http://cba.sports.sina.com.cn/cba/schedule/show/18725/',\n 'http://cba.sports.sina.com.cn/cba/schedule/show/18726/',\n 'http://cba.sports.sina.com.cn/cba/schedule/show/18727/',\n 'http://cba.sports.sina.com.cn/cba/schedule/show/18728/',\n 'http://cba.sports.sina.com.cn/cba/schedule/show/18729/',\n 'http://cba.sports.sina.com.cn/cba/schedule/show/18730/',\n 'http://cba.sports.sina.com.cn/cba/schedule/show/18731/',\n 'http://cba.sports.sina.com.cn/cba/schedule/show/18732/',\n 'http://cba.sports.sina.com.cn/cba/schedule/show/18733/',\n 'http://cba.sports.sina.com.cn/cba/schedule/show/18734/',\n 'http://cba.sports.sina.com.cn/cba/schedule/show/18735/',\n 'http://cba.sports.sina.com.cn/cba/schedule/show/18736/',\n 'http://cba.sports.sina.com.cn/cba/schedule/show/18738/',\n 'http://cba.sports.sina.com.cn/cba/schedule/show/18737/',\n 'http://cba.sports.sina.com.cn/cba/schedule/show/18740/',\n 'http://cba.sports.sina.com.cn/cba/schedule/show/18739/',\n 'http://cba.sports.sina.com.cn/cba/schedule/show/18741/',\n 'http://cba.sports.sina.com.cn/cba/schedule/show/18742/',\n 'http://cba.sports.sina.com.cn/cba/schedule/show/18743/',\n 'http://cba.sports.sina.com.cn/cba/schedule/show/18744/',\n 'http://cba.sports.sina.com.cn/cba/schedule/show/18745/',\n 'http://cba.sports.sina.com.cn/cba/schedule/show/18747/',\n 'http://cba.sports.sina.com.cn/cba/schedule/show/18746/',\n 'http://cba.sports.sina.com.cn/cba/schedule/show/18748/',\n 'http://cba.sports.sina.com.cn/cba/schedule/show/18749/',\n 'http://cba.sports.sina.com.cn/cba/schedule/show/18750/',\n 'http://cba.sports.sina.com.cn/cba/schedule/show/18751/',\n 'http://cba.sports.sina.com.cn/cba/schedule/show/18752/',\n 'http://cba.sports.sina.com.cn/cba/schedule/show/18753/',\n 'http://cba.sports.sina.com.cn/cba/schedule/show/18754/',\n 'http://cba.sports.sina.com.cn/cba/schedule/show/18755/',\n 'http://cba.sports.sina.com.cn/cba/schedule/show/18756/',\n 'http://cba.sports.sina.com.cn/cba/schedule/show/18757/',\n 'http://cba.sports.sina.com.cn/cba/schedule/show/18759/',\n 'http://cba.sports.sina.com.cn/cba/schedule/show/18760/',\n 'http://cba.sports.sina.com.cn/cba/schedule/show/18758/',\n 'http://cba.sports.sina.com.cn/cba/schedule/show/18761/',\n 'http://cba.sports.sina.com.cn/cba/schedule/show/18762/',\n 'http://cba.sports.sina.com.cn/cba/schedule/show/18763/',\n 'http://cba.sports.sina.com.cn/cba/schedule/show/18764/',\n 'http://cba.sports.sina.com.cn/cba/schedule/show/18765/',\n 'http://cba.sports.sina.com.cn/cba/schedule/show/18766/',\n 'http://cba.sports.sina.com.cn/cba/schedule/show/18767/',\n 'http://cba.sports.sina.com.cn/cba/schedule/show/18768/',\n 'http://cba.sports.sina.com.cn/cba/schedule/show/18769/',\n 'http://cba.sports.sina.com.cn/cba/schedule/show/18770/',\n 'http://cba.sports.sina.com.cn/cba/schedule/show/18775/',\n 'http://cba.sports.sina.com.cn/cba/schedule/show/18771/',\n 'http://cba.sports.sina.com.cn/cba/schedule/show/18772/',\n 'http://cba.sports.sina.com.cn/cba/schedule/show/18773/',\n 'http://cba.sports.sina.com.cn/cba/schedule/show/18774/',\n 'http://cba.sports.sina.com.cn/cba/schedule/show/18776/',\n 'http://cba.sports.sina.com.cn/cba/schedule/show/18777/',\n 'http://cba.sports.sina.com.cn/cba/schedule/show/18778/',\n 'http://cba.sports.sina.com.cn/cba/schedule/show/18779/',\n 'http://cba.sports.sina.com.cn/cba/schedule/show/18780/',\n 'http://cba.sports.sina.com.cn/cba/schedule/show/18781/',\n 'http://cba.sports.sina.com.cn/cba/schedule/show/18782/',\n 'http://cba.sports.sina.com.cn/cba/schedule/show/18783/',\n 'http://cba.sports.sina.com.cn/cba/schedule/show/18784/',\n 'http://cba.sports.sina.com.cn/cba/schedule/show/18785/',\n 'http://cba.sports.sina.com.cn/cba/schedule/show/18786/',\n 'http://cba.sports.sina.com.cn/cba/schedule/show/18787/',\n 'http://cba.sports.sina.com.cn/cba/schedule/show/18788/',\n 'http://cba.sports.sina.com.cn/cba/schedule/show/18789/',\n 'http://cba.sports.sina.com.cn/cba/schedule/show/18790/',\n 'http://cba.sports.sina.com.cn/cba/schedule/show/18791/',\n 'http://cba.sports.sina.com.cn/cba/schedule/show/18793/',\n 'http://cba.sports.sina.com.cn/cba/schedule/show/18792/',\n 'http://cba.sports.sina.com.cn/cba/schedule/show/18794/',\n 'http://cba.sports.sina.com.cn/cba/schedule/show/18795/',\n 'http://cba.sports.sina.com.cn/cba/schedule/show/18796/',\n 'http://cba.sports.sina.com.cn/cba/schedule/show/18797/',\n 'http://cba.sports.sina.com.cn/cba/schedule/show/18798/',\n 'http://cba.sports.sina.com.cn/cba/schedule/show/18799/',\n 'http://cba.sports.sina.com.cn/cba/schedule/show/18800/',\n 'http://cba.sports.sina.com.cn/cba/schedule/show/18807/',\n 'http://cba.sports.sina.com.cn/cba/schedule/show/18801/',\n 'http://cba.sports.sina.com.cn/cba/schedule/show/18802/',\n 'http://cba.sports.sina.com.cn/cba/schedule/show/18803/',\n 'http://cba.sports.sina.com.cn/cba/schedule/show/18804/',\n 'http://cba.sports.sina.com.cn/cba/schedule/show/18805/',\n 'http://cba.sports.sina.com.cn/cba/schedule/show/18806/',\n 'http://cba.sports.sina.com.cn/cba/schedule/show/18808/',\n 'http://cba.sports.sina.com.cn/cba/schedule/show/18809/',\n 'http://cba.sports.sina.com.cn/cba/schedule/show/18810/',\n 'http://cba.sports.sina.com.cn/cba/schedule/show/18811/',\n 'http://cba.sports.sina.com.cn/cba/schedule/show/18812/',\n 'http://cba.sports.sina.com.cn/cba/schedule/show/18813/',\n 'http://cba.sports.sina.com.cn/cba/schedule/show/18814/',\n 'http://cba.sports.sina.com.cn/cba/schedule/show/18815/',\n 'http://cba.sports.sina.com.cn/cba/schedule/show/18816/',\n 'http://cba.sports.sina.com.cn/cba/schedule/show/18817/',\n 'http://cba.sports.sina.com.cn/cba/schedule/show/18818/',\n 'http://cba.sports.sina.com.cn/cba/schedule/show/18819/',\n 'http://cba.sports.sina.com.cn/cba/schedule/show/18820/',\n 'http://cba.sports.sina.com.cn/cba/schedule/show/18821/',\n 'http://cba.sports.sina.com.cn/cba/schedule/show/18822/',\n 'http://cba.sports.sina.com.cn/cba/schedule/show/18824/',\n 'http://cba.sports.sina.com.cn/cba/schedule/show/18825/',\n 'http://cba.sports.sina.com.cn/cba/schedule/show/18826/',\n 'http://cba.sports.sina.com.cn/cba/schedule/show/18827/',\n 'http://cba.sports.sina.com.cn/cba/schedule/show/18828/',\n 'http://cba.sports.sina.com.cn/cba/schedule/show/18829/',\n 'http://cba.sports.sina.com.cn/cba/schedule/show/18830/',\n 'http://cba.sports.sina.com.cn/cba/schedule/show/18823/',\n 'http://cba.sports.sina.com.cn/cba/schedule/show/18831/',\n 'http://cba.sports.sina.com.cn/cba/schedule/show/18832/',\n 'http://cba.sports.sina.com.cn/cba/schedule/show/18833/',\n 'http://cba.sports.sina.com.cn/cba/schedule/show/18834/',\n 'http://cba.sports.sina.com.cn/cba/schedule/show/18835/',\n 'http://cba.sports.sina.com.cn/cba/schedule/show/18836/',\n 'http://cba.sports.sina.com.cn/cba/schedule/show/18837/',\n 'http://cba.sports.sina.com.cn/cba/schedule/show/18838/',\n 'http://cba.sports.sina.com.cn/cba/schedule/show/18839/',\n 'http://cba.sports.sina.com.cn/cba/schedule/show/18840/']"
     },
     "metadata": {},
     "output_type": "execute_result",
     "execution_count": 21
    }
   ],
   "source": [
    "links_list = list(df_schedule_full['统计_link'])\n",
    "links_list"
   ]
  },
  {
   "cell_type": "code",
   "execution_count": 22,
   "metadata": {
    "pycharm": {
     "is_executing": false
    }
   },
   "outputs": [
    {
     "data": {
      "text/plain": "'<!DOCTYPE html PUBLIC \"-//W3C//DTD XHTML 1.0 Transitional//EN\" \"http://www.w3.org/TR/xhtml1/DTD/xhtml1-transitional.dtd\"><html xmlns=\"http://www.w3.org/1999/xhtml\"><head><meta content=\"text/html; charset=utf-8\" http-equiv=\"Content-type\"/><title>广东VS辽宁_CBA联赛单场比分_中国篮球数据库_篮球-CBA_新浪体育_新浪网</title><meta content=\"广东VS辽宁CBA联赛赛程赛果，CBA联赛直播，CBA联赛赛程赛果，CBA联赛直播，中国篮球数据库\" name=\"keywords\"/><meta content=\"新浪CBA联赛，提供CBA联赛最新赛程赛果、CBA联赛直播、CBA联赛总决赛、CBA联赛录像、CBA联赛视频集锦、CBA联赛球队球员、CBA联赛十佳球、CBA联赛快讯、CBA联赛图片等丰富的CBA联赛新闻和数据。\" name=\"description\"/><link href=\"http://www.sinaimg.cn/ty/deco/2013/0124/cbacss/css/base.css\" rel=\"stylesheet\" type=\"text/css\"/><link href=\"http://n.sinaimg.cn/default/7919a7ba/20190305/score.css\" rel=\"stylesheet\" type=\"text/css\"/><script src=\"http://www.sinaimg.cn/ty/deco/2013/0124/cbacss/css/cba.js\" type=\"text/javascript\"></script></head><body><!-- wrap begin --><div class=\"wrap\" id=\"wraper\"><style type=\"text/css\">\\t.sHBorder {    border: 1px solid #E3E3E3;    overflow: hidden;    padding: 5px 10px 5px 12px;    margin-top:5px;}.sHLogo {    float: left;    height: 31px;    line-height: 31px;    overflow: hidden;}.sHLogo span, .sHLogo span a {    display: table-cell;    height: 31px;    vertical-align: middle;}.sHLogo span, .sHLogo span a img {    vertical-align: middle;}.sHLinks {    float: right;    line-height: 31px;}.nav_sub a, .nav_sub a:link, .nav_sub a:visited {    padding: 0 8px;}\\t</style><div class=\"sHBorder\"><div class=\"sHLogo\"><span><a href=\"http://sports.sina.com.cn/\"><img alt=\"新浪网\" src=\"http://i1.sinaimg.cn/dy/images/header/2009/standardl2nav_sina_new.gif\"/></a><a href=\"http://sports.sina.com.cn/\"><img alt=\"新浪体育\" src=\"http://i1.sinaimg.cn/ty/deco/2009/0413/standardl2nav_sports.jpg\"/></a></span></div><div class=\"sHLinks\"><a href=\"http://sports.sina.com.cn/\">体育首页</a>\\xa0|\\xa0<a href=\"http://www.sina.com.cn/\">新浪首页</a>\\xa0|\\xa0<a href=\"http://news.sina.com.cn/guide/\">新浪导航</a></div></div><!-- CBA赛程页通栏 begin --><!-- banner begin --><div class=\"banner\"><h1>中国篮球数据库</h1><h2>联赛、国家队一网打尽</h2></div><!-- banner end --><!-- nav begin --><div class=\"nav\"><p><span class=\"nav_first\"><a href=\"http://sports.sina.com.cn/cba/\">首页</a></span><span><a href=\"http://cba.sports.sina.com.cn/cba/schedule/all/\" id=\"schedule_all\">赛程</a></span><span><a href=\"http://cba.sports.sina.com.cn/cba/team/all/\" id=\"team_all\">球队</a></span><span><a href=\"http://cba.sports.sina.com.cn/cba/schedule/live/\" id=\"schedule_live\">比分</a></span><span><a href=\"http://cba.sports.sina.com.cn/cba/stats/playerstats/\" id=\"stats_playerstats\">统计</a></span><span><a href=\"http://cba.sports.sina.com.cn/cba/stats/teamrank/\" id=\"stats_teamrank\">积分</a></span><span><a href=\"http://slide.sports.sina.com.cn/cba/\">图片</a></span><span><a href=\"http://weibo.com/1737961042\">微博</a></span></p></div><!-- nav end --> <!-- nav_sub begin --><div class=\"nav_sub\"><p><a href=\"http://cba.sports.sina.com.cn/cba/team/show/1/\" target=\"_blank\">广东</a><a href=\"http://cba.sports.sina.com.cn/cba/team/show/3/\" target=\"_blank\">八一</a><a href=\"http://cba.sports.sina.com.cn/cba/team/show/2/\" target=\"_blank\">江苏</a><a href=\"http://cba.sports.sina.com.cn/cba/team/show/8/\" target=\"_blank\">深圳</a><a href=\"http://cba.sports.sina.com.cn/cba/team/show/6/\" target=\"_blank\">浙江</a><a href=\"http://cba.sports.sina.com.cn/cba/team/show/16/\" target=\"_blank\">广厦</a><a href=\"http://cba.sports.sina.com.cn/cba/team/show/4/\" target=\"_blank\">上海</a><a href=\"http://cba.sports.sina.com.cn/cba/team/show/7/\" target=\"_blank\">福建</a><a href=\"http://cba.sports.sina.com.cn/cba/team/show/9/\" target=\"_blank\">辽宁</a><a href=\"http://cba.sports.sina.com.cn/cba/team/show/11/\" target=\"_blank\">新疆</a><a href=\"http://cba.sports.sina.com.cn/cba/team/show/15/\" target=\"_blank\">山东</a><a href=\"http://cba.sports.sina.com.cn/cba/team/show/10/\" target=\"_blank\">北京</a><a href=\"http://cba.sports.sina.com.cn/cba/team/show/14/\" target=\"_blank\">山西</a><a href=\"http://cba.sports.sina.com.cn/cba/team/show/13/\" target=\"_blank\">广州</a><a href=\"http://cba.sports.sina.com.cn/cba/team/show/12/\" target=\"_blank\">吉林</a><a href=\"http://cba.sports.sina.com.cn/cba/team/show/113/\" target=\"_blank\">天津</a><a href=\"http://cba.sports.sina.com.cn/cba/team/show/114/\" target=\"_blank\">青岛</a><a href=\"http://cba.sports.sina.com.cn/cba/team/show/182/\" target=\"_blank\">四川</a><a href=\"http://cba.sports.sina.com.cn/cba/team/show/368/\" target=\"_blank\">同曦</a><a href=\"http://cba.sports.sina.com.cn/cba/team/show/369/\" target=\"_blank\">北控</a></p></div><!-- nav_sub end --><script type=\"text/javascript\">\\tvar current_nav=document.getElementById(\"schedule_show\");\\tif(current_nav){\\t\\tcurrent_nav.className=\\'nav_curr\\';\\t}\\t</script><!-- content begin --><div class=\"content clearfix\"><h2 class=\"blk_title title_pie\"><span>CBA联赛</span></h2><!-- compare start --><div class=\"part blk compare\"><p>时间：<span>2019-11-01\\xa019:35</span></p><div class=\"score_pad\"><a href=\"http://cba.sports.sina.com.cn/cba/team/show/1/\" target=\"_blank\"><img alt=\"广东\" src=\"http://www.sinaimg.cn/ty/2010/1209/U4865P6DT20101209183425.jpg\" title=\"广东\" width=\"134\"></img></a><div class=\"scores\"><div class=\"teams\" style=\"font-size:0;_letter-spacing:-2px\"><span class=\"team_name team_nameA\" style=\"font-size:15px\">广东</span><span style=\"font-size:15px\">第一节</span><span style=\"font-size:15px\">第二节</span><span style=\"font-size:15px\">第三节</span><span style=\"font-size:15px\">第四节</span><span style=\"font-size:15px\">加时一</span><span style=\"font-size:15px\">加时二</span><span style=\"font-size:15px\">加时三</span><span class=\"team_name team_nameB\" style=\"font-size:15px\">辽宁</span></div><div class=\"score_tab\"><div class=\"team_score team_scoreA\"><span>107</span></div><div><span>23</span><span>22</span></div><div><span>27</span><span>25</span></div><div><span>32</span><span>21</span></div><div><span>25</span><span>30</span></div><div><span>\\xa0</span><span>\\xa0</span></div><div><span>\\xa0</span><span>\\xa0</span></div><div><span>\\xa0</span><span>\\xa0</span></div><div class=\"team_score team_scoreB\"><span>98</span></div></div></div><a href=\"http://cba.sports.sina.com.cn/cba/team/show/9/\" target=\"_blank\"><img alt=\"辽宁\" src=\"http://www.sinaimg.cn/ty/2012/1122/U4996P6DT20121122161925.jpg\" title=\"辽宁\" width=\"134\"></img></a></div></div><!-- compare end --><!-- part01 start --><div class=\"part part01 blk\"><h2 class=\"blk_title title_line\"><span>广东</span>主教练：杜锋\\xa0领队：马永忠</h2><div class=\"blk_wrap\"><table><thead><tr class=\"even\"><th>球员</th><th>号码</th><th>出场时间</th><th>首发</th><th>2分中-投</th><th>3分中-投</th><th>罚球中-投</th><th>进攻篮板</th><th>防守篮板</th><th>助攻</th><th>犯规</th><th>抢断</th><th>失误</th><th>盖帽</th><th>扣篮</th><th>被侵</th><th>快攻</th><th>得分</th></tr></thead><tbody style=\"\"><tr class=\"odd\"><td><a href=\"http://cba.sports.sina.com.cn/cba/player/show/6849/\" target=\"_blank\">                            布鲁克斯                            </a></td><td>6</td><td>36</td><td>\\t\\t\\t\\t\\t\\t\\t是\\t\\t\\t\\t\\t\\t\\t</td><td>                            8-10                                                        (80%)                                                        </td><td>                            2-10                                                        (20%)                                                        </td><td>                            5-5                                                        (100%)                                                        </td><td>0</td><td>3</td><td>9</td><td>3</td><td>2</td><td>1</td><td>0</td><td>1</td><td>5</td><td><script type=\"text/javascript\">                                document.write(\"0/0\");                        </script></td><td><script type=\"text/javascript\">                        document.write(\"27\");                        </script></td></tr><tr class=\"even\"><td><a href=\"http://cba.sports.sina.com.cn/cba/player/show/1383/\" target=\"_blank\">                            任骏飞                            </a></td><td>20</td><td>30</td><td>\\t\\t\\t\\t\\t\\t\\t是\\t\\t\\t\\t\\t\\t\\t</td><td>                            5-8                                                        (63%)                                                        </td><td>                            3-6                                                        (50%)                                                        </td><td>                            0-0                                                        (0%)                                                        </td><td>1</td><td>1</td><td>1</td><td>3</td><td>3</td><td>0</td><td>0</td><td>1</td><td>1</td><td><script type=\"text/javascript\">                                document.write(\"0/0\");                        </script></td><td><script type=\"text/javascript\">                        document.write(\"19\");                        </script></td></tr><tr class=\"odd\"><td><a href=\"http://cba.sports.sina.com.cn/cba/player/show/3/\" target=\"_blank\">                            易建联                            </a></td><td>9</td><td>35</td><td>\\t\\t\\t\\t\\t\\t\\t是\\t\\t\\t\\t\\t\\t\\t</td><td>                            7-8                                                        (88%)                                                        </td><td>                            0-0                                                        (0%)                                                        </td><td>                            2-4                                                        (50%)                                                        </td><td>1</td><td>11</td><td>2</td><td>2</td><td>1</td><td>1</td><td>2</td><td>5</td><td>3</td><td><script type=\"text/javascript\">                                document.write(\"0/0\");                        </script></td><td><script type=\"text/javascript\">                        document.write(\"16\");                        </script></td></tr><tr class=\"even\"><td><a href=\"http://cba.sports.sina.com.cn/cba/player/show/4229/\" target=\"_blank\">                            赵睿                            </a></td><td>10</td><td>31</td><td>\\t\\t\\t\\t\\t\\t\\t是\\t\\t\\t\\t\\t\\t\\t</td><td>                            5-9                                                        (56%)                                                        </td><td>                            0-3                                                        (0%)                                                        </td><td>                            0-1                                                        (0%)                                                        </td><td>2</td><td>5</td><td>4</td><td>3</td><td>2</td><td>0</td><td>0</td><td>0</td><td>4</td><td><script type=\"text/javascript\">                                document.write(\"0/0\");                        </script></td><td><script type=\"text/javascript\">                        document.write(\"10\");                        </script></td></tr><tr class=\"odd\"><td><a href=\"http://cba.sports.sina.com.cn/cba/player/show/6971/\" target=\"_blank\">                            胡明轩                            </a></td><td>3</td><td>13</td><td>\\t\\t\\t\\t\\t\\t\\t是\\t\\t\\t\\t\\t\\t\\t</td><td>                            0-1                                                        (0%)                                                        </td><td>                            1-3                                                        (33%)                                                        </td><td>                            0-0                                                        (0%)                                                        </td><td>0</td><td>1</td><td>0</td><td>1</td><td>0</td><td>1</td><td>0</td><td>0</td><td>0</td><td><script type=\"text/javascript\">                                document.write(\"0/0\");                        </script></td><td><script type=\"text/javascript\">                        document.write(\"3\");                        </script></td></tr><tr class=\"even\"><td><a href=\"http://cba.sports.sina.com.cn/cba/player/show/7002/\" target=\"_blank\">                            威姆斯                            </a></td><td>13</td><td>31</td><td>\\t\\t\\t\\t\\t\\t\\t否\\t\\t\\t\\t\\t\\t\\t</td><td>                            5-9                                                        (56%)                                                        </td><td>                            1-5                                                        (20%)                                                        </td><td>                            1-2                                                        (50%)                                                        </td><td>0</td><td>7</td><td>3</td><td>2</td><td>1</td><td>3</td><td>0</td><td>0</td><td>3</td><td><script type=\"text/javascript\">                                document.write(\"0/0\");                        </script></td><td><script type=\"text/javascript\">                        document.write(\"14\");                        </script></td></tr><tr class=\"odd\"><td><a href=\"http://cba.sports.sina.com.cn/cba/player/show/7050/\" target=\"_blank\">                            杜润旺                            </a></td><td>18</td><td>14</td><td>\\t\\t\\t\\t\\t\\t\\t否\\t\\t\\t\\t\\t\\t\\t</td><td>                            2-2                                                        (100%)                                                        </td><td>                            0-2                                                        (0%)                                                        </td><td>                            2-2                                                        (100%)                                                        </td><td>2</td><td>0</td><td>0</td><td>4</td><td>0</td><td>4</td><td>0</td><td>0</td><td>1</td><td><script type=\"text/javascript\">                                document.write(\"0/0\");                        </script></td><td><script type=\"text/javascript\">                        document.write(\"6\");                        </script></td></tr><tr class=\"even\"><td><a href=\"http://cba.sports.sina.com.cn/cba/player/show/6942/\" target=\"_blank\">                            曾繁日                            </a></td><td>22</td><td>11</td><td>\\t\\t\\t\\t\\t\\t\\t否\\t\\t\\t\\t\\t\\t\\t</td><td>                            2-3                                                        (67%)                                                        </td><td>                            0-0                                                        (0%)                                                        </td><td>                            2-4                                                        (50%)                                                        </td><td>1</td><td>0</td><td>0</td><td>3</td><td>0</td><td>0</td><td>1</td><td>1</td><td>3</td><td><script type=\"text/javascript\">                                document.write(\"0/0\");                        </script></td><td><script type=\"text/javascript\">                        document.write(\"6\");                        </script></td></tr><tr class=\"odd\"><td><a href=\"http://cba.sports.sina.com.cn/cba/player/show/7047/\" target=\"_blank\">                            徐杰                            </a></td><td>2</td><td>20</td><td>\\t\\t\\t\\t\\t\\t\\t否\\t\\t\\t\\t\\t\\t\\t</td><td>                            0-1                                                        (0%)                                                        </td><td>                            1-3                                                        (33%)                                                        </td><td>                            2-2                                                        (100%)                                                        </td><td>0</td><td>0</td><td>1</td><td>2</td><td>2</td><td>0</td><td>0</td><td>0</td><td>3</td><td><script type=\"text/javascript\">                                document.write(\"0/0\");                        </script></td><td><script type=\"text/javascript\">                        document.write(\"5\");                        </script></td></tr><tr class=\"even\"><td><a href=\"http://cba.sports.sina.com.cn/cba/player/show/4856/\" target=\"_blank\">                            王薪凯                            </a></td><td>5</td><td>9</td><td>\\t\\t\\t\\t\\t\\t\\t否\\t\\t\\t\\t\\t\\t\\t</td><td>                            0-0                                                        (0%)                                                        </td><td>                            0-1                                                        (0%)                                                        </td><td>                            1-2                                                        (50%)                                                        </td><td>0</td><td>1</td><td>1</td><td>1</td><td>0</td><td>0</td><td>0</td><td>0</td><td>0</td><td><script type=\"text/javascript\">                                document.write(\"0/0\");                        </script></td><td><script type=\"text/javascript\">                        document.write(\"1\");                        </script></td></tr><tr class=\"odd\"><td><a href=\"http://cba.sports.sina.com.cn/cba/player/show/310/\" target=\"_blank\">                            周鹏                            </a></td><td>11</td><td>0</td><td>\\t\\t\\t\\t\\t\\t\\t否\\t\\t\\t\\t\\t\\t\\t</td><td>                            0-0                                                        (0%)                                                        </td><td>                            0-0                                                        (0%)                                                        </td><td>                            0-0                                                        (0%)                                                        </td><td>0</td><td>0</td><td>0</td><td>0</td><td>0</td><td>0</td><td>0</td><td>0</td><td>0</td><td><script type=\"text/javascript\">                                document.write(\"0/0\");                        </script></td><td><script type=\"text/javascript\">                        document.write(\"0\");                        </script></td></tr><tr class=\"even\"><td><a href=\"http://cba.sports.sina.com.cn/cba/player/show/7212/\" target=\"_blank\">                            李英博                            </a></td><td>17</td><td>0</td><td>\\t\\t\\t\\t\\t\\t\\t否\\t\\t\\t\\t\\t\\t\\t</td><td>                            0-0                                                        (0%)                                                        </td><td>                            0-0                                                        (0%)                                                        </td><td>                            0-0                                                        (0%)                                                        </td><td>0</td><td>0</td><td>0</td><td>0</td><td>0</td><td>0</td><td>0</td><td>0</td><td>0</td><td><script type=\"text/javascript\">                                document.write(\"0/0\");                        </script></td><td><script type=\"text/javascript\">                        document.write(\"0\");                        </script></td></tr><tr class=\"odd\"><td><a href=\"http://cba.sports.sina.com.cn/cba/player/show/7214/\" target=\"_blank\">                            刘旭乘                            </a></td><td>14</td><td>0</td><td>\\t\\t\\t\\t\\t\\t\\t否\\t\\t\\t\\t\\t\\t\\t</td><td>                            0-0                                                        (0%)                                                        </td><td>                            0-0                                                        (0%)                                                        </td><td>                            0-0                                                        (0%)                                                        </td><td>0</td><td>0</td><td>0</td><td>0</td><td>0</td><td>0</td><td>0</td><td>0</td><td>0</td><td><script type=\"text/javascript\">                                document.write(\"0/0\");                        </script></td><td><script type=\"text/javascript\">                        document.write(\"0\");                        </script></td></tr><tr class=\"even\"><td><a href=\"http://cba.sports.sina.com.cn/cba/player/show/5852/\" target=\"_blank\">                            万圣伟                            </a></td><td>51</td><td>0</td><td>\\t\\t\\t\\t\\t\\t\\t否\\t\\t\\t\\t\\t\\t\\t</td><td>                            0-0                                                        (0%)                                                        </td><td>                            0-0                                                        (0%)                                                        </td><td>                            0-0                                                        (0%)                                                        </td><td>0</td><td>0</td><td>0</td><td>0</td><td>0</td><td>0</td><td>0</td><td>0</td><td>0</td><td><script type=\"text/javascript\">                                document.write(\"0/0\");                        </script></td><td><script type=\"text/javascript\">                        document.write(\"0\");                        </script></td></tr><tr class=\"odd\"><td><a href=\"http://cba.sports.sina.com.cn/cba/player/show/315/\" target=\"_blank\">                            苏伟                            </a></td><td>12</td><td>3</td><td>\\t\\t\\t\\t\\t\\t\\t否\\t\\t\\t\\t\\t\\t\\t</td><td>                            0-0                                                        (0%)                                                        </td><td>                            0-0                                                        (0%)                                                        </td><td>                            0-0                                                        (0%)                                                        </td><td>1</td><td>1</td><td>0</td><td>2</td><td>0</td><td>1</td><td>0</td><td>0</td><td>0</td><td><script type=\"text/javascript\">                                document.write(\"0/0\");                        </script></td><td><script type=\"text/javascript\">                        document.write(\"0\");                        </script></td></tr><tr class=\"even\"><td><a href=\"http://cba.sports.sina.com.cn/cba/player/show/7211/\" target=\"_blank\">                            方渭博                            </a></td><td>1</td><td>0</td><td>\\t\\t\\t\\t\\t\\t\\t否\\t\\t\\t\\t\\t\\t\\t</td><td>                            0-0                                                        (0%)                                                        </td><td>                            0-0                                                        (0%)                                                        </td><td>                            0-0                                                        (0%)                                                        </td><td>0</td><td>0</td><td>0</td><td>0</td><td>0</td><td>0</td><td>0</td><td>0</td><td>0</td><td><script type=\"text/javascript\">                                document.write(\"0/0\");                        </script></td><td><script type=\"text/javascript\">                        document.write(\"0\");                        </script></td></tr><tr class=\"odd\"><td><a href=\"http://cba.sports.sina.com.cn/cba/player/show/7213/\" target=\"_blank\">                            刘权标                            </a></td><td>0</td><td>0</td><td>\\t\\t\\t\\t\\t\\t\\t否\\t\\t\\t\\t\\t\\t\\t</td><td>                            0-0                                                        (0%)                                                        </td><td>                            0-0                                                        (0%)                                                        </td><td>                            0-0                                                        (0%)                                                        </td><td>0</td><td>0</td><td>0</td><td>0</td><td>0</td><td>0</td><td>0</td><td>0</td><td>0</td><td><script type=\"text/javascript\">                                document.write(\"0/0\");                        </script></td><td><script type=\"text/javascript\">                        document.write(\"0\");                        </script></td></tr><tr class=\"even\"><td>广东</td><td>--</td><td>--</td><td>                            --                            </td><td>                            34-51                                                        (67%)                                                        </td><td>                            8-33                                                        (24%)                                                        </td><td>                            15-22                                                        (68%)                                                        </td><td>8</td><td>30</td><td>21</td><td>26</td><td>11</td><td>11</td><td>3</td><td>8</td><td>23</td><td>0/0</td><td>107</td></tr></tbody></table></div></div><!-- part01 end --><!-- part02 start --><div class=\"part part02 blk\"><h2 class=\"blk_title title_line\"><span>辽宁</span>主教练：郭士强\\xa0领队：李洪庆</h2><div class=\"blk_wrap\"><table><thead><tr class=\"even\"><th>球员</th><th>号码</th><th>出场时间</th><th>首发</th><th>2分中-投</th><th>3分中-投</th><th>罚球中-投</th><th>进攻篮板</th><th>防守篮板</th><th>助攻</th><th>犯规</th><th>抢断</th><th>失误</th><th>盖帽</th><th>扣篮</th><th>被侵</th><th>快攻</th><th>得分</th></tr></thead><tbody style=\"\"><tr class=\"odd\"><td><a href=\"http://cba.sports.sina.com.cn/cba/player/show/6995/\" target=\"_blank\">                            巴斯                            </a></td><td>30</td><td>30</td><td>\\t\\t\\t\\t\\t\\t\\t是\\t\\t\\t\\t\\t\\t\\t</td><td>                            5-15                                                        (33%)                                                        </td><td>                            0-0                                                        (0%)                                                        </td><td>                            10-11                                                        (91%)                                                        </td><td>3</td><td>9</td><td>1</td><td>2</td><td>1</td><td>0</td><td>2</td><td>2</td><td>10</td><td>0/0</td><td>20</td></tr><tr class=\"even\"><td><a href=\"http://cba.sports.sina.com.cn/cba/player/show/1457/\" target=\"_blank\">                            郭艾伦                            </a></td><td>13</td><td>30</td><td>\\t\\t\\t\\t\\t\\t\\t是\\t\\t\\t\\t\\t\\t\\t</td><td>                            4-8                                                        (50%)                                                        </td><td>                            0-2                                                        (0%)                                                        </td><td>                            4-4                                                        (100%)                                                        </td><td>0</td><td>4</td><td>5</td><td>4</td><td>0</td><td>6</td><td>0</td><td>0</td><td>2</td><td>0/0</td><td>12</td></tr><tr class=\"odd\"><td><a href=\"http://cba.sports.sina.com.cn/cba/player/show/619/\" target=\"_blank\">                            韩德君                            </a></td><td>55</td><td>24</td><td>\\t\\t\\t\\t\\t\\t\\t是\\t\\t\\t\\t\\t\\t\\t</td><td>                            4-6                                                        (67%)                                                        </td><td>                            0-0                                                        (0%)                                                        </td><td>                            2-3                                                        (67%)                                                        </td><td>3</td><td>6</td><td>0</td><td>4</td><td>0</td><td>2</td><td>1</td><td>0</td><td>2</td><td>0/0</td><td>10</td></tr><tr class=\"even\"><td><a href=\"http://cba.sports.sina.com.cn/cba/player/show/1744/\" target=\"_blank\">                            刘志轩                            </a></td><td>11</td><td>16</td><td>\\t\\t\\t\\t\\t\\t\\t是\\t\\t\\t\\t\\t\\t\\t</td><td>                            1-1                                                        (100%)                                                        </td><td>                            1-1                                                        (100%)                                                        </td><td>                            0-0                                                        (0%)                                                        </td><td>1</td><td>1</td><td>0</td><td>3</td><td>0</td><td>1</td><td>0</td><td>0</td><td>1</td><td>0/0</td><td>5</td></tr><tr class=\"odd\"><td><a href=\"http://cba.sports.sina.com.cn/cba/player/show/4017/\" target=\"_blank\">                            赵继伟                            </a></td><td>3</td><td>33</td><td>\\t\\t\\t\\t\\t\\t\\t是\\t\\t\\t\\t\\t\\t\\t</td><td>                            1-2                                                        (50%)                                                        </td><td>                            0-3                                                        (0%)                                                        </td><td>                            2-2                                                        (100%)                                                        </td><td>0</td><td>3</td><td>1</td><td>2</td><td>2</td><td>0</td><td>0</td><td>0</td><td>2</td><td>0/0</td><td>4</td></tr><tr class=\"even\"><td><a href=\"http://cba.sports.sina.com.cn/cba/player/show/7190/\" target=\"_blank\">                            史蒂芬森                            </a></td><td>1</td><td>41</td><td>\\t\\t\\t\\t\\t\\t\\t否\\t\\t\\t\\t\\t\\t\\t</td><td>                            10-17                                                        (59%)                                                        </td><td>                            3-11                                                        (27%)                                                        </td><td>                            5-7                                                        (71%)                                                        </td><td>1</td><td>2</td><td>3</td><td>2</td><td>2</td><td>3</td><td>0</td><td>1</td><td>6</td><td>0/0</td><td>34</td></tr><tr class=\"odd\"><td><a href=\"http://cba.sports.sina.com.cn/cba/player/show/4850/\" target=\"_blank\">                            丛明晨                            </a></td><td>10</td><td>12</td><td>\\t\\t\\t\\t\\t\\t\\t否\\t\\t\\t\\t\\t\\t\\t</td><td>                            0-0                                                        (0%)                                                        </td><td>                            2-2                                                        (100%)                                                        </td><td>                            0-0                                                        (0%)                                                        </td><td>1</td><td>2</td><td>0</td><td>1</td><td>0</td><td>0</td><td>0</td><td>0</td><td>0</td><td>0/0</td><td>6</td></tr><tr class=\"even\"><td><a href=\"http://cba.sports.sina.com.cn/cba/player/show/145/\" target=\"_blank\">                            李晓旭                            </a></td><td>22</td><td>28</td><td>\\t\\t\\t\\t\\t\\t\\t否\\t\\t\\t\\t\\t\\t\\t</td><td>                            3-8                                                        (38%)                                                        </td><td>                            0-0                                                        (0%)                                                        </td><td>                            0-0                                                        (0%)                                                        </td><td>2</td><td>2</td><td>2</td><td>0</td><td>1</td><td>0</td><td>1</td><td>0</td><td>2</td><td>0/0</td><td>6</td></tr><tr class=\"odd\"><td><a href=\"http://cba.sports.sina.com.cn/cba/player/show/1440/\" target=\"_blank\">                            贺天举                            </a></td><td>6</td><td>12</td><td>\\t\\t\\t\\t\\t\\t\\t否\\t\\t\\t\\t\\t\\t\\t</td><td>                            0-0                                                        (0%)                                                        </td><td>                            0-2                                                        (0%)                                                        </td><td>                            1-2                                                        (50%)                                                        </td><td>2</td><td>0</td><td>0</td><td>2</td><td>0</td><td>1</td><td>0</td><td>0</td><td>1</td><td>0/0</td><td>1</td></tr><tr class=\"even\"><td><a href=\"http://cba.sports.sina.com.cn/cba/player/show/7128/\" target=\"_blank\">                            刘雁宇                            </a></td><td>17</td><td>0</td><td>\\t\\t\\t\\t\\t\\t\\t否\\t\\t\\t\\t\\t\\t\\t</td><td>                            0-0                                                        (0%)                                                        </td><td>                            0-0                                                        (0%)                                                        </td><td>                            0-0                                                        (0%)                                                        </td><td>0</td><td>0</td><td>0</td><td>0</td><td>0</td><td>0</td><td>0</td><td>0</td><td>0</td><td>0/0</td><td>0</td></tr><tr class=\"odd\"><td><a href=\"http://cba.sports.sina.com.cn/cba/player/show/6831/\" target=\"_blank\">                            郭旭                            </a></td><td>15</td><td>0</td><td>\\t\\t\\t\\t\\t\\t\\t否\\t\\t\\t\\t\\t\\t\\t</td><td>                            0-0                                                        (0%)                                                        </td><td>                            0-0                                                        (0%)                                                        </td><td>                            0-0                                                        (0%)                                                        </td><td>0</td><td>0</td><td>0</td><td>0</td><td>0</td><td>0</td><td>0</td><td>0</td><td>0</td><td>0/0</td><td>0</td></tr><tr class=\"even\"><td><a href=\"http://cba.sports.sina.com.cn/cba/player/show/6948/\" target=\"_blank\">                            孙锴祺                            </a></td><td>18</td><td>0</td><td>\\t\\t\\t\\t\\t\\t\\t否\\t\\t\\t\\t\\t\\t\\t</td><td>                            0-0                                                        (0%)                                                        </td><td>                            0-0                                                        (0%)                                                        </td><td>                            0-0                                                        (0%)                                                        </td><td>0</td><td>0</td><td>0</td><td>0</td><td>0</td><td>0</td><td>0</td><td>0</td><td>0</td><td>0/0</td><td>0</td></tr><tr class=\"odd\"><td><a href=\"http://cba.sports.sina.com.cn/cba/player/show/7127/\" target=\"_blank\">                            王化东                            </a></td><td>32</td><td>0</td><td>\\t\\t\\t\\t\\t\\t\\t否\\t\\t\\t\\t\\t\\t\\t</td><td>                            0-0                                                        (0%)                                                        </td><td>                            0-0                                                        (0%)                                                        </td><td>                            0-0                                                        (0%)                                                        </td><td>0</td><td>0</td><td>0</td><td>0</td><td>0</td><td>0</td><td>0</td><td>0</td><td>0</td><td>0/0</td><td>0</td></tr><tr class=\"even\"><td><a href=\"http://cba.sports.sina.com.cn/cba/player/show/6830/\" target=\"_blank\">                            高诗岩                            </a></td><td>0</td><td>9</td><td>\\t\\t\\t\\t\\t\\t\\t否\\t\\t\\t\\t\\t\\t\\t</td><td>                            0-1                                                        (0%)                                                        </td><td>                            0-1                                                        (0%)                                                        </td><td>                            0-0                                                        (0%)                                                        </td><td>0</td><td>1</td><td>0</td><td>3</td><td>1</td><td>0</td><td>0</td><td>0</td><td>0</td><td>0/0</td><td>0</td></tr><tr class=\"odd\"><td><a href=\"http://cba.sports.sina.com.cn/cba/player/show/7063/\" target=\"_blank\">                            卢梓杰                            </a></td><td>28</td><td>0</td><td>\\t\\t\\t\\t\\t\\t\\t否\\t\\t\\t\\t\\t\\t\\t</td><td>                            0-0                                                        (0%)                                                        </td><td>                            0-0                                                        (0%)                                                        </td><td>                            0-0                                                        (0%)                                                        </td><td>0</td><td>0</td><td>0</td><td>0</td><td>0</td><td>0</td><td>0</td><td>0</td><td>0</td><td>0/0</td><td>0</td></tr><tr class=\"even\"><td><a href=\"http://cba.sports.sina.com.cn/cba/player/show/4531/\" target=\"_blank\">                            马壮                            </a></td><td>8</td><td>0</td><td>\\t\\t\\t\\t\\t\\t\\t否\\t\\t\\t\\t\\t\\t\\t</td><td>                            0-0                                                        (0%)                                                        </td><td>                            0-0                                                        (0%)                                                        </td><td>                            0-0                                                        (0%)                                                        </td><td>0</td><td>0</td><td>0</td><td>0</td><td>0</td><td>0</td><td>0</td><td>0</td><td>0</td><td>0/0</td><td>0</td></tr><tr class=\"odd\"><td><a href=\"http://cba.sports.sina.com.cn/cba/player/show/7043/\" target=\"_blank\">                            鄢手骐                            </a></td><td>36</td><td>0</td><td>\\t\\t\\t\\t\\t\\t\\t否\\t\\t\\t\\t\\t\\t\\t</td><td>                            0-0                                                        (0%)                                                        </td><td>                            0-0                                                        (0%)                                                        </td><td>                            0-0                                                        (0%)                                                        </td><td>0</td><td>0</td><td>0</td><td>0</td><td>0</td><td>0</td><td>0</td><td>0</td><td>0</td><td>0/0</td><td>0</td></tr><tr class=\"even\"><td>辽宁</td><td>--</td><td>--</td><td>--</td><td>                            28-58                                                        (48%)                                                        </td><td>                            6-22                                                        (27%)                                                        </td><td>                            24-29                                                        (83%)                                                        </td><td>13</td><td>30</td><td>12</td><td>23</td><td>7</td><td>13</td><td>4</td><td>3</td><td>26</td><td>0/0</td><td>98</td></tr></tbody></table></div></div><!-- part02 end --><!-- part03 start --><div class=\"part part03 blk\"><h2 class=\"blk_title title_medal\"><span>各项最高</span></h2><div class=\"blk_wrap blk03_wrap\"><table><thead><tr class=\"even\"><th class=\"first\">球队</th><th colspan=\"2\">得分</th><th colspan=\"2\">篮板</th><th colspan=\"2\">助攻</th><th colspan=\"2\">抢断</th><th colspan=\"2\">三分</th><th colspan=\"2\">盖帽</th><th colspan=\"2\">扣篮</th></tr></thead><tbody style=\"\"><tr class=\"odd\"><td>广东</td><td><a href=\"http://cba.sports.sina.com.cn/cba/player/show/6849/\" target=\"_blank\">\\t\\t\\t\\t\\t\\t\\t布鲁克斯\\t\\t\\t\\t\\t\\t\\t</a></td><td class=\"num\">27</td><td><a href=\"http://cba.sports.sina.com.cn/cba/player/show/3/\" target=\"_blank\">\\t\\t\\t\\t\\t\\t\\t易建联\\t\\t\\t\\t\\t\\t\\t</a></td><td class=\"num\">12</td><td><a href=\"http://cba.sports.sina.com.cn/cba/player/show/6849/\" target=\"_blank\">\\t\\t\\t\\t\\t\\t\\t布鲁克斯\\t\\t\\t\\t\\t\\t\\t</a></td><td class=\"num\">9</td><td><a href=\"http://cba.sports.sina.com.cn/cba/player/show/1383/\" target=\"_blank\">\\t\\t\\t\\t\\t\\t\\t任骏飞\\t\\t\\t\\t\\t\\t\\t</a></td><td class=\"num\">3</td><td><a href=\"http://cba.sports.sina.com.cn/cba/player/show/1383/\" target=\"_blank\">\\t\\t\\t\\t\\t\\t\\t任骏飞\\t\\t\\t\\t\\t\\t\\t</a></td><td class=\"num\">3</td><td><a href=\"http://cba.sports.sina.com.cn/cba/player/show/3/\" target=\"_blank\">\\t\\t\\t\\t\\t\\t\\t易建联\\t\\t\\t\\t\\t\\t\\t</a></td><td class=\"num\">2</td><td><a href=\"http://cba.sports.sina.com.cn/cba/player/show/3/\" target=\"_blank\">\\t\\t\\t\\t\\t\\t\\t易建联\\t\\t\\t\\t\\t\\t\\t</a></td><td class=\"num\">5</td></tr><tr class=\"even\"><td>辽宁</td><td><a href=\"http://cba.sports.sina.com.cn/cba/player/show/7190/\" target=\"_blank\">\\t\\t\\t\\t\\t\\t\\t史蒂芬森\\t\\t\\t\\t\\t\\t\\t</a></td><td class=\"num\">34</td><td><a href=\"http://cba.sports.sina.com.cn/cba/player/show/6995/\" target=\"_blank\">\\t\\t\\t\\t\\t\\t\\t巴斯\\t\\t\\t\\t\\t\\t\\t</a></td><td class=\"num\">12</td><td><a href=\"http://cba.sports.sina.com.cn/cba/player/show/1457/\" target=\"_blank\">\\t\\t\\t\\t\\t\\t\\t郭艾伦\\t\\t\\t\\t\\t\\t\\t</a></td><td class=\"num\">5</td><td><a href=\"http://cba.sports.sina.com.cn/cba/player/show/7190/\" target=\"_blank\">\\t\\t\\t\\t\\t\\t\\t史蒂芬森\\t\\t\\t\\t\\t\\t\\t</a></td><td class=\"num\">2</td><td><a href=\"http://cba.sports.sina.com.cn/cba/player/show/7190/\" target=\"_blank\">\\t\\t\\t\\t\\t\\t\\t史蒂芬森\\t\\t\\t\\t\\t\\t\\t</a></td><td class=\"num\">3</td><td><a href=\"http://cba.sports.sina.com.cn/cba/player/show/6995/\" target=\"_blank\">\\t\\t\\t\\t\\t\\t\\t巴斯\\t\\t\\t\\t\\t\\t\\t</a></td><td class=\"num\">2</td><td><a href=\"http://cba.sports.sina.com.cn/cba/player/show/6995/\" target=\"_blank\">\\t\\t\\t\\t\\t\\t\\t巴斯\\t\\t\\t\\t\\t\\t\\t</a></td><td class=\"num\">2</td></tr></tbody></table></div></div><!-- part03 end --></div><!-- content end --><!-- footer start --><!-- footer end --></div><!-- wrap end --><!-- back to top start --><!-- footer start --><div id=\"footer\"><a href=\"http://sports.sina.com.cn/guest.html\" target=\"_blank\">竞技风暴意见反馈留言板</a> <a href=\"mailto:sports2009@vip.sina.com\" target=\"_blank\">投稿信箱</a> 客服热线：4006900000 欢迎批评指正        <br/><a href=\"http://corp.sina.com.cn/chn/\">新浪简介</a> | <a href=\"http://corp.sina.com.cn/eng/\">About Sina</a> | <a href=\"http://emarketing.sina.com.cn/\">广告服务</a> | <a href=\"http://www.sina.com.cn/contactus.html\">联系我们</a> | <a href=\"http://corp.sina.com.cn/chn/sina_job.html\">招聘信息</a> | <a href=\"http://www.sina.com.cn/intro/lawfirm.shtml\">网站律师</a> | <a href=\"http://english.sina.com\">SINA English</a> | <a href=\"https://login.sina.com.cn/signup/signup.php\">通行证注册</a> | <a href=\"http://tech.sina.com.cn/focus/sinahelp.shtml\">产品答疑</a><br/>        Copyright © 1996-2020 SINA Corporation, All Rights Reserved        <br/>        新浪公司 <a href=\"http://www.sina.com.cn/intro/copyright.shtml\">版权所有</a><br/></div><!-- footer end --><!-- back to top start --><div id=\"wrap_back_to_top\"><a href=\"javascript:void(0);\" id=\"back_to_top\" onclick=\"gotop();return false;\"></a><script type=\"text/javascript\">        window.onscroll=function(){           var st = document.documentElement.scrollTop || window.pageYOffset || document.body.scrollTop;           if(st>0)document.getElementById(\"back_to_top\").style.visibility=\"visible\";           else if(st==0)document.getElementById(\"back_to_top\").style.visibility=\"hidden\";        }        function gotop(){           document.documentElement.scrollTop = 0;           document.body.scrollTop = 0;        }    </script></div><!-- back to top end --><!-- share to weibo start --><div class=\"weibo_btn\" id=\"weibo_btn\"><a class=\"wt_link\" href=\"javascript:(function(){window.open(\\'http://service.t.sina.com.cn/share/share.php?url=\\'+encodeURIComponent(location.href)+\\'&amp;title=\\'+encodeURIComponent(\\'欢迎关注新浪中国篮球数据库，联赛、国家队一网打尽。\\')+\\'&amp;ralateUid=&amp;searchPic=true\\',\\'_blank\\',\\'width=615,height=505\\');})()\" title=\"分享到微博\">分享到微博</a></div><!-- share to weibo end --><!-- SUDA_CODE_START --><script src=\"http://www.sinaimg.cn/unipro/pub/suda_s_v851c.js\" type=\"text/javascript\"></script><script type=\"text/javascript\">_S_pSt(_S_PID_);</script><noscript><div style=\"position:absolute;top:0;left:0;width:0;height:0;visibility:hidden\"><img alt=\"\" border=\"0\" height=\"0\" src=\"http://beacon.sina.com.cn/a.gif?noScript\" width=\"0\"/></div></noscript><!-- SUDA_CODE_END --><!-- baidu code begin --><script>var _hmt = _hmt || [];(function() {  var hm = document.createElement(\"script\");  hm.src = \"//hm.baidu.com/hm.js?35ddcac55ce8155015e5c5e313883b68\";  var s = document.getElementsByTagName(\"script\")[0];  s.parentNode.insertBefore(hm, s);})();</script><!-- baidu code end --><!-- DMP_CODE_START DAGGER --><script type=\"text/javascript\">(function(d, s, id) {    var n = d.getElementsByTagName(s)[0];    if (d.getElementById(id)) return;    s = d.createElement(s);    s.id = id;    s.setAttribute(\\'charset\\', \\'utf-8\\');    s.src = \\'//d\\' + Math.floor(0 + Math.random() * (8 - 0 + 1)) + \\'.sina.com.cn/litong/zhitou/sinaads/src/spec/sinaads_ck.js\\';    n.parentNode.insertBefore(s, n);})(document, \\'script\\', \\'sinaads-ck-script\\');</script><!-- DMP_CODE_END DAGGER --></body></html>'"
     },
     "metadata": {},
     "output_type": "execute_result",
     "execution_count": 22
    }
   ],
   "source": [
    "page_content_str = get_page_content(r'http://cba.sports.sina.com.cn/cba/schedule/show/18381/'\n",
    "                                    ,encoding='GB2312')\n",
    "page_content_str"
   ]
  },
  {
   "cell_type": "markdown",
   "metadata": {},
   "source": [
    "###  每节比分对比"
   ]
  },
  {
   "cell_type": "code",
   "execution_count": 23,
   "metadata": {
    "pycharm": {
     "is_executing": false
    }
   },
   "outputs": [
    {
     "name": "stdout",
     "text": [
      "广东 107\n",
      "辽宁 98\n"
     ],
     "output_type": "stream"
    }
   ],
   "source": [
    "hometeam_name = re.findall('<span class=\"team_name team_nameA\" style=\"font-size:15px\">(.*?)</span>'\n",
    "                            ,page_content_str)[0]\n",
    "awayteam_name = re.findall('<span class=\"team_name team_nameB\" style=\"font-size:15px\">(.*?)</span>'\n",
    "                            ,page_content_str)[0]\n",
    "hometeam_score = re.findall('<div class=\"team_score team_scoreA\"><span>(\\d*?)</span></div>',page_content_str)[0]\n",
    "awayteam_score = re.findall('<div class=\"team_score team_scoreB\"><span>(\\d*?)</span></div>',page_content_str)[0]\n",
    "print(hometeam_name,hometeam_score)\n",
    "print(awayteam_name,awayteam_score)"
   ]
  },
  {
   "cell_type": "code",
   "execution_count": 24,
   "metadata": {
    "pycharm": {
     "is_executing": false
    }
   },
   "outputs": [
    {
     "data": {
      "text/plain": "['第一节', '第二节', '第三节', '第四节', '加时一', '加时二', '加时三']"
     },
     "metadata": {},
     "output_type": "execute_result",
     "execution_count": 24
    }
   ],
   "source": [
    "# <div class=\"score_pad\"><div class=\"scores\"></div>\n",
    "pts_qt_headers = re.findall('<div class=\"scores\">(.*?)<div class=\"score_tab\">',page_content_str)\n",
    "pts_qt_headers_str = pts_qt_headers[0]\n",
    "\n",
    "pts_qt_headers_lst = re.findall('<span.*?>(.*?)</span>',pts_qt_headers_str)\n",
    "pts_qt_headers_lst = pts_qt_headers_lst[1:-1]\n",
    "pts_qt_headers_lst"
   ]
  },
  {
   "cell_type": "code",
   "execution_count": 25,
   "metadata": {
    "pycharm": {
     "is_executing": false
    }
   },
   "outputs": [],
   "source": [
    "# <div class=\"score_pad\"><div class=\"scores\"></div>\n",
    "pts_qt_pts = re.findall('<div class=\"team_score team_scoreA\">.*?</div>(.*?)<div class=\"team_score team_scoreB\">'\n",
    "                        ,page_content_str)\n",
    "pts_qt_pts_str = pts_qt_pts[0]\n",
    "pts_qt_pts_str = pts_qt_pts_str.replace('\\xa0','')\n",
    "pts_qt_pts_lst = re.findall('<span.*?>(.*?)</span>',pts_qt_pts_str)\n",
    "pts_qt_pts_lst = [int(x) if x else None for x in pts_qt_pts_lst]"
   ]
  },
  {
   "cell_type": "code",
   "execution_count": 26,
   "metadata": {
    "scrolled": true,
    "pycharm": {
     "is_executing": false
    }
   },
   "outputs": [
    {
     "name": "stdout",
     "text": [
      "广东 107 [23, 27, 32, 25, None, None, None]\n",
      "辽宁 98 [22, 25, 21, 30, None, None, None]\n"
     ],
     "output_type": "stream"
    }
   ],
   "source": [
    "hometeam_pts_qtr = pts_qt_pts_lst[0::2]\n",
    "awayteam_pts_qtr = pts_qt_pts_lst[1::2]\n",
    "\n",
    "print(hometeam_name,hometeam_score,hometeam_pts_qtr)\n",
    "print(awayteam_name,awayteam_score,awayteam_pts_qtr)"
   ]
  },
  {
   "cell_type": "markdown",
   "metadata": {},
   "source": [
    "###  主队统计数据"
   ]
  },
  {
   "cell_type": "markdown",
   "metadata": {},
   "source": [
    "### Todo:\n",
    "* 从game_schedule表内加上队伍名称，比赛ID\n",
    "* save as json?? df_schedule_full[:3].to_json(force_ascii=False,orient='index')"
   ]
  },
  {
   "cell_type": "code",
   "execution_count": 27,
   "metadata": {
    "pycharm": {
     "is_executing": false
    }
   },
   "outputs": [],
   "source": [
    "def get_team_details(page_content_str,re_pattern):\n",
    "    team_details = re.findall(re_pattern,page_content_str)[0]\n",
    "    return team_details\n",
    "\n",
    "def get_table_coach(team_details):\n",
    "    coach = re.findall('主教练：(.*?)领队',team_details)[0].replace('\\xa0','')\n",
    "    return coach\n",
    "\n",
    "def get_table_lingdui(team_details):\n",
    "    lingdui = re.findall('领队：(.*?)<',team_details)[0].replace('\\xa0','')\n",
    "    return lingdui\n",
    "\n",
    "def get_table_headers(team_details):\n",
    "    team_table_str = re.findall('<table>(.*?)</table>',team_details)[0]\n",
    "    team_table_header_str = re.findall('<thead>(.*?)</thead>',team_table_str)[0]\n",
    "    team_table_header_lst = re.findall('<th>(.*?)</th>',team_table_header_str)\n",
    "    return team_table_header_lst\n",
    "\n",
    "def clean_cells(cell_data):\n",
    "    if '<a' in cell_data:\n",
    "        cell_data = re.findall('<a.*?>(.*?)</a>',cell_data)[0]\n",
    "    if 'document.write' in cell_data:\n",
    "        try:\n",
    "            cell_data = re.findall('[(]\"(\\d*)\"[)]',cell_data)[0]\n",
    "        except IndexError:\n",
    "            cell_data = re.findall('[(]\"(\\d*/\\d)\"[)]',cell_data)[0]\n",
    "    cell_data = re.sub('\\s','', cell_data)\n",
    "    cell_data = re.sub('是','1', cell_data)\n",
    "    cell_data = re.sub('否','0', cell_data)\n",
    "    return cell_data\n",
    "\n",
    "def get_table_cells(team_details,headers_count):\n",
    "    team_table_str = re.findall('<table>(.*?)</table>',team_details)[0]\n",
    "    team_table_cells_str = re.findall('<tbody style=\"\">(.*?)</tbody>',team_table_str)[0]\n",
    "    team_table_cells_lst = re.findall('<td>(.*?)</td>',team_table_cells_str)\n",
    "    team_table_cells_lst = list(map(clean_cells,team_table_cells_lst))\n",
    "    team_table_cells_lst = np.reshape(team_table_cells_lst,(-1,headers_count)).tolist()\n",
    "    return team_table_cells_lst"
   ]
  },
  {
   "cell_type": "code",
   "execution_count": 28,
   "metadata": {
    "pycharm": {
     "is_executing": false
    }
   },
   "outputs": [],
   "source": [
    "def get_hometeam_stats(page_content_str,re_pattern=\n",
    "                       '<div class=\"part part01 blk\">(.*?)<div class=\"part part02 blk\">'):\n",
    "    hometeam_details = get_team_details(page_content_str,re_pattern)\n",
    "\n",
    "    hometeam_coach = get_table_coach(hometeam_details)\n",
    "    hometeam_lingdui = get_table_lingdui(hometeam_details)\n",
    "    \n",
    "    hometeam_table_header_lst = get_table_headers(hometeam_details)\n",
    "    hometeam_table_cells_lst = get_table_cells(hometeam_details,len(hometeam_table_header_lst))\n",
    "\n",
    "    df_hometeam_details = pd.DataFrame(data = hometeam_table_cells_lst,columns=hometeam_table_header_lst)\n",
    "    return df_hometeam_details"
   ]
  },
  {
   "cell_type": "code",
   "execution_count": 29,
   "metadata": {
    "scrolled": true,
    "pycharm": {
     "is_executing": false
    }
   },
   "outputs": [
    {
     "data": {
      "text/plain": "      球员  号码 出场时间  首发       2分中-投      3分中-投       罚球中-投 进攻篮板 防守篮板  助攻  犯规  \\\n0   布鲁克斯   6   36   1   8-10(80%)  2-10(20%)   5-5(100%)    0    3   9   3   \n1    任骏飞  20   30   1    5-8(63%)   3-6(50%)     0-0(0%)    1    1   1   3   \n2    易建联   9   35   1    7-8(88%)    0-0(0%)    2-4(50%)    1   11   2   2   \n3     赵睿  10   31   1    5-9(56%)    0-3(0%)     0-1(0%)    2    5   4   3   \n4    胡明轩   3   13   1     0-1(0%)   1-3(33%)     0-0(0%)    0    1   0   1   \n5    威姆斯  13   31   0    5-9(56%)   1-5(20%)    1-2(50%)    0    7   3   2   \n6    杜润旺  18   14   0   2-2(100%)    0-2(0%)   2-2(100%)    2    0   0   4   \n7    曾繁日  22   11   0    2-3(67%)    0-0(0%)    2-4(50%)    1    0   0   3   \n8     徐杰   2   20   0     0-1(0%)   1-3(33%)   2-2(100%)    0    0   1   2   \n9    王薪凯   5    9   0     0-0(0%)    0-1(0%)    1-2(50%)    0    1   1   1   \n10    周鹏  11    0   0     0-0(0%)    0-0(0%)     0-0(0%)    0    0   0   0   \n11   李英博  17    0   0     0-0(0%)    0-0(0%)     0-0(0%)    0    0   0   0   \n12   刘旭乘  14    0   0     0-0(0%)    0-0(0%)     0-0(0%)    0    0   0   0   \n13   万圣伟  51    0   0     0-0(0%)    0-0(0%)     0-0(0%)    0    0   0   0   \n14    苏伟  12    3   0     0-0(0%)    0-0(0%)     0-0(0%)    1    1   0   2   \n15   方渭博   1    0   0     0-0(0%)    0-0(0%)     0-0(0%)    0    0   0   0   \n16   刘权标   0    0   0     0-0(0%)    0-0(0%)     0-0(0%)    0    0   0   0   \n17    广东  --   --  --  34-51(67%)  8-33(24%)  15-22(68%)    8   30  21  26   \n\n    抢断  失误 盖帽 扣篮  被侵   快攻   得分  \n0    2   1  0  1   5  0/0   27  \n1    3   0  0  1   1  0/0   19  \n2    1   1  2  5   3  0/0   16  \n3    2   0  0  0   4  0/0   10  \n4    0   1  0  0   0  0/0    3  \n5    1   3  0  0   3  0/0   14  \n6    0   4  0  0   1  0/0    6  \n7    0   0  1  1   3  0/0    6  \n8    2   0  0  0   3  0/0    5  \n9    0   0  0  0   0  0/0    1  \n10   0   0  0  0   0  0/0    0  \n11   0   0  0  0   0  0/0    0  \n12   0   0  0  0   0  0/0    0  \n13   0   0  0  0   0  0/0    0  \n14   0   1  0  0   0  0/0    0  \n15   0   0  0  0   0  0/0    0  \n16   0   0  0  0   0  0/0    0  \n17  11  11  3  8  23  0/0  107  ",
      "text/html": "<div>\n<style scoped>\n    .dataframe tbody tr th:only-of-type {\n        vertical-align: middle;\n    }\n\n    .dataframe tbody tr th {\n        vertical-align: top;\n    }\n\n    .dataframe thead th {\n        text-align: right;\n    }\n</style>\n<table border=\"1\" class=\"dataframe\">\n  <thead>\n    <tr style=\"text-align: right;\">\n      <th></th>\n      <th>球员</th>\n      <th>号码</th>\n      <th>出场时间</th>\n      <th>首发</th>\n      <th>2分中-投</th>\n      <th>3分中-投</th>\n      <th>罚球中-投</th>\n      <th>进攻篮板</th>\n      <th>防守篮板</th>\n      <th>助攻</th>\n      <th>犯规</th>\n      <th>抢断</th>\n      <th>失误</th>\n      <th>盖帽</th>\n      <th>扣篮</th>\n      <th>被侵</th>\n      <th>快攻</th>\n      <th>得分</th>\n    </tr>\n  </thead>\n  <tbody>\n    <tr>\n      <th>0</th>\n      <td>布鲁克斯</td>\n      <td>6</td>\n      <td>36</td>\n      <td>1</td>\n      <td>8-10(80%)</td>\n      <td>2-10(20%)</td>\n      <td>5-5(100%)</td>\n      <td>0</td>\n      <td>3</td>\n      <td>9</td>\n      <td>3</td>\n      <td>2</td>\n      <td>1</td>\n      <td>0</td>\n      <td>1</td>\n      <td>5</td>\n      <td>0/0</td>\n      <td>27</td>\n    </tr>\n    <tr>\n      <th>1</th>\n      <td>任骏飞</td>\n      <td>20</td>\n      <td>30</td>\n      <td>1</td>\n      <td>5-8(63%)</td>\n      <td>3-6(50%)</td>\n      <td>0-0(0%)</td>\n      <td>1</td>\n      <td>1</td>\n      <td>1</td>\n      <td>3</td>\n      <td>3</td>\n      <td>0</td>\n      <td>0</td>\n      <td>1</td>\n      <td>1</td>\n      <td>0/0</td>\n      <td>19</td>\n    </tr>\n    <tr>\n      <th>2</th>\n      <td>易建联</td>\n      <td>9</td>\n      <td>35</td>\n      <td>1</td>\n      <td>7-8(88%)</td>\n      <td>0-0(0%)</td>\n      <td>2-4(50%)</td>\n      <td>1</td>\n      <td>11</td>\n      <td>2</td>\n      <td>2</td>\n      <td>1</td>\n      <td>1</td>\n      <td>2</td>\n      <td>5</td>\n      <td>3</td>\n      <td>0/0</td>\n      <td>16</td>\n    </tr>\n    <tr>\n      <th>3</th>\n      <td>赵睿</td>\n      <td>10</td>\n      <td>31</td>\n      <td>1</td>\n      <td>5-9(56%)</td>\n      <td>0-3(0%)</td>\n      <td>0-1(0%)</td>\n      <td>2</td>\n      <td>5</td>\n      <td>4</td>\n      <td>3</td>\n      <td>2</td>\n      <td>0</td>\n      <td>0</td>\n      <td>0</td>\n      <td>4</td>\n      <td>0/0</td>\n      <td>10</td>\n    </tr>\n    <tr>\n      <th>4</th>\n      <td>胡明轩</td>\n      <td>3</td>\n      <td>13</td>\n      <td>1</td>\n      <td>0-1(0%)</td>\n      <td>1-3(33%)</td>\n      <td>0-0(0%)</td>\n      <td>0</td>\n      <td>1</td>\n      <td>0</td>\n      <td>1</td>\n      <td>0</td>\n      <td>1</td>\n      <td>0</td>\n      <td>0</td>\n      <td>0</td>\n      <td>0/0</td>\n      <td>3</td>\n    </tr>\n    <tr>\n      <th>5</th>\n      <td>威姆斯</td>\n      <td>13</td>\n      <td>31</td>\n      <td>0</td>\n      <td>5-9(56%)</td>\n      <td>1-5(20%)</td>\n      <td>1-2(50%)</td>\n      <td>0</td>\n      <td>7</td>\n      <td>3</td>\n      <td>2</td>\n      <td>1</td>\n      <td>3</td>\n      <td>0</td>\n      <td>0</td>\n      <td>3</td>\n      <td>0/0</td>\n      <td>14</td>\n    </tr>\n    <tr>\n      <th>6</th>\n      <td>杜润旺</td>\n      <td>18</td>\n      <td>14</td>\n      <td>0</td>\n      <td>2-2(100%)</td>\n      <td>0-2(0%)</td>\n      <td>2-2(100%)</td>\n      <td>2</td>\n      <td>0</td>\n      <td>0</td>\n      <td>4</td>\n      <td>0</td>\n      <td>4</td>\n      <td>0</td>\n      <td>0</td>\n      <td>1</td>\n      <td>0/0</td>\n      <td>6</td>\n    </tr>\n    <tr>\n      <th>7</th>\n      <td>曾繁日</td>\n      <td>22</td>\n      <td>11</td>\n      <td>0</td>\n      <td>2-3(67%)</td>\n      <td>0-0(0%)</td>\n      <td>2-4(50%)</td>\n      <td>1</td>\n      <td>0</td>\n      <td>0</td>\n      <td>3</td>\n      <td>0</td>\n      <td>0</td>\n      <td>1</td>\n      <td>1</td>\n      <td>3</td>\n      <td>0/0</td>\n      <td>6</td>\n    </tr>\n    <tr>\n      <th>8</th>\n      <td>徐杰</td>\n      <td>2</td>\n      <td>20</td>\n      <td>0</td>\n      <td>0-1(0%)</td>\n      <td>1-3(33%)</td>\n      <td>2-2(100%)</td>\n      <td>0</td>\n      <td>0</td>\n      <td>1</td>\n      <td>2</td>\n      <td>2</td>\n      <td>0</td>\n      <td>0</td>\n      <td>0</td>\n      <td>3</td>\n      <td>0/0</td>\n      <td>5</td>\n    </tr>\n    <tr>\n      <th>9</th>\n      <td>王薪凯</td>\n      <td>5</td>\n      <td>9</td>\n      <td>0</td>\n      <td>0-0(0%)</td>\n      <td>0-1(0%)</td>\n      <td>1-2(50%)</td>\n      <td>0</td>\n      <td>1</td>\n      <td>1</td>\n      <td>1</td>\n      <td>0</td>\n      <td>0</td>\n      <td>0</td>\n      <td>0</td>\n      <td>0</td>\n      <td>0/0</td>\n      <td>1</td>\n    </tr>\n    <tr>\n      <th>10</th>\n      <td>周鹏</td>\n      <td>11</td>\n      <td>0</td>\n      <td>0</td>\n      <td>0-0(0%)</td>\n      <td>0-0(0%)</td>\n      <td>0-0(0%)</td>\n      <td>0</td>\n      <td>0</td>\n      <td>0</td>\n      <td>0</td>\n      <td>0</td>\n      <td>0</td>\n      <td>0</td>\n      <td>0</td>\n      <td>0</td>\n      <td>0/0</td>\n      <td>0</td>\n    </tr>\n    <tr>\n      <th>11</th>\n      <td>李英博</td>\n      <td>17</td>\n      <td>0</td>\n      <td>0</td>\n      <td>0-0(0%)</td>\n      <td>0-0(0%)</td>\n      <td>0-0(0%)</td>\n      <td>0</td>\n      <td>0</td>\n      <td>0</td>\n      <td>0</td>\n      <td>0</td>\n      <td>0</td>\n      <td>0</td>\n      <td>0</td>\n      <td>0</td>\n      <td>0/0</td>\n      <td>0</td>\n    </tr>\n    <tr>\n      <th>12</th>\n      <td>刘旭乘</td>\n      <td>14</td>\n      <td>0</td>\n      <td>0</td>\n      <td>0-0(0%)</td>\n      <td>0-0(0%)</td>\n      <td>0-0(0%)</td>\n      <td>0</td>\n      <td>0</td>\n      <td>0</td>\n      <td>0</td>\n      <td>0</td>\n      <td>0</td>\n      <td>0</td>\n      <td>0</td>\n      <td>0</td>\n      <td>0/0</td>\n      <td>0</td>\n    </tr>\n    <tr>\n      <th>13</th>\n      <td>万圣伟</td>\n      <td>51</td>\n      <td>0</td>\n      <td>0</td>\n      <td>0-0(0%)</td>\n      <td>0-0(0%)</td>\n      <td>0-0(0%)</td>\n      <td>0</td>\n      <td>0</td>\n      <td>0</td>\n      <td>0</td>\n      <td>0</td>\n      <td>0</td>\n      <td>0</td>\n      <td>0</td>\n      <td>0</td>\n      <td>0/0</td>\n      <td>0</td>\n    </tr>\n    <tr>\n      <th>14</th>\n      <td>苏伟</td>\n      <td>12</td>\n      <td>3</td>\n      <td>0</td>\n      <td>0-0(0%)</td>\n      <td>0-0(0%)</td>\n      <td>0-0(0%)</td>\n      <td>1</td>\n      <td>1</td>\n      <td>0</td>\n      <td>2</td>\n      <td>0</td>\n      <td>1</td>\n      <td>0</td>\n      <td>0</td>\n      <td>0</td>\n      <td>0/0</td>\n      <td>0</td>\n    </tr>\n    <tr>\n      <th>15</th>\n      <td>方渭博</td>\n      <td>1</td>\n      <td>0</td>\n      <td>0</td>\n      <td>0-0(0%)</td>\n      <td>0-0(0%)</td>\n      <td>0-0(0%)</td>\n      <td>0</td>\n      <td>0</td>\n      <td>0</td>\n      <td>0</td>\n      <td>0</td>\n      <td>0</td>\n      <td>0</td>\n      <td>0</td>\n      <td>0</td>\n      <td>0/0</td>\n      <td>0</td>\n    </tr>\n    <tr>\n      <th>16</th>\n      <td>刘权标</td>\n      <td>0</td>\n      <td>0</td>\n      <td>0</td>\n      <td>0-0(0%)</td>\n      <td>0-0(0%)</td>\n      <td>0-0(0%)</td>\n      <td>0</td>\n      <td>0</td>\n      <td>0</td>\n      <td>0</td>\n      <td>0</td>\n      <td>0</td>\n      <td>0</td>\n      <td>0</td>\n      <td>0</td>\n      <td>0/0</td>\n      <td>0</td>\n    </tr>\n    <tr>\n      <th>17</th>\n      <td>广东</td>\n      <td>--</td>\n      <td>--</td>\n      <td>--</td>\n      <td>34-51(67%)</td>\n      <td>8-33(24%)</td>\n      <td>15-22(68%)</td>\n      <td>8</td>\n      <td>30</td>\n      <td>21</td>\n      <td>26</td>\n      <td>11</td>\n      <td>11</td>\n      <td>3</td>\n      <td>8</td>\n      <td>23</td>\n      <td>0/0</td>\n      <td>107</td>\n    </tr>\n  </tbody>\n</table>\n</div>"
     },
     "metadata": {},
     "output_type": "execute_result",
     "execution_count": 29
    }
   ],
   "source": [
    "df_hometeam_details = get_hometeam_stats(page_content_str)\n",
    "df_hometeam_details"
   ]
  },
  {
   "cell_type": "markdown",
   "metadata": {},
   "source": [
    "###  客队统计数据"
   ]
  },
  {
   "cell_type": "code",
   "execution_count": 30,
   "metadata": {
    "pycharm": {
     "is_executing": false
    }
   },
   "outputs": [],
   "source": [
    "def get_awayteam_stats(page_content_str,re_pattern=\n",
    "                       '<div class=\"part part02 blk\">(.*?)<div class=\"part part03 blk\">'):\n",
    "    awayteam_details = get_team_details(page_content_str,re_pattern)\n",
    "\n",
    "    awayteam_coach = get_table_coach(awayteam_details)\n",
    "    awayteam_lingdui = get_table_lingdui(awayteam_details)\n",
    "    \n",
    "    awayteam_table_header_lst = get_table_headers(awayteam_details)\n",
    "    awayteam_table_cells_lst = get_table_cells(awayteam_details,len(awayteam_table_header_lst))\n",
    "\n",
    "    df_awayteam_details = pd.DataFrame(data = awayteam_table_cells_lst,columns=awayteam_table_header_lst)\n",
    "    return df_awayteam_details\n",
    "\n"
   ]
  },
  {
   "cell_type": "code",
   "execution_count": 31,
   "metadata": {
    "scrolled": true,
    "pycharm": {
     "is_executing": false
    }
   },
   "outputs": [
    {
     "data": {
      "text/plain": "      球员  号码 出场时间  首发       2分中-投      3分中-投       罚球中-投 进攻篮板 防守篮板  助攻  犯规 抢断  \\\n0     巴斯  30   30   1   5-15(33%)    0-0(0%)  10-11(91%)    3    9   1   2  1   \n1    郭艾伦  13   30   1    4-8(50%)    0-2(0%)   4-4(100%)    0    4   5   4  0   \n2    韩德君  55   24   1    4-6(67%)    0-0(0%)    2-3(67%)    3    6   0   4  0   \n3    刘志轩  11   16   1   1-1(100%)  1-1(100%)     0-0(0%)    1    1   0   3  0   \n4    赵继伟   3   33   1    1-2(50%)    0-3(0%)   2-2(100%)    0    3   1   2  2   \n5   史蒂芬森   1   41   0  10-17(59%)  3-11(27%)    5-7(71%)    1    2   3   2  2   \n6    丛明晨  10   12   0     0-0(0%)  2-2(100%)     0-0(0%)    1    2   0   1  0   \n7    李晓旭  22   28   0    3-8(38%)    0-0(0%)     0-0(0%)    2    2   2   0  1   \n8    贺天举   6   12   0     0-0(0%)    0-2(0%)    1-2(50%)    2    0   0   2  0   \n9    刘雁宇  17    0   0     0-0(0%)    0-0(0%)     0-0(0%)    0    0   0   0  0   \n10    郭旭  15    0   0     0-0(0%)    0-0(0%)     0-0(0%)    0    0   0   0  0   \n11   孙锴祺  18    0   0     0-0(0%)    0-0(0%)     0-0(0%)    0    0   0   0  0   \n12   王化东  32    0   0     0-0(0%)    0-0(0%)     0-0(0%)    0    0   0   0  0   \n13   高诗岩   0    9   0     0-1(0%)    0-1(0%)     0-0(0%)    0    1   0   3  1   \n14   卢梓杰  28    0   0     0-0(0%)    0-0(0%)     0-0(0%)    0    0   0   0  0   \n15    马壮   8    0   0     0-0(0%)    0-0(0%)     0-0(0%)    0    0   0   0  0   \n16   鄢手骐  36    0   0     0-0(0%)    0-0(0%)     0-0(0%)    0    0   0   0  0   \n17    辽宁  --   --  --  28-58(48%)  6-22(27%)  24-29(83%)   13   30  12  23  7   \n\n    失误 盖帽 扣篮  被侵   快攻  得分  \n0    0  2  2  10  0/0  20  \n1    6  0  0   2  0/0  12  \n2    2  1  0   2  0/0  10  \n3    1  0  0   1  0/0   5  \n4    0  0  0   2  0/0   4  \n5    3  0  1   6  0/0  34  \n6    0  0  0   0  0/0   6  \n7    0  1  0   2  0/0   6  \n8    1  0  0   1  0/0   1  \n9    0  0  0   0  0/0   0  \n10   0  0  0   0  0/0   0  \n11   0  0  0   0  0/0   0  \n12   0  0  0   0  0/0   0  \n13   0  0  0   0  0/0   0  \n14   0  0  0   0  0/0   0  \n15   0  0  0   0  0/0   0  \n16   0  0  0   0  0/0   0  \n17  13  4  3  26  0/0  98  ",
      "text/html": "<div>\n<style scoped>\n    .dataframe tbody tr th:only-of-type {\n        vertical-align: middle;\n    }\n\n    .dataframe tbody tr th {\n        vertical-align: top;\n    }\n\n    .dataframe thead th {\n        text-align: right;\n    }\n</style>\n<table border=\"1\" class=\"dataframe\">\n  <thead>\n    <tr style=\"text-align: right;\">\n      <th></th>\n      <th>球员</th>\n      <th>号码</th>\n      <th>出场时间</th>\n      <th>首发</th>\n      <th>2分中-投</th>\n      <th>3分中-投</th>\n      <th>罚球中-投</th>\n      <th>进攻篮板</th>\n      <th>防守篮板</th>\n      <th>助攻</th>\n      <th>犯规</th>\n      <th>抢断</th>\n      <th>失误</th>\n      <th>盖帽</th>\n      <th>扣篮</th>\n      <th>被侵</th>\n      <th>快攻</th>\n      <th>得分</th>\n    </tr>\n  </thead>\n  <tbody>\n    <tr>\n      <th>0</th>\n      <td>巴斯</td>\n      <td>30</td>\n      <td>30</td>\n      <td>1</td>\n      <td>5-15(33%)</td>\n      <td>0-0(0%)</td>\n      <td>10-11(91%)</td>\n      <td>3</td>\n      <td>9</td>\n      <td>1</td>\n      <td>2</td>\n      <td>1</td>\n      <td>0</td>\n      <td>2</td>\n      <td>2</td>\n      <td>10</td>\n      <td>0/0</td>\n      <td>20</td>\n    </tr>\n    <tr>\n      <th>1</th>\n      <td>郭艾伦</td>\n      <td>13</td>\n      <td>30</td>\n      <td>1</td>\n      <td>4-8(50%)</td>\n      <td>0-2(0%)</td>\n      <td>4-4(100%)</td>\n      <td>0</td>\n      <td>4</td>\n      <td>5</td>\n      <td>4</td>\n      <td>0</td>\n      <td>6</td>\n      <td>0</td>\n      <td>0</td>\n      <td>2</td>\n      <td>0/0</td>\n      <td>12</td>\n    </tr>\n    <tr>\n      <th>2</th>\n      <td>韩德君</td>\n      <td>55</td>\n      <td>24</td>\n      <td>1</td>\n      <td>4-6(67%)</td>\n      <td>0-0(0%)</td>\n      <td>2-3(67%)</td>\n      <td>3</td>\n      <td>6</td>\n      <td>0</td>\n      <td>4</td>\n      <td>0</td>\n      <td>2</td>\n      <td>1</td>\n      <td>0</td>\n      <td>2</td>\n      <td>0/0</td>\n      <td>10</td>\n    </tr>\n    <tr>\n      <th>3</th>\n      <td>刘志轩</td>\n      <td>11</td>\n      <td>16</td>\n      <td>1</td>\n      <td>1-1(100%)</td>\n      <td>1-1(100%)</td>\n      <td>0-0(0%)</td>\n      <td>1</td>\n      <td>1</td>\n      <td>0</td>\n      <td>3</td>\n      <td>0</td>\n      <td>1</td>\n      <td>0</td>\n      <td>0</td>\n      <td>1</td>\n      <td>0/0</td>\n      <td>5</td>\n    </tr>\n    <tr>\n      <th>4</th>\n      <td>赵继伟</td>\n      <td>3</td>\n      <td>33</td>\n      <td>1</td>\n      <td>1-2(50%)</td>\n      <td>0-3(0%)</td>\n      <td>2-2(100%)</td>\n      <td>0</td>\n      <td>3</td>\n      <td>1</td>\n      <td>2</td>\n      <td>2</td>\n      <td>0</td>\n      <td>0</td>\n      <td>0</td>\n      <td>2</td>\n      <td>0/0</td>\n      <td>4</td>\n    </tr>\n    <tr>\n      <th>5</th>\n      <td>史蒂芬森</td>\n      <td>1</td>\n      <td>41</td>\n      <td>0</td>\n      <td>10-17(59%)</td>\n      <td>3-11(27%)</td>\n      <td>5-7(71%)</td>\n      <td>1</td>\n      <td>2</td>\n      <td>3</td>\n      <td>2</td>\n      <td>2</td>\n      <td>3</td>\n      <td>0</td>\n      <td>1</td>\n      <td>6</td>\n      <td>0/0</td>\n      <td>34</td>\n    </tr>\n    <tr>\n      <th>6</th>\n      <td>丛明晨</td>\n      <td>10</td>\n      <td>12</td>\n      <td>0</td>\n      <td>0-0(0%)</td>\n      <td>2-2(100%)</td>\n      <td>0-0(0%)</td>\n      <td>1</td>\n      <td>2</td>\n      <td>0</td>\n      <td>1</td>\n      <td>0</td>\n      <td>0</td>\n      <td>0</td>\n      <td>0</td>\n      <td>0</td>\n      <td>0/0</td>\n      <td>6</td>\n    </tr>\n    <tr>\n      <th>7</th>\n      <td>李晓旭</td>\n      <td>22</td>\n      <td>28</td>\n      <td>0</td>\n      <td>3-8(38%)</td>\n      <td>0-0(0%)</td>\n      <td>0-0(0%)</td>\n      <td>2</td>\n      <td>2</td>\n      <td>2</td>\n      <td>0</td>\n      <td>1</td>\n      <td>0</td>\n      <td>1</td>\n      <td>0</td>\n      <td>2</td>\n      <td>0/0</td>\n      <td>6</td>\n    </tr>\n    <tr>\n      <th>8</th>\n      <td>贺天举</td>\n      <td>6</td>\n      <td>12</td>\n      <td>0</td>\n      <td>0-0(0%)</td>\n      <td>0-2(0%)</td>\n      <td>1-2(50%)</td>\n      <td>2</td>\n      <td>0</td>\n      <td>0</td>\n      <td>2</td>\n      <td>0</td>\n      <td>1</td>\n      <td>0</td>\n      <td>0</td>\n      <td>1</td>\n      <td>0/0</td>\n      <td>1</td>\n    </tr>\n    <tr>\n      <th>9</th>\n      <td>刘雁宇</td>\n      <td>17</td>\n      <td>0</td>\n      <td>0</td>\n      <td>0-0(0%)</td>\n      <td>0-0(0%)</td>\n      <td>0-0(0%)</td>\n      <td>0</td>\n      <td>0</td>\n      <td>0</td>\n      <td>0</td>\n      <td>0</td>\n      <td>0</td>\n      <td>0</td>\n      <td>0</td>\n      <td>0</td>\n      <td>0/0</td>\n      <td>0</td>\n    </tr>\n    <tr>\n      <th>10</th>\n      <td>郭旭</td>\n      <td>15</td>\n      <td>0</td>\n      <td>0</td>\n      <td>0-0(0%)</td>\n      <td>0-0(0%)</td>\n      <td>0-0(0%)</td>\n      <td>0</td>\n      <td>0</td>\n      <td>0</td>\n      <td>0</td>\n      <td>0</td>\n      <td>0</td>\n      <td>0</td>\n      <td>0</td>\n      <td>0</td>\n      <td>0/0</td>\n      <td>0</td>\n    </tr>\n    <tr>\n      <th>11</th>\n      <td>孙锴祺</td>\n      <td>18</td>\n      <td>0</td>\n      <td>0</td>\n      <td>0-0(0%)</td>\n      <td>0-0(0%)</td>\n      <td>0-0(0%)</td>\n      <td>0</td>\n      <td>0</td>\n      <td>0</td>\n      <td>0</td>\n      <td>0</td>\n      <td>0</td>\n      <td>0</td>\n      <td>0</td>\n      <td>0</td>\n      <td>0/0</td>\n      <td>0</td>\n    </tr>\n    <tr>\n      <th>12</th>\n      <td>王化东</td>\n      <td>32</td>\n      <td>0</td>\n      <td>0</td>\n      <td>0-0(0%)</td>\n      <td>0-0(0%)</td>\n      <td>0-0(0%)</td>\n      <td>0</td>\n      <td>0</td>\n      <td>0</td>\n      <td>0</td>\n      <td>0</td>\n      <td>0</td>\n      <td>0</td>\n      <td>0</td>\n      <td>0</td>\n      <td>0/0</td>\n      <td>0</td>\n    </tr>\n    <tr>\n      <th>13</th>\n      <td>高诗岩</td>\n      <td>0</td>\n      <td>9</td>\n      <td>0</td>\n      <td>0-1(0%)</td>\n      <td>0-1(0%)</td>\n      <td>0-0(0%)</td>\n      <td>0</td>\n      <td>1</td>\n      <td>0</td>\n      <td>3</td>\n      <td>1</td>\n      <td>0</td>\n      <td>0</td>\n      <td>0</td>\n      <td>0</td>\n      <td>0/0</td>\n      <td>0</td>\n    </tr>\n    <tr>\n      <th>14</th>\n      <td>卢梓杰</td>\n      <td>28</td>\n      <td>0</td>\n      <td>0</td>\n      <td>0-0(0%)</td>\n      <td>0-0(0%)</td>\n      <td>0-0(0%)</td>\n      <td>0</td>\n      <td>0</td>\n      <td>0</td>\n      <td>0</td>\n      <td>0</td>\n      <td>0</td>\n      <td>0</td>\n      <td>0</td>\n      <td>0</td>\n      <td>0/0</td>\n      <td>0</td>\n    </tr>\n    <tr>\n      <th>15</th>\n      <td>马壮</td>\n      <td>8</td>\n      <td>0</td>\n      <td>0</td>\n      <td>0-0(0%)</td>\n      <td>0-0(0%)</td>\n      <td>0-0(0%)</td>\n      <td>0</td>\n      <td>0</td>\n      <td>0</td>\n      <td>0</td>\n      <td>0</td>\n      <td>0</td>\n      <td>0</td>\n      <td>0</td>\n      <td>0</td>\n      <td>0/0</td>\n      <td>0</td>\n    </tr>\n    <tr>\n      <th>16</th>\n      <td>鄢手骐</td>\n      <td>36</td>\n      <td>0</td>\n      <td>0</td>\n      <td>0-0(0%)</td>\n      <td>0-0(0%)</td>\n      <td>0-0(0%)</td>\n      <td>0</td>\n      <td>0</td>\n      <td>0</td>\n      <td>0</td>\n      <td>0</td>\n      <td>0</td>\n      <td>0</td>\n      <td>0</td>\n      <td>0</td>\n      <td>0/0</td>\n      <td>0</td>\n    </tr>\n    <tr>\n      <th>17</th>\n      <td>辽宁</td>\n      <td>--</td>\n      <td>--</td>\n      <td>--</td>\n      <td>28-58(48%)</td>\n      <td>6-22(27%)</td>\n      <td>24-29(83%)</td>\n      <td>13</td>\n      <td>30</td>\n      <td>12</td>\n      <td>23</td>\n      <td>7</td>\n      <td>13</td>\n      <td>4</td>\n      <td>3</td>\n      <td>26</td>\n      <td>0/0</td>\n      <td>98</td>\n    </tr>\n  </tbody>\n</table>\n</div>"
     },
     "metadata": {},
     "output_type": "execute_result",
     "execution_count": 31
    }
   ],
   "source": [
    "df_awayteam_details = get_awayteam_stats(page_content_str)\n",
    "df_awayteam_details"
   ]
  },
  {
   "cell_type": "code",
   "execution_count": 32,
   "metadata": {
    "scrolled": true,
    "pycharm": {
     "is_executing": false
    }
   },
   "outputs": [
    {
     "data": {
      "text/plain": "      球员  号码 出场时间  首发       2分中-投      3分中-投       罚球中-投 进攻篮板 防守篮板  助攻  犯规  \\\n0   布鲁克斯   6   36   1   8-10(80%)  2-10(20%)   5-5(100%)    0    3   9   3   \n1    任骏飞  20   30   1    5-8(63%)   3-6(50%)     0-0(0%)    1    1   1   3   \n2    易建联   9   35   1    7-8(88%)    0-0(0%)    2-4(50%)    1   11   2   2   \n3     赵睿  10   31   1    5-9(56%)    0-3(0%)     0-1(0%)    2    5   4   3   \n4    胡明轩   3   13   1     0-1(0%)   1-3(33%)     0-0(0%)    0    1   0   1   \n5    威姆斯  13   31   0    5-9(56%)   1-5(20%)    1-2(50%)    0    7   3   2   \n6    杜润旺  18   14   0   2-2(100%)    0-2(0%)   2-2(100%)    2    0   0   4   \n7    曾繁日  22   11   0    2-3(67%)    0-0(0%)    2-4(50%)    1    0   0   3   \n8     徐杰   2   20   0     0-1(0%)   1-3(33%)   2-2(100%)    0    0   1   2   \n9    王薪凯   5    9   0     0-0(0%)    0-1(0%)    1-2(50%)    0    1   1   1   \n10    周鹏  11    0   0     0-0(0%)    0-0(0%)     0-0(0%)    0    0   0   0   \n11   李英博  17    0   0     0-0(0%)    0-0(0%)     0-0(0%)    0    0   0   0   \n12   刘旭乘  14    0   0     0-0(0%)    0-0(0%)     0-0(0%)    0    0   0   0   \n13   万圣伟  51    0   0     0-0(0%)    0-0(0%)     0-0(0%)    0    0   0   0   \n14    苏伟  12    3   0     0-0(0%)    0-0(0%)     0-0(0%)    1    1   0   2   \n15   方渭博   1    0   0     0-0(0%)    0-0(0%)     0-0(0%)    0    0   0   0   \n16   刘权标   0    0   0     0-0(0%)    0-0(0%)     0-0(0%)    0    0   0   0   \n17    广东  --   --  --  34-51(67%)  8-33(24%)  15-22(68%)    8   30  21  26   \n18    巴斯  30   30   1   5-15(33%)    0-0(0%)  10-11(91%)    3    9   1   2   \n19   郭艾伦  13   30   1    4-8(50%)    0-2(0%)   4-4(100%)    0    4   5   4   \n20   韩德君  55   24   1    4-6(67%)    0-0(0%)    2-3(67%)    3    6   0   4   \n21   刘志轩  11   16   1   1-1(100%)  1-1(100%)     0-0(0%)    1    1   0   3   \n22   赵继伟   3   33   1    1-2(50%)    0-3(0%)   2-2(100%)    0    3   1   2   \n23  史蒂芬森   1   41   0  10-17(59%)  3-11(27%)    5-7(71%)    1    2   3   2   \n24   丛明晨  10   12   0     0-0(0%)  2-2(100%)     0-0(0%)    1    2   0   1   \n25   李晓旭  22   28   0    3-8(38%)    0-0(0%)     0-0(0%)    2    2   2   0   \n26   贺天举   6   12   0     0-0(0%)    0-2(0%)    1-2(50%)    2    0   0   2   \n27   刘雁宇  17    0   0     0-0(0%)    0-0(0%)     0-0(0%)    0    0   0   0   \n28    郭旭  15    0   0     0-0(0%)    0-0(0%)     0-0(0%)    0    0   0   0   \n29   孙锴祺  18    0   0     0-0(0%)    0-0(0%)     0-0(0%)    0    0   0   0   \n30   王化东  32    0   0     0-0(0%)    0-0(0%)     0-0(0%)    0    0   0   0   \n31   高诗岩   0    9   0     0-1(0%)    0-1(0%)     0-0(0%)    0    1   0   3   \n32   卢梓杰  28    0   0     0-0(0%)    0-0(0%)     0-0(0%)    0    0   0   0   \n33    马壮   8    0   0     0-0(0%)    0-0(0%)     0-0(0%)    0    0   0   0   \n34   鄢手骐  36    0   0     0-0(0%)    0-0(0%)     0-0(0%)    0    0   0   0   \n35    辽宁  --   --  --  28-58(48%)  6-22(27%)  24-29(83%)   13   30  12  23   \n\n    抢断  失误 盖帽 扣篮  被侵   快攻   得分  \n0    2   1  0  1   5  0/0   27  \n1    3   0  0  1   1  0/0   19  \n2    1   1  2  5   3  0/0   16  \n3    2   0  0  0   4  0/0   10  \n4    0   1  0  0   0  0/0    3  \n5    1   3  0  0   3  0/0   14  \n6    0   4  0  0   1  0/0    6  \n7    0   0  1  1   3  0/0    6  \n8    2   0  0  0   3  0/0    5  \n9    0   0  0  0   0  0/0    1  \n10   0   0  0  0   0  0/0    0  \n11   0   0  0  0   0  0/0    0  \n12   0   0  0  0   0  0/0    0  \n13   0   0  0  0   0  0/0    0  \n14   0   1  0  0   0  0/0    0  \n15   0   0  0  0   0  0/0    0  \n16   0   0  0  0   0  0/0    0  \n17  11  11  3  8  23  0/0  107  \n18   1   0  2  2  10  0/0   20  \n19   0   6  0  0   2  0/0   12  \n20   0   2  1  0   2  0/0   10  \n21   0   1  0  0   1  0/0    5  \n22   2   0  0  0   2  0/0    4  \n23   2   3  0  1   6  0/0   34  \n24   0   0  0  0   0  0/0    6  \n25   1   0  1  0   2  0/0    6  \n26   0   1  0  0   1  0/0    1  \n27   0   0  0  0   0  0/0    0  \n28   0   0  0  0   0  0/0    0  \n29   0   0  0  0   0  0/0    0  \n30   0   0  0  0   0  0/0    0  \n31   1   0  0  0   0  0/0    0  \n32   0   0  0  0   0  0/0    0  \n33   0   0  0  0   0  0/0    0  \n34   0   0  0  0   0  0/0    0  \n35   7  13  4  3  26  0/0   98  ",
      "text/html": "<div>\n<style scoped>\n    .dataframe tbody tr th:only-of-type {\n        vertical-align: middle;\n    }\n\n    .dataframe tbody tr th {\n        vertical-align: top;\n    }\n\n    .dataframe thead th {\n        text-align: right;\n    }\n</style>\n<table border=\"1\" class=\"dataframe\">\n  <thead>\n    <tr style=\"text-align: right;\">\n      <th></th>\n      <th>球员</th>\n      <th>号码</th>\n      <th>出场时间</th>\n      <th>首发</th>\n      <th>2分中-投</th>\n      <th>3分中-投</th>\n      <th>罚球中-投</th>\n      <th>进攻篮板</th>\n      <th>防守篮板</th>\n      <th>助攻</th>\n      <th>犯规</th>\n      <th>抢断</th>\n      <th>失误</th>\n      <th>盖帽</th>\n      <th>扣篮</th>\n      <th>被侵</th>\n      <th>快攻</th>\n      <th>得分</th>\n    </tr>\n  </thead>\n  <tbody>\n    <tr>\n      <th>0</th>\n      <td>布鲁克斯</td>\n      <td>6</td>\n      <td>36</td>\n      <td>1</td>\n      <td>8-10(80%)</td>\n      <td>2-10(20%)</td>\n      <td>5-5(100%)</td>\n      <td>0</td>\n      <td>3</td>\n      <td>9</td>\n      <td>3</td>\n      <td>2</td>\n      <td>1</td>\n      <td>0</td>\n      <td>1</td>\n      <td>5</td>\n      <td>0/0</td>\n      <td>27</td>\n    </tr>\n    <tr>\n      <th>1</th>\n      <td>任骏飞</td>\n      <td>20</td>\n      <td>30</td>\n      <td>1</td>\n      <td>5-8(63%)</td>\n      <td>3-6(50%)</td>\n      <td>0-0(0%)</td>\n      <td>1</td>\n      <td>1</td>\n      <td>1</td>\n      <td>3</td>\n      <td>3</td>\n      <td>0</td>\n      <td>0</td>\n      <td>1</td>\n      <td>1</td>\n      <td>0/0</td>\n      <td>19</td>\n    </tr>\n    <tr>\n      <th>2</th>\n      <td>易建联</td>\n      <td>9</td>\n      <td>35</td>\n      <td>1</td>\n      <td>7-8(88%)</td>\n      <td>0-0(0%)</td>\n      <td>2-4(50%)</td>\n      <td>1</td>\n      <td>11</td>\n      <td>2</td>\n      <td>2</td>\n      <td>1</td>\n      <td>1</td>\n      <td>2</td>\n      <td>5</td>\n      <td>3</td>\n      <td>0/0</td>\n      <td>16</td>\n    </tr>\n    <tr>\n      <th>3</th>\n      <td>赵睿</td>\n      <td>10</td>\n      <td>31</td>\n      <td>1</td>\n      <td>5-9(56%)</td>\n      <td>0-3(0%)</td>\n      <td>0-1(0%)</td>\n      <td>2</td>\n      <td>5</td>\n      <td>4</td>\n      <td>3</td>\n      <td>2</td>\n      <td>0</td>\n      <td>0</td>\n      <td>0</td>\n      <td>4</td>\n      <td>0/0</td>\n      <td>10</td>\n    </tr>\n    <tr>\n      <th>4</th>\n      <td>胡明轩</td>\n      <td>3</td>\n      <td>13</td>\n      <td>1</td>\n      <td>0-1(0%)</td>\n      <td>1-3(33%)</td>\n      <td>0-0(0%)</td>\n      <td>0</td>\n      <td>1</td>\n      <td>0</td>\n      <td>1</td>\n      <td>0</td>\n      <td>1</td>\n      <td>0</td>\n      <td>0</td>\n      <td>0</td>\n      <td>0/0</td>\n      <td>3</td>\n    </tr>\n    <tr>\n      <th>5</th>\n      <td>威姆斯</td>\n      <td>13</td>\n      <td>31</td>\n      <td>0</td>\n      <td>5-9(56%)</td>\n      <td>1-5(20%)</td>\n      <td>1-2(50%)</td>\n      <td>0</td>\n      <td>7</td>\n      <td>3</td>\n      <td>2</td>\n      <td>1</td>\n      <td>3</td>\n      <td>0</td>\n      <td>0</td>\n      <td>3</td>\n      <td>0/0</td>\n      <td>14</td>\n    </tr>\n    <tr>\n      <th>6</th>\n      <td>杜润旺</td>\n      <td>18</td>\n      <td>14</td>\n      <td>0</td>\n      <td>2-2(100%)</td>\n      <td>0-2(0%)</td>\n      <td>2-2(100%)</td>\n      <td>2</td>\n      <td>0</td>\n      <td>0</td>\n      <td>4</td>\n      <td>0</td>\n      <td>4</td>\n      <td>0</td>\n      <td>0</td>\n      <td>1</td>\n      <td>0/0</td>\n      <td>6</td>\n    </tr>\n    <tr>\n      <th>7</th>\n      <td>曾繁日</td>\n      <td>22</td>\n      <td>11</td>\n      <td>0</td>\n      <td>2-3(67%)</td>\n      <td>0-0(0%)</td>\n      <td>2-4(50%)</td>\n      <td>1</td>\n      <td>0</td>\n      <td>0</td>\n      <td>3</td>\n      <td>0</td>\n      <td>0</td>\n      <td>1</td>\n      <td>1</td>\n      <td>3</td>\n      <td>0/0</td>\n      <td>6</td>\n    </tr>\n    <tr>\n      <th>8</th>\n      <td>徐杰</td>\n      <td>2</td>\n      <td>20</td>\n      <td>0</td>\n      <td>0-1(0%)</td>\n      <td>1-3(33%)</td>\n      <td>2-2(100%)</td>\n      <td>0</td>\n      <td>0</td>\n      <td>1</td>\n      <td>2</td>\n      <td>2</td>\n      <td>0</td>\n      <td>0</td>\n      <td>0</td>\n      <td>3</td>\n      <td>0/0</td>\n      <td>5</td>\n    </tr>\n    <tr>\n      <th>9</th>\n      <td>王薪凯</td>\n      <td>5</td>\n      <td>9</td>\n      <td>0</td>\n      <td>0-0(0%)</td>\n      <td>0-1(0%)</td>\n      <td>1-2(50%)</td>\n      <td>0</td>\n      <td>1</td>\n      <td>1</td>\n      <td>1</td>\n      <td>0</td>\n      <td>0</td>\n      <td>0</td>\n      <td>0</td>\n      <td>0</td>\n      <td>0/0</td>\n      <td>1</td>\n    </tr>\n    <tr>\n      <th>10</th>\n      <td>周鹏</td>\n      <td>11</td>\n      <td>0</td>\n      <td>0</td>\n      <td>0-0(0%)</td>\n      <td>0-0(0%)</td>\n      <td>0-0(0%)</td>\n      <td>0</td>\n      <td>0</td>\n      <td>0</td>\n      <td>0</td>\n      <td>0</td>\n      <td>0</td>\n      <td>0</td>\n      <td>0</td>\n      <td>0</td>\n      <td>0/0</td>\n      <td>0</td>\n    </tr>\n    <tr>\n      <th>11</th>\n      <td>李英博</td>\n      <td>17</td>\n      <td>0</td>\n      <td>0</td>\n      <td>0-0(0%)</td>\n      <td>0-0(0%)</td>\n      <td>0-0(0%)</td>\n      <td>0</td>\n      <td>0</td>\n      <td>0</td>\n      <td>0</td>\n      <td>0</td>\n      <td>0</td>\n      <td>0</td>\n      <td>0</td>\n      <td>0</td>\n      <td>0/0</td>\n      <td>0</td>\n    </tr>\n    <tr>\n      <th>12</th>\n      <td>刘旭乘</td>\n      <td>14</td>\n      <td>0</td>\n      <td>0</td>\n      <td>0-0(0%)</td>\n      <td>0-0(0%)</td>\n      <td>0-0(0%)</td>\n      <td>0</td>\n      <td>0</td>\n      <td>0</td>\n      <td>0</td>\n      <td>0</td>\n      <td>0</td>\n      <td>0</td>\n      <td>0</td>\n      <td>0</td>\n      <td>0/0</td>\n      <td>0</td>\n    </tr>\n    <tr>\n      <th>13</th>\n      <td>万圣伟</td>\n      <td>51</td>\n      <td>0</td>\n      <td>0</td>\n      <td>0-0(0%)</td>\n      <td>0-0(0%)</td>\n      <td>0-0(0%)</td>\n      <td>0</td>\n      <td>0</td>\n      <td>0</td>\n      <td>0</td>\n      <td>0</td>\n      <td>0</td>\n      <td>0</td>\n      <td>0</td>\n      <td>0</td>\n      <td>0/0</td>\n      <td>0</td>\n    </tr>\n    <tr>\n      <th>14</th>\n      <td>苏伟</td>\n      <td>12</td>\n      <td>3</td>\n      <td>0</td>\n      <td>0-0(0%)</td>\n      <td>0-0(0%)</td>\n      <td>0-0(0%)</td>\n      <td>1</td>\n      <td>1</td>\n      <td>0</td>\n      <td>2</td>\n      <td>0</td>\n      <td>1</td>\n      <td>0</td>\n      <td>0</td>\n      <td>0</td>\n      <td>0/0</td>\n      <td>0</td>\n    </tr>\n    <tr>\n      <th>15</th>\n      <td>方渭博</td>\n      <td>1</td>\n      <td>0</td>\n      <td>0</td>\n      <td>0-0(0%)</td>\n      <td>0-0(0%)</td>\n      <td>0-0(0%)</td>\n      <td>0</td>\n      <td>0</td>\n      <td>0</td>\n      <td>0</td>\n      <td>0</td>\n      <td>0</td>\n      <td>0</td>\n      <td>0</td>\n      <td>0</td>\n      <td>0/0</td>\n      <td>0</td>\n    </tr>\n    <tr>\n      <th>16</th>\n      <td>刘权标</td>\n      <td>0</td>\n      <td>0</td>\n      <td>0</td>\n      <td>0-0(0%)</td>\n      <td>0-0(0%)</td>\n      <td>0-0(0%)</td>\n      <td>0</td>\n      <td>0</td>\n      <td>0</td>\n      <td>0</td>\n      <td>0</td>\n      <td>0</td>\n      <td>0</td>\n      <td>0</td>\n      <td>0</td>\n      <td>0/0</td>\n      <td>0</td>\n    </tr>\n    <tr>\n      <th>17</th>\n      <td>广东</td>\n      <td>--</td>\n      <td>--</td>\n      <td>--</td>\n      <td>34-51(67%)</td>\n      <td>8-33(24%)</td>\n      <td>15-22(68%)</td>\n      <td>8</td>\n      <td>30</td>\n      <td>21</td>\n      <td>26</td>\n      <td>11</td>\n      <td>11</td>\n      <td>3</td>\n      <td>8</td>\n      <td>23</td>\n      <td>0/0</td>\n      <td>107</td>\n    </tr>\n    <tr>\n      <th>18</th>\n      <td>巴斯</td>\n      <td>30</td>\n      <td>30</td>\n      <td>1</td>\n      <td>5-15(33%)</td>\n      <td>0-0(0%)</td>\n      <td>10-11(91%)</td>\n      <td>3</td>\n      <td>9</td>\n      <td>1</td>\n      <td>2</td>\n      <td>1</td>\n      <td>0</td>\n      <td>2</td>\n      <td>2</td>\n      <td>10</td>\n      <td>0/0</td>\n      <td>20</td>\n    </tr>\n    <tr>\n      <th>19</th>\n      <td>郭艾伦</td>\n      <td>13</td>\n      <td>30</td>\n      <td>1</td>\n      <td>4-8(50%)</td>\n      <td>0-2(0%)</td>\n      <td>4-4(100%)</td>\n      <td>0</td>\n      <td>4</td>\n      <td>5</td>\n      <td>4</td>\n      <td>0</td>\n      <td>6</td>\n      <td>0</td>\n      <td>0</td>\n      <td>2</td>\n      <td>0/0</td>\n      <td>12</td>\n    </tr>\n    <tr>\n      <th>20</th>\n      <td>韩德君</td>\n      <td>55</td>\n      <td>24</td>\n      <td>1</td>\n      <td>4-6(67%)</td>\n      <td>0-0(0%)</td>\n      <td>2-3(67%)</td>\n      <td>3</td>\n      <td>6</td>\n      <td>0</td>\n      <td>4</td>\n      <td>0</td>\n      <td>2</td>\n      <td>1</td>\n      <td>0</td>\n      <td>2</td>\n      <td>0/0</td>\n      <td>10</td>\n    </tr>\n    <tr>\n      <th>21</th>\n      <td>刘志轩</td>\n      <td>11</td>\n      <td>16</td>\n      <td>1</td>\n      <td>1-1(100%)</td>\n      <td>1-1(100%)</td>\n      <td>0-0(0%)</td>\n      <td>1</td>\n      <td>1</td>\n      <td>0</td>\n      <td>3</td>\n      <td>0</td>\n      <td>1</td>\n      <td>0</td>\n      <td>0</td>\n      <td>1</td>\n      <td>0/0</td>\n      <td>5</td>\n    </tr>\n    <tr>\n      <th>22</th>\n      <td>赵继伟</td>\n      <td>3</td>\n      <td>33</td>\n      <td>1</td>\n      <td>1-2(50%)</td>\n      <td>0-3(0%)</td>\n      <td>2-2(100%)</td>\n      <td>0</td>\n      <td>3</td>\n      <td>1</td>\n      <td>2</td>\n      <td>2</td>\n      <td>0</td>\n      <td>0</td>\n      <td>0</td>\n      <td>2</td>\n      <td>0/0</td>\n      <td>4</td>\n    </tr>\n    <tr>\n      <th>23</th>\n      <td>史蒂芬森</td>\n      <td>1</td>\n      <td>41</td>\n      <td>0</td>\n      <td>10-17(59%)</td>\n      <td>3-11(27%)</td>\n      <td>5-7(71%)</td>\n      <td>1</td>\n      <td>2</td>\n      <td>3</td>\n      <td>2</td>\n      <td>2</td>\n      <td>3</td>\n      <td>0</td>\n      <td>1</td>\n      <td>6</td>\n      <td>0/0</td>\n      <td>34</td>\n    </tr>\n    <tr>\n      <th>24</th>\n      <td>丛明晨</td>\n      <td>10</td>\n      <td>12</td>\n      <td>0</td>\n      <td>0-0(0%)</td>\n      <td>2-2(100%)</td>\n      <td>0-0(0%)</td>\n      <td>1</td>\n      <td>2</td>\n      <td>0</td>\n      <td>1</td>\n      <td>0</td>\n      <td>0</td>\n      <td>0</td>\n      <td>0</td>\n      <td>0</td>\n      <td>0/0</td>\n      <td>6</td>\n    </tr>\n    <tr>\n      <th>25</th>\n      <td>李晓旭</td>\n      <td>22</td>\n      <td>28</td>\n      <td>0</td>\n      <td>3-8(38%)</td>\n      <td>0-0(0%)</td>\n      <td>0-0(0%)</td>\n      <td>2</td>\n      <td>2</td>\n      <td>2</td>\n      <td>0</td>\n      <td>1</td>\n      <td>0</td>\n      <td>1</td>\n      <td>0</td>\n      <td>2</td>\n      <td>0/0</td>\n      <td>6</td>\n    </tr>\n    <tr>\n      <th>26</th>\n      <td>贺天举</td>\n      <td>6</td>\n      <td>12</td>\n      <td>0</td>\n      <td>0-0(0%)</td>\n      <td>0-2(0%)</td>\n      <td>1-2(50%)</td>\n      <td>2</td>\n      <td>0</td>\n      <td>0</td>\n      <td>2</td>\n      <td>0</td>\n      <td>1</td>\n      <td>0</td>\n      <td>0</td>\n      <td>1</td>\n      <td>0/0</td>\n      <td>1</td>\n    </tr>\n    <tr>\n      <th>27</th>\n      <td>刘雁宇</td>\n      <td>17</td>\n      <td>0</td>\n      <td>0</td>\n      <td>0-0(0%)</td>\n      <td>0-0(0%)</td>\n      <td>0-0(0%)</td>\n      <td>0</td>\n      <td>0</td>\n      <td>0</td>\n      <td>0</td>\n      <td>0</td>\n      <td>0</td>\n      <td>0</td>\n      <td>0</td>\n      <td>0</td>\n      <td>0/0</td>\n      <td>0</td>\n    </tr>\n    <tr>\n      <th>28</th>\n      <td>郭旭</td>\n      <td>15</td>\n      <td>0</td>\n      <td>0</td>\n      <td>0-0(0%)</td>\n      <td>0-0(0%)</td>\n      <td>0-0(0%)</td>\n      <td>0</td>\n      <td>0</td>\n      <td>0</td>\n      <td>0</td>\n      <td>0</td>\n      <td>0</td>\n      <td>0</td>\n      <td>0</td>\n      <td>0</td>\n      <td>0/0</td>\n      <td>0</td>\n    </tr>\n    <tr>\n      <th>29</th>\n      <td>孙锴祺</td>\n      <td>18</td>\n      <td>0</td>\n      <td>0</td>\n      <td>0-0(0%)</td>\n      <td>0-0(0%)</td>\n      <td>0-0(0%)</td>\n      <td>0</td>\n      <td>0</td>\n      <td>0</td>\n      <td>0</td>\n      <td>0</td>\n      <td>0</td>\n      <td>0</td>\n      <td>0</td>\n      <td>0</td>\n      <td>0/0</td>\n      <td>0</td>\n    </tr>\n    <tr>\n      <th>30</th>\n      <td>王化东</td>\n      <td>32</td>\n      <td>0</td>\n      <td>0</td>\n      <td>0-0(0%)</td>\n      <td>0-0(0%)</td>\n      <td>0-0(0%)</td>\n      <td>0</td>\n      <td>0</td>\n      <td>0</td>\n      <td>0</td>\n      <td>0</td>\n      <td>0</td>\n      <td>0</td>\n      <td>0</td>\n      <td>0</td>\n      <td>0/0</td>\n      <td>0</td>\n    </tr>\n    <tr>\n      <th>31</th>\n      <td>高诗岩</td>\n      <td>0</td>\n      <td>9</td>\n      <td>0</td>\n      <td>0-1(0%)</td>\n      <td>0-1(0%)</td>\n      <td>0-0(0%)</td>\n      <td>0</td>\n      <td>1</td>\n      <td>0</td>\n      <td>3</td>\n      <td>1</td>\n      <td>0</td>\n      <td>0</td>\n      <td>0</td>\n      <td>0</td>\n      <td>0/0</td>\n      <td>0</td>\n    </tr>\n    <tr>\n      <th>32</th>\n      <td>卢梓杰</td>\n      <td>28</td>\n      <td>0</td>\n      <td>0</td>\n      <td>0-0(0%)</td>\n      <td>0-0(0%)</td>\n      <td>0-0(0%)</td>\n      <td>0</td>\n      <td>0</td>\n      <td>0</td>\n      <td>0</td>\n      <td>0</td>\n      <td>0</td>\n      <td>0</td>\n      <td>0</td>\n      <td>0</td>\n      <td>0/0</td>\n      <td>0</td>\n    </tr>\n    <tr>\n      <th>33</th>\n      <td>马壮</td>\n      <td>8</td>\n      <td>0</td>\n      <td>0</td>\n      <td>0-0(0%)</td>\n      <td>0-0(0%)</td>\n      <td>0-0(0%)</td>\n      <td>0</td>\n      <td>0</td>\n      <td>0</td>\n      <td>0</td>\n      <td>0</td>\n      <td>0</td>\n      <td>0</td>\n      <td>0</td>\n      <td>0</td>\n      <td>0/0</td>\n      <td>0</td>\n    </tr>\n    <tr>\n      <th>34</th>\n      <td>鄢手骐</td>\n      <td>36</td>\n      <td>0</td>\n      <td>0</td>\n      <td>0-0(0%)</td>\n      <td>0-0(0%)</td>\n      <td>0-0(0%)</td>\n      <td>0</td>\n      <td>0</td>\n      <td>0</td>\n      <td>0</td>\n      <td>0</td>\n      <td>0</td>\n      <td>0</td>\n      <td>0</td>\n      <td>0</td>\n      <td>0/0</td>\n      <td>0</td>\n    </tr>\n    <tr>\n      <th>35</th>\n      <td>辽宁</td>\n      <td>--</td>\n      <td>--</td>\n      <td>--</td>\n      <td>28-58(48%)</td>\n      <td>6-22(27%)</td>\n      <td>24-29(83%)</td>\n      <td>13</td>\n      <td>30</td>\n      <td>12</td>\n      <td>23</td>\n      <td>7</td>\n      <td>13</td>\n      <td>4</td>\n      <td>3</td>\n      <td>26</td>\n      <td>0/0</td>\n      <td>98</td>\n    </tr>\n  </tbody>\n</table>\n</div>"
     },
     "metadata": {},
     "output_type": "execute_result",
     "execution_count": 32
    }
   ],
   "source": [
    "pd.concat([df_hometeam_details,df_awayteam_details],ignore_index=True)"
   ]
  },
  {
   "cell_type": "markdown",
   "metadata": {},
   "source": [
    "###  各项最高 (Later)"
   ]
  },
  {
   "cell_type": "code",
   "execution_count": 33,
   "metadata": {
    "pycharm": {
     "is_executing": false
    }
   },
   "outputs": [],
   "source": [
    "highest_details = re.findall('<div class=\"part part01 blk\">(.*?)<div class=\"part part02 blk\">'\n",
    "                            ,page_content_str)[0]\n",
    "\n"
   ]
  },
  {
   "cell_type": "markdown",
   "metadata": {},
   "source": [
    "# Loop and Scrape"
   ]
  },
  {
   "cell_type": "raw",
   "metadata": {},
   "source": [
    "df_schedule_full = pd.read_csv('StatsData/GamesSchedulePage_2019-12-28.csv')"
   ]
  },
  {
   "cell_type": "code",
   "execution_count": 34,
   "metadata": {
    "scrolled": false,
    "pycharm": {
     "is_executing": false
    }
   },
   "outputs": [
    {
     "data": {
      "text/plain": "   轮次                日期  主队      比分  客队  战报  统计  组图  地点 电视  \\\n0   1  2019-11-01 19:35  广东  107:98  辽宁  战报  统计  组图  东莞      \n1   1  2019-11-02 19:35  江苏   96:97  浙江  战报  统计  组图  苏州      \n2   1  2019-11-02 19:35  四川  87:134  新疆  战报  统计  组图  成都      \n\n                                            主队_link  \\\n0    http://cba.sports.sina.com.cn/cba/team/show/1/   \n1    http://cba.sports.sina.com.cn/cba/team/show/2/   \n2  http://cba.sports.sina.com.cn/cba/team/show/182/   \n\n                                             比分_link  \\\n0  http://cba.sports.sina.com.cn/cba/schedule/sho...   \n1  http://cba.sports.sina.com.cn/cba/schedule/sho...   \n2  http://cba.sports.sina.com.cn/cba/schedule/sho...   \n\n                                           客队_link  \\\n0   http://cba.sports.sina.com.cn/cba/team/show/9/   \n1   http://cba.sports.sina.com.cn/cba/team/show/6/   \n2  http://cba.sports.sina.com.cn/cba/team/show/11/   \n\n                                             战报_link  \\\n0  http://sports.sina.com.cn/basketball/cba/2019-...   \n1  http://sports.sina.com.cn/basketball/cba/2019-...   \n2  http://sports.sina.com.cn/basketball/cba/2019-...   \n\n                                             统计_link  \\\n0  http://cba.sports.sina.com.cn/cba/schedule/sho...   \n1  http://cba.sports.sina.com.cn/cba/schedule/sho...   \n2  http://cba.sports.sina.com.cn/cba/schedule/sho...   \n\n                                             组图_link            UID  \n0  http://slide.sports.sina.com.cn/cba/slide_2_79...  2019202000001  \n1  http://slide.sports.sina.com.cn/cba/slide_2_78...  2019202000002  \n2  http://slide.sports.sina.com.cn/cba/slide_2_78...  2019202000003  ",
      "text/html": "<div>\n<style scoped>\n    .dataframe tbody tr th:only-of-type {\n        vertical-align: middle;\n    }\n\n    .dataframe tbody tr th {\n        vertical-align: top;\n    }\n\n    .dataframe thead th {\n        text-align: right;\n    }\n</style>\n<table border=\"1\" class=\"dataframe\">\n  <thead>\n    <tr style=\"text-align: right;\">\n      <th></th>\n      <th>轮次</th>\n      <th>日期</th>\n      <th>主队</th>\n      <th>比分</th>\n      <th>客队</th>\n      <th>战报</th>\n      <th>统计</th>\n      <th>组图</th>\n      <th>地点</th>\n      <th>电视</th>\n      <th>主队_link</th>\n      <th>比分_link</th>\n      <th>客队_link</th>\n      <th>战报_link</th>\n      <th>统计_link</th>\n      <th>组图_link</th>\n      <th>UID</th>\n    </tr>\n  </thead>\n  <tbody>\n    <tr>\n      <th>0</th>\n      <td>1</td>\n      <td>2019-11-01 19:35</td>\n      <td>广东</td>\n      <td>107:98</td>\n      <td>辽宁</td>\n      <td>战报</td>\n      <td>统计</td>\n      <td>组图</td>\n      <td>东莞</td>\n      <td></td>\n      <td>http://cba.sports.sina.com.cn/cba/team/show/1/</td>\n      <td>http://cba.sports.sina.com.cn/cba/schedule/sho...</td>\n      <td>http://cba.sports.sina.com.cn/cba/team/show/9/</td>\n      <td>http://sports.sina.com.cn/basketball/cba/2019-...</td>\n      <td>http://cba.sports.sina.com.cn/cba/schedule/sho...</td>\n      <td>http://slide.sports.sina.com.cn/cba/slide_2_79...</td>\n      <td>2019202000001</td>\n    </tr>\n    <tr>\n      <th>1</th>\n      <td>1</td>\n      <td>2019-11-02 19:35</td>\n      <td>江苏</td>\n      <td>96:97</td>\n      <td>浙江</td>\n      <td>战报</td>\n      <td>统计</td>\n      <td>组图</td>\n      <td>苏州</td>\n      <td></td>\n      <td>http://cba.sports.sina.com.cn/cba/team/show/2/</td>\n      <td>http://cba.sports.sina.com.cn/cba/schedule/sho...</td>\n      <td>http://cba.sports.sina.com.cn/cba/team/show/6/</td>\n      <td>http://sports.sina.com.cn/basketball/cba/2019-...</td>\n      <td>http://cba.sports.sina.com.cn/cba/schedule/sho...</td>\n      <td>http://slide.sports.sina.com.cn/cba/slide_2_78...</td>\n      <td>2019202000002</td>\n    </tr>\n    <tr>\n      <th>2</th>\n      <td>1</td>\n      <td>2019-11-02 19:35</td>\n      <td>四川</td>\n      <td>87:134</td>\n      <td>新疆</td>\n      <td>战报</td>\n      <td>统计</td>\n      <td>组图</td>\n      <td>成都</td>\n      <td></td>\n      <td>http://cba.sports.sina.com.cn/cba/team/show/182/</td>\n      <td>http://cba.sports.sina.com.cn/cba/schedule/sho...</td>\n      <td>http://cba.sports.sina.com.cn/cba/team/show/11/</td>\n      <td>http://sports.sina.com.cn/basketball/cba/2019-...</td>\n      <td>http://cba.sports.sina.com.cn/cba/schedule/sho...</td>\n      <td>http://slide.sports.sina.com.cn/cba/slide_2_78...</td>\n      <td>2019202000003</td>\n    </tr>\n  </tbody>\n</table>\n</div>"
     },
     "metadata": {},
     "output_type": "execute_result",
     "execution_count": 34
    }
   ],
   "source": [
    "df_schedule_full[:3]"
   ]
  },
  {
   "cell_type": "code",
   "execution_count": 35,
   "metadata": {
    "scrolled": true,
    "pycharm": {
     "is_executing": false
    }
   },
   "outputs": [
    {
     "data": {
      "text/plain": "Index(['轮次', '日期', '主队', '比分', '客队', '战报', '统计', '组图', '地点', '电视', '主队_link',\n       '比分_link', '客队_link', '战报_link', '统计_link', '组图_link', 'UID'],\n      dtype='object')"
     },
     "metadata": {},
     "output_type": "execute_result",
     "execution_count": 35
    }
   ],
   "source": [
    "df_schedule_full.columns"
   ]
  },
  {
   "cell_type": "code",
   "execution_count": 36,
   "metadata": {
    "scrolled": true,
    "pycharm": {
     "is_executing": false
    }
   },
   "outputs": [
    {
     "name": "stdout",
     "text": [
      "2019202000001   广东   辽宁   2020-01-07 16:24:25.421856\n",
      "2019202000002   江苏   浙江   2020-01-07 16:24:30.402606\n",
      "2019202000003   四川   新疆   2020-01-07 16:24:31.658143\n",
      "2019202000004   山东   八一   2020-01-07 16:24:35.868352\n",
      "2019202000005   北控   深圳   2020-01-07 16:24:42.314473\n",
      "2019202000006   青岛   吉林   2020-01-07 16:24:51.740971\n",
      "2019202000007   广厦   福建   2020-01-07 16:24:52.694661\n",
      "2019202000008   上海   同曦   2020-01-07 16:24:56.044284\n",
      "2019202000009   天津   北京   2020-01-07 16:25:04.700879\n",
      "2019202000010   广州   山西   2020-01-07 16:25:05.830160\n",
      "2019202000011   辽宁   广厦   2020-01-07 16:25:07.788928\n",
      "2019202000012   北控   上海   2020-01-07 16:25:10.571090\n",
      "2019202000013   同曦   江苏   2020-01-07 16:25:21.327156\n",
      "2019202000014   山西   福建   2020-01-07 16:25:25.435575\n",
      "2019202000015   青岛   八一   2020-01-07 16:25:35.877739\n",
      "2019202000016   新疆   浙江   2020-01-07 16:25:38.718113\n",
      "2019202000017   广东   四川   2020-01-07 16:25:48.414367\n",
      "2019202000018   北京   山东   2020-01-07 16:25:49.277450\n",
      "2019202000019   天津   吉林   2020-01-07 16:25:51.116135\n",
      "2019202000020   深圳   广州   2020-01-07 16:25:54.857836\n",
      "2019202000021   同曦   四川   2020-01-07 16:25:56.535039\n",
      "2019202000022   福建   青岛   2020-01-07 16:26:05.139117\n",
      "2019202000023   新疆   广厦   2020-01-07 16:26:07.890125\n",
      "2019202000024   江苏   天津   2020-01-07 16:26:15.672315\n",
      "2019202000025   广州   北控   2020-01-07 16:26:23.433854\n",
      "2019202000026   北京   上海   2020-01-07 16:26:32.667387\n",
      "2019202000027   辽宁   深圳   2020-01-07 16:26:37.817780\n",
      "2019202000028   吉林   八一   2020-01-07 16:26:44.263341\n",
      "2019202000029   广东   山东   2020-01-07 16:26:45.308430\n",
      "2019202000030   浙江   山西   2020-01-07 16:26:53.751865\n",
      "2019202000031   同曦   浙江   2020-01-07 16:26:58.208446\n",
      "2019202000032   辽宁   八一   2020-01-07 16:27:02.234507\n",
      "2019202000033   吉林   广东   2020-01-07 16:27:06.682895\n",
      "2019202000034   广厦   山西   2020-01-07 16:27:16.840609\n",
      "2019202000035   福建   新疆   2020-01-07 16:27:26.160570\n",
      "2019202000036   山东   广州   2020-01-07 16:27:28.653802\n",
      "2019202000037   上海   天津   2020-01-07 16:27:32.325580\n",
      "2019202000038   北京   青岛   2020-01-07 16:27:42.366580\n",
      "2019202000039   深圳   北控   2020-01-07 16:27:52.360432\n",
      "2019202000040   江苏   四川   2020-01-07 16:27:59.148596\n",
      "2019202000041   山东   天津   2020-01-07 16:28:03.167625\n",
      "2019202000042   辽宁   同曦   2020-01-07 16:28:09.760032\n",
      "2019202000043   山西   上海   2020-01-07 16:28:17.444376\n",
      "2019202000044   青岛   广州   2020-01-07 16:28:20.333500\n",
      "2019202000045   深圳   北京   2020-01-07 16:28:25.531292\n",
      "2019202000046   广厦   江苏   2020-01-07 16:28:31.078114\n",
      "2019202000047   八一   福建   2020-01-07 16:28:36.855220\n",
      "2019202000048   新疆   吉林   2020-01-07 16:28:43.558478\n",
      "2019202000049   四川   广东   2020-01-07 16:28:49.703923\n",
      "2019202000050   北控   浙江   2020-01-07 16:28:59.938237\n",
      "2019202000051   江苏   北京   2020-01-07 16:29:02.431084\n",
      "2019202000052   新疆   辽宁   2020-01-07 16:29:09.966413\n",
      "2019202000053   山西   同曦   2020-01-07 16:29:17.343548\n",
      "2019202000054   四川   广州   2020-01-07 16:29:28.195513\n",
      "2019202000055   天津   浙江   2020-01-07 16:29:29.019966\n",
      "2019202000056   青岛   福建   2020-01-07 16:29:39.465159\n",
      "2019202000057   山东   广东   2020-01-07 16:29:43.362810\n",
      "2019202000058   北控   广厦   2020-01-07 16:29:48.121628\n",
      "2019202000059   深圳   上海   2020-01-07 16:29:58.341620\n",
      "2019202000060   八一   吉林   2020-01-07 16:30:08.952860\n",
      "2019202000061   天津   四川   2020-01-07 16:30:11.416570\n",
      "2019202000062   上海   江苏   2020-01-07 16:30:17.452067\n",
      "2019202000063   同曦   广厦   2020-01-07 16:30:18.575681\n",
      "2019202000064   浙江   辽宁   2020-01-07 16:30:23.493046\n",
      "2019202000065   青岛   山东   2020-01-07 16:30:34.499800\n",
      "2019202000066   福建   八一   2020-01-07 16:30:39.059449\n",
      "2019202000067   广东   新疆   2020-01-07 16:30:48.896320\n",
      "2019202000068   广州   深圳   2020-01-07 16:30:56.067097\n",
      "2019202000069   北京   北控   2020-01-07 16:30:57.909906\n",
      "2019202000070   山西   吉林   2020-01-07 16:31:05.265123\n",
      "2019202000071   江苏   青岛   2020-01-07 16:31:14.203232\n",
      "2019202000072   山东   四川   2020-01-07 16:31:21.658072\n",
      "2019202000073   上海   广厦   2020-01-07 16:31:31.688961\n",
      "2019202000074   浙江   福建   2020-01-07 16:31:34.911213\n",
      "2019202000075   天津   广东   2020-01-07 16:31:41.511150\n",
      "2019202000076   广州   新疆   2020-01-07 16:31:51.352474\n",
      "2019202000077   深圳   八一   2020-01-07 16:31:53.159350\n",
      "2019202000078   同曦   山西   2020-01-07 16:32:00.354562\n",
      "2019202000079   辽宁   北京   2020-01-07 16:32:10.467507\n",
      "2019202000080   吉林   北控   2020-01-07 16:32:18.175465\n",
      "2019202000081   江苏   山东   2020-01-07 16:32:29.095708\n",
      "2019202000082   广厦   浙江   2020-01-07 16:32:38.904418\n",
      "2019202000083   青岛   四川   2020-01-07 16:32:45.230877\n",
      "2019202000084   八一   天津   2020-01-07 16:32:54.855258\n",
      "2019202000085   广州   上海   2020-01-07 16:33:05.282388\n",
      "2019202000086   深圳   新疆   2020-01-07 16:33:09.703650\n",
      "2019202000087   山西   广东   2020-01-07 16:33:14.292394\n",
      "2019202000088   辽宁   北控   2020-01-07 16:33:18.190027\n",
      "2019202000089   吉林   北京   2020-01-07 16:33:18.891853\n",
      "2019202000090   福建   同曦   2020-01-07 16:33:21.670366\n",
      "2019202000091   北控   北京   2020-01-07 16:33:26.180897\n",
      "2019202000092   广州   天津   2020-01-07 16:33:31.979921\n",
      "2019202000093   上海   深圳   2020-01-07 16:33:41.252747\n",
      "2019202000094   同曦   广东   2020-01-07 16:33:50.756645\n",
      "2019202000095   浙江   山东   2020-01-07 16:33:58.566982\n",
      "2019202000096   广厦   青岛   2020-01-07 16:34:00.071444\n",
      "2019202000097   新疆   八一   2020-01-07 16:34:06.722220\n",
      "2019202000098   四川   吉林   2020-01-07 16:34:10.001897\n",
      "2019202000099   山西   辽宁   2020-01-07 16:34:11.839753\n",
      "2019202000100   福建   江苏   2020-01-07 16:34:17.085024\n",
      "2019202000101   上海   广州   2020-01-07 16:34:18.812622\n",
      "2019202000102   北京   八一   2020-01-07 16:34:24.750037\n",
      "2019202000103   同曦   深圳   2020-01-07 16:34:26.858099\n",
      "2019202000104   浙江   青岛   2020-01-07 16:34:37.459747\n",
      "2019202000105   广厦   山东   2020-01-07 16:34:43.716283\n",
      "2019202000106   江苏   吉林   2020-01-07 16:34:53.422456\n",
      "2019202000107   四川   辽宁   2020-01-07 16:34:59.834411\n",
      "2019202000108   天津   山西   2020-01-07 16:35:00.645015\n",
      "2019202000109   广东   福建   2020-01-07 16:35:11.038119\n",
      "2019202000110   新疆   北控   2020-01-07 16:35:13.311854\n",
      "2019202000111   山东   上海   2020-01-07 16:35:14.595544\n",
      "2019202000112   深圳   广厦   2020-01-07 16:35:15.947992\n",
      "2019202000113   八一   广州   2020-01-07 16:35:21.953754\n",
      "2019202000114   青岛   同曦   2020-01-07 16:35:32.060664\n",
      "2019202000115   江苏   山西   2020-01-07 16:35:38.791802\n",
      "2019202000116   四川   北控   2020-01-07 16:35:46.126751\n",
      "2019202000117   北京   广东   2020-01-07 16:35:47.516945\n",
      "2019202000118   浙江   吉林   2020-01-07 16:35:53.295545\n",
      "2019202000119   辽宁   天津   2020-01-07 16:36:04.125458\n",
      "2019202000120   新疆   福建   2020-01-07 16:36:11.300398\n",
      "2019202000121   广州   北京   2020-01-07 16:36:20.559927\n",
      "2019202000122   山东   同曦   2020-01-07 16:36:21.282492\n",
      "2019202000123   吉林   福建   2020-01-07 16:36:25.178105\n",
      "2019202000124   山西   广厦   2020-01-07 16:36:30.088058\n",
      "2019202000125   浙江   辽宁   2020-01-07 16:36:39.988003\n",
      "2019202000126   天津   北控   2020-01-07 16:36:48.067349\n",
      "2019202000127   江苏   新疆   2020-01-07 16:36:53.967433\n",
      "2019202000128   上海   青岛   2020-01-07 16:36:59.994773\n",
      "2019202000129   深圳   四川   2020-01-07 16:37:08.603996\n",
      "2019202000130   八一   广东   2020-01-07 16:37:13.303613\n",
      "2019202000131   北控   山东   2020-01-07 16:37:15.563080\n",
      "2019202000132   同曦   浙江   2020-01-07 16:37:20.270158\n",
      "2019202000133   广厦   天津   2020-01-07 16:37:27.259537\n",
      "2019202000134   福建   上海   2020-01-07 16:37:35.547247\n",
      "2019202000135   山西   四川   2020-01-07 16:37:40.860730\n",
      "2019202000136   青岛   广东   2020-01-07 16:37:44.516176\n",
      "2019202000137   广州   辽宁   2020-01-07 16:37:48.550637\n",
      "2019202000138   北京   深圳   2020-01-07 16:37:54.157696\n",
      "2019202000139   八一   江苏   2020-01-07 16:37:59.702386\n",
      "2019202000140   吉林   新疆   2020-01-07 16:38:04.917000\n",
      "2019202000141   福建   北控   2020-01-07 16:38:11.814696\n",
      "2019202000142   吉林   上海   2020-01-07 16:38:17.469666\n",
      "2019202000143   北京   广州   2020-01-07 16:38:22.525829\n",
      "2019202000144   浙江   八一   2020-01-07 16:38:27.689198\n",
      "2019202000145   辽宁   同曦   2020-01-07 16:38:31.553264\n",
      "2019202000146   广东   广厦   2020-01-07 16:38:41.199009\n",
      "2019202000147   山东   江苏   2020-01-07 16:38:47.888691\n",
      "2019202000148   山西   新疆   2020-01-07 16:38:57.009491\n",
      "2019202000149   青岛   深圳   2020-01-07 16:39:07.291635\n",
      "2019202000150   四川   天津   2020-01-07 16:39:10.174376\n",
      "2019202000151   吉林   同曦   2020-01-07 16:39:12.105071\n",
      "2019202000152   北控   广州   2020-01-07 16:39:16.177047\n",
      "2019202000153   广厦   八一   2020-01-07 16:39:18.229761\n",
      "2019202000154   辽宁   上海   2020-01-07 16:39:20.621213\n",
      "2019202000155   福建   北京   2020-01-07 16:39:26.217856\n",
      "2019202000156   广东   浙江   2020-01-07 16:39:33.425676\n",
      "2019202000157   山东   山西   2020-01-07 16:39:35.666215\n",
      "2019202000158   四川   江苏   2020-01-07 16:39:39.846441\n",
      "2019202000159   深圳   天津   2020-01-07 16:39:50.246820\n",
      "2019202000160   新疆   青岛   2020-01-07 16:39:53.807516\n",
      "2019202000161   上海   北京   2020-01-07 16:39:58.577389\n",
      "2019202000162   同曦   广州   2020-01-07 16:40:03.895073\n",
      "2019202000163   浙江   广厦   2020-01-07 16:40:11.828677\n",
      "2019202000164   辽宁   吉林   2020-01-07 16:40:13.725050\n",
      "2019202000165   天津   江苏   2020-01-07 16:40:23.732737\n",
      "2019202000166   北控   广东   2020-01-07 16:40:26.538832\n",
      "2019202000167   深圳   福建   2020-01-07 16:40:33.295686\n",
      "2019202000168   八一   四川   2020-01-07 16:40:36.672331\n",
      "2019202000169   青岛   山西   2020-01-07 16:40:41.569768\n",
      "2019202000170   新疆   山东   2020-01-07 16:40:48.038135\n",
      "2019202000171   吉林   深圳   2020-01-07 16:40:49.774483\n",
      "2019202000172   江苏   广东   2020-01-07 16:40:58.582550\n",
      "2019202000173   四川   山东   2020-01-07 16:41:03.641565\n",
      "2019202000174   广州   福建   2020-01-07 16:41:14.556026\n",
      "2019202000175   北京   广厦   2020-01-07 16:41:19.061118\n",
      "2019202000176   青岛   辽宁   2020-01-07 16:41:22.956100\n",
      "2019202000177   八一   新疆   2020-01-07 16:41:30.401394\n",
      "2019202000178   天津   同曦   2020-01-07 16:41:40.626530\n",
      "2019202000179   上海   北控   2020-01-07 16:41:49.580052\n",
      "2019202000180   山西   浙江   2020-01-07 16:41:53.288148\n",
      "2019202000181   江苏   广州   2020-01-07 16:41:59.643331\n",
      "2019202000182   四川   广厦   2020-01-07 16:42:04.748660\n",
      "2019202000183   山东   辽宁   2020-01-07 16:42:05.838946\n",
      "2019202000184   北控   青岛   2020-01-07 16:42:15.568189\n",
      "2019202000185   新疆   同曦   2020-01-07 16:42:23.627923\n",
      "2019202000186   福建   吉林   2020-01-07 16:42:31.159056\n",
      "2019202000187   北京   浙江   2020-01-07 16:42:39.356019\n",
      "2019202000188   山西   深圳   2020-01-07 16:42:40.987977\n",
      "2019202000189   上海   八一   2020-01-07 16:42:42.542019\n",
      "2019202000190   广东   天津   2020-01-07 16:42:50.001659\n",
      "2019202000191   北控   江苏   2020-01-07 16:42:52.458713\n",
      "2019202000192   四川   浙江   2020-01-07 16:43:02.900561\n",
      "2019202000193   山西   北京   2020-01-07 16:43:09.355112\n",
      "2019202000194   深圳   山东   2020-01-07 16:43:17.823558\n",
      "2019202000195   天津   青岛   2020-01-07 16:43:25.227056\n",
      "2019202000196   广厦   吉林   2020-01-07 16:43:33.251234\n",
      "2019202000197   广州   广东   2020-01-07 16:43:43.660807\n",
      "2019202000198   八一   同曦   2020-01-07 16:43:51.440079\n",
      "2019202000199   福建   辽宁   2020-01-07 16:43:52.800685\n",
      "2019202000200   新疆   上海   2020-01-07 16:44:00.579102\n",
      "2019202000201   天津   山东   2020-01-07 16:44:11.270144\n",
      "2019202000202   广厦   辽宁   2020-01-07 16:44:13.659320\n",
      "2019202000203   深圳   江苏   2020-01-07 16:44:22.172246\n",
      "2019202000204   浙江   广州   2020-01-07 16:44:26.043146\n",
      "2019202000205   吉林   青岛   2020-01-07 16:44:32.076868\n",
      "2019202000206   北京   新疆   2020-01-07 16:44:38.758917\n",
      "2019202000207   广东   上海   2020-01-07 16:44:45.801773\n",
      "2019202000208   同曦   北控   2020-01-07 16:44:47.597445\n",
      "2019202000209   八一   山西   2020-01-07 16:44:53.404182\n",
      "2019202000210   福建   四川   2020-01-07 16:45:02.852208\n",
      "2019202000211   广州   广厦   2020-01-07 16:45:10.533161\n",
      "2019202000212   浙江   深圳   2020-01-07 16:45:14.467027\n",
      "2019202000213   同曦   北京   2020-01-07 16:45:22.363296\n",
      "2019202000214   八一   北控   2020-01-07 16:45:26.466907\n",
      "2019202000215   吉林   山东   2020-01-07 16:45:29.019040\n",
      "2019202000216   天津   福建   2020-01-07 16:45:36.361028\n",
      "2019202000217   上海   四川   2020-01-07 16:45:37.307656\n",
      "2019202000218   辽宁   山西   2020-01-07 16:45:38.664693\n",
      "2019202000219   青岛   新疆   2020-01-07 16:45:43.425725\n",
      "2019202000220   广东   江苏   2020-01-07 16:45:45.829640\n",
      "2019202000221   四川   北京   2020-01-07 16:45:50.228046\n",
      "2019202000222   天津   新疆   2020-01-07 16:46:00.370551\n",
      "2019202000223   山东   福建   2020-01-07 16:46:02.133806\n",
      "2019202000224   北控   山西   2020-01-07 16:46:05.119525\n",
      "2019202000225   广州   吉林   2020-01-07 16:46:07.623569\n",
      "2019202000226   广厦   同曦   2020-01-07 16:46:11.514693\n",
      "2019202000227   青岛   八一   2020-01-07 16:46:14.790727\n",
      "2019202000228   江苏   辽宁   2020-01-07 16:46:20.735721\n",
      "2019202000229   上海   浙江   2020-01-07 16:46:30.465914\n",
      "2019202000230   广东   深圳   2020-01-07 16:46:39.502994\n",
      "2019202000231   北京   天津   2020-01-07 16:46:46.543288\n",
      "2019202000232   山西   广州   2020-01-07 16:46:52.474796\n",
      "2019202000233   八一   山东   2020-01-07 16:46:56.888460\n",
      "2019202000234   吉林   青岛   2020-01-07 16:47:03.535908\n",
      "2019202000235   福建   广厦   2020-01-07 16:47:05.378608\n",
      "2019202000236   新疆   四川   2020-01-07 16:47:13.219850\n",
      "2019202000237   同曦   上海   2020-01-07 16:47:21.355823\n",
      "2019202000238   浙江   江苏   2020-01-07 16:47:25.631765\n",
      "2019202000239   辽宁   广东   2020-01-07 16:47:33.366281\n",
      "2019202000240   深圳   北控   2020-01-07 16:47:39.837179\n",
      "2019202000241   山东   北京   2020-01-07 16:47:49.207974\n",
      "2019202000242   八一   青岛   2020-01-07 16:47:57.415869\n",
      "2019202000243   吉林   天津   2020-01-07 16:48:01.869467\n",
      "2019202000244   福建   山西   2020-01-07 16:48:05.181894\n",
      "2019202000245   江苏   同曦   2020-01-07 16:48:10.104785\n",
      "2019202000246   四川   广东   2020-01-07 16:48:14.726257\n",
      "2019202000247   深圳   广州   2020-01-07 16:48:18.959459\n",
      "2019202000248   上海   北控   2020-01-07 16:48:29.125276\n",
      "2019202000249   浙江   新疆   2020-01-07 16:48:34.418182\n",
      "2019202000250   广厦   辽宁   2020-01-07 16:48:44.197438\n",
      "2019202000251   四川   同曦   2020-01-07 16:48:52.508990\n",
      "2019202000252   天津   江苏   2020-01-07 16:49:02.465511\n",
      "2019202000253   山东   广东   2020-01-07 16:49:07.455612\n",
      "2019202000254   广州   北控   2020-01-07 16:49:13.797733\n",
      "2019202000255   上海   北京   2020-01-07 16:49:21.074605\n",
      "2019202000256   深圳   辽宁   2020-01-07 16:49:30.992705\n",
      "2019202000257   山西   浙江   2020-01-07 16:49:33.038303\n",
      "2019202000258   广厦   新疆   2020-01-07 16:49:33.857020\n",
      "2019202000259   八一   吉林   2020-01-07 16:49:38.662110\n",
      "2019202000260   青岛   福建   2020-01-07 16:49:40.498689\n",
      "2019202000261   四川   江苏   2020-01-07 16:49:49.301125\n",
      "2019202000262   天津   上海   2020-01-07 16:49:59.840144\n",
      "2019202000263   浙江   同曦   2020-01-07 16:50:03.500391\n",
      "2019202000264   山西   广厦   2020-01-07 16:50:11.543804\n",
      "2019202000265   八一   辽宁   2020-01-07 16:50:13.139630\n",
      "2019202000266   广东   吉林   2020-01-07 16:50:15.235203\n",
      "2019202000267   广州   山东   2020-01-07 16:50:24.798438\n",
      "2019202000268   新疆   福建   2020-01-07 16:50:30.944815\n",
      "2019202000269   北控   深圳   2020-01-07 16:50:34.859961\n",
      "2019202000270   青岛   北京   2020-01-07 16:50:42.616133\n",
      "2019202000271   江苏   广厦   2020-01-07 16:50:47.535880\n",
      "2019202000272   上海   山西   2020-01-07 16:50:50.433585\n",
      "2019202000273   同曦   辽宁   2020-01-07 16:50:52.655599\n",
      "2019202000274   天津   山东   2020-01-07 16:51:02.381683\n",
      "2019202000275   广东   四川   2020-01-07 16:51:11.641708\n",
      "2019202000276   福建   八一   2020-01-07 16:51:21.528133\n",
      "2019202000277   吉林   新疆   2020-01-07 16:51:24.488820\n",
      "2019202000278   广州   青岛   2020-01-07 16:51:26.036447\n",
      "2019202000279   北京   深圳   2020-01-07 16:51:32.379271\n",
      "2019202000280   浙江   北控   2020-01-07 16:51:41.802903\n",
      "2019202000281   广东   山东   2020-01-07 16:51:51.636126\n",
      "2019202000282   同曦   山西   2020-01-07 16:51:52.459070\n",
      "2019202000283   吉林   八一   2020-01-07 16:52:00.646691\n",
      "2019202000284   辽宁   新疆   2020-01-07 16:52:06.994919\n",
      "2019202000285   广州   四川   2020-01-07 16:52:14.982184\n",
      "2019202000286   上海   深圳   2020-01-07 16:52:17.226059\n",
      "2019202000287   北京   江苏   2020-01-07 16:52:17.951155\n",
      "2019202000288   浙江   天津   2020-01-07 16:52:25.863651\n",
      "2019202000289   广厦   北控   2020-01-07 16:52:33.265186\n",
      "2019202000290   福建   青岛   2020-01-07 16:52:37.920101\n",
      "2019202000291   吉林   山西   2020-01-07 16:52:45.706585\n",
      "2019202000292   江苏   上海   2020-01-07 16:52:54.099136\n",
      "2019202000293   四川   天津   2020-01-07 16:53:02.495547\n",
      "2019202000294   山东   青岛   2020-01-07 16:53:05.979622\n",
      "2019202000295   北控   北京   2020-01-07 16:53:12.053849\n",
      "2019202000296   广州   深圳   2020-01-07 16:53:20.937484\n",
      "2019202000297   辽宁   浙江   2020-01-07 16:53:29.588071\n",
      "2019202000298   广厦   同曦   2020-01-07 16:53:34.187970\n",
      "2019202000299   八一   福建   2020-01-07 16:53:37.721392\n",
      "2019202000300   新疆   广东   2020-01-07 16:53:40.803437\n",
      "2019202000301   四川   山东   2020-01-07 16:53:44.757751\n",
      "2019202000302   北京   辽宁   2020-01-07 16:53:50.624761\n",
      "2019202000303   福建   浙江   2020-01-07 16:53:56.562718\n",
      "2019202000304   八一   深圳   2020-01-07 16:54:05.274836\n",
      "2019202000305   新疆   广州   2020-01-07 16:54:11.310723\n",
      "2019202000306   北控   吉林   2020-01-07 16:54:20.384649\n",
      "2019202000307   山西   同曦   2020-01-07 16:54:30.338955\n",
      "2019202000308   广厦   上海   2020-01-07 16:54:34.657465\n",
      "2019202000309   青岛   江苏   2020-01-07 16:54:44.785761\n",
      "2019202000310   广东   天津   2020-01-07 16:54:46.329750\n",
      "2019202000311   四川   青岛   2020-01-07 16:54:51.864472\n",
      "2019202000312   天津   八一   2020-01-07 16:54:55.405612\n",
      "2019202000313   山东   江苏   2020-01-07 16:55:04.764170\n",
      "2019202000314   北控   辽宁   2020-01-07 16:55:13.569852\n",
      "2019202000315   上海   广州   2020-01-07 16:55:18.138452\n",
      "2019202000316   浙江   广厦   2020-01-07 16:55:25.037448\n",
      "2019202000317   新疆   深圳   2020-01-07 16:55:26.772997\n",
      "2019202000318   北京   吉林   2020-01-07 16:55:32.206876\n",
      "2019202000319   同曦   福建   2020-01-07 16:55:34.301137\n",
      "2019202000320   广东   山西   2020-01-07 16:55:37.733840\n",
      "2019202000321   天津   广州   2020-01-07 16:55:45.936417\n",
      "2019202000322   山东   浙江   2020-01-07 16:55:49.608017\n",
      "2019202000323   青岛   广厦   2020-01-07 16:55:53.506263\n",
      "2019202000324   江苏   福建   2020-01-07 16:56:01.342391\n",
      "2019202000325   北京   北控   2020-01-07 16:56:11.384117\n",
      "2019202000326   辽宁   山西   2020-01-07 16:56:14.207087\n",
      "2019202000327   八一   新疆   2020-01-07 16:56:22.442374\n",
      "2019202000328   吉林   四川   2020-01-07 16:56:29.139972\n",
      "2019202000329   广东   同曦   2020-01-07 16:56:38.358151\n",
      "2019202000330   深圳   上海   2020-01-07 16:56:47.572243\n",
      "2019202000331   山东   广厦   2020-01-07 16:56:55.970169\n",
      "2019202000332   青岛   浙江   2020-01-07 16:56:56.789813\n",
      "2019202000333   广州   上海   2020-01-07 16:57:05.595908\n",
      "2019202000334   北控   新疆   2020-01-07 16:57:13.603788\n",
      "2019202000335   深圳   同曦   2020-01-07 16:57:19.520436\n",
      "2019202000336   山西   天津   2020-01-07 16:57:28.546513\n",
      "2019202000337   辽宁   四川   2020-01-07 16:57:29.646447\n",
      "2019202000338   八一   北京   2020-01-07 16:57:35.010834\n",
      "2019202000339   吉林   江苏   2020-01-07 16:57:37.563588\n",
      "2019202000340   福建   广东   2020-01-07 16:57:44.711474\n",
      "2019202000341   天津   辽宁   2020-01-07 16:57:49.013745\n",
      "2019202000342   广州   八一   2020-01-07 16:57:50.767688\n",
      "2019202000343   吉林   浙江   2020-01-07 16:57:55.565597\n",
      "2019202000344   北控   四川   2020-01-07 16:58:05.560572\n",
      "2019202000345   同曦   青岛   2020-01-07 16:58:15.360456\n",
      "2019202000346   福建   新疆   2020-01-07 16:58:22.098146\n",
      "2019202000347   上海   山东   2020-01-07 16:58:27.397134\n",
      "2019202000348   山西   江苏   2020-01-07 16:58:34.339093\n",
      "2019202000349   广东   北京   2020-01-07 16:58:40.621511\n",
      "2019202000350   广厦   深圳   2020-01-07 16:58:47.119993\n",
      "2019202000351   北京   广州   2020-01-07 16:58:53.734882\n",
      "2019202000352   同曦   山东   2020-01-07 16:58:55.369260\n",
      "2019202000353   福建   吉林   2020-01-07 16:59:01.715999\n",
      "2019202000354   北控   天津   2020-01-07 16:59:10.941757\n",
      "2019202000355   辽宁   浙江   2020-01-07 16:59:15.858904\n",
      "2019202000356   青岛   上海   2020-01-07 16:59:24.699777\n",
      "2019202000357   广厦   山西   2020-01-07 16:59:34.142639\n",
      "2019202000358   四川   深圳   2020-01-07 16:59:38.787822\n",
      "2019202000359   广东   八一   2020-01-07 16:59:47.603602\n",
      "2019202000360   新疆   江苏   2020-01-07 16:59:54.379007\n",
      "2019202000361   山东   北控   2020-01-07 17:00:00.698981\n",
      "2019202000362   上海   福建   2020-01-07 17:00:01.919693\n",
      "2019202000363   深圳   北京   2020-01-07 17:00:06.084037\n",
      "2019202000364   浙江   同曦   2020-01-07 17:00:10.370447\n",
      "2019202000365   辽宁   广州   2020-01-07 17:00:20.365147\n",
      "2019202000366   四川   山西   2020-01-07 17:00:29.856331\n",
      "2019202000367   新疆   吉林   2020-01-07 17:00:36.080090\n",
      "2019202000368   江苏   八一   2020-01-07 17:00:46.225657\n",
      "2019202000369   天津   广厦   2020-01-07 17:00:53.544489\n",
      "2019202000370   广东   青岛   2020-01-07 17:00:57.215078\n",
      "2019202000371   北控   福建   2020-01-07 17:01:07.874355\n",
      "2019202000372   广州   北京   2020-01-07 17:01:08.693307\n",
      "2019202000373   上海   吉林   2020-01-07 17:01:09.732101\n",
      "2019202000374   同曦   辽宁   2020-01-07 17:01:18.939075\n",
      "2019202000375   新疆   山西   2020-01-07 17:01:23.029618\n",
      "2019202000376   江苏   山东   2020-01-07 17:01:27.132242\n",
      "2019202000377   天津   四川   2020-01-07 17:01:30.415545\n",
      "2019202000378   广厦   广东   2020-01-07 17:01:33.065857\n",
      "2019202000379   八一   浙江   2020-01-07 17:01:36.751570\n",
      "2019202000380   深圳   青岛   2020-01-07 17:01:38.388750\n",
      "2019202000381   北控   广州   2020-01-07 17:01:44.185323\n",
      "2019202000382   上海   辽宁   2020-01-07 17:01:51.089866\n",
      "2019202000383   同曦   吉林   2020-01-07 17:01:54.325589\n",
      "2019202000384   北京   福建   2020-01-07 17:02:02.146228\n",
      "2019202000385   江苏   四川   2020-01-07 17:02:08.682932\n",
      "2019202000386   天津   深圳   2020-01-07 17:02:18.120840\n",
      "2019202000387   山西   山东   2020-01-07 17:02:19.144347\n",
      "2019202000388   浙江   广东   2020-01-07 17:02:27.027343\n",
      "2019202000389   八一   广厦   2020-01-07 17:02:34.502205\n",
      "2019202000390   青岛   新疆   2020-01-07 17:02:42.287641\n",
      "2019202000391   吉林   辽宁   2020-01-07 17:02:46.166810\n",
      "2019202000392   广州   同曦   2020-01-07 17:02:49.862111\n",
      "2019202000393   北京   上海   2020-01-07 17:02:55.189390\n",
      "2019202000394   山西   青岛   2020-01-07 17:03:02.013253\n",
      "2019202000395   广厦   浙江   2020-01-07 17:03:07.064621\n",
      "2019202000396   江苏   天津   2020-01-07 17:03:09.320059\n",
      "2019202000397   福建   深圳   2020-01-07 17:03:16.554807\n",
      "2019202000398   四川   八一   2020-01-07 17:03:21.608349\n",
      "2019202000399   山东   新疆   2020-01-07 17:03:26.526921\n",
      "2019202000400   广东   北控   2020-01-07 17:03:27.138019\n",
      "2019202000401   浙江   山西   2020-01-07 17:03:28.631085\n",
      "2019202000402   广厦   北京   2020-01-07 17:03:30.822479\n",
      "2019202000403   同曦   天津   2020-01-07 17:03:37.173604\n",
      "2019202000404   深圳   吉林   2020-01-07 17:03:38.402396\n",
      "2019202000405   福建   广州   2020-01-07 17:03:39.706494\n",
      "2019202000406   山东   四川   2020-01-07 17:03:49.055708\n",
      "2019202000407   北控   上海   2020-01-07 17:03:53.969014\n",
      "2019202000408   辽宁   青岛   2020-01-07 17:03:59.907194\n",
      "2019202000409   新疆   八一   2020-01-07 17:04:09.122545\n",
      "2019202000410   广东   江苏   2020-01-07 17:04:14.713896\n",
      "2019202000411   浙江   北京   2020-01-07 17:04:22.847700\n",
      "2019202000412   吉林   福建   2020-01-07 17:04:29.598937\n",
      "2019202000413   深圳   山西   2020-01-07 17:04:36.156567\n",
      "2019202000414   天津   广东   2020-01-07 17:04:40.488559\n",
      "2019202000415   广州   江苏   2020-01-07 17:04:50.902449\n",
      "2019202000416   同曦   新疆   2020-01-07 17:04:58.070163\n",
      "2019202000417   广厦   四川   2020-01-07 17:05:05.716104\n",
      "2019202000418   辽宁   山东   2020-01-07 17:05:10.184504\n",
      "2019202000419   八一   上海   2020-01-07 17:05:20.802572\n",
      "2019202000420   青岛   北控   2020-01-07 17:05:24.900783\n",
      "2019202000421   吉林   广厦   2020-01-07 17:05:31.873663\n",
      "2019202000422   江苏   北控   2020-01-07 17:05:33.090294\n",
      "2019202000423   山东   深圳   2020-01-07 17:05:33.692862\n",
      "2019202000424   上海   新疆   2020-01-07 17:05:38.214021\n",
      "2019202000425   北京   山西   2020-01-07 17:05:44.560659\n",
      "2019202000426   同曦   八一   2020-01-07 17:05:46.197180\n",
      "2019202000427   青岛   天津   2020-01-07 17:05:50.705259\n",
      "2019202000428   浙江   四川   2020-01-07 17:05:58.076385\n",
      "2019202000429   辽宁   福建   2020-01-07 17:06:08.728108\n",
      "2019202000430   广东   广州   2020-01-07 17:06:15.078153\n",
      "2019202000431   山东   天津   2020-01-07 17:06:19.511208\n",
      "2019202000432   北控   同曦   2020-01-07 17:06:28.385982\n",
      "2019202000433   青岛   吉林   2020-01-07 17:06:34.735531\n",
      "2019202000434   新疆   北京   2020-01-07 17:06:41.293871\n",
      "2019202000435   江苏   深圳   2020-01-07 17:06:51.379671\n",
      "2019202000436   四川   福建   2020-01-07 17:06:57.674172\n",
      "2019202000437   广州   浙江   2020-01-07 17:07:00.745947\n",
      "2019202000438   上海   广东   2020-01-07 17:07:01.771872\n",
      "2019202000439   山西   八一   2020-01-07 17:07:10.634075\n",
      "2019202000440   辽宁   广厦   2020-01-07 17:07:13.300048\n",
      "2019202000441   山东   吉林   2020-01-07 17:07:17.949576\n",
      "2019202000442   北京   同曦   2020-01-07 17:07:24.766241\n",
      "2019202000443   江苏   广东   2020-01-07 17:07:33.927755\n",
      "2019202000444   四川   上海   2020-01-07 17:07:35.357372\n",
      "2019202000445   福建   天津   2020-01-07 17:07:36.908032\n",
      "2019202000446   北控   八一   2020-01-07 17:07:39.248665\n",
      "2019202000447   深圳   浙江   2020-01-07 17:07:41.295024\n",
      "2019202000448   山西   辽宁   2020-01-07 17:07:43.416176\n",
      "2019202000449   广厦   广州   2020-01-07 17:07:50.921676\n",
      "2019202000450   新疆   青岛   2020-01-07 17:08:01.367552\n",
      "2019202000451   北京   四川   2020-01-07 17:08:04.439134\n",
      "2019202000452   深圳   广东   2020-01-07 17:08:13.621641\n",
      "2019202000453   同曦   广厦   2020-01-07 17:08:17.561000\n",
      "2019202000454   山西   北控   2020-01-07 17:08:20.005326\n",
      "2019202000455   浙江   上海   2020-01-07 17:08:23.077009\n",
      "2019202000456   辽宁   江苏   2020-01-07 17:08:33.522508\n",
      "2019202000457   八一   青岛   2020-01-07 17:08:43.906696\n",
      "2019202000458   吉林   广州   2020-01-07 17:08:48.572778\n",
      "2019202000459   福建   山东   2020-01-07 17:08:59.084139\n",
      "2019202000460   新疆   天津   2020-01-07 17:09:02.493928\n"
     ],
     "output_type": "stream"
    }
   ],
   "source": [
    "df_list = []\n",
    "for index,row in df_schedule_full.iterrows():\n",
    "    game_UID = row['UID']\n",
    "    game_hteam_name = row['主队']\n",
    "    game_ateam_name = row['客队']\n",
    "    base_url = row['统计_link']\n",
    "    page_content_str = get_page_content(base_url,encoding='GB2312')\n",
    "    \n",
    "    # Get home team stats\n",
    "    df_home = get_hometeam_stats(page_content_str=page_content_str)\n",
    "    df_home['Game_ID'] = game_UID\n",
    "    df_home['球队'] = game_hteam_name\n",
    "    df_home['对手'] = game_ateam_name\n",
    "    df_list.append(df_home)\n",
    "    \n",
    "    # Get away team stats\n",
    "    df_away = get_awayteam_stats(page_content_str=page_content_str)\n",
    "    df_away['Game_ID'] = game_UID\n",
    "    df_away['球队'] = game_ateam_name\n",
    "    df_away['对手'] = game_hteam_name # use to get opponents stats\n",
    "    df_list.append(df_away)\n",
    "    print(row['UID'],' ',row['主队'],' ', row['客队'],' ',datetime.datetime.now())\n",
    "    \n",
    "    # pause for a few seconds to avoid getting banned\n",
    "    time.sleep(np.random.rand()*10)"
   ]
  },
  {
   "cell_type": "code",
   "execution_count": 37,
   "metadata": {
    "pycharm": {
     "is_executing": false
    }
   },
   "outputs": [
    {
     "data": {
      "text/plain": "        球员  号码 出场时间  首发       2分中-投       3分中-投       罚球中-投 进攻篮板 防守篮板  助攻  \\\n0     布鲁克斯   6   36   1   8-10(80%)   2-10(20%)   5-5(100%)    0    3   9   \n1      任骏飞  20   30   1    5-8(63%)    3-6(50%)     0-0(0%)    1    1   1   \n2      易建联   9   35   1    7-8(88%)     0-0(0%)    2-4(50%)    1   11   2   \n3       赵睿  10   31   1    5-9(56%)     0-3(0%)     0-1(0%)    2    5   4   \n4      胡明轩   3   13   1     0-1(0%)    1-3(33%)     0-0(0%)    0    1   0   \n...    ...  ..  ...  ..         ...         ...         ...  ...  ...  ..   \n9565   刁成灏  24    0   0     0-0(0%)     0-0(0%)     0-0(0%)    0    0   0   \n9566   孙椿棚  13    0   0     0-0(0%)     0-0(0%)     0-0(0%)    0    0   0   \n9567   黄毅超  14    0   0     0-0(0%)     0-0(0%)     0-0(0%)    0    0   0   \n9568    汤杰   7    0   0     0-0(0%)     0-0(0%)     0-0(0%)    0    0   0   \n9569    福建  --   --  --  21-47(45%)  15-32(47%)  14-15(93%)    7   31  18   \n\n      ... 抢断  失误 盖帽 扣篮  被侵   快攻   得分        Game_ID  球队  对手  \n0     ...  2   1  0  1   5  0/0   27  2019202000001  广东  辽宁  \n1     ...  3   0  0  1   1  0/0   19  2019202000001  广东  辽宁  \n2     ...  1   1  2  5   3  0/0   16  2019202000001  广东  辽宁  \n3     ...  2   0  0  0   4  0/0   10  2019202000001  广东  辽宁  \n4     ...  0   1  0  0   0  0/0    3  2019202000001  广东  辽宁  \n...   ... ..  .. .. ..  ..  ...  ...            ...  ..  ..  \n9565  ...  0   0  0  0   0  0/0    0  2019202000260  福建  青岛  \n9566  ...  0   0  0  0   0  0/0    0  2019202000260  福建  青岛  \n9567  ...  0   0  0  0   0  0/0    0  2019202000260  福建  青岛  \n9568  ...  0   0  0  0   0  0/0    0  2019202000260  福建  青岛  \n9569  ...  5  11  2  1  22  0/0  101  2019202000260  福建  青岛  \n\n[9570 rows x 21 columns]",
      "text/html": "<div>\n<style scoped>\n    .dataframe tbody tr th:only-of-type {\n        vertical-align: middle;\n    }\n\n    .dataframe tbody tr th {\n        vertical-align: top;\n    }\n\n    .dataframe thead th {\n        text-align: right;\n    }\n</style>\n<table border=\"1\" class=\"dataframe\">\n  <thead>\n    <tr style=\"text-align: right;\">\n      <th></th>\n      <th>球员</th>\n      <th>号码</th>\n      <th>出场时间</th>\n      <th>首发</th>\n      <th>2分中-投</th>\n      <th>3分中-投</th>\n      <th>罚球中-投</th>\n      <th>进攻篮板</th>\n      <th>防守篮板</th>\n      <th>助攻</th>\n      <th>...</th>\n      <th>抢断</th>\n      <th>失误</th>\n      <th>盖帽</th>\n      <th>扣篮</th>\n      <th>被侵</th>\n      <th>快攻</th>\n      <th>得分</th>\n      <th>Game_ID</th>\n      <th>球队</th>\n      <th>对手</th>\n    </tr>\n  </thead>\n  <tbody>\n    <tr>\n      <th>0</th>\n      <td>布鲁克斯</td>\n      <td>6</td>\n      <td>36</td>\n      <td>1</td>\n      <td>8-10(80%)</td>\n      <td>2-10(20%)</td>\n      <td>5-5(100%)</td>\n      <td>0</td>\n      <td>3</td>\n      <td>9</td>\n      <td>...</td>\n      <td>2</td>\n      <td>1</td>\n      <td>0</td>\n      <td>1</td>\n      <td>5</td>\n      <td>0/0</td>\n      <td>27</td>\n      <td>2019202000001</td>\n      <td>广东</td>\n      <td>辽宁</td>\n    </tr>\n    <tr>\n      <th>1</th>\n      <td>任骏飞</td>\n      <td>20</td>\n      <td>30</td>\n      <td>1</td>\n      <td>5-8(63%)</td>\n      <td>3-6(50%)</td>\n      <td>0-0(0%)</td>\n      <td>1</td>\n      <td>1</td>\n      <td>1</td>\n      <td>...</td>\n      <td>3</td>\n      <td>0</td>\n      <td>0</td>\n      <td>1</td>\n      <td>1</td>\n      <td>0/0</td>\n      <td>19</td>\n      <td>2019202000001</td>\n      <td>广东</td>\n      <td>辽宁</td>\n    </tr>\n    <tr>\n      <th>2</th>\n      <td>易建联</td>\n      <td>9</td>\n      <td>35</td>\n      <td>1</td>\n      <td>7-8(88%)</td>\n      <td>0-0(0%)</td>\n      <td>2-4(50%)</td>\n      <td>1</td>\n      <td>11</td>\n      <td>2</td>\n      <td>...</td>\n      <td>1</td>\n      <td>1</td>\n      <td>2</td>\n      <td>5</td>\n      <td>3</td>\n      <td>0/0</td>\n      <td>16</td>\n      <td>2019202000001</td>\n      <td>广东</td>\n      <td>辽宁</td>\n    </tr>\n    <tr>\n      <th>3</th>\n      <td>赵睿</td>\n      <td>10</td>\n      <td>31</td>\n      <td>1</td>\n      <td>5-9(56%)</td>\n      <td>0-3(0%)</td>\n      <td>0-1(0%)</td>\n      <td>2</td>\n      <td>5</td>\n      <td>4</td>\n      <td>...</td>\n      <td>2</td>\n      <td>0</td>\n      <td>0</td>\n      <td>0</td>\n      <td>4</td>\n      <td>0/0</td>\n      <td>10</td>\n      <td>2019202000001</td>\n      <td>广东</td>\n      <td>辽宁</td>\n    </tr>\n    <tr>\n      <th>4</th>\n      <td>胡明轩</td>\n      <td>3</td>\n      <td>13</td>\n      <td>1</td>\n      <td>0-1(0%)</td>\n      <td>1-3(33%)</td>\n      <td>0-0(0%)</td>\n      <td>0</td>\n      <td>1</td>\n      <td>0</td>\n      <td>...</td>\n      <td>0</td>\n      <td>1</td>\n      <td>0</td>\n      <td>0</td>\n      <td>0</td>\n      <td>0/0</td>\n      <td>3</td>\n      <td>2019202000001</td>\n      <td>广东</td>\n      <td>辽宁</td>\n    </tr>\n    <tr>\n      <th>...</th>\n      <td>...</td>\n      <td>...</td>\n      <td>...</td>\n      <td>...</td>\n      <td>...</td>\n      <td>...</td>\n      <td>...</td>\n      <td>...</td>\n      <td>...</td>\n      <td>...</td>\n      <td>...</td>\n      <td>...</td>\n      <td>...</td>\n      <td>...</td>\n      <td>...</td>\n      <td>...</td>\n      <td>...</td>\n      <td>...</td>\n      <td>...</td>\n      <td>...</td>\n      <td>...</td>\n    </tr>\n    <tr>\n      <th>9565</th>\n      <td>刁成灏</td>\n      <td>24</td>\n      <td>0</td>\n      <td>0</td>\n      <td>0-0(0%)</td>\n      <td>0-0(0%)</td>\n      <td>0-0(0%)</td>\n      <td>0</td>\n      <td>0</td>\n      <td>0</td>\n      <td>...</td>\n      <td>0</td>\n      <td>0</td>\n      <td>0</td>\n      <td>0</td>\n      <td>0</td>\n      <td>0/0</td>\n      <td>0</td>\n      <td>2019202000260</td>\n      <td>福建</td>\n      <td>青岛</td>\n    </tr>\n    <tr>\n      <th>9566</th>\n      <td>孙椿棚</td>\n      <td>13</td>\n      <td>0</td>\n      <td>0</td>\n      <td>0-0(0%)</td>\n      <td>0-0(0%)</td>\n      <td>0-0(0%)</td>\n      <td>0</td>\n      <td>0</td>\n      <td>0</td>\n      <td>...</td>\n      <td>0</td>\n      <td>0</td>\n      <td>0</td>\n      <td>0</td>\n      <td>0</td>\n      <td>0/0</td>\n      <td>0</td>\n      <td>2019202000260</td>\n      <td>福建</td>\n      <td>青岛</td>\n    </tr>\n    <tr>\n      <th>9567</th>\n      <td>黄毅超</td>\n      <td>14</td>\n      <td>0</td>\n      <td>0</td>\n      <td>0-0(0%)</td>\n      <td>0-0(0%)</td>\n      <td>0-0(0%)</td>\n      <td>0</td>\n      <td>0</td>\n      <td>0</td>\n      <td>...</td>\n      <td>0</td>\n      <td>0</td>\n      <td>0</td>\n      <td>0</td>\n      <td>0</td>\n      <td>0/0</td>\n      <td>0</td>\n      <td>2019202000260</td>\n      <td>福建</td>\n      <td>青岛</td>\n    </tr>\n    <tr>\n      <th>9568</th>\n      <td>汤杰</td>\n      <td>7</td>\n      <td>0</td>\n      <td>0</td>\n      <td>0-0(0%)</td>\n      <td>0-0(0%)</td>\n      <td>0-0(0%)</td>\n      <td>0</td>\n      <td>0</td>\n      <td>0</td>\n      <td>...</td>\n      <td>0</td>\n      <td>0</td>\n      <td>0</td>\n      <td>0</td>\n      <td>0</td>\n      <td>0/0</td>\n      <td>0</td>\n      <td>2019202000260</td>\n      <td>福建</td>\n      <td>青岛</td>\n    </tr>\n    <tr>\n      <th>9569</th>\n      <td>福建</td>\n      <td>--</td>\n      <td>--</td>\n      <td>--</td>\n      <td>21-47(45%)</td>\n      <td>15-32(47%)</td>\n      <td>14-15(93%)</td>\n      <td>7</td>\n      <td>31</td>\n      <td>18</td>\n      <td>...</td>\n      <td>5</td>\n      <td>11</td>\n      <td>2</td>\n      <td>1</td>\n      <td>22</td>\n      <td>0/0</td>\n      <td>101</td>\n      <td>2019202000260</td>\n      <td>福建</td>\n      <td>青岛</td>\n    </tr>\n  </tbody>\n</table>\n<p>9570 rows × 21 columns</p>\n</div>"
     },
     "metadata": {},
     "output_type": "execute_result",
     "execution_count": 37
    }
   ],
   "source": [
    "games_stats = pd.concat(df_list,ignore_index=True)\n",
    "\n",
    "games_stats"
   ]
  },
  {
   "cell_type": "code",
   "execution_count": 38,
   "metadata": {
    "pycharm": {
     "is_executing": false
    }
   },
   "outputs": [
    {
     "data": {
      "text/plain": "        球员  号码 出场时间 首发 进攻篮板 防守篮板 助攻 犯规 抢断 失误  ...  得分        Game_ID  球队  对手  \\\n0     布鲁克斯   6   36  1    0    3  9  3  2  1  ...  27  2019202000001  广东  辽宁   \n1      任骏飞  20   30  1    1    1  1  3  3  0  ...  19  2019202000001  广东  辽宁   \n2      易建联   9   35  1    1   11  2  2  1  1  ...  16  2019202000001  广东  辽宁   \n3       赵睿  10   31  1    2    5  4  3  2  0  ...  10  2019202000001  广东  辽宁   \n4      胡明轩   3   13  1    0    1  0  1  0  1  ...   3  2019202000001  广东  辽宁   \n...    ...  ..  ... ..  ...  ... .. .. .. ..  ...  ..            ...  ..  ..   \n9564   胡珑贸  10    3  0    0    0  0  0  0  1  ...   0  2019202000260  福建  青岛   \n9565   刁成灏  24    0  0    0    0  0  0  0  0  ...   0  2019202000260  福建  青岛   \n9566   孙椿棚  13    0  0    0    0  0  0  0  0  ...   0  2019202000260  福建  青岛   \n9567   黄毅超  14    0  0    0    0  0  0  0  0  ...   0  2019202000260  福建  青岛   \n9568    汤杰   7    0  0    0    0  0  0  0  0  ...   0  2019202000260  福建  青岛   \n\n     2分中 2分投 3分中 3分投 罚球中 罚球投  \n0      8  10   2  10   5   5  \n1      5   8   3   6   0   0  \n2      7   8   0   0   2   4  \n3      5   9   0   3   0   1  \n4      0   1   1   3   0   0  \n...   ..  ..  ..  ..  ..  ..  \n9564   0   0   0   1   0   0  \n9565   0   0   0   0   0   0  \n9566   0   0   0   0   0   0  \n9567   0   0   0   0   0   0  \n9568   0   0   0   0   0   0  \n\n[9056 rows x 24 columns]",
      "text/html": "<div>\n<style scoped>\n    .dataframe tbody tr th:only-of-type {\n        vertical-align: middle;\n    }\n\n    .dataframe tbody tr th {\n        vertical-align: top;\n    }\n\n    .dataframe thead th {\n        text-align: right;\n    }\n</style>\n<table border=\"1\" class=\"dataframe\">\n  <thead>\n    <tr style=\"text-align: right;\">\n      <th></th>\n      <th>球员</th>\n      <th>号码</th>\n      <th>出场时间</th>\n      <th>首发</th>\n      <th>进攻篮板</th>\n      <th>防守篮板</th>\n      <th>助攻</th>\n      <th>犯规</th>\n      <th>抢断</th>\n      <th>失误</th>\n      <th>...</th>\n      <th>得分</th>\n      <th>Game_ID</th>\n      <th>球队</th>\n      <th>对手</th>\n      <th>2分中</th>\n      <th>2分投</th>\n      <th>3分中</th>\n      <th>3分投</th>\n      <th>罚球中</th>\n      <th>罚球投</th>\n    </tr>\n  </thead>\n  <tbody>\n    <tr>\n      <th>0</th>\n      <td>布鲁克斯</td>\n      <td>6</td>\n      <td>36</td>\n      <td>1</td>\n      <td>0</td>\n      <td>3</td>\n      <td>9</td>\n      <td>3</td>\n      <td>2</td>\n      <td>1</td>\n      <td>...</td>\n      <td>27</td>\n      <td>2019202000001</td>\n      <td>广东</td>\n      <td>辽宁</td>\n      <td>8</td>\n      <td>10</td>\n      <td>2</td>\n      <td>10</td>\n      <td>5</td>\n      <td>5</td>\n    </tr>\n    <tr>\n      <th>1</th>\n      <td>任骏飞</td>\n      <td>20</td>\n      <td>30</td>\n      <td>1</td>\n      <td>1</td>\n      <td>1</td>\n      <td>1</td>\n      <td>3</td>\n      <td>3</td>\n      <td>0</td>\n      <td>...</td>\n      <td>19</td>\n      <td>2019202000001</td>\n      <td>广东</td>\n      <td>辽宁</td>\n      <td>5</td>\n      <td>8</td>\n      <td>3</td>\n      <td>6</td>\n      <td>0</td>\n      <td>0</td>\n    </tr>\n    <tr>\n      <th>2</th>\n      <td>易建联</td>\n      <td>9</td>\n      <td>35</td>\n      <td>1</td>\n      <td>1</td>\n      <td>11</td>\n      <td>2</td>\n      <td>2</td>\n      <td>1</td>\n      <td>1</td>\n      <td>...</td>\n      <td>16</td>\n      <td>2019202000001</td>\n      <td>广东</td>\n      <td>辽宁</td>\n      <td>7</td>\n      <td>8</td>\n      <td>0</td>\n      <td>0</td>\n      <td>2</td>\n      <td>4</td>\n    </tr>\n    <tr>\n      <th>3</th>\n      <td>赵睿</td>\n      <td>10</td>\n      <td>31</td>\n      <td>1</td>\n      <td>2</td>\n      <td>5</td>\n      <td>4</td>\n      <td>3</td>\n      <td>2</td>\n      <td>0</td>\n      <td>...</td>\n      <td>10</td>\n      <td>2019202000001</td>\n      <td>广东</td>\n      <td>辽宁</td>\n      <td>5</td>\n      <td>9</td>\n      <td>0</td>\n      <td>3</td>\n      <td>0</td>\n      <td>1</td>\n    </tr>\n    <tr>\n      <th>4</th>\n      <td>胡明轩</td>\n      <td>3</td>\n      <td>13</td>\n      <td>1</td>\n      <td>0</td>\n      <td>1</td>\n      <td>0</td>\n      <td>1</td>\n      <td>0</td>\n      <td>1</td>\n      <td>...</td>\n      <td>3</td>\n      <td>2019202000001</td>\n      <td>广东</td>\n      <td>辽宁</td>\n      <td>0</td>\n      <td>1</td>\n      <td>1</td>\n      <td>3</td>\n      <td>0</td>\n      <td>0</td>\n    </tr>\n    <tr>\n      <th>...</th>\n      <td>...</td>\n      <td>...</td>\n      <td>...</td>\n      <td>...</td>\n      <td>...</td>\n      <td>...</td>\n      <td>...</td>\n      <td>...</td>\n      <td>...</td>\n      <td>...</td>\n      <td>...</td>\n      <td>...</td>\n      <td>...</td>\n      <td>...</td>\n      <td>...</td>\n      <td>...</td>\n      <td>...</td>\n      <td>...</td>\n      <td>...</td>\n      <td>...</td>\n      <td>...</td>\n    </tr>\n    <tr>\n      <th>9564</th>\n      <td>胡珑贸</td>\n      <td>10</td>\n      <td>3</td>\n      <td>0</td>\n      <td>0</td>\n      <td>0</td>\n      <td>0</td>\n      <td>0</td>\n      <td>0</td>\n      <td>1</td>\n      <td>...</td>\n      <td>0</td>\n      <td>2019202000260</td>\n      <td>福建</td>\n      <td>青岛</td>\n      <td>0</td>\n      <td>0</td>\n      <td>0</td>\n      <td>1</td>\n      <td>0</td>\n      <td>0</td>\n    </tr>\n    <tr>\n      <th>9565</th>\n      <td>刁成灏</td>\n      <td>24</td>\n      <td>0</td>\n      <td>0</td>\n      <td>0</td>\n      <td>0</td>\n      <td>0</td>\n      <td>0</td>\n      <td>0</td>\n      <td>0</td>\n      <td>...</td>\n      <td>0</td>\n      <td>2019202000260</td>\n      <td>福建</td>\n      <td>青岛</td>\n      <td>0</td>\n      <td>0</td>\n      <td>0</td>\n      <td>0</td>\n      <td>0</td>\n      <td>0</td>\n    </tr>\n    <tr>\n      <th>9566</th>\n      <td>孙椿棚</td>\n      <td>13</td>\n      <td>0</td>\n      <td>0</td>\n      <td>0</td>\n      <td>0</td>\n      <td>0</td>\n      <td>0</td>\n      <td>0</td>\n      <td>0</td>\n      <td>...</td>\n      <td>0</td>\n      <td>2019202000260</td>\n      <td>福建</td>\n      <td>青岛</td>\n      <td>0</td>\n      <td>0</td>\n      <td>0</td>\n      <td>0</td>\n      <td>0</td>\n      <td>0</td>\n    </tr>\n    <tr>\n      <th>9567</th>\n      <td>黄毅超</td>\n      <td>14</td>\n      <td>0</td>\n      <td>0</td>\n      <td>0</td>\n      <td>0</td>\n      <td>0</td>\n      <td>0</td>\n      <td>0</td>\n      <td>0</td>\n      <td>...</td>\n      <td>0</td>\n      <td>2019202000260</td>\n      <td>福建</td>\n      <td>青岛</td>\n      <td>0</td>\n      <td>0</td>\n      <td>0</td>\n      <td>0</td>\n      <td>0</td>\n      <td>0</td>\n    </tr>\n    <tr>\n      <th>9568</th>\n      <td>汤杰</td>\n      <td>7</td>\n      <td>0</td>\n      <td>0</td>\n      <td>0</td>\n      <td>0</td>\n      <td>0</td>\n      <td>0</td>\n      <td>0</td>\n      <td>0</td>\n      <td>...</td>\n      <td>0</td>\n      <td>2019202000260</td>\n      <td>福建</td>\n      <td>青岛</td>\n      <td>0</td>\n      <td>0</td>\n      <td>0</td>\n      <td>0</td>\n      <td>0</td>\n      <td>0</td>\n    </tr>\n  </tbody>\n</table>\n<p>9056 rows × 24 columns</p>\n</div>"
     },
     "metadata": {},
     "output_type": "execute_result",
     "execution_count": 38
    }
   ],
   "source": [
    "# remove team stats\n",
    "if 2*len(games_stats['Game_ID'].unique())==len(games_stats.loc[games_stats['号码']=='--']):\n",
    "    games_stats.drop(games_stats.loc[games_stats['号码']=='--'].index,inplace=True)\n",
    "\n",
    "def split_made_attempt(df_orig):\n",
    "    df = df_orig.copy()\n",
    "    for col_name in list(filter(lambda x: '-' in x, df.columns.tolist())):\n",
    "        orig_col = col_name\n",
    "        col_made = re.findall('(.*)中-投',col_name)[0]+'中'\n",
    "        col_attempt = re.findall('(.*)中-投',col_name)[0]+'投'\n",
    "        df[[col_made,col_attempt]] = df[orig_col].str.split('-',expand=True)\n",
    "        df[col_attempt] = df[col_attempt].apply(lambda x: re.sub('[(].*[)]','',x))\n",
    "        df.drop(columns=orig_col,inplace=True)\n",
    "    return df\n",
    "\n",
    "games_stats = split_made_attempt(games_stats)\n",
    "games_stats"
   ]
  },
  {
   "cell_type": "code",
   "execution_count": 39,
   "metadata": {
    "pycharm": {
     "is_executing": false
    }
   },
   "outputs": [],
   "source": [
    "games_stats.to_csv(f'StatsData/All_Games_Stats_{datetime.date.today()}.csv',encoding = 'UTF-8',\n",
    "                   index=False)"
   ]
  },
  {
   "cell_type": "code",
   "execution_count": 39,
   "metadata": {
    "pycharm": {
     "is_executing": false
    }
   },
   "outputs": [],
   "source": []
  },
  {
   "cell_type": "code",
   "execution_count": 39,
   "metadata": {
    "pycharm": {
     "is_executing": false
    }
   },
   "outputs": [],
   "source": []
  }
 ],
 "metadata": {
  "anaconda-cloud": {},
  "kernelspec": {
   "display_name": "Python 3",
   "language": "python",
   "name": "python3"
  },
  "language_info": {
   "codemirror_mode": {
    "name": "ipython",
    "version": 3
   },
   "file_extension": ".py",
   "mimetype": "text/x-python",
   "name": "python",
   "nbconvert_exporter": "python",
   "pygments_lexer": "ipython3",
   "version": "3.7.6"
  },
  "pycharm": {
   "stem_cell": {
    "cell_type": "raw",
    "metadata": {
     "collapsed": false
    },
    "source": []
   }
  }
 },
 "nbformat": 4,
 "nbformat_minor": 1
}