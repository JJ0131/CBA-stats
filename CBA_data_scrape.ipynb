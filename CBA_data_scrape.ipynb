{
 "cells": [
  {
   "cell_type": "markdown",
   "metadata": {},
   "source": [
    "# Player Stats Collecting"
   ]
  },
  {
   "cell_type": "code",
   "execution_count": 112,
   "metadata": {
    "collapsed": true
   },
   "outputs": [],
   "source": [
    "# import nltk\n",
    "import requests\n",
    "from bs4 import BeautifulSoup\n",
    "# import string\n",
    "# from fake_useragent import UserAgent\n",
    "import lxml.html as lh\n",
    "# import newspaper\n",
    "# import random\n",
    "import pandas as pd\n",
    "import datetime\n",
    "\n",
    "ua = UserAgent()\n",
    "header = {'User-Agent': r'Mozilla/5.0 (Macintosh; Intel Mac OS X 10_10_1) AppleWebKit/537.36 (KHTML, like Gecko) '\n",
    "                        r'Chrome/41.0.2227.1 Safari/537.36'}\n",
    "session = requests.Session()\n",
    "base_url = r\"http://cba.sports.sina.com.cn/cba/stats/playerstats/\"\n",
    "response = session.get(base_url,headers = header)\n",
    "\n",
    "response.encoding = 'GBK'\n",
    "\n",
    "doc = lh.fromstring(response.content)\n",
    "\n",
    "rows = doc.xpath('//tr')\n",
    "\n",
    "table_headers = [t.text_content() for t in rows[0]]\n",
    "print(table_headers)\n",
    "\n",
    "\n",
    "i=0\n",
    "table = []\n",
    "# \n",
    "for row in rows:\n",
    "    one_row = []\n",
    "    for cell in row:\n",
    "        txt=cell.text_content().strip()\n",
    "        one_row.append(txt)\n",
    "    table.append(one_row)\n",
    "\n",
    "table\n",
    "\n",
    "len(table)\n",
    "\n",
    "player_stats_sina = pd.DataFrame(table[1:],columns = table[0])\n",
    "player_stats_sina\n",
    "\n",
    "player_stats_sina.rename(columns={\"号码\":'排名'},inplace=True)\n",
    "\n",
    "print(datetime.date.today())\n",
    "\n",
    "player_stats_sina.to_csv(f'Player_Stats_{datetime.date.today()}.csv',index = False)"
   ]
  },
  {
   "cell_type": "markdown",
   "metadata": {},
   "source": [
    "# All Games Stats"
   ]
  },
  {
   "cell_type": "code",
   "execution_count": null,
   "metadata": {
    "pycharm": {
     "is_executing": false,
     "name": "#%%\n"
    }
   },
   "outputs": [],
   "source": [
    "import requests\n",
    "from bs4 import BeautifulSoup\n",
    "import lxml.html as lh\n",
    "import pandas as pd\n",
    "import datetime\n",
    "\n",
    "header = {'User-Agent': r'Mozilla/5.0 (Macintosh; Intel Mac OS X 10_10_1) AppleWebKit/537.36 (KHTML, like Gecko) '\n",
    "                        r'Chrome/41.0.2227.1 Safari/537.36'}\n",
    "session = requests.Session()\n",
    "base_url = r\"http://cba.sports.sina.com.cn/cba/schedule/all/?qleagueid=205&qmonth=&qteamid=\"\n",
    "response = session.get(base_url, headers=header)\n",
    "\n",
    "response.encoding = 'GBK'\n",
    "\n",
    "page_content = BeautifulSoup(response.content, \"html.parser\")"
   ]
  },
  {
   "cell_type": "code",
   "execution_count": 12,
   "metadata": {
    "pycharm": {
     "is_executing": false,
     "name": "#%%\n"
    }
   },
   "outputs": [],
   "source": [
    "table_str = str(page_content.findAll('table'))\n",
    "table_soup = BeautifulSoup(table_str,\"html.parser\")"
   ]
  },
  {
   "cell_type": "code",
   "execution_count": 13,
   "metadata": {},
   "outputs": [
    {
     "data": {
      "text/plain": [
       "[<a href=\"http://cba.sports.sina.com.cn/cba/schedule/show/18580/\" target=\"_blank\">统计</a>,\n",
       " <a href=\"http://cba.sports.sina.com.cn/cba/schedule/show/18581/\" target=\"_blank\">统计</a>,\n",
       " <a href=\"http://cba.sports.sina.com.cn/cba/schedule/show/18584/\" target=\"_blank\">统计</a>,\n",
       " <a href=\"http://cba.sports.sina.com.cn/cba/schedule/show/18585/\" target=\"_blank\">统计</a>,\n",
       " <a href=\"http://cba.sports.sina.com.cn/cba/schedule/show/18582/\" target=\"_blank\">统计</a>]"
      ]
     },
     "execution_count": 13,
     "metadata": {},
     "output_type": "execute_result"
    }
   ],
   "source": [
    "table_soup.findAll('a', href = True,text='统计')[:5]"
   ]
  },
  {
   "cell_type": "code",
   "execution_count": 16,
   "metadata": {},
   "outputs": [],
   "source": [
    "links = []\n",
    "for link in table_soup.findAll('a', href = True,text='统计'):\n",
    "    links.append(link['href'])"
   ]
  },
  {
   "cell_type": "code",
   "execution_count": 17,
   "metadata": {},
   "outputs": [
    {
     "data": {
      "text/plain": [
       "['http://cba.sports.sina.com.cn/cba/schedule/show/18580/',\n",
       " 'http://cba.sports.sina.com.cn/cba/schedule/show/18581/',\n",
       " 'http://cba.sports.sina.com.cn/cba/schedule/show/18584/',\n",
       " 'http://cba.sports.sina.com.cn/cba/schedule/show/18585/',\n",
       " 'http://cba.sports.sina.com.cn/cba/schedule/show/18582/']"
      ]
     },
     "execution_count": 17,
     "metadata": {},
     "output_type": "execute_result"
    }
   ],
   "source": [
    "links[:5]"
   ]
  },
  {
   "cell_type": "code",
   "execution_count": 18,
   "metadata": {},
   "outputs": [
    {
     "data": {
      "text/plain": [
       "470"
      ]
     },
     "execution_count": 18,
     "metadata": {},
     "output_type": "execute_result"
    }
   ],
   "source": [
    "len(links)"
   ]
  },
  {
   "cell_type": "code",
   "execution_count": 19,
   "metadata": {},
   "outputs": [],
   "source": [
    "# get all the links\n",
    "# remove deplicates, because current round games are always on top\n",
    "# if game total points are 0 then game haven't started"
   ]
  },
  {
   "cell_type": "code",
   "execution_count": null,
   "metadata": {},
   "outputs": [],
   "source": []
  }
 ],
 "metadata": {
  "anaconda-cloud": {},
  "kernelspec": {
   "display_name": "Python 3",
   "language": "python",
   "name": "python3"
  },
  "language_info": {
   "codemirror_mode": {
    "name": "ipython",
    "version": 3
   },
   "file_extension": ".py",
   "mimetype": "text/x-python",
   "name": "python",
   "nbconvert_exporter": "python",
   "pygments_lexer": "ipython3",
   "version": "3.7.6"
  },
  "pycharm": {
   "stem_cell": {
    "cell_type": "raw",
    "metadata": {
     "collapsed": false
    },
    "source": []
   }
  }
 },
 "nbformat": 4,
 "nbformat_minor": 1
}
